{
 "cells": [
  {
   "cell_type": "markdown",
   "id": "7c70236a",
   "metadata": {},
   "source": [
    "# Problem Statement"
   ]
  },
  {
   "cell_type": "raw",
   "id": "7c330f39",
   "metadata": {},
   "source": [
    "Goal\n",
    "It is your job to predict the sales price for each house. For each Id in the test set, you must predict the value of the SalePrice variable. \n",
    "\n",
    "Metric\n",
    "Submissions are evaluated on Mean-Squared-Error (MSE).\n",
    "Submission File Format\n",
    "The file should contain a header and have the following format:\n",
    "\n",
    "Id,SalePrice\n",
    "1461,169000.1\n",
    "1462,187724.1233\n",
    "1463,175221\n",
    "\n",
    "You can see an example submission file (sample_submission.csv)"
   ]
  },
  {
   "cell_type": "code",
   "execution_count": 428,
   "id": "22e5e5a5",
   "metadata": {},
   "outputs": [],
   "source": [
    "import pandas as pd\n",
    "pd.set_option('display.max_rows', None)\n",
    "pd.set_option('display.max_columns', None)"
   ]
  },
  {
   "cell_type": "code",
   "execution_count": 429,
   "id": "2e12f1ee",
   "metadata": {},
   "outputs": [],
   "source": [
    "A = pd.read_csv(\"D:/EtlHiveDs/Project/Project1/training_set.csv\")"
   ]
  },
  {
   "cell_type": "code",
   "execution_count": 430,
   "id": "6669abe0",
   "metadata": {},
   "outputs": [],
   "source": [
    "A[\"MSSubClass\"] = A[\"MSSubClass\"].map(str)\n",
    "A[\"MoSold\"] = A[\"MoSold\"].map(str)"
   ]
  },
  {
   "cell_type": "code",
   "execution_count": 431,
   "id": "292028c3",
   "metadata": {},
   "outputs": [],
   "source": [
    "A[\"Alley\"] = A[\"Alley\"].fillna(\"NoAlley\")\n",
    "A[\"BsmtQual\"] = A[\"BsmtQual\"].fillna(\"NoBasement\")\n",
    "A[\"BsmtCond\"] = A[\"BsmtCond\"].fillna(\"NoBasement\")\n",
    "A[\"BsmtExposure\"] = A[\"BsmtExposure\"].fillna(\"NoBasement\")\n",
    "A[\"BsmtFinType1\"] = A[\"BsmtFinType1\"].fillna(\"NoBasement\")\n",
    "A[\"BsmtFinType2\"] = A[\"BsmtFinType2\"].fillna(\"NoBasement\")\n",
    "A[\"FireplaceQu\"] = A[\"FireplaceQu\"].fillna(\"NoFireplace\")\n",
    "A[\"GarageType\"] = A[\"GarageType\"].fillna(\"NoGarage\")\n",
    "A[\"GarageFinish\"] = A[\"GarageFinish\"].fillna(\"NoGarage\")\n",
    "A[\"GarageQual\"] = A[\"GarageQual\"].fillna(\"NoGarage\")\n",
    "A[\"GarageCond\"] = A[\"GarageCond\"].fillna(\"NoGarage\")\n",
    "A[\"PoolQC\"] = A[\"PoolQC\"].fillna(\"NoPool\")\n",
    "A[\"Fence\"] = A[\"Fence\"].fillna(\"NoFence\")\n",
    "A[\"MiscFeature\"] = A[\"MiscFeature\"].fillna(\"None\")"
   ]
  },
  {
   "cell_type": "code",
   "execution_count": 432,
   "id": "ce22879d",
   "metadata": {},
   "outputs": [],
   "source": [
    "A.OverallQual.replace({\n",
    "    10:\"Very Excellent\",\n",
    "    9:\"Excellent\",\n",
    "    8:\"Very Good\",\n",
    "    7:\"Good\",\n",
    "    6:\"Above Average\",\n",
    "    5:\"Average\",\n",
    "    4:\"Below Average\",\n",
    "    3:\"Fair\",\n",
    "    2:\"Poor\",\n",
    "    1:\"Very Poor\"},inplace=True)"
   ]
  },
  {
   "cell_type": "code",
   "execution_count": 433,
   "id": "876e5fbb",
   "metadata": {},
   "outputs": [],
   "source": [
    "A.OverallCond.replace({\n",
    "    10:\"Very Excellent\",\n",
    "    9:\"Excellent\",\n",
    "    8:\"Very Good\",\n",
    "    7:\"Good\",\n",
    "    6:\"Above Average\",\n",
    "    5:\"Average\",\n",
    "    4:\"Below Average\",\n",
    "    3:\"Fair\",\n",
    "    2:\"Poor\",\n",
    "    1:\"Very Poor\"},inplace=True)"
   ]
  },
  {
   "cell_type": "markdown",
   "id": "433c9a5d",
   "metadata": {},
   "source": [
    "EDA"
   ]
  },
  {
   "cell_type": "code",
   "execution_count": 435,
   "id": "dae6b635",
   "metadata": {},
   "outputs": [],
   "source": [
    "for i in A.columns:\n",
    "    if(A[i].dtypes == \"object\"):\n",
    "        \n",
    "        p = A[i].mode()[0]\n",
    "        A[i] = A[i].fillna(p)\n",
    "    else:\n",
    "       \n",
    "        p = A[i].mean()\n",
    "        A[i] =A[i].fillna(p)"
   ]
  },
  {
   "cell_type": "code",
   "execution_count": 436,
   "id": "c9e41708",
   "metadata": {},
   "outputs": [],
   "source": [
    "XT = A.drop(labels=[\"SalePrice\",\"Id\"],axis = 1)\n",
    "YT = A[[\"SalePrice\"]]"
   ]
  },
  {
   "cell_type": "code",
   "execution_count": 438,
   "id": "8a9d1d0a",
   "metadata": {},
   "outputs": [
    {
     "data": {
      "text/plain": [
       "(1460, 1)"
      ]
     },
     "execution_count": 438,
     "metadata": {},
     "output_type": "execute_result"
    }
   ],
   "source": [
    "YT.shape"
   ]
  },
  {
   "cell_type": "markdown",
   "id": "a9a7801d",
   "metadata": {},
   "source": [
    "Standardizaation and OHE and removing outliers"
   ]
  },
  {
   "cell_type": "code",
   "execution_count": 439,
   "id": "dd1375ef",
   "metadata": {},
   "outputs": [],
   "source": [
    "cat = []\n",
    "con = []\n",
    "for i in XT.columns:\n",
    "    if(XT[i].dtypes == \"object\"):\n",
    "        cat.append(i)\n",
    "    else:\n",
    "        con.append(i)"
   ]
  },
  {
   "cell_type": "code",
   "execution_count": 440,
   "id": "a6e3a0fb",
   "metadata": {},
   "outputs": [
    {
     "data": {
      "text/plain": [
       "(1042, 344)"
      ]
     },
     "execution_count": 440,
     "metadata": {},
     "output_type": "execute_result"
    }
   ],
   "source": [
    "from sklearn.preprocessing import StandardScaler\n",
    "ss = StandardScaler()\n",
    "from numpy import unique\n",
    "XT1 = pd.DataFrame(ss.fit_transform(XT[con]),columns=XT[con].columns)\n",
    "out_index = []\n",
    "for i in con:\n",
    "    w = list(XT1[(XT1[i] > 3) | (XT1[i] < -3)].index)\n",
    "    out_index.extend(w)\n",
    "outliers = unique(out_index)\n",
    "\n",
    "XT1 = XT1.drop(labels=outliers, axis = 0)\n",
    "YT = YT.drop(labels =outliers, axis = 0 )\n",
    "\n",
    "XT2 = pd.get_dummies(XT[cat])\n",
    "XT2 = XT2.drop(labels=outliers, axis = 0)\n",
    "#XT2[\"MSSubClass_150\"] = \"0\"\n",
    "\n",
    "Xnew = XT1.join(XT2)\n",
    "Xnew.shape"
   ]
  },
  {
   "cell_type": "code",
   "execution_count": 441,
   "id": "92adb47f",
   "metadata": {},
   "outputs": [
    {
     "data": {
      "text/plain": [
       "(1042, 1)"
      ]
     },
     "execution_count": 441,
     "metadata": {},
     "output_type": "execute_result"
    }
   ],
   "source": [
    "YT.shape"
   ]
  },
  {
   "cell_type": "code",
   "execution_count": 442,
   "id": "daa1a218",
   "metadata": {},
   "outputs": [],
   "source": [
    "from sklearn.model_selection import train_test_split\n",
    "xtrain,xtest,ytrain,ytest = train_test_split(Xnew,YT,test_size=0.2,random_state=31)"
   ]
  },
  {
   "cell_type": "markdown",
   "id": "1c824e41",
   "metadata": {},
   "source": [
    "# Full model"
   ]
  },
  {
   "cell_type": "code",
   "execution_count": 443,
   "id": "4e8c183c",
   "metadata": {},
   "outputs": [
    {
     "name": "stdout",
     "output_type": "stream",
     "text": [
      "Training error: 9827.47385\n",
      "Testing error: 12963488478207.756\n",
      "Testing R2: -1.2251135321835208e+18\n",
      "Training R2: 0.9519671261395218\n"
     ]
    }
   ],
   "source": [
    "from sklearn.linear_model import LinearRegression\n",
    "lr = LinearRegression()\n",
    "model = lr.fit(xtrain,ytrain)\n",
    "pred_tr = model.predict(xtrain)\n",
    "pred_ts = model.predict(xtest)\n",
    "\n",
    "from sklearn.metrics import mean_absolute_error,mean_squared_error\n",
    "tr_er = round(mean_absolute_error(ytrain,pred_tr),5)\n",
    "ts_er =  round(mean_absolute_error(ytest,pred_ts),5)\n",
    "\n",
    "from sklearn.metrics import explained_variance_score\n",
    "ts_r2 = explained_variance_score(ytest,pred_ts)\n",
    "\n",
    "from sklearn.metrics import explained_variance_score\n",
    "tr_r2 = explained_variance_score(ytrain,pred_tr)\n",
    "\n",
    "print(\"Training error:\",tr_er)\n",
    "print(\"Testing error:\",ts_er)\n",
    "print(\"Testing R2:\",ts_r2)\n",
    "print(\"Training R2:\",tr_r2)"
   ]
  },
  {
   "cell_type": "markdown",
   "id": "24b32516",
   "metadata": {},
   "source": [
    "# Feature selection(Backward)"
   ]
  },
  {
   "cell_type": "code",
   "execution_count": 444,
   "id": "2f96a365",
   "metadata": {},
   "outputs": [
    {
     "data": {
      "text/html": [
       "<table class=\"simpletable\">\n",
       "<caption>OLS Regression Results</caption>\n",
       "<tr>\n",
       "  <th>Dep. Variable:</th>        <td>SalePrice</td>    <th>  R-squared:         </th> <td>   0.952</td> \n",
       "</tr>\n",
       "<tr>\n",
       "  <th>Model:</th>                   <td>OLS</td>       <th>  Adj. R-squared:    </th> <td>   0.932</td> \n",
       "</tr>\n",
       "<tr>\n",
       "  <th>Method:</th>             <td>Least Squares</td>  <th>  F-statistic:       </th> <td>   46.94</td> \n",
       "</tr>\n",
       "<tr>\n",
       "  <th>Date:</th>             <td>Thu, 30 Jun 2022</td> <th>  Prob (F-statistic):</th> <td>5.30e-281</td>\n",
       "</tr>\n",
       "<tr>\n",
       "  <th>Time:</th>                 <td>10:55:05</td>     <th>  Log-Likelihood:    </th> <td> -9153.7</td> \n",
       "</tr>\n",
       "<tr>\n",
       "  <th>No. Observations:</th>      <td>   833</td>      <th>  AIC:               </th> <td>1.880e+04</td>\n",
       "</tr>\n",
       "<tr>\n",
       "  <th>Df Residuals:</th>          <td>   585</td>      <th>  BIC:               </th> <td>1.998e+04</td>\n",
       "</tr>\n",
       "<tr>\n",
       "  <th>Df Model:</th>              <td>   247</td>      <th>                     </th>     <td> </td>    \n",
       "</tr>\n",
       "<tr>\n",
       "  <th>Covariance Type:</th>      <td>nonrobust</td>    <th>                     </th>     <td> </td>    \n",
       "</tr>\n",
       "</table>\n",
       "<table class=\"simpletable\">\n",
       "<tr>\n",
       "               <td></td>                 <th>coef</th>     <th>std err</th>      <th>t</th>      <th>P>|t|</th>  <th>[0.025</th>    <th>0.975]</th>  \n",
       "</tr>\n",
       "<tr>\n",
       "  <th>LotFrontage</th>                <td>-1599.6653</td> <td> 1326.431</td> <td>   -1.206</td> <td> 0.228</td> <td>-4204.812</td> <td> 1005.482</td>\n",
       "</tr>\n",
       "<tr>\n",
       "  <th>LotArea</th>                    <td> 1.197e+04</td> <td> 3255.629</td> <td>    3.677</td> <td> 0.000</td> <td> 5575.613</td> <td> 1.84e+04</td>\n",
       "</tr>\n",
       "<tr>\n",
       "  <th>YearBuilt</th>                  <td> 1.181e+04</td> <td> 3386.988</td> <td>    3.486</td> <td> 0.001</td> <td> 5156.415</td> <td> 1.85e+04</td>\n",
       "</tr>\n",
       "<tr>\n",
       "  <th>YearRemodAdd</th>               <td> 1000.7068</td> <td> 1424.107</td> <td>    0.703</td> <td> 0.483</td> <td>-1796.279</td> <td> 3797.692</td>\n",
       "</tr>\n",
       "<tr>\n",
       "  <th>MasVnrArea</th>                 <td>  -75.4542</td> <td> 1763.042</td> <td>   -0.043</td> <td> 0.966</td> <td>-3538.117</td> <td> 3387.209</td>\n",
       "</tr>\n",
       "<tr>\n",
       "  <th>BsmtFinSF1</th>                 <td> 7194.9542</td> <td> 1355.227</td> <td>    5.309</td> <td> 0.000</td> <td> 4533.251</td> <td> 9856.658</td>\n",
       "</tr>\n",
       "<tr>\n",
       "  <th>BsmtFinSF2</th>                 <td> 2088.6345</td> <td> 3157.291</td> <td>    0.662</td> <td> 0.509</td> <td>-4112.372</td> <td> 8289.641</td>\n",
       "</tr>\n",
       "<tr>\n",
       "  <th>BsmtUnfSF</th>                  <td> 1754.3769</td> <td> 1243.086</td> <td>    1.411</td> <td> 0.159</td> <td> -687.078</td> <td> 4195.832</td>\n",
       "</tr>\n",
       "<tr>\n",
       "  <th>TotalBsmtSF</th>                <td> 1.002e+04</td> <td> 1953.053</td> <td>    5.128</td> <td> 0.000</td> <td> 6179.399</td> <td> 1.39e+04</td>\n",
       "</tr>\n",
       "<tr>\n",
       "  <th>1stFlrSF</th>                   <td> 4737.8928</td> <td> 2134.589</td> <td>    2.220</td> <td> 0.027</td> <td>  545.501</td> <td> 8930.285</td>\n",
       "</tr>\n",
       "<tr>\n",
       "  <th>2ndFlrSF</th>                   <td> 1.488e+04</td> <td> 2236.403</td> <td>    6.654</td> <td> 0.000</td> <td> 1.05e+04</td> <td> 1.93e+04</td>\n",
       "</tr>\n",
       "<tr>\n",
       "  <th>LowQualFinSF</th>               <td> -704.6273</td> <td> 7657.310</td> <td>   -0.092</td> <td> 0.927</td> <td>-1.57e+04</td> <td> 1.43e+04</td>\n",
       "</tr>\n",
       "<tr>\n",
       "  <th>GrLivArea</th>                  <td> 1.578e+04</td> <td> 1643.957</td> <td>    9.601</td> <td> 0.000</td> <td> 1.26e+04</td> <td>  1.9e+04</td>\n",
       "</tr>\n",
       "<tr>\n",
       "  <th>BsmtFullBath</th>               <td>  762.9403</td> <td> 1119.133</td> <td>    0.682</td> <td> 0.496</td> <td>-1435.067</td> <td> 2960.948</td>\n",
       "</tr>\n",
       "<tr>\n",
       "  <th>BsmtHalfBath</th>               <td>-3541.9454</td> <td>  580.801</td> <td>   -6.098</td> <td> 0.000</td> <td>-4682.654</td> <td>-2401.237</td>\n",
       "</tr>\n",
       "<tr>\n",
       "  <th>FullBath</th>                   <td> 2202.7851</td> <td> 1525.697</td> <td>    1.444</td> <td> 0.149</td> <td> -793.725</td> <td> 5199.296</td>\n",
       "</tr>\n",
       "<tr>\n",
       "  <th>HalfBath</th>                   <td>  303.9962</td> <td> 1287.926</td> <td>    0.236</td> <td> 0.813</td> <td>-2225.525</td> <td> 2833.517</td>\n",
       "</tr>\n",
       "<tr>\n",
       "  <th>BedroomAbvGr</th>               <td> -730.8761</td> <td> 1449.876</td> <td>   -0.504</td> <td> 0.614</td> <td>-3578.473</td> <td> 2116.721</td>\n",
       "</tr>\n",
       "<tr>\n",
       "  <th>KitchenAbvGr</th>               <td>-3106.9187</td> <td>  509.466</td> <td>   -6.098</td> <td> 0.000</td> <td>-4107.524</td> <td>-2106.314</td>\n",
       "</tr>\n",
       "<tr>\n",
       "  <th>TotRmsAbvGrd</th>               <td> -109.3893</td> <td> 1875.019</td> <td>   -0.058</td> <td> 0.953</td> <td>-3791.977</td> <td> 3573.199</td>\n",
       "</tr>\n",
       "<tr>\n",
       "  <th>Fireplaces</th>                 <td>  918.0515</td> <td> 2230.963</td> <td>    0.412</td> <td> 0.681</td> <td>-3463.620</td> <td> 5299.723</td>\n",
       "</tr>\n",
       "<tr>\n",
       "  <th>GarageYrBlt</th>                <td>-1540.9745</td> <td> 1697.121</td> <td>   -0.908</td> <td> 0.364</td> <td>-4874.166</td> <td> 1792.217</td>\n",
       "</tr>\n",
       "<tr>\n",
       "  <th>GarageCars</th>                 <td> 3778.5407</td> <td> 1889.413</td> <td>    2.000</td> <td> 0.046</td> <td>   67.682</td> <td> 7489.399</td>\n",
       "</tr>\n",
       "<tr>\n",
       "  <th>GarageArea</th>                 <td> 3588.7778</td> <td> 1881.130</td> <td>    1.908</td> <td> 0.057</td> <td> -105.812</td> <td> 7283.368</td>\n",
       "</tr>\n",
       "<tr>\n",
       "  <th>WoodDeckSF</th>                 <td> 3646.6899</td> <td>  901.059</td> <td>    4.047</td> <td> 0.000</td> <td> 1876.985</td> <td> 5416.395</td>\n",
       "</tr>\n",
       "<tr>\n",
       "  <th>OpenPorchSF</th>                <td> 2708.1269</td> <td> 1064.460</td> <td>    2.544</td> <td> 0.011</td> <td>  617.499</td> <td> 4798.755</td>\n",
       "</tr>\n",
       "<tr>\n",
       "  <th>EnclosedPorch</th>              <td> 1037.6610</td> <td> 1143.870</td> <td>    0.907</td> <td> 0.365</td> <td>-1208.931</td> <td> 3284.253</td>\n",
       "</tr>\n",
       "<tr>\n",
       "  <th>3SsnPorch</th>                  <td>-1.737e+04</td> <td> 2.42e+04</td> <td>   -0.717</td> <td> 0.474</td> <td> -6.5e+04</td> <td> 3.02e+04</td>\n",
       "</tr>\n",
       "<tr>\n",
       "  <th>ScreenPorch</th>                <td> 2361.1760</td> <td> 1366.646</td> <td>    1.728</td> <td> 0.085</td> <td> -322.954</td> <td> 5045.306</td>\n",
       "</tr>\n",
       "<tr>\n",
       "  <th>PoolArea</th>                   <td>-1009.2980</td> <td>  165.503</td> <td>   -6.098</td> <td> 0.000</td> <td>-1334.349</td> <td> -684.247</td>\n",
       "</tr>\n",
       "<tr>\n",
       "  <th>MiscVal</th>                    <td>-2450.4314</td> <td> 8707.561</td> <td>   -0.281</td> <td> 0.778</td> <td>-1.96e+04</td> <td> 1.47e+04</td>\n",
       "</tr>\n",
       "<tr>\n",
       "  <th>YrSold</th>                     <td> -607.8877</td> <td>  757.359</td> <td>   -0.803</td> <td> 0.423</td> <td>-2095.362</td> <td>  879.587</td>\n",
       "</tr>\n",
       "<tr>\n",
       "  <th>MSSubClass_120</th>             <td> 6957.2039</td> <td> 1.01e+04</td> <td>    0.688</td> <td> 0.492</td> <td>-1.29e+04</td> <td> 2.68e+04</td>\n",
       "</tr>\n",
       "<tr>\n",
       "  <th>MSSubClass_160</th>             <td> 2611.8768</td> <td> 1.47e+04</td> <td>    0.177</td> <td> 0.859</td> <td>-2.63e+04</td> <td> 3.15e+04</td>\n",
       "</tr>\n",
       "<tr>\n",
       "  <th>MSSubClass_180</th>             <td>-5884.5439</td> <td>  1.7e+04</td> <td>   -0.346</td> <td> 0.729</td> <td>-3.93e+04</td> <td> 2.75e+04</td>\n",
       "</tr>\n",
       "<tr>\n",
       "  <th>MSSubClass_190</th>             <td> 8413.6725</td> <td>    3e+04</td> <td>    0.280</td> <td> 0.779</td> <td>-5.05e+04</td> <td> 6.73e+04</td>\n",
       "</tr>\n",
       "<tr>\n",
       "  <th>MSSubClass_20</th>              <td> 2745.0026</td> <td> 8948.278</td> <td>    0.307</td> <td> 0.759</td> <td>-1.48e+04</td> <td> 2.03e+04</td>\n",
       "</tr>\n",
       "<tr>\n",
       "  <th>MSSubClass_30</th>              <td> 3525.5667</td> <td> 9968.976</td> <td>    0.354</td> <td> 0.724</td> <td>-1.61e+04</td> <td> 2.31e+04</td>\n",
       "</tr>\n",
       "<tr>\n",
       "  <th>MSSubClass_40</th>              <td> 1.167e+04</td> <td> 2.19e+04</td> <td>    0.532</td> <td> 0.595</td> <td>-3.14e+04</td> <td> 5.48e+04</td>\n",
       "</tr>\n",
       "<tr>\n",
       "  <th>MSSubClass_45</th>              <td>-9089.1573</td> <td> 3.14e+04</td> <td>   -0.290</td> <td> 0.772</td> <td>-7.07e+04</td> <td> 5.26e+04</td>\n",
       "</tr>\n",
       "<tr>\n",
       "  <th>MSSubClass_50</th>              <td> 1.447e+04</td> <td> 2.62e+04</td> <td>    0.553</td> <td> 0.581</td> <td> -3.7e+04</td> <td> 6.59e+04</td>\n",
       "</tr>\n",
       "<tr>\n",
       "  <th>MSSubClass_60</th>              <td> 1244.8159</td> <td> 1.38e+04</td> <td>    0.090</td> <td> 0.928</td> <td>-2.58e+04</td> <td> 2.83e+04</td>\n",
       "</tr>\n",
       "<tr>\n",
       "  <th>MSSubClass_70</th>              <td>  372.6456</td> <td> 1.44e+04</td> <td>    0.026</td> <td> 0.979</td> <td> -2.8e+04</td> <td> 2.87e+04</td>\n",
       "</tr>\n",
       "<tr>\n",
       "  <th>MSSubClass_75</th>              <td>-2.477e-11</td> <td> 1.29e-10</td> <td>   -0.191</td> <td> 0.848</td> <td>-2.79e-10</td> <td>  2.3e-10</td>\n",
       "</tr>\n",
       "<tr>\n",
       "  <th>MSSubClass_80</th>              <td>-7628.8895</td> <td> 2.16e+04</td> <td>   -0.353</td> <td> 0.724</td> <td>   -5e+04</td> <td> 3.48e+04</td>\n",
       "</tr>\n",
       "<tr>\n",
       "  <th>MSSubClass_85</th>              <td>-1.426e+04</td> <td> 1.89e+04</td> <td>   -0.756</td> <td> 0.450</td> <td>-5.13e+04</td> <td> 2.28e+04</td>\n",
       "</tr>\n",
       "<tr>\n",
       "  <th>MSSubClass_90</th>              <td> -462.5603</td> <td> 9907.553</td> <td>   -0.047</td> <td> 0.963</td> <td>-1.99e+04</td> <td>  1.9e+04</td>\n",
       "</tr>\n",
       "<tr>\n",
       "  <th>MSZoning_C (all)</th>           <td>-2.755e+04</td> <td> 1.13e+04</td> <td>   -2.443</td> <td> 0.015</td> <td>-4.97e+04</td> <td>-5404.529</td>\n",
       "</tr>\n",
       "<tr>\n",
       "  <th>MSZoning_FV</th>                <td> 2.164e+04</td> <td> 6314.554</td> <td>    3.427</td> <td> 0.001</td> <td> 9238.913</td> <td>  3.4e+04</td>\n",
       "</tr>\n",
       "<tr>\n",
       "  <th>MSZoning_RH</th>                <td> 7518.3963</td> <td> 8302.098</td> <td>    0.906</td> <td> 0.366</td> <td>-8787.152</td> <td> 2.38e+04</td>\n",
       "</tr>\n",
       "<tr>\n",
       "  <th>MSZoning_RL</th>                <td> 6089.6908</td> <td> 4163.938</td> <td>    1.462</td> <td> 0.144</td> <td>-2088.398</td> <td> 1.43e+04</td>\n",
       "</tr>\n",
       "<tr>\n",
       "  <th>MSZoning_RM</th>                <td> 6992.4710</td> <td> 4705.853</td> <td>    1.486</td> <td> 0.138</td> <td>-2249.953</td> <td> 1.62e+04</td>\n",
       "</tr>\n",
       "<tr>\n",
       "  <th>Street_Grvl</th>                <td> 1.486e+04</td> <td> 1.24e+04</td> <td>    1.196</td> <td> 0.232</td> <td>-9550.833</td> <td> 3.93e+04</td>\n",
       "</tr>\n",
       "<tr>\n",
       "  <th>Street_Pave</th>                <td> -168.0557</td> <td> 1.16e+04</td> <td>   -0.015</td> <td> 0.988</td> <td>-2.29e+04</td> <td> 2.26e+04</td>\n",
       "</tr>\n",
       "<tr>\n",
       "  <th>Alley_Grvl</th>                 <td> 8654.7895</td> <td> 4223.664</td> <td>    2.049</td> <td> 0.041</td> <td>  359.398</td> <td>  1.7e+04</td>\n",
       "</tr>\n",
       "<tr>\n",
       "  <th>Alley_NoAlley</th>              <td> 5443.1567</td> <td> 2715.900</td> <td>    2.004</td> <td> 0.046</td> <td>  109.054</td> <td> 1.08e+04</td>\n",
       "</tr>\n",
       "<tr>\n",
       "  <th>Alley_Pave</th>                 <td>  595.2013</td> <td> 4092.081</td> <td>    0.145</td> <td> 0.884</td> <td>-7441.758</td> <td> 8632.160</td>\n",
       "</tr>\n",
       "<tr>\n",
       "  <th>LotShape_IR1</th>               <td> 8581.7297</td> <td> 3185.021</td> <td>    2.694</td> <td> 0.007</td> <td> 2326.261</td> <td> 1.48e+04</td>\n",
       "</tr>\n",
       "<tr>\n",
       "  <th>LotShape_IR2</th>               <td> 3978.8455</td> <td> 5185.086</td> <td>    0.767</td> <td> 0.443</td> <td>-6204.806</td> <td> 1.42e+04</td>\n",
       "</tr>\n",
       "<tr>\n",
       "  <th>LotShape_IR3</th>               <td>-7031.2971</td> <td> 7754.689</td> <td>   -0.907</td> <td> 0.365</td> <td>-2.23e+04</td> <td> 8199.125</td>\n",
       "</tr>\n",
       "<tr>\n",
       "  <th>LotShape_Reg</th>               <td> 9163.8695</td> <td> 3350.410</td> <td>    2.735</td> <td> 0.006</td> <td> 2583.572</td> <td> 1.57e+04</td>\n",
       "</tr>\n",
       "<tr>\n",
       "  <th>LandContour_Bnk</th>            <td> 5873.7462</td> <td> 3984.542</td> <td>    1.474</td> <td> 0.141</td> <td>-1952.004</td> <td> 1.37e+04</td>\n",
       "</tr>\n",
       "<tr>\n",
       "  <th>LandContour_HLS</th>            <td> 2326.6451</td> <td> 4062.764</td> <td>    0.573</td> <td> 0.567</td> <td>-5652.735</td> <td> 1.03e+04</td>\n",
       "</tr>\n",
       "<tr>\n",
       "  <th>LandContour_Low</th>            <td>  650.1427</td> <td> 5501.834</td> <td>    0.118</td> <td> 0.906</td> <td>-1.02e+04</td> <td> 1.15e+04</td>\n",
       "</tr>\n",
       "<tr>\n",
       "  <th>LandContour_Lvl</th>            <td> 5842.6135</td> <td> 2783.083</td> <td>    2.099</td> <td> 0.036</td> <td>  376.561</td> <td> 1.13e+04</td>\n",
       "</tr>\n",
       "<tr>\n",
       "  <th>Utilities_AllPub</th>           <td> 1.469e+04</td> <td> 2409.351</td> <td>    6.098</td> <td> 0.000</td> <td> 9961.117</td> <td> 1.94e+04</td>\n",
       "</tr>\n",
       "<tr>\n",
       "  <th>Utilities_NoSeWa</th>           <td> -2.89e-11</td> <td> 8.61e-11</td> <td>   -0.336</td> <td> 0.737</td> <td>-1.98e-10</td> <td>  1.4e-10</td>\n",
       "</tr>\n",
       "<tr>\n",
       "  <th>LotConfig_Corner</th>           <td> 8285.5658</td> <td> 2926.607</td> <td>    2.831</td> <td> 0.005</td> <td> 2537.629</td> <td>  1.4e+04</td>\n",
       "</tr>\n",
       "<tr>\n",
       "  <th>LotConfig_CulDSac</th>          <td> 1.245e+04</td> <td> 3582.228</td> <td>    3.476</td> <td> 0.001</td> <td> 5416.429</td> <td> 1.95e+04</td>\n",
       "</tr>\n",
       "<tr>\n",
       "  <th>LotConfig_FR2</th>              <td>-1955.1371</td> <td> 4068.090</td> <td>   -0.481</td> <td> 0.631</td> <td>-9944.977</td> <td> 6034.703</td>\n",
       "</tr>\n",
       "<tr>\n",
       "  <th>LotConfig_FR3</th>              <td>-1.055e+04</td> <td> 8748.213</td> <td>   -1.206</td> <td> 0.228</td> <td>-2.77e+04</td> <td> 6631.968</td>\n",
       "</tr>\n",
       "<tr>\n",
       "  <th>LotConfig_Inside</th>           <td> 6460.4578</td> <td> 2626.446</td> <td>    2.460</td> <td> 0.014</td> <td> 1302.047</td> <td> 1.16e+04</td>\n",
       "</tr>\n",
       "<tr>\n",
       "  <th>LandSlope_Gtl</th>              <td> -474.2555</td> <td> 6686.084</td> <td>   -0.071</td> <td> 0.943</td> <td>-1.36e+04</td> <td> 1.27e+04</td>\n",
       "</tr>\n",
       "<tr>\n",
       "  <th>LandSlope_Mod</th>              <td> 5313.6047</td> <td> 7140.738</td> <td>    0.744</td> <td> 0.457</td> <td>-8711.000</td> <td> 1.93e+04</td>\n",
       "</tr>\n",
       "<tr>\n",
       "  <th>LandSlope_Sev</th>              <td> 9853.7983</td> <td> 1.34e+04</td> <td>    0.736</td> <td> 0.462</td> <td>-1.64e+04</td> <td> 3.62e+04</td>\n",
       "</tr>\n",
       "<tr>\n",
       "  <th>Neighborhood_Blmngtn</th>       <td> 1.021e+04</td> <td> 7827.170</td> <td>    1.305</td> <td> 0.193</td> <td>-5161.547</td> <td> 2.56e+04</td>\n",
       "</tr>\n",
       "<tr>\n",
       "  <th>Neighborhood_Blueste</th>       <td>-4062.5856</td> <td>  1.9e+04</td> <td>   -0.214</td> <td> 0.831</td> <td>-4.14e+04</td> <td> 3.33e+04</td>\n",
       "</tr>\n",
       "<tr>\n",
       "  <th>Neighborhood_BrDale</th>        <td> 3425.7832</td> <td> 8707.693</td> <td>    0.393</td> <td> 0.694</td> <td>-1.37e+04</td> <td> 2.05e+04</td>\n",
       "</tr>\n",
       "<tr>\n",
       "  <th>Neighborhood_BrkSide</th>       <td> 1329.3392</td> <td> 5978.051</td> <td>    0.222</td> <td> 0.824</td> <td>-1.04e+04</td> <td> 1.31e+04</td>\n",
       "</tr>\n",
       "<tr>\n",
       "  <th>Neighborhood_ClearCr</th>       <td>-1.146e+04</td> <td> 8310.340</td> <td>   -1.379</td> <td> 0.168</td> <td>-2.78e+04</td> <td> 4863.253</td>\n",
       "</tr>\n",
       "<tr>\n",
       "  <th>Neighborhood_CollgCr</th>       <td>-3704.6019</td> <td> 3177.854</td> <td>   -1.166</td> <td> 0.244</td> <td>-9945.995</td> <td> 2536.791</td>\n",
       "</tr>\n",
       "<tr>\n",
       "  <th>Neighborhood_Crawfor</th>       <td> 2.903e+04</td> <td> 6119.762</td> <td>    4.744</td> <td> 0.000</td> <td>  1.7e+04</td> <td> 4.11e+04</td>\n",
       "</tr>\n",
       "<tr>\n",
       "  <th>Neighborhood_Edwards</th>       <td>-1.196e+04</td> <td> 3561.490</td> <td>   -3.358</td> <td> 0.001</td> <td> -1.9e+04</td> <td>-4965.324</td>\n",
       "</tr>\n",
       "<tr>\n",
       "  <th>Neighborhood_Gilbert</th>       <td>-2346.7738</td> <td> 4225.953</td> <td>   -0.555</td> <td> 0.579</td> <td>-1.06e+04</td> <td> 5953.114</td>\n",
       "</tr>\n",
       "<tr>\n",
       "  <th>Neighborhood_IDOTRR</th>        <td>-4830.1640</td> <td> 7513.189</td> <td>   -0.643</td> <td> 0.521</td> <td>-1.96e+04</td> <td> 9925.945</td>\n",
       "</tr>\n",
       "<tr>\n",
       "  <th>Neighborhood_MeadowV</th>       <td>-1.296e+04</td> <td> 9187.344</td> <td>   -1.411</td> <td> 0.159</td> <td> -3.1e+04</td> <td> 5080.469</td>\n",
       "</tr>\n",
       "<tr>\n",
       "  <th>Neighborhood_Mitchel</th>       <td>-1.119e+04</td> <td> 4704.668</td> <td>   -2.378</td> <td> 0.018</td> <td>-2.04e+04</td> <td>-1946.757</td>\n",
       "</tr>\n",
       "<tr>\n",
       "  <th>Neighborhood_NAmes</th>         <td>-4028.3291</td> <td> 3178.685</td> <td>   -1.267</td> <td> 0.206</td> <td>-1.03e+04</td> <td> 2214.696</td>\n",
       "</tr>\n",
       "<tr>\n",
       "  <th>Neighborhood_NPkVill</th>       <td> 1.998e+04</td> <td> 1.37e+04</td> <td>    1.455</td> <td> 0.146</td> <td>-6997.905</td> <td>  4.7e+04</td>\n",
       "</tr>\n",
       "<tr>\n",
       "  <th>Neighborhood_NWAmes</th>        <td>-7287.3270</td> <td> 4050.648</td> <td>   -1.799</td> <td> 0.073</td> <td>-1.52e+04</td> <td>  668.256</td>\n",
       "</tr>\n",
       "<tr>\n",
       "  <th>Neighborhood_NoRidge</th>       <td> 1.041e+04</td> <td> 5854.017</td> <td>    1.779</td> <td> 0.076</td> <td>-1084.570</td> <td> 2.19e+04</td>\n",
       "</tr>\n",
       "<tr>\n",
       "  <th>Neighborhood_NridgHt</th>       <td> 7947.9956</td> <td> 4922.686</td> <td>    1.615</td> <td> 0.107</td> <td>-1720.295</td> <td> 1.76e+04</td>\n",
       "</tr>\n",
       "<tr>\n",
       "  <th>Neighborhood_OldTown</th>       <td>-7743.5251</td> <td> 6288.123</td> <td>   -1.231</td> <td> 0.219</td> <td>-2.01e+04</td> <td> 4606.520</td>\n",
       "</tr>\n",
       "<tr>\n",
       "  <th>Neighborhood_SWISU</th>         <td> -1.48e+04</td> <td> 7762.266</td> <td>   -1.907</td> <td> 0.057</td> <td>   -3e+04</td> <td>  446.333</td>\n",
       "</tr>\n",
       "<tr>\n",
       "  <th>Neighborhood_Sawyer</th>        <td>-3539.0537</td> <td> 3798.435</td> <td>   -0.932</td> <td> 0.352</td> <td> -1.1e+04</td> <td> 3921.177</td>\n",
       "</tr>\n",
       "<tr>\n",
       "  <th>Neighborhood_SawyerW</th>       <td>  828.1189</td> <td> 3932.533</td> <td>    0.211</td> <td> 0.833</td> <td>-6895.485</td> <td> 8551.722</td>\n",
       "</tr>\n",
       "<tr>\n",
       "  <th>Neighborhood_Somerst</th>       <td>-2833.2112</td> <td> 5934.903</td> <td>   -0.477</td> <td> 0.633</td> <td>-1.45e+04</td> <td> 8823.101</td>\n",
       "</tr>\n",
       "<tr>\n",
       "  <th>Neighborhood_StoneBr</th>       <td> 2.935e+04</td> <td> 6663.961</td> <td>    4.404</td> <td> 0.000</td> <td> 1.63e+04</td> <td> 4.24e+04</td>\n",
       "</tr>\n",
       "<tr>\n",
       "  <th>Neighborhood_Timber</th>        <td> -257.6022</td> <td> 5307.501</td> <td>   -0.049</td> <td> 0.961</td> <td>-1.07e+04</td> <td> 1.02e+04</td>\n",
       "</tr>\n",
       "<tr>\n",
       "  <th>Neighborhood_Veenker</th>       <td> 5183.0639</td> <td> 9326.175</td> <td>    0.556</td> <td> 0.579</td> <td>-1.31e+04</td> <td> 2.35e+04</td>\n",
       "</tr>\n",
       "<tr>\n",
       "  <th>Condition1_Artery</th>          <td>-1928.2353</td> <td> 5602.572</td> <td>   -0.344</td> <td> 0.731</td> <td>-1.29e+04</td> <td> 9075.370</td>\n",
       "</tr>\n",
       "<tr>\n",
       "  <th>Condition1_Feedr</th>           <td> 2778.0381</td> <td> 4627.104</td> <td>    0.600</td> <td> 0.548</td> <td>-6309.722</td> <td> 1.19e+04</td>\n",
       "</tr>\n",
       "<tr>\n",
       "  <th>Condition1_Norm</th>            <td> 9827.9781</td> <td> 3545.635</td> <td>    2.772</td> <td> 0.006</td> <td> 2864.254</td> <td> 1.68e+04</td>\n",
       "</tr>\n",
       "<tr>\n",
       "  <th>Condition1_PosA</th>            <td>-4326.5279</td> <td> 1.07e+04</td> <td>   -0.404</td> <td> 0.686</td> <td>-2.54e+04</td> <td> 1.67e+04</td>\n",
       "</tr>\n",
       "<tr>\n",
       "  <th>Condition1_PosN</th>            <td> 9229.9136</td> <td> 8824.431</td> <td>    1.046</td> <td> 0.296</td> <td>-8101.510</td> <td> 2.66e+04</td>\n",
       "</tr>\n",
       "<tr>\n",
       "  <th>Condition1_RRAe</th>            <td>-1.435e+04</td> <td> 7617.881</td> <td>   -1.884</td> <td> 0.060</td> <td>-2.93e+04</td> <td>  607.758</td>\n",
       "</tr>\n",
       "<tr>\n",
       "  <th>Condition1_RRAn</th>            <td> 5993.8540</td> <td> 6102.047</td> <td>    0.982</td> <td> 0.326</td> <td>-5990.733</td> <td>  1.8e+04</td>\n",
       "</tr>\n",
       "<tr>\n",
       "  <th>Condition1_RRNe</th>            <td>-4.078e-11</td> <td> 6.61e-11</td> <td>   -0.617</td> <td> 0.537</td> <td>-1.71e-10</td> <td> 8.89e-11</td>\n",
       "</tr>\n",
       "<tr>\n",
       "  <th>Condition1_RRNn</th>            <td> 7472.0955</td> <td> 1.69e+04</td> <td>    0.442</td> <td> 0.659</td> <td>-2.57e+04</td> <td> 4.07e+04</td>\n",
       "</tr>\n",
       "<tr>\n",
       "  <th>Condition2_Artery</th>          <td> 5.064e-11</td> <td> 7.24e-11</td> <td>    0.700</td> <td> 0.484</td> <td>-9.15e-11</td> <td> 1.93e-10</td>\n",
       "</tr>\n",
       "<tr>\n",
       "  <th>Condition2_Feedr</th>           <td> 1.514e+04</td> <td>  1.6e+04</td> <td>    0.945</td> <td> 0.345</td> <td>-1.63e+04</td> <td> 4.66e+04</td>\n",
       "</tr>\n",
       "<tr>\n",
       "  <th>Condition2_Norm</th>            <td> -445.3134</td> <td> 1.49e+04</td> <td>   -0.030</td> <td> 0.976</td> <td>-2.96e+04</td> <td> 2.87e+04</td>\n",
       "</tr>\n",
       "<tr>\n",
       "  <th>Condition2_PosA</th>            <td> 3.952e-11</td> <td> 6.55e-11</td> <td>    0.603</td> <td> 0.547</td> <td>-8.91e-11</td> <td> 1.68e-10</td>\n",
       "</tr>\n",
       "<tr>\n",
       "  <th>Condition2_PosN</th>            <td> 1.757e-12</td> <td> 6.67e-11</td> <td>    0.026</td> <td> 0.979</td> <td>-1.29e-10</td> <td> 1.33e-10</td>\n",
       "</tr>\n",
       "<tr>\n",
       "  <th>Condition2_RRAe</th>            <td> 1.118e-10</td> <td> 1.16e-10</td> <td>    0.968</td> <td> 0.333</td> <td>-1.15e-10</td> <td> 3.39e-10</td>\n",
       "</tr>\n",
       "<tr>\n",
       "  <th>Condition2_RRAn</th>            <td>-2.342e-11</td> <td> 5.55e-11</td> <td>   -0.422</td> <td> 0.673</td> <td>-1.32e-10</td> <td> 8.55e-11</td>\n",
       "</tr>\n",
       "<tr>\n",
       "  <th>Condition2_RRNn</th>            <td>-1.526e-10</td> <td> 1.04e-10</td> <td>   -1.470</td> <td> 0.142</td> <td>-3.56e-10</td> <td> 5.12e-11</td>\n",
       "</tr>\n",
       "<tr>\n",
       "  <th>BldgType_1Fam</th>              <td> 2.174e+04</td> <td>  1.1e+04</td> <td>    1.970</td> <td> 0.049</td> <td>   65.772</td> <td> 4.34e+04</td>\n",
       "</tr>\n",
       "<tr>\n",
       "  <th>BldgType_2fmCon</th>            <td>-1.027e+04</td> <td>  2.2e+04</td> <td>   -0.466</td> <td> 0.641</td> <td>-5.35e+04</td> <td>  3.3e+04</td>\n",
       "</tr>\n",
       "<tr>\n",
       "  <th>BldgType_Duplex</th>            <td> -462.5603</td> <td> 9907.553</td> <td>   -0.047</td> <td> 0.963</td> <td>-1.99e+04</td> <td>  1.9e+04</td>\n",
       "</tr>\n",
       "<tr>\n",
       "  <th>BldgType_Twnhs</th>             <td>  -35.9446</td> <td> 5730.276</td> <td>   -0.006</td> <td> 0.995</td> <td>-1.13e+04</td> <td> 1.12e+04</td>\n",
       "</tr>\n",
       "<tr>\n",
       "  <th>BldgType_TwnhsE</th>            <td> 3720.4813</td> <td> 5224.245</td> <td>    0.712</td> <td> 0.477</td> <td>-6540.080</td> <td>  1.4e+04</td>\n",
       "</tr>\n",
       "<tr>\n",
       "  <th>HouseStyle_1.5Fin</th>          <td>-1.804e+04</td> <td> 2.53e+04</td> <td>   -0.714</td> <td> 0.475</td> <td>-6.76e+04</td> <td> 3.16e+04</td>\n",
       "</tr>\n",
       "<tr>\n",
       "  <th>HouseStyle_1.5Unf</th>          <td> 1.968e+04</td> <td> 2.86e+04</td> <td>    0.689</td> <td> 0.491</td> <td>-3.64e+04</td> <td> 7.58e+04</td>\n",
       "</tr>\n",
       "<tr>\n",
       "  <th>HouseStyle_1Story</th>          <td>  586.6099</td> <td> 1.14e+04</td> <td>    0.051</td> <td> 0.959</td> <td>-2.19e+04</td> <td>  2.3e+04</td>\n",
       "</tr>\n",
       "<tr>\n",
       "  <th>HouseStyle_2.5Fin</th>          <td> 4.702e-11</td> <td> 5.85e-11</td> <td>    0.804</td> <td> 0.422</td> <td>-6.79e-11</td> <td> 1.62e-10</td>\n",
       "</tr>\n",
       "<tr>\n",
       "  <th>HouseStyle_2.5Unf</th>          <td>-1.996e-11</td> <td> 7.75e-11</td> <td>   -0.257</td> <td> 0.797</td> <td>-1.72e-10</td> <td> 1.32e-10</td>\n",
       "</tr>\n",
       "<tr>\n",
       "  <th>HouseStyle_2Story</th>          <td>-6185.9790</td> <td> 1.55e+04</td> <td>   -0.398</td> <td> 0.691</td> <td>-3.67e+04</td> <td> 2.43e+04</td>\n",
       "</tr>\n",
       "<tr>\n",
       "  <th>HouseStyle_SFoyer</th>          <td> 1.152e+04</td> <td> 1.66e+04</td> <td>    0.693</td> <td> 0.489</td> <td>-2.11e+04</td> <td> 4.42e+04</td>\n",
       "</tr>\n",
       "<tr>\n",
       "  <th>HouseStyle_SLvl</th>            <td> 7126.8411</td> <td> 1.98e+04</td> <td>    0.360</td> <td> 0.719</td> <td>-3.17e+04</td> <td>  4.6e+04</td>\n",
       "</tr>\n",
       "<tr>\n",
       "  <th>OverallQual_Above Average</th>  <td>-1.365e+04</td> <td> 4716.267</td> <td>   -2.895</td> <td> 0.004</td> <td>-2.29e+04</td> <td>-4389.982</td>\n",
       "</tr>\n",
       "<tr>\n",
       "  <th>OverallQual_Average</th>        <td>-1.495e+04</td> <td> 4690.724</td> <td>   -3.187</td> <td> 0.002</td> <td>-2.42e+04</td> <td>-5734.458</td>\n",
       "</tr>\n",
       "<tr>\n",
       "  <th>OverallQual_Below Average</th>  <td>-1.609e+04</td> <td> 4843.029</td> <td>   -3.323</td> <td> 0.001</td> <td>-2.56e+04</td> <td>-6579.317</td>\n",
       "</tr>\n",
       "<tr>\n",
       "  <th>OverallQual_Excellent</th>      <td> 3.703e+04</td> <td> 7304.108</td> <td>    5.070</td> <td> 0.000</td> <td> 2.27e+04</td> <td> 5.14e+04</td>\n",
       "</tr>\n",
       "<tr>\n",
       "  <th>OverallQual_Fair</th>           <td>-2.174e+04</td> <td> 8369.230</td> <td>   -2.598</td> <td> 0.010</td> <td>-3.82e+04</td> <td>-5302.520</td>\n",
       "</tr>\n",
       "<tr>\n",
       "  <th>OverallQual_Good</th>           <td>-8372.1621</td> <td> 4765.206</td> <td>   -1.757</td> <td> 0.079</td> <td>-1.77e+04</td> <td>  986.832</td>\n",
       "</tr>\n",
       "<tr>\n",
       "  <th>OverallQual_Poor</th>           <td> 7976.9588</td> <td> 1.44e+04</td> <td>    0.554</td> <td> 0.580</td> <td>-2.03e+04</td> <td> 3.62e+04</td>\n",
       "</tr>\n",
       "<tr>\n",
       "  <th>OverallQual_Very Excellent</th> <td> 6.546e+04</td> <td> 1.45e+04</td> <td>    4.504</td> <td> 0.000</td> <td> 3.69e+04</td> <td>  9.4e+04</td>\n",
       "</tr>\n",
       "<tr>\n",
       "  <th>OverallQual_Very Good</th>      <td> 3012.9756</td> <td> 5222.938</td> <td>    0.577</td> <td> 0.564</td> <td>-7245.018</td> <td> 1.33e+04</td>\n",
       "</tr>\n",
       "<tr>\n",
       "  <th>OverallQual_Very Poor</th>      <td>-2.398e+04</td> <td> 2.83e+04</td> <td>   -0.848</td> <td> 0.397</td> <td>-7.95e+04</td> <td> 3.15e+04</td>\n",
       "</tr>\n",
       "<tr>\n",
       "  <th>OverallCond_Above Average</th>  <td> -429.1448</td> <td> 4515.663</td> <td>   -0.095</td> <td> 0.924</td> <td>-9298.031</td> <td> 8439.742</td>\n",
       "</tr>\n",
       "<tr>\n",
       "  <th>OverallCond_Average</th>        <td>-7753.1317</td> <td> 4509.398</td> <td>   -1.719</td> <td> 0.086</td> <td>-1.66e+04</td> <td> 1103.449</td>\n",
       "</tr>\n",
       "<tr>\n",
       "  <th>OverallCond_Below Average</th>  <td>-3733.1507</td> <td> 6173.702</td> <td>   -0.605</td> <td> 0.546</td> <td>-1.59e+04</td> <td> 8392.170</td>\n",
       "</tr>\n",
       "<tr>\n",
       "  <th>OverallCond_Excellent</th>      <td> 1.512e+04</td> <td> 8170.185</td> <td>    1.851</td> <td> 0.065</td> <td> -923.583</td> <td> 3.12e+04</td>\n",
       "</tr>\n",
       "<tr>\n",
       "  <th>OverallCond_Fair</th>           <td>-2.136e+04</td> <td> 6711.236</td> <td>   -3.182</td> <td> 0.002</td> <td>-3.45e+04</td> <td>-8174.495</td>\n",
       "</tr>\n",
       "<tr>\n",
       "  <th>OverallCond_Good</th>           <td> 5172.0572</td> <td> 4746.184</td> <td>    1.090</td> <td> 0.276</td> <td>-4149.577</td> <td> 1.45e+04</td>\n",
       "</tr>\n",
       "<tr>\n",
       "  <th>OverallCond_Poor</th>           <td> 1.893e+04</td> <td> 1.84e+04</td> <td>    1.028</td> <td> 0.304</td> <td>-1.72e+04</td> <td> 5.51e+04</td>\n",
       "</tr>\n",
       "<tr>\n",
       "  <th>OverallCond_Very Good</th>      <td> 9458.0696</td> <td> 5417.925</td> <td>    1.746</td> <td> 0.081</td> <td>-1182.883</td> <td> 2.01e+04</td>\n",
       "</tr>\n",
       "<tr>\n",
       "  <th>OverallCond_Very Poor</th>      <td> -716.9561</td> <td> 2.05e+04</td> <td>   -0.035</td> <td> 0.972</td> <td>-4.09e+04</td> <td> 3.95e+04</td>\n",
       "</tr>\n",
       "<tr>\n",
       "  <th>RoofStyle_Flat</th>             <td> -933.8059</td> <td> 8177.062</td> <td>   -0.114</td> <td> 0.909</td> <td> -1.7e+04</td> <td> 1.51e+04</td>\n",
       "</tr>\n",
       "<tr>\n",
       "  <th>RoofStyle_Gable</th>            <td> 2330.6292</td> <td> 5153.647</td> <td>    0.452</td> <td> 0.651</td> <td>-7791.275</td> <td> 1.25e+04</td>\n",
       "</tr>\n",
       "<tr>\n",
       "  <th>RoofStyle_Gambrel</th>          <td>  215.4196</td> <td> 8733.033</td> <td>    0.025</td> <td> 0.980</td> <td>-1.69e+04</td> <td> 1.74e+04</td>\n",
       "</tr>\n",
       "<tr>\n",
       "  <th>RoofStyle_Hip</th>              <td> 3931.2928</td> <td> 5327.489</td> <td>    0.738</td> <td> 0.461</td> <td>-6532.042</td> <td> 1.44e+04</td>\n",
       "</tr>\n",
       "<tr>\n",
       "  <th>RoofStyle_Mansard</th>          <td> 9149.6117</td> <td> 1.18e+04</td> <td>    0.777</td> <td> 0.438</td> <td> -1.4e+04</td> <td> 3.23e+04</td>\n",
       "</tr>\n",
       "<tr>\n",
       "  <th>RoofStyle_Shed</th>             <td>-2.634e-11</td> <td> 2.68e-11</td> <td>   -0.984</td> <td> 0.326</td> <td>-7.89e-11</td> <td> 2.62e-11</td>\n",
       "</tr>\n",
       "<tr>\n",
       "  <th>RoofMatl_ClyTile</th>           <td>-8.494e-12</td> <td> 3.42e-11</td> <td>   -0.249</td> <td> 0.804</td> <td>-7.56e-11</td> <td> 5.86e-11</td>\n",
       "</tr>\n",
       "<tr>\n",
       "  <th>RoofMatl_CompShg</th>           <td> 8495.8714</td> <td> 1.06e+04</td> <td>    0.801</td> <td> 0.424</td> <td>-1.23e+04</td> <td> 2.93e+04</td>\n",
       "</tr>\n",
       "<tr>\n",
       "  <th>RoofMatl_Membran</th>           <td>-1.441e-11</td> <td> 2.17e-11</td> <td>   -0.664</td> <td> 0.507</td> <td> -5.7e-11</td> <td> 2.82e-11</td>\n",
       "</tr>\n",
       "<tr>\n",
       "  <th>RoofMatl_Metal</th>             <td>-8.713e-12</td> <td> 2.52e-11</td> <td>   -0.345</td> <td> 0.730</td> <td>-5.83e-11</td> <td> 4.09e-11</td>\n",
       "</tr>\n",
       "<tr>\n",
       "  <th>RoofMatl_Roll</th>              <td>-6.592e-15</td> <td> 5.23e-11</td> <td>   -0.000</td> <td> 1.000</td> <td>-1.03e-10</td> <td> 1.03e-10</td>\n",
       "</tr>\n",
       "<tr>\n",
       "  <th>RoofMatl_Tar&Grv</th>           <td> -933.8059</td> <td> 8177.062</td> <td>   -0.114</td> <td> 0.909</td> <td> -1.7e+04</td> <td> 1.51e+04</td>\n",
       "</tr>\n",
       "<tr>\n",
       "  <th>RoofMatl_WdShake</th>           <td>-4646.4494</td> <td> 1.99e+04</td> <td>   -0.234</td> <td> 0.815</td> <td>-4.37e+04</td> <td> 3.44e+04</td>\n",
       "</tr>\n",
       "<tr>\n",
       "  <th>RoofMatl_WdShngl</th>           <td> 1.178e+04</td> <td> 1.68e+04</td> <td>    0.700</td> <td> 0.484</td> <td>-2.13e+04</td> <td> 4.48e+04</td>\n",
       "</tr>\n",
       "<tr>\n",
       "  <th>Exterior1st_AsbShng</th>        <td> 2066.3916</td> <td> 2.64e+04</td> <td>    0.078</td> <td> 0.938</td> <td>-4.97e+04</td> <td> 5.38e+04</td>\n",
       "</tr>\n",
       "<tr>\n",
       "  <th>Exterior1st_AsphShn</th>        <td> -8.65e-12</td> <td> 2.45e-11</td> <td>   -0.352</td> <td> 0.725</td> <td>-5.69e-11</td> <td> 3.96e-11</td>\n",
       "</tr>\n",
       "<tr>\n",
       "  <th>Exterior1st_BrkComm</th>        <td> 3.845e+04</td> <td> 2.58e+04</td> <td>    1.492</td> <td> 0.136</td> <td>-1.22e+04</td> <td> 8.91e+04</td>\n",
       "</tr>\n",
       "<tr>\n",
       "  <th>Exterior1st_BrkFace</th>        <td> 1.383e+04</td> <td> 7091.897</td> <td>    1.950</td> <td> 0.052</td> <td>  -96.960</td> <td> 2.78e+04</td>\n",
       "</tr>\n",
       "<tr>\n",
       "  <th>Exterior1st_CBlock</th>         <td>-4891.2012</td> <td> 1.35e+04</td> <td>   -0.363</td> <td> 0.717</td> <td>-3.14e+04</td> <td> 2.16e+04</td>\n",
       "</tr>\n",
       "<tr>\n",
       "  <th>Exterior1st_CemntBd</th>        <td>-2.205e+04</td> <td> 1.97e+04</td> <td>   -1.117</td> <td> 0.264</td> <td>-6.08e+04</td> <td> 1.67e+04</td>\n",
       "</tr>\n",
       "<tr>\n",
       "  <th>Exterior1st_HdBoard</th>        <td>-4751.6685</td> <td> 6393.358</td> <td>   -0.743</td> <td> 0.458</td> <td>-1.73e+04</td> <td> 7805.062</td>\n",
       "</tr>\n",
       "<tr>\n",
       "  <th>Exterior1st_ImStucc</th>        <td> 9487.4166</td> <td> 2.09e+04</td> <td>    0.455</td> <td> 0.650</td> <td>-3.15e+04</td> <td> 5.05e+04</td>\n",
       "</tr>\n",
       "<tr>\n",
       "  <th>Exterior1st_MetalSd</th>        <td>-1.613e+04</td> <td>  1.2e+04</td> <td>   -1.343</td> <td> 0.180</td> <td>-3.97e+04</td> <td> 7459.699</td>\n",
       "</tr>\n",
       "<tr>\n",
       "  <th>Exterior1st_Plywood</th>        <td>-4392.2913</td> <td> 6490.315</td> <td>   -0.677</td> <td> 0.499</td> <td>-1.71e+04</td> <td> 8354.866</td>\n",
       "</tr>\n",
       "<tr>\n",
       "  <th>Exterior1st_Stone</th>          <td> 1.644e-11</td> <td>  2.5e-11</td> <td>    0.657</td> <td> 0.511</td> <td>-3.27e-11</td> <td> 6.56e-11</td>\n",
       "</tr>\n",
       "<tr>\n",
       "  <th>Exterior1st_Stucco</th>         <td> 2.404e+04</td> <td> 1.39e+04</td> <td>    1.733</td> <td> 0.084</td> <td>-3205.627</td> <td> 5.13e+04</td>\n",
       "</tr>\n",
       "<tr>\n",
       "  <th>Exterior1st_VinylSd</th>        <td>-1.569e+04</td> <td> 8721.097</td> <td>   -1.799</td> <td> 0.073</td> <td>-3.28e+04</td> <td> 1443.294</td>\n",
       "</tr>\n",
       "<tr>\n",
       "  <th>Exterior1st_Wd Sdng</th>        <td>-7462.3581</td> <td> 6008.571</td> <td>   -1.242</td> <td> 0.215</td> <td>-1.93e+04</td> <td> 4338.641</td>\n",
       "</tr>\n",
       "<tr>\n",
       "  <th>Exterior1st_WdShing</th>        <td> 2185.5699</td> <td> 7890.146</td> <td>    0.277</td> <td> 0.782</td> <td>-1.33e+04</td> <td> 1.77e+04</td>\n",
       "</tr>\n",
       "<tr>\n",
       "  <th>Exterior2nd_AsbShng</th>        <td> -392.3300</td> <td> 2.53e+04</td> <td>   -0.016</td> <td> 0.988</td> <td>-5.01e+04</td> <td> 4.93e+04</td>\n",
       "</tr>\n",
       "<tr>\n",
       "  <th>Exterior2nd_AsphShn</th>        <td> 1.372e-11</td> <td> 4.08e-11</td> <td>    0.336</td> <td> 0.737</td> <td>-6.64e-11</td> <td> 9.38e-11</td>\n",
       "</tr>\n",
       "<tr>\n",
       "  <th>Exterior2nd_Brk Cmn</th>        <td>-5097.4298</td> <td>  1.9e+04</td> <td>   -0.268</td> <td> 0.789</td> <td>-4.24e+04</td> <td> 3.22e+04</td>\n",
       "</tr>\n",
       "<tr>\n",
       "  <th>Exterior2nd_BrkFace</th>        <td>-6076.0095</td> <td> 8885.923</td> <td>   -0.684</td> <td> 0.494</td> <td>-2.35e+04</td> <td> 1.14e+04</td>\n",
       "</tr>\n",
       "<tr>\n",
       "  <th>Exterior2nd_CBlock</th>         <td>-4891.2012</td> <td> 1.35e+04</td> <td>   -0.363</td> <td> 0.717</td> <td>-3.14e+04</td> <td> 2.16e+04</td>\n",
       "</tr>\n",
       "<tr>\n",
       "  <th>Exterior2nd_CmentBd</th>        <td> 2.348e+04</td> <td> 2.05e+04</td> <td>    1.148</td> <td> 0.251</td> <td>-1.67e+04</td> <td> 6.36e+04</td>\n",
       "</tr>\n",
       "<tr>\n",
       "  <th>Exterior2nd_HdBoard</th>        <td> 1733.5099</td> <td> 6217.843</td> <td>    0.279</td> <td> 0.780</td> <td>-1.05e+04</td> <td> 1.39e+04</td>\n",
       "</tr>\n",
       "<tr>\n",
       "  <th>Exterior2nd_ImStucc</th>        <td>-5714.6145</td> <td> 1.02e+04</td> <td>   -0.558</td> <td> 0.577</td> <td>-2.58e+04</td> <td> 1.44e+04</td>\n",
       "</tr>\n",
       "<tr>\n",
       "  <th>Exterior2nd_MetalSd</th>        <td> 1.643e+04</td> <td> 1.21e+04</td> <td>    1.363</td> <td> 0.173</td> <td>-7250.970</td> <td> 4.01e+04</td>\n",
       "</tr>\n",
       "<tr>\n",
       "  <th>Exterior2nd_Other</th>          <td> 8935.4138</td> <td> 2.02e+04</td> <td>    0.443</td> <td> 0.658</td> <td>-3.06e+04</td> <td> 4.85e+04</td>\n",
       "</tr>\n",
       "<tr>\n",
       "  <th>Exterior2nd_Plywood</th>        <td>-3775.7256</td> <td> 5928.186</td> <td>   -0.637</td> <td> 0.524</td> <td>-1.54e+04</td> <td> 7867.395</td>\n",
       "</tr>\n",
       "<tr>\n",
       "  <th>Exterior2nd_Stone</th>          <td>-1.201e+04</td> <td>    2e+04</td> <td>   -0.600</td> <td> 0.549</td> <td>-5.13e+04</td> <td> 2.73e+04</td>\n",
       "</tr>\n",
       "<tr>\n",
       "  <th>Exterior2nd_Stucco</th>         <td>-1.587e+04</td> <td> 1.34e+04</td> <td>   -1.187</td> <td> 0.236</td> <td>-4.21e+04</td> <td> 1.04e+04</td>\n",
       "</tr>\n",
       "<tr>\n",
       "  <th>Exterior2nd_VinylSd</th>        <td> 1.439e+04</td> <td> 8234.381</td> <td>    1.748</td> <td> 0.081</td> <td>-1781.307</td> <td> 3.06e+04</td>\n",
       "</tr>\n",
       "<tr>\n",
       "  <th>Exterior2nd_Wd Sdng</th>        <td> 6642.2145</td> <td> 5809.027</td> <td>    1.143</td> <td> 0.253</td> <td>-4766.874</td> <td> 1.81e+04</td>\n",
       "</tr>\n",
       "<tr>\n",
       "  <th>Exterior2nd_Wd Shng</th>        <td>-3105.1250</td> <td> 7118.387</td> <td>   -0.436</td> <td> 0.663</td> <td>-1.71e+04</td> <td> 1.09e+04</td>\n",
       "</tr>\n",
       "<tr>\n",
       "  <th>MasVnrType_BrkCmn</th>          <td> 1221.1806</td> <td> 7757.975</td> <td>    0.157</td> <td> 0.875</td> <td> -1.4e+04</td> <td> 1.65e+04</td>\n",
       "</tr>\n",
       "<tr>\n",
       "  <th>MasVnrType_BrkFace</th>         <td>  744.1492</td> <td> 2833.468</td> <td>    0.263</td> <td> 0.793</td> <td>-4820.859</td> <td> 6309.157</td>\n",
       "</tr>\n",
       "<tr>\n",
       "  <th>MasVnrType_None</th>            <td>  284.3536</td> <td> 3205.207</td> <td>    0.089</td> <td> 0.929</td> <td>-6010.760</td> <td> 6579.468</td>\n",
       "</tr>\n",
       "<tr>\n",
       "  <th>MasVnrType_Stone</th>           <td> 1.244e+04</td> <td> 3410.613</td> <td>    3.648</td> <td> 0.000</td> <td> 5744.927</td> <td> 1.91e+04</td>\n",
       "</tr>\n",
       "<tr>\n",
       "  <th>ExterQual_Ex</th>               <td> 3341.6697</td> <td> 7257.229</td> <td>    0.460</td> <td> 0.645</td> <td>-1.09e+04</td> <td> 1.76e+04</td>\n",
       "</tr>\n",
       "<tr>\n",
       "  <th>ExterQual_Fa</th>               <td> 1.053e+04</td> <td> 1.46e+04</td> <td>    0.722</td> <td> 0.471</td> <td>-1.81e+04</td> <td> 3.92e+04</td>\n",
       "</tr>\n",
       "<tr>\n",
       "  <th>ExterQual_Gd</th>               <td> 1445.0772</td> <td> 5506.995</td> <td>    0.262</td> <td> 0.793</td> <td>-9370.812</td> <td> 1.23e+04</td>\n",
       "</tr>\n",
       "<tr>\n",
       "  <th>ExterQual_TA</th>               <td> -625.1379</td> <td> 5465.491</td> <td>   -0.114</td> <td> 0.909</td> <td>-1.14e+04</td> <td> 1.01e+04</td>\n",
       "</tr>\n",
       "<tr>\n",
       "  <th>ExterCond_Ex</th>               <td>-3.769e-12</td> <td> 1.08e-11</td> <td>   -0.349</td> <td> 0.727</td> <td> -2.5e-11</td> <td> 1.74e-11</td>\n",
       "</tr>\n",
       "<tr>\n",
       "  <th>ExterCond_Fa</th>               <td>-1280.6919</td> <td> 5390.694</td> <td>   -0.238</td> <td> 0.812</td> <td>-1.19e+04</td> <td> 9306.779</td>\n",
       "</tr>\n",
       "<tr>\n",
       "  <th>ExterCond_Gd</th>               <td> 5748.2215</td> <td> 3273.317</td> <td>    1.756</td> <td> 0.080</td> <td> -680.663</td> <td> 1.22e+04</td>\n",
       "</tr>\n",
       "<tr>\n",
       "  <th>ExterCond_Po</th>               <td> 1.292e-11</td> <td> 1.73e-11</td> <td>    0.748</td> <td> 0.455</td> <td> -2.1e-11</td> <td> 4.68e-11</td>\n",
       "</tr>\n",
       "<tr>\n",
       "  <th>ExterCond_TA</th>               <td> 1.023e+04</td> <td> 2916.864</td> <td>    3.506</td> <td> 0.000</td> <td> 4496.816</td> <td>  1.6e+04</td>\n",
       "</tr>\n",
       "<tr>\n",
       "  <th>Foundation_BrkTil</th>          <td>-9159.2489</td> <td> 5805.182</td> <td>   -1.578</td> <td> 0.115</td> <td>-2.06e+04</td> <td> 2242.287</td>\n",
       "</tr>\n",
       "<tr>\n",
       "  <th>Foundation_CBlock</th>          <td>-4866.1685</td> <td> 5100.748</td> <td>   -0.954</td> <td> 0.340</td> <td>-1.49e+04</td> <td> 5151.840</td>\n",
       "</tr>\n",
       "<tr>\n",
       "  <th>Foundation_PConc</th>           <td>-2094.7415</td> <td> 5180.365</td> <td>   -0.404</td> <td> 0.686</td> <td>-1.23e+04</td> <td> 8079.637</td>\n",
       "</tr>\n",
       "<tr>\n",
       "  <th>Foundation_Slab</th>            <td> 2781.4165</td> <td> 1.21e+04</td> <td>    0.230</td> <td> 0.818</td> <td> -2.1e+04</td> <td> 2.66e+04</td>\n",
       "</tr>\n",
       "<tr>\n",
       "  <th>Foundation_Stone</th>           <td> 1.985e+04</td> <td> 1.35e+04</td> <td>    1.467</td> <td> 0.143</td> <td>-6725.810</td> <td> 4.64e+04</td>\n",
       "</tr>\n",
       "<tr>\n",
       "  <th>Foundation_Wood</th>            <td> 8178.7459</td> <td> 1.78e+04</td> <td>    0.460</td> <td> 0.646</td> <td>-2.68e+04</td> <td> 4.31e+04</td>\n",
       "</tr>\n",
       "<tr>\n",
       "  <th>BsmtQual_Ex</th>                <td> 1.059e+04</td> <td> 3858.841</td> <td>    2.745</td> <td> 0.006</td> <td> 3015.055</td> <td> 1.82e+04</td>\n",
       "</tr>\n",
       "<tr>\n",
       "  <th>BsmtQual_Fa</th>                <td> 5950.9007</td> <td> 4680.071</td> <td>    1.272</td> <td> 0.204</td> <td>-3240.888</td> <td> 1.51e+04</td>\n",
       "</tr>\n",
       "<tr>\n",
       "  <th>BsmtQual_Gd</th>                <td>-4721.2131</td> <td> 2649.446</td> <td>   -1.782</td> <td> 0.075</td> <td>-9924.797</td> <td>  482.371</td>\n",
       "</tr>\n",
       "<tr>\n",
       "  <th>BsmtQual_NoBasement</th>        <td> 6210.7989</td> <td> 4788.193</td> <td>    1.297</td> <td> 0.195</td> <td>-3193.343</td> <td> 1.56e+04</td>\n",
       "</tr>\n",
       "<tr>\n",
       "  <th>BsmtQual_TA</th>                <td>-3341.2631</td> <td> 2667.901</td> <td>   -1.252</td> <td> 0.211</td> <td>-8581.094</td> <td> 1898.568</td>\n",
       "</tr>\n",
       "<tr>\n",
       "  <th>BsmtCond_Fa</th>                <td>-3291.4378</td> <td> 5846.075</td> <td>   -0.563</td> <td> 0.574</td> <td>-1.48e+04</td> <td> 8190.414</td>\n",
       "</tr>\n",
       "<tr>\n",
       "  <th>BsmtCond_Gd</th>                <td> 5580.0739</td> <td> 5676.955</td> <td>    0.983</td> <td> 0.326</td> <td>-5569.622</td> <td> 1.67e+04</td>\n",
       "</tr>\n",
       "<tr>\n",
       "  <th>BsmtCond_NoBasement</th>        <td> 6210.7989</td> <td> 4788.193</td> <td>    1.297</td> <td> 0.195</td> <td>-3193.343</td> <td> 1.56e+04</td>\n",
       "</tr>\n",
       "<tr>\n",
       "  <th>BsmtCond_Po</th>                <td>  783.9232</td> <td> 1.42e+04</td> <td>    0.055</td> <td> 0.956</td> <td>-2.71e+04</td> <td> 2.87e+04</td>\n",
       "</tr>\n",
       "<tr>\n",
       "  <th>BsmtCond_TA</th>                <td> 5409.7893</td> <td> 5093.543</td> <td>    1.062</td> <td> 0.289</td> <td>-4594.069</td> <td> 1.54e+04</td>\n",
       "</tr>\n",
       "<tr>\n",
       "  <th>BsmtExposure_Av</th>            <td> 4402.9073</td> <td> 3993.415</td> <td>    1.103</td> <td> 0.271</td> <td>-3440.270</td> <td> 1.22e+04</td>\n",
       "</tr>\n",
       "<tr>\n",
       "  <th>BsmtExposure_Gd</th>            <td> 1.558e+04</td> <td> 4480.016</td> <td>    3.478</td> <td> 0.001</td> <td> 6781.655</td> <td> 2.44e+04</td>\n",
       "</tr>\n",
       "<tr>\n",
       "  <th>BsmtExposure_Mn</th>            <td> 1747.7102</td> <td> 4238.132</td> <td>    0.412</td> <td> 0.680</td> <td>-6576.098</td> <td> 1.01e+04</td>\n",
       "</tr>\n",
       "<tr>\n",
       "  <th>BsmtExposure_No</th>            <td> 1338.8382</td> <td> 3883.285</td> <td>    0.345</td> <td> 0.730</td> <td>-6288.041</td> <td> 8965.717</td>\n",
       "</tr>\n",
       "<tr>\n",
       "  <th>BsmtExposure_NoBasement</th>    <td>-8376.8371</td> <td> 1.44e+04</td> <td>   -0.582</td> <td> 0.561</td> <td>-3.66e+04</td> <td> 1.99e+04</td>\n",
       "</tr>\n",
       "<tr>\n",
       "  <th>BsmtFinType1_ALQ</th>           <td> 1560.4130</td> <td> 2125.607</td> <td>    0.734</td> <td> 0.463</td> <td>-2614.338</td> <td> 5735.164</td>\n",
       "</tr>\n",
       "<tr>\n",
       "  <th>BsmtFinType1_BLQ</th>           <td>  643.8489</td> <td> 2400.985</td> <td>    0.268</td> <td> 0.789</td> <td>-4071.751</td> <td> 5359.448</td>\n",
       "</tr>\n",
       "<tr>\n",
       "  <th>BsmtFinType1_GLQ</th>           <td> 8507.6458</td> <td> 2295.126</td> <td>    3.707</td> <td> 0.000</td> <td> 3999.955</td> <td>  1.3e+04</td>\n",
       "</tr>\n",
       "<tr>\n",
       "  <th>BsmtFinType1_LwQ</th>           <td>-6081.1854</td> <td> 3510.371</td> <td>   -1.732</td> <td> 0.084</td> <td> -1.3e+04</td> <td>  813.279</td>\n",
       "</tr>\n",
       "<tr>\n",
       "  <th>BsmtFinType1_NoBasement</th>    <td> 6210.7989</td> <td> 4788.193</td> <td>    1.297</td> <td> 0.195</td> <td>-3193.343</td> <td> 1.56e+04</td>\n",
       "</tr>\n",
       "<tr>\n",
       "  <th>BsmtFinType1_Rec</th>           <td> 3200.6537</td> <td> 2615.073</td> <td>    1.224</td> <td> 0.221</td> <td>-1935.421</td> <td> 8336.728</td>\n",
       "</tr>\n",
       "<tr>\n",
       "  <th>BsmtFinType1_Unf</th>           <td>  650.9726</td> <td> 2317.403</td> <td>    0.281</td> <td> 0.779</td> <td>-3900.471</td> <td> 5202.416</td>\n",
       "</tr>\n",
       "<tr>\n",
       "  <th>BsmtFinType2_ALQ</th>           <td> 2111.3044</td> <td> 1.37e+04</td> <td>    0.154</td> <td> 0.878</td> <td>-2.49e+04</td> <td> 2.91e+04</td>\n",
       "</tr>\n",
       "<tr>\n",
       "  <th>BsmtFinType2_BLQ</th>           <td>-3399.9170</td> <td> 5346.568</td> <td>   -0.636</td> <td> 0.525</td> <td>-1.39e+04</td> <td> 7100.889</td>\n",
       "</tr>\n",
       "<tr>\n",
       "  <th>BsmtFinType2_GLQ</th>           <td> 1.027e+04</td> <td> 9377.348</td> <td>    1.096</td> <td> 0.274</td> <td>-8144.177</td> <td> 2.87e+04</td>\n",
       "</tr>\n",
       "<tr>\n",
       "  <th>BsmtFinType2_LwQ</th>           <td> -606.9556</td> <td> 5200.326</td> <td>   -0.117</td> <td> 0.907</td> <td>-1.08e+04</td> <td> 9606.627</td>\n",
       "</tr>\n",
       "<tr>\n",
       "  <th>BsmtFinType2_NoBasement</th>    <td> 6210.7989</td> <td> 4788.193</td> <td>    1.297</td> <td> 0.195</td> <td>-3193.343</td> <td> 1.56e+04</td>\n",
       "</tr>\n",
       "<tr>\n",
       "  <th>BsmtFinType2_Rec</th>           <td>-2409.8475</td> <td> 5390.860</td> <td>   -0.447</td> <td> 0.655</td> <td> -1.3e+04</td> <td> 8177.948</td>\n",
       "</tr>\n",
       "<tr>\n",
       "  <th>BsmtFinType2_Unf</th>           <td> 2514.5724</td> <td> 5695.404</td> <td>    0.442</td> <td> 0.659</td> <td>-8671.358</td> <td> 1.37e+04</td>\n",
       "</tr>\n",
       "<tr>\n",
       "  <th>Heating_Floor</th>              <td> 3248.7275</td> <td> 2.11e+04</td> <td>    0.154</td> <td> 0.878</td> <td>-3.82e+04</td> <td> 4.47e+04</td>\n",
       "</tr>\n",
       "<tr>\n",
       "  <th>Heating_GasA</th>               <td>-1334.2490</td> <td> 8599.202</td> <td>   -0.155</td> <td> 0.877</td> <td>-1.82e+04</td> <td> 1.56e+04</td>\n",
       "</tr>\n",
       "<tr>\n",
       "  <th>Heating_GasW</th>               <td>-1.079e+04</td> <td> 1.41e+04</td> <td>   -0.763</td> <td> 0.446</td> <td>-3.85e+04</td> <td>  1.7e+04</td>\n",
       "</tr>\n",
       "<tr>\n",
       "  <th>Heating_Grav</th>               <td>-5313.8777</td> <td> 1.33e+04</td> <td>   -0.398</td> <td> 0.691</td> <td>-3.15e+04</td> <td> 2.09e+04</td>\n",
       "</tr>\n",
       "<tr>\n",
       "  <th>Heating_OthW</th>               <td>-7.183e-13</td> <td> 8.15e-13</td> <td>   -0.882</td> <td> 0.378</td> <td>-2.32e-12</td> <td> 8.82e-13</td>\n",
       "</tr>\n",
       "<tr>\n",
       "  <th>Heating_Wall</th>               <td> 2.888e+04</td> <td> 2.01e+04</td> <td>    1.437</td> <td> 0.151</td> <td>-1.06e+04</td> <td> 6.84e+04</td>\n",
       "</tr>\n",
       "<tr>\n",
       "  <th>HeatingQC_Ex</th>               <td> 4733.5333</td> <td> 2077.789</td> <td>    2.278</td> <td> 0.023</td> <td>  652.699</td> <td> 8814.367</td>\n",
       "</tr>\n",
       "<tr>\n",
       "  <th>HeatingQC_Fa</th>               <td> 4751.5464</td> <td> 4071.503</td> <td>    1.167</td> <td> 0.244</td> <td>-3244.998</td> <td> 1.27e+04</td>\n",
       "</tr>\n",
       "<tr>\n",
       "  <th>HeatingQC_Gd</th>               <td> 2107.4476</td> <td> 2128.598</td> <td>    0.990</td> <td> 0.323</td> <td>-2073.178</td> <td> 6288.073</td>\n",
       "</tr>\n",
       "<tr>\n",
       "  <th>HeatingQC_Po</th>               <td>         0</td> <td>        0</td> <td>      nan</td> <td>   nan</td> <td>        0</td> <td>        0</td>\n",
       "</tr>\n",
       "<tr>\n",
       "  <th>HeatingQC_TA</th>               <td> 3100.6203</td> <td> 1930.609</td> <td>    1.606</td> <td> 0.109</td> <td> -691.149</td> <td> 6892.390</td>\n",
       "</tr>\n",
       "<tr>\n",
       "  <th>CentralAir_N</th>               <td> 7509.8997</td> <td> 2908.574</td> <td>    2.582</td> <td> 0.010</td> <td> 1797.381</td> <td> 1.32e+04</td>\n",
       "</tr>\n",
       "<tr>\n",
       "  <th>CentralAir_Y</th>               <td> 7183.2478</td> <td> 3200.923</td> <td>    2.244</td> <td> 0.025</td> <td>  896.547</td> <td> 1.35e+04</td>\n",
       "</tr>\n",
       "<tr>\n",
       "  <th>Electrical_FuseA</th>           <td> 2234.2667</td> <td> 6945.784</td> <td>    0.322</td> <td> 0.748</td> <td>-1.14e+04</td> <td> 1.59e+04</td>\n",
       "</tr>\n",
       "<tr>\n",
       "  <th>Electrical_FuseF</th>           <td> 2398.1848</td> <td> 8555.143</td> <td>    0.280</td> <td> 0.779</td> <td>-1.44e+04</td> <td> 1.92e+04</td>\n",
       "</tr>\n",
       "<tr>\n",
       "  <th>Electrical_FuseP</th>           <td> 7259.9459</td> <td> 1.83e+04</td> <td>    0.396</td> <td> 0.692</td> <td>-2.87e+04</td> <td> 4.33e+04</td>\n",
       "</tr>\n",
       "<tr>\n",
       "  <th>Electrical_Mix</th>             <td> 1500.8793</td> <td> 1.46e+04</td> <td>    0.103</td> <td> 0.918</td> <td>-2.72e+04</td> <td> 3.02e+04</td>\n",
       "</tr>\n",
       "<tr>\n",
       "  <th>Electrical_SBrkr</th>           <td> 1299.8708</td> <td> 6569.504</td> <td>    0.198</td> <td> 0.843</td> <td>-1.16e+04</td> <td> 1.42e+04</td>\n",
       "</tr>\n",
       "<tr>\n",
       "  <th>KitchenQual_Ex</th>             <td> 1.567e+04</td> <td> 3580.947</td> <td>    4.377</td> <td> 0.000</td> <td> 8639.082</td> <td> 2.27e+04</td>\n",
       "</tr>\n",
       "<tr>\n",
       "  <th>KitchenQual_Fa</th>             <td>-1797.1862</td> <td> 5056.128</td> <td>   -0.355</td> <td> 0.722</td> <td>-1.17e+04</td> <td> 8133.189</td>\n",
       "</tr>\n",
       "<tr>\n",
       "  <th>KitchenQual_Gd</th>             <td>  335.5217</td> <td> 2399.908</td> <td>    0.140</td> <td> 0.889</td> <td>-4377.964</td> <td> 5049.007</td>\n",
       "</tr>\n",
       "<tr>\n",
       "  <th>KitchenQual_TA</th>             <td>  482.6516</td> <td> 2235.868</td> <td>    0.216</td> <td> 0.829</td> <td>-3908.655</td> <td> 4873.958</td>\n",
       "</tr>\n",
       "<tr>\n",
       "  <th>Functional_Maj1</th>            <td>-6800.2404</td> <td> 8421.156</td> <td>   -0.808</td> <td> 0.420</td> <td>-2.33e+04</td> <td> 9739.141</td>\n",
       "</tr>\n",
       "<tr>\n",
       "  <th>Functional_Maj2</th>            <td> 1500.8793</td> <td> 1.46e+04</td> <td>    0.103</td> <td> 0.918</td> <td>-2.72e+04</td> <td> 3.02e+04</td>\n",
       "</tr>\n",
       "<tr>\n",
       "  <th>Functional_Min1</th>            <td> 7754.1315</td> <td> 5731.617</td> <td>    1.353</td> <td> 0.177</td> <td>-3502.920</td> <td>  1.9e+04</td>\n",
       "</tr>\n",
       "<tr>\n",
       "  <th>Functional_Min2</th>            <td>  1.38e+04</td> <td> 6213.081</td> <td>    2.221</td> <td> 0.027</td> <td> 1599.236</td> <td>  2.6e+04</td>\n",
       "</tr>\n",
       "<tr>\n",
       "  <th>Functional_Mod</th>             <td>-2.199e+04</td> <td> 8836.201</td> <td>   -2.489</td> <td> 0.013</td> <td>-3.93e+04</td> <td>-4640.019</td>\n",
       "</tr>\n",
       "<tr>\n",
       "  <th>Functional_Sev</th>             <td>         0</td> <td>        0</td> <td>      nan</td> <td>   nan</td> <td>        0</td> <td>        0</td>\n",
       "</tr>\n",
       "<tr>\n",
       "  <th>Functional_Typ</th>             <td> 2.043e+04</td> <td> 4385.386</td> <td>    4.659</td> <td> 0.000</td> <td> 1.18e+04</td> <td>  2.9e+04</td>\n",
       "</tr>\n",
       "<tr>\n",
       "  <th>FireplaceQu_Ex</th>             <td>-1.181e+04</td> <td> 7892.619</td> <td>   -1.496</td> <td> 0.135</td> <td>-2.73e+04</td> <td> 3695.597</td>\n",
       "</tr>\n",
       "<tr>\n",
       "  <th>FireplaceQu_Fa</th>             <td> -683.4887</td> <td> 4534.019</td> <td>   -0.151</td> <td> 0.880</td> <td>-9588.426</td> <td> 8221.449</td>\n",
       "</tr>\n",
       "<tr>\n",
       "  <th>FireplaceQu_Gd</th>             <td> 5523.9080</td> <td> 2633.465</td> <td>    2.098</td> <td> 0.036</td> <td>  351.711</td> <td> 1.07e+04</td>\n",
       "</tr>\n",
       "<tr>\n",
       "  <th>FireplaceQu_NoFireplace</th>    <td> 2441.0695</td> <td> 4066.257</td> <td>    0.600</td> <td> 0.549</td> <td>-5545.171</td> <td> 1.04e+04</td>\n",
       "</tr>\n",
       "<tr>\n",
       "  <th>FireplaceQu_Po</th>             <td>  1.55e+04</td> <td> 5822.952</td> <td>    2.661</td> <td> 0.008</td> <td> 4058.931</td> <td> 2.69e+04</td>\n",
       "</tr>\n",
       "<tr>\n",
       "  <th>FireplaceQu_TA</th>             <td> 3722.0125</td> <td> 2648.087</td> <td>    1.406</td> <td> 0.160</td> <td>-1478.902</td> <td> 8922.927</td>\n",
       "</tr>\n",
       "<tr>\n",
       "  <th>GarageType_2Types</th>          <td>         0</td> <td>        0</td> <td>      nan</td> <td>   nan</td> <td>        0</td> <td>        0</td>\n",
       "</tr>\n",
       "<tr>\n",
       "  <th>GarageType_Attchd</th>          <td> -640.6878</td> <td> 7653.555</td> <td>   -0.084</td> <td> 0.933</td> <td>-1.57e+04</td> <td> 1.44e+04</td>\n",
       "</tr>\n",
       "<tr>\n",
       "  <th>GarageType_Basment</th>         <td> 9122.8215</td> <td>    1e+04</td> <td>    0.908</td> <td> 0.364</td> <td>-1.06e+04</td> <td> 2.89e+04</td>\n",
       "</tr>\n",
       "<tr>\n",
       "  <th>GarageType_BuiltIn</th>         <td> 1301.2891</td> <td> 8143.120</td> <td>    0.160</td> <td> 0.873</td> <td>-1.47e+04</td> <td> 1.73e+04</td>\n",
       "</tr>\n",
       "<tr>\n",
       "  <th>GarageType_CarPort</th>         <td>-2548.5910</td> <td> 3.22e+04</td> <td>   -0.079</td> <td> 0.937</td> <td>-6.58e+04</td> <td> 6.07e+04</td>\n",
       "</tr>\n",
       "<tr>\n",
       "  <th>GarageType_Detchd</th>          <td> 2382.5604</td> <td> 7859.066</td> <td>    0.303</td> <td> 0.762</td> <td>-1.31e+04</td> <td> 1.78e+04</td>\n",
       "</tr>\n",
       "<tr>\n",
       "  <th>GarageType_NoGarage</th>        <td> 5075.7554</td> <td> 2130.833</td> <td>    2.382</td> <td> 0.018</td> <td>  890.741</td> <td> 9260.770</td>\n",
       "</tr>\n",
       "<tr>\n",
       "  <th>GarageFinish_Fin</th>           <td> 1676.1932</td> <td> 1779.567</td> <td>    0.942</td> <td> 0.347</td> <td>-1818.924</td> <td> 5171.311</td>\n",
       "</tr>\n",
       "<tr>\n",
       "  <th>GarageFinish_NoGarage</th>      <td> 5075.7554</td> <td> 2130.833</td> <td>    2.382</td> <td> 0.018</td> <td>  890.741</td> <td> 9260.770</td>\n",
       "</tr>\n",
       "<tr>\n",
       "  <th>GarageFinish_RFn</th>           <td> 3954.7619</td> <td> 1629.576</td> <td>    2.427</td> <td> 0.016</td> <td>  754.231</td> <td> 7155.293</td>\n",
       "</tr>\n",
       "<tr>\n",
       "  <th>GarageFinish_Unf</th>           <td> 3986.4370</td> <td> 1890.199</td> <td>    2.109</td> <td> 0.035</td> <td>  274.034</td> <td> 7698.840</td>\n",
       "</tr>\n",
       "<tr>\n",
       "  <th>GarageQual_Ex</th>              <td> 9953.2707</td> <td> 6473.593</td> <td>    1.538</td> <td> 0.125</td> <td>-2761.043</td> <td> 2.27e+04</td>\n",
       "</tr>\n",
       "<tr>\n",
       "  <th>GarageQual_Fa</th>              <td> 1814.9172</td> <td> 8187.021</td> <td>    0.222</td> <td> 0.825</td> <td>-1.43e+04</td> <td> 1.79e+04</td>\n",
       "</tr>\n",
       "<tr>\n",
       "  <th>GarageQual_Gd</th>              <td> 1.603e+04</td> <td> 1.09e+04</td> <td>    1.473</td> <td> 0.141</td> <td>-5338.442</td> <td> 3.74e+04</td>\n",
       "</tr>\n",
       "<tr>\n",
       "  <th>GarageQual_NoGarage</th>        <td> 5075.7554</td> <td> 2130.833</td> <td>    2.382</td> <td> 0.018</td> <td>  890.741</td> <td> 9260.770</td>\n",
       "</tr>\n",
       "<tr>\n",
       "  <th>GarageQual_Po</th>              <td>-2.828e+04</td> <td> 2.52e+04</td> <td>   -1.122</td> <td> 0.262</td> <td>-7.78e+04</td> <td> 2.12e+04</td>\n",
       "</tr>\n",
       "<tr>\n",
       "  <th>GarageQual_TA</th>              <td> 1.009e+04</td> <td> 8382.175</td> <td>    1.204</td> <td> 0.229</td> <td>-6369.051</td> <td> 2.66e+04</td>\n",
       "</tr>\n",
       "<tr>\n",
       "  <th>GarageCond_Ex</th>              <td> 9953.2707</td> <td> 6473.593</td> <td>    1.538</td> <td> 0.125</td> <td>-2761.043</td> <td> 2.27e+04</td>\n",
       "</tr>\n",
       "<tr>\n",
       "  <th>GarageCond_Fa</th>              <td>-6572.7075</td> <td> 7170.397</td> <td>   -0.917</td> <td> 0.360</td> <td>-2.07e+04</td> <td> 7510.149</td>\n",
       "</tr>\n",
       "<tr>\n",
       "  <th>GarageCond_Gd</th>              <td>-4922.3594</td> <td> 1.04e+04</td> <td>   -0.475</td> <td> 0.635</td> <td>-2.53e+04</td> <td> 1.54e+04</td>\n",
       "</tr>\n",
       "<tr>\n",
       "  <th>GarageCond_NoGarage</th>        <td> 5075.7554</td> <td> 2130.833</td> <td>    2.382</td> <td> 0.018</td> <td>  890.741</td> <td> 9260.770</td>\n",
       "</tr>\n",
       "<tr>\n",
       "  <th>GarageCond_Po</th>              <td> 1.125e+04</td> <td> 1.65e+04</td> <td>    0.684</td> <td> 0.494</td> <td>-2.11e+04</td> <td> 4.36e+04</td>\n",
       "</tr>\n",
       "<tr>\n",
       "  <th>GarageCond_TA</th>              <td>  -92.3146</td> <td> 6637.136</td> <td>   -0.014</td> <td> 0.989</td> <td>-1.31e+04</td> <td> 1.29e+04</td>\n",
       "</tr>\n",
       "<tr>\n",
       "  <th>PavedDrive_N</th>               <td> 1.081e+04</td> <td> 3145.067</td> <td>    3.438</td> <td> 0.001</td> <td> 4635.145</td> <td>  1.7e+04</td>\n",
       "</tr>\n",
       "<tr>\n",
       "  <th>PavedDrive_P</th>               <td>-3900.1136</td> <td> 4067.697</td> <td>   -0.959</td> <td> 0.338</td> <td>-1.19e+04</td> <td> 4088.954</td>\n",
       "</tr>\n",
       "<tr>\n",
       "  <th>PavedDrive_Y</th>               <td> 7781.1186</td> <td> 2623.543</td> <td>    2.966</td> <td> 0.003</td> <td> 2628.408</td> <td> 1.29e+04</td>\n",
       "</tr>\n",
       "<tr>\n",
       "  <th>PoolQC_Ex</th>                  <td>         0</td> <td>        0</td> <td>      nan</td> <td>   nan</td> <td>        0</td> <td>        0</td>\n",
       "</tr>\n",
       "<tr>\n",
       "  <th>PoolQC_Fa</th>                  <td>         0</td> <td>        0</td> <td>      nan</td> <td>   nan</td> <td>        0</td> <td>        0</td>\n",
       "</tr>\n",
       "<tr>\n",
       "  <th>PoolQC_Gd</th>                  <td>         0</td> <td>        0</td> <td>      nan</td> <td>   nan</td> <td>        0</td> <td>        0</td>\n",
       "</tr>\n",
       "<tr>\n",
       "  <th>PoolQC_NoPool</th>              <td> 1.469e+04</td> <td> 2409.351</td> <td>    6.098</td> <td> 0.000</td> <td> 9961.117</td> <td> 1.94e+04</td>\n",
       "</tr>\n",
       "<tr>\n",
       "  <th>Fence_GdPrv</th>                <td> 3258.2861</td> <td> 3850.588</td> <td>    0.846</td> <td> 0.398</td> <td>-4304.374</td> <td> 1.08e+04</td>\n",
       "</tr>\n",
       "<tr>\n",
       "  <th>Fence_GdWo</th>                 <td> 5197.8609</td> <td> 3516.841</td> <td>    1.478</td> <td> 0.140</td> <td>-1709.311</td> <td> 1.21e+04</td>\n",
       "</tr>\n",
       "<tr>\n",
       "  <th>Fence_MnPrv</th>                <td> 7856.2307</td> <td> 2883.761</td> <td>    2.724</td> <td> 0.007</td> <td> 2192.445</td> <td> 1.35e+04</td>\n",
       "</tr>\n",
       "<tr>\n",
       "  <th>Fence_MnWw</th>                 <td>-6836.3852</td> <td> 7243.289</td> <td>   -0.944</td> <td> 0.346</td> <td>-2.11e+04</td> <td> 7389.633</td>\n",
       "</tr>\n",
       "<tr>\n",
       "  <th>Fence_NoFence</th>              <td> 5217.1550</td> <td> 2380.898</td> <td>    2.191</td> <td> 0.029</td> <td>  541.006</td> <td> 9893.304</td>\n",
       "</tr>\n",
       "<tr>\n",
       "  <th>MiscFeature_Gar2</th>           <td>         0</td> <td>        0</td> <td>      nan</td> <td>   nan</td> <td>        0</td> <td>        0</td>\n",
       "</tr>\n",
       "<tr>\n",
       "  <th>MiscFeature_None</th>           <td> 3904.7977</td> <td> 5392.797</td> <td>    0.724</td> <td> 0.469</td> <td>-6686.804</td> <td> 1.45e+04</td>\n",
       "</tr>\n",
       "<tr>\n",
       "  <th>MiscFeature_Othr</th>           <td>         0</td> <td>        0</td> <td>      nan</td> <td>   nan</td> <td>        0</td> <td>        0</td>\n",
       "</tr>\n",
       "<tr>\n",
       "  <th>MiscFeature_Shed</th>           <td> 1.079e+04</td> <td> 5606.844</td> <td>    1.924</td> <td> 0.055</td> <td> -223.646</td> <td> 2.18e+04</td>\n",
       "</tr>\n",
       "<tr>\n",
       "  <th>MiscFeature_TenC</th>           <td>         0</td> <td>        0</td> <td>      nan</td> <td>   nan</td> <td>        0</td> <td>        0</td>\n",
       "</tr>\n",
       "<tr>\n",
       "  <th>MoSold_1</th>                   <td>-3510.5855</td> <td> 3681.839</td> <td>   -0.953</td> <td> 0.341</td> <td>-1.07e+04</td> <td> 3720.647</td>\n",
       "</tr>\n",
       "<tr>\n",
       "  <th>MoSold_10</th>                  <td> 1066.8982</td> <td> 3003.485</td> <td>    0.355</td> <td> 0.723</td> <td>-4832.028</td> <td> 6965.825</td>\n",
       "</tr>\n",
       "<tr>\n",
       "  <th>MoSold_11</th>                  <td> 1259.5102</td> <td> 3079.835</td> <td>    0.409</td> <td> 0.683</td> <td>-4789.370</td> <td> 7308.391</td>\n",
       "</tr>\n",
       "<tr>\n",
       "  <th>MoSold_12</th>                  <td> 4367.3559</td> <td> 3282.055</td> <td>    1.331</td> <td> 0.184</td> <td>-2078.689</td> <td> 1.08e+04</td>\n",
       "</tr>\n",
       "<tr>\n",
       "  <th>MoSold_2</th>                   <td>-1568.5025</td> <td> 3331.481</td> <td>   -0.471</td> <td> 0.638</td> <td>-8111.622</td> <td> 4974.617</td>\n",
       "</tr>\n",
       "<tr>\n",
       "  <th>MoSold_3</th>                   <td> 2869.7986</td> <td> 2553.912</td> <td>    1.124</td> <td> 0.262</td> <td>-2146.154</td> <td> 7885.751</td>\n",
       "</tr>\n",
       "<tr>\n",
       "  <th>MoSold_4</th>                   <td> 2004.9677</td> <td> 2116.228</td> <td>    0.947</td> <td> 0.344</td> <td>-2151.361</td> <td> 6161.297</td>\n",
       "</tr>\n",
       "<tr>\n",
       "  <th>MoSold_5</th>                   <td> 4561.5470</td> <td> 1994.650</td> <td>    2.287</td> <td> 0.023</td> <td>  644.000</td> <td> 8479.094</td>\n",
       "</tr>\n",
       "<tr>\n",
       "  <th>MoSold_6</th>                   <td>  883.4318</td> <td> 1741.262</td> <td>    0.507</td> <td> 0.612</td> <td>-2536.455</td> <td> 4303.319</td>\n",
       "</tr>\n",
       "<tr>\n",
       "  <th>MoSold_7</th>                   <td>   53.7759</td> <td> 1829.812</td> <td>    0.029</td> <td> 0.977</td> <td>-3540.025</td> <td> 3647.577</td>\n",
       "</tr>\n",
       "<tr>\n",
       "  <th>MoSold_8</th>                   <td> 2113.1257</td> <td> 2348.544</td> <td>    0.900</td> <td> 0.369</td> <td>-2499.479</td> <td> 6725.730</td>\n",
       "</tr>\n",
       "<tr>\n",
       "  <th>MoSold_9</th>                   <td>  591.8245</td> <td> 3359.171</td> <td>    0.176</td> <td> 0.860</td> <td>-6005.680</td> <td> 7189.329</td>\n",
       "</tr>\n",
       "<tr>\n",
       "  <th>SaleType_COD</th>               <td> 3600.6778</td> <td> 6132.939</td> <td>    0.587</td> <td> 0.557</td> <td>-8444.582</td> <td> 1.56e+04</td>\n",
       "</tr>\n",
       "<tr>\n",
       "  <th>SaleType_CWD</th>               <td> 3.555e+04</td> <td> 1.29e+04</td> <td>    2.758</td> <td> 0.006</td> <td> 1.02e+04</td> <td> 6.09e+04</td>\n",
       "</tr>\n",
       "<tr>\n",
       "  <th>SaleType_Con</th>               <td>         0</td> <td>        0</td> <td>      nan</td> <td>   nan</td> <td>        0</td> <td>        0</td>\n",
       "</tr>\n",
       "<tr>\n",
       "  <th>SaleType_ConLD</th>             <td> 1527.3378</td> <td> 1.13e+04</td> <td>    0.135</td> <td> 0.893</td> <td>-2.07e+04</td> <td> 2.37e+04</td>\n",
       "</tr>\n",
       "<tr>\n",
       "  <th>SaleType_ConLI</th>             <td>-7406.7678</td> <td> 1.09e+04</td> <td>   -0.679</td> <td> 0.497</td> <td>-2.88e+04</td> <td>  1.4e+04</td>\n",
       "</tr>\n",
       "<tr>\n",
       "  <th>SaleType_ConLw</th>             <td>   90.6107</td> <td> 1.34e+04</td> <td>    0.007</td> <td> 0.995</td> <td>-2.63e+04</td> <td> 2.65e+04</td>\n",
       "</tr>\n",
       "<tr>\n",
       "  <th>SaleType_New</th>               <td>-2.171e+04</td> <td> 1.76e+04</td> <td>   -1.234</td> <td> 0.218</td> <td>-5.63e+04</td> <td> 1.28e+04</td>\n",
       "</tr>\n",
       "<tr>\n",
       "  <th>SaleType_Oth</th>               <td> 3270.8102</td> <td> 1.33e+04</td> <td>    0.247</td> <td> 0.805</td> <td>-2.28e+04</td> <td> 2.93e+04</td>\n",
       "</tr>\n",
       "<tr>\n",
       "  <th>SaleType_WD</th>                <td> -227.1046</td> <td> 4636.181</td> <td>   -0.049</td> <td> 0.961</td> <td>-9332.691</td> <td> 8878.482</td>\n",
       "</tr>\n",
       "<tr>\n",
       "  <th>SaleCondition_Abnorml</th>      <td>-3552.5484</td> <td> 6275.776</td> <td>   -0.566</td> <td> 0.572</td> <td>-1.59e+04</td> <td> 8773.247</td>\n",
       "</tr>\n",
       "<tr>\n",
       "  <th>SaleCondition_AdjLand</th>      <td> 3.133e+04</td> <td> 1.54e+04</td> <td>    2.034</td> <td> 0.042</td> <td> 1084.571</td> <td> 6.16e+04</td>\n",
       "</tr>\n",
       "<tr>\n",
       "  <th>SaleCondition_Alloca</th>       <td>-5.605e+04</td> <td> 2.11e+04</td> <td>   -2.659</td> <td> 0.008</td> <td>-9.75e+04</td> <td>-1.46e+04</td>\n",
       "</tr>\n",
       "<tr>\n",
       "  <th>SaleCondition_Family</th>       <td> 1576.1874</td> <td> 7913.438</td> <td>    0.199</td> <td> 0.842</td> <td> -1.4e+04</td> <td> 1.71e+04</td>\n",
       "</tr>\n",
       "<tr>\n",
       "  <th>SaleCondition_Normal</th>       <td> 5768.2010</td> <td> 5890.395</td> <td>    0.979</td> <td> 0.328</td> <td>-5800.697</td> <td> 1.73e+04</td>\n",
       "</tr>\n",
       "<tr>\n",
       "  <th>SaleCondition_Partial</th>      <td> 3.562e+04</td> <td> 1.71e+04</td> <td>    2.089</td> <td> 0.037</td> <td> 2127.399</td> <td> 6.91e+04</td>\n",
       "</tr>\n",
       "</table>\n",
       "<table class=\"simpletable\">\n",
       "<tr>\n",
       "  <th>Omnibus:</th>       <td>171.635</td> <th>  Durbin-Watson:     </th> <td>   2.022</td>\n",
       "</tr>\n",
       "<tr>\n",
       "  <th>Prob(Omnibus):</th> <td> 0.000</td>  <th>  Jarque-Bera (JB):  </th> <td>3868.648</td>\n",
       "</tr>\n",
       "<tr>\n",
       "  <th>Skew:</th>          <td>-0.265</td>  <th>  Prob(JB):          </th> <td>    0.00</td>\n",
       "</tr>\n",
       "<tr>\n",
       "  <th>Kurtosis:</th>      <td>13.544</td>  <th>  Cond. No.          </th> <td>2.63e+16</td>\n",
       "</tr>\n",
       "</table><br/><br/>Notes:<br/>[1] Standard Errors assume that the covariance matrix of the errors is correctly specified.<br/>[2] The smallest eigenvalue is 3.63e-29. This might indicate that there are<br/>strong multicollinearity problems or that the design matrix is singular."
      ],
      "text/plain": [
       "<class 'statsmodels.iolib.summary.Summary'>\n",
       "\"\"\"\n",
       "                            OLS Regression Results                            \n",
       "==============================================================================\n",
       "Dep. Variable:              SalePrice   R-squared:                       0.952\n",
       "Model:                            OLS   Adj. R-squared:                  0.932\n",
       "Method:                 Least Squares   F-statistic:                     46.94\n",
       "Date:                Thu, 30 Jun 2022   Prob (F-statistic):          5.30e-281\n",
       "Time:                        10:55:05   Log-Likelihood:                -9153.7\n",
       "No. Observations:                 833   AIC:                         1.880e+04\n",
       "Df Residuals:                     585   BIC:                         1.998e+04\n",
       "Df Model:                         247                                         \n",
       "Covariance Type:            nonrobust                                         \n",
       "==============================================================================================\n",
       "                                 coef    std err          t      P>|t|      [0.025      0.975]\n",
       "----------------------------------------------------------------------------------------------\n",
       "LotFrontage                -1599.6653   1326.431     -1.206      0.228   -4204.812    1005.482\n",
       "LotArea                     1.197e+04   3255.629      3.677      0.000    5575.613    1.84e+04\n",
       "YearBuilt                   1.181e+04   3386.988      3.486      0.001    5156.415    1.85e+04\n",
       "YearRemodAdd                1000.7068   1424.107      0.703      0.483   -1796.279    3797.692\n",
       "MasVnrArea                   -75.4542   1763.042     -0.043      0.966   -3538.117    3387.209\n",
       "BsmtFinSF1                  7194.9542   1355.227      5.309      0.000    4533.251    9856.658\n",
       "BsmtFinSF2                  2088.6345   3157.291      0.662      0.509   -4112.372    8289.641\n",
       "BsmtUnfSF                   1754.3769   1243.086      1.411      0.159    -687.078    4195.832\n",
       "TotalBsmtSF                 1.002e+04   1953.053      5.128      0.000    6179.399    1.39e+04\n",
       "1stFlrSF                    4737.8928   2134.589      2.220      0.027     545.501    8930.285\n",
       "2ndFlrSF                    1.488e+04   2236.403      6.654      0.000    1.05e+04    1.93e+04\n",
       "LowQualFinSF                -704.6273   7657.310     -0.092      0.927   -1.57e+04    1.43e+04\n",
       "GrLivArea                   1.578e+04   1643.957      9.601      0.000    1.26e+04     1.9e+04\n",
       "BsmtFullBath                 762.9403   1119.133      0.682      0.496   -1435.067    2960.948\n",
       "BsmtHalfBath               -3541.9454    580.801     -6.098      0.000   -4682.654   -2401.237\n",
       "FullBath                    2202.7851   1525.697      1.444      0.149    -793.725    5199.296\n",
       "HalfBath                     303.9962   1287.926      0.236      0.813   -2225.525    2833.517\n",
       "BedroomAbvGr                -730.8761   1449.876     -0.504      0.614   -3578.473    2116.721\n",
       "KitchenAbvGr               -3106.9187    509.466     -6.098      0.000   -4107.524   -2106.314\n",
       "TotRmsAbvGrd                -109.3893   1875.019     -0.058      0.953   -3791.977    3573.199\n",
       "Fireplaces                   918.0515   2230.963      0.412      0.681   -3463.620    5299.723\n",
       "GarageYrBlt                -1540.9745   1697.121     -0.908      0.364   -4874.166    1792.217\n",
       "GarageCars                  3778.5407   1889.413      2.000      0.046      67.682    7489.399\n",
       "GarageArea                  3588.7778   1881.130      1.908      0.057    -105.812    7283.368\n",
       "WoodDeckSF                  3646.6899    901.059      4.047      0.000    1876.985    5416.395\n",
       "OpenPorchSF                 2708.1269   1064.460      2.544      0.011     617.499    4798.755\n",
       "EnclosedPorch               1037.6610   1143.870      0.907      0.365   -1208.931    3284.253\n",
       "3SsnPorch                  -1.737e+04   2.42e+04     -0.717      0.474    -6.5e+04    3.02e+04\n",
       "ScreenPorch                 2361.1760   1366.646      1.728      0.085    -322.954    5045.306\n",
       "PoolArea                   -1009.2980    165.503     -6.098      0.000   -1334.349    -684.247\n",
       "MiscVal                    -2450.4314   8707.561     -0.281      0.778   -1.96e+04    1.47e+04\n",
       "YrSold                      -607.8877    757.359     -0.803      0.423   -2095.362     879.587\n",
       "MSSubClass_120              6957.2039   1.01e+04      0.688      0.492   -1.29e+04    2.68e+04\n",
       "MSSubClass_160              2611.8768   1.47e+04      0.177      0.859   -2.63e+04    3.15e+04\n",
       "MSSubClass_180             -5884.5439    1.7e+04     -0.346      0.729   -3.93e+04    2.75e+04\n",
       "MSSubClass_190              8413.6725      3e+04      0.280      0.779   -5.05e+04    6.73e+04\n",
       "MSSubClass_20               2745.0026   8948.278      0.307      0.759   -1.48e+04    2.03e+04\n",
       "MSSubClass_30               3525.5667   9968.976      0.354      0.724   -1.61e+04    2.31e+04\n",
       "MSSubClass_40               1.167e+04   2.19e+04      0.532      0.595   -3.14e+04    5.48e+04\n",
       "MSSubClass_45              -9089.1573   3.14e+04     -0.290      0.772   -7.07e+04    5.26e+04\n",
       "MSSubClass_50               1.447e+04   2.62e+04      0.553      0.581    -3.7e+04    6.59e+04\n",
       "MSSubClass_60               1244.8159   1.38e+04      0.090      0.928   -2.58e+04    2.83e+04\n",
       "MSSubClass_70                372.6456   1.44e+04      0.026      0.979    -2.8e+04    2.87e+04\n",
       "MSSubClass_75              -2.477e-11   1.29e-10     -0.191      0.848   -2.79e-10     2.3e-10\n",
       "MSSubClass_80              -7628.8895   2.16e+04     -0.353      0.724      -5e+04    3.48e+04\n",
       "MSSubClass_85              -1.426e+04   1.89e+04     -0.756      0.450   -5.13e+04    2.28e+04\n",
       "MSSubClass_90               -462.5603   9907.553     -0.047      0.963   -1.99e+04     1.9e+04\n",
       "MSZoning_C (all)           -2.755e+04   1.13e+04     -2.443      0.015   -4.97e+04   -5404.529\n",
       "MSZoning_FV                 2.164e+04   6314.554      3.427      0.001    9238.913     3.4e+04\n",
       "MSZoning_RH                 7518.3963   8302.098      0.906      0.366   -8787.152    2.38e+04\n",
       "MSZoning_RL                 6089.6908   4163.938      1.462      0.144   -2088.398    1.43e+04\n",
       "MSZoning_RM                 6992.4710   4705.853      1.486      0.138   -2249.953    1.62e+04\n",
       "Street_Grvl                 1.486e+04   1.24e+04      1.196      0.232   -9550.833    3.93e+04\n",
       "Street_Pave                 -168.0557   1.16e+04     -0.015      0.988   -2.29e+04    2.26e+04\n",
       "Alley_Grvl                  8654.7895   4223.664      2.049      0.041     359.398     1.7e+04\n",
       "Alley_NoAlley               5443.1567   2715.900      2.004      0.046     109.054    1.08e+04\n",
       "Alley_Pave                   595.2013   4092.081      0.145      0.884   -7441.758    8632.160\n",
       "LotShape_IR1                8581.7297   3185.021      2.694      0.007    2326.261    1.48e+04\n",
       "LotShape_IR2                3978.8455   5185.086      0.767      0.443   -6204.806    1.42e+04\n",
       "LotShape_IR3               -7031.2971   7754.689     -0.907      0.365   -2.23e+04    8199.125\n",
       "LotShape_Reg                9163.8695   3350.410      2.735      0.006    2583.572    1.57e+04\n",
       "LandContour_Bnk             5873.7462   3984.542      1.474      0.141   -1952.004    1.37e+04\n",
       "LandContour_HLS             2326.6451   4062.764      0.573      0.567   -5652.735    1.03e+04\n",
       "LandContour_Low              650.1427   5501.834      0.118      0.906   -1.02e+04    1.15e+04\n",
       "LandContour_Lvl             5842.6135   2783.083      2.099      0.036     376.561    1.13e+04\n",
       "Utilities_AllPub            1.469e+04   2409.351      6.098      0.000    9961.117    1.94e+04\n",
       "Utilities_NoSeWa            -2.89e-11   8.61e-11     -0.336      0.737   -1.98e-10     1.4e-10\n",
       "LotConfig_Corner            8285.5658   2926.607      2.831      0.005    2537.629     1.4e+04\n",
       "LotConfig_CulDSac           1.245e+04   3582.228      3.476      0.001    5416.429    1.95e+04\n",
       "LotConfig_FR2              -1955.1371   4068.090     -0.481      0.631   -9944.977    6034.703\n",
       "LotConfig_FR3              -1.055e+04   8748.213     -1.206      0.228   -2.77e+04    6631.968\n",
       "LotConfig_Inside            6460.4578   2626.446      2.460      0.014    1302.047    1.16e+04\n",
       "LandSlope_Gtl               -474.2555   6686.084     -0.071      0.943   -1.36e+04    1.27e+04\n",
       "LandSlope_Mod               5313.6047   7140.738      0.744      0.457   -8711.000    1.93e+04\n",
       "LandSlope_Sev               9853.7983   1.34e+04      0.736      0.462   -1.64e+04    3.62e+04\n",
       "Neighborhood_Blmngtn        1.021e+04   7827.170      1.305      0.193   -5161.547    2.56e+04\n",
       "Neighborhood_Blueste       -4062.5856    1.9e+04     -0.214      0.831   -4.14e+04    3.33e+04\n",
       "Neighborhood_BrDale         3425.7832   8707.693      0.393      0.694   -1.37e+04    2.05e+04\n",
       "Neighborhood_BrkSide        1329.3392   5978.051      0.222      0.824   -1.04e+04    1.31e+04\n",
       "Neighborhood_ClearCr       -1.146e+04   8310.340     -1.379      0.168   -2.78e+04    4863.253\n",
       "Neighborhood_CollgCr       -3704.6019   3177.854     -1.166      0.244   -9945.995    2536.791\n",
       "Neighborhood_Crawfor        2.903e+04   6119.762      4.744      0.000     1.7e+04    4.11e+04\n",
       "Neighborhood_Edwards       -1.196e+04   3561.490     -3.358      0.001    -1.9e+04   -4965.324\n",
       "Neighborhood_Gilbert       -2346.7738   4225.953     -0.555      0.579   -1.06e+04    5953.114\n",
       "Neighborhood_IDOTRR        -4830.1640   7513.189     -0.643      0.521   -1.96e+04    9925.945\n",
       "Neighborhood_MeadowV       -1.296e+04   9187.344     -1.411      0.159    -3.1e+04    5080.469\n",
       "Neighborhood_Mitchel       -1.119e+04   4704.668     -2.378      0.018   -2.04e+04   -1946.757\n",
       "Neighborhood_NAmes         -4028.3291   3178.685     -1.267      0.206   -1.03e+04    2214.696\n",
       "Neighborhood_NPkVill        1.998e+04   1.37e+04      1.455      0.146   -6997.905     4.7e+04\n",
       "Neighborhood_NWAmes        -7287.3270   4050.648     -1.799      0.073   -1.52e+04     668.256\n",
       "Neighborhood_NoRidge        1.041e+04   5854.017      1.779      0.076   -1084.570    2.19e+04\n",
       "Neighborhood_NridgHt        7947.9956   4922.686      1.615      0.107   -1720.295    1.76e+04\n",
       "Neighborhood_OldTown       -7743.5251   6288.123     -1.231      0.219   -2.01e+04    4606.520\n",
       "Neighborhood_SWISU          -1.48e+04   7762.266     -1.907      0.057      -3e+04     446.333\n",
       "Neighborhood_Sawyer        -3539.0537   3798.435     -0.932      0.352    -1.1e+04    3921.177\n",
       "Neighborhood_SawyerW         828.1189   3932.533      0.211      0.833   -6895.485    8551.722\n",
       "Neighborhood_Somerst       -2833.2112   5934.903     -0.477      0.633   -1.45e+04    8823.101\n",
       "Neighborhood_StoneBr        2.935e+04   6663.961      4.404      0.000    1.63e+04    4.24e+04\n",
       "Neighborhood_Timber         -257.6022   5307.501     -0.049      0.961   -1.07e+04    1.02e+04\n",
       "Neighborhood_Veenker        5183.0639   9326.175      0.556      0.579   -1.31e+04    2.35e+04\n",
       "Condition1_Artery          -1928.2353   5602.572     -0.344      0.731   -1.29e+04    9075.370\n",
       "Condition1_Feedr            2778.0381   4627.104      0.600      0.548   -6309.722    1.19e+04\n",
       "Condition1_Norm             9827.9781   3545.635      2.772      0.006    2864.254    1.68e+04\n",
       "Condition1_PosA            -4326.5279   1.07e+04     -0.404      0.686   -2.54e+04    1.67e+04\n",
       "Condition1_PosN             9229.9136   8824.431      1.046      0.296   -8101.510    2.66e+04\n",
       "Condition1_RRAe            -1.435e+04   7617.881     -1.884      0.060   -2.93e+04     607.758\n",
       "Condition1_RRAn             5993.8540   6102.047      0.982      0.326   -5990.733     1.8e+04\n",
       "Condition1_RRNe            -4.078e-11   6.61e-11     -0.617      0.537   -1.71e-10    8.89e-11\n",
       "Condition1_RRNn             7472.0955   1.69e+04      0.442      0.659   -2.57e+04    4.07e+04\n",
       "Condition2_Artery           5.064e-11   7.24e-11      0.700      0.484   -9.15e-11    1.93e-10\n",
       "Condition2_Feedr            1.514e+04    1.6e+04      0.945      0.345   -1.63e+04    4.66e+04\n",
       "Condition2_Norm             -445.3134   1.49e+04     -0.030      0.976   -2.96e+04    2.87e+04\n",
       "Condition2_PosA             3.952e-11   6.55e-11      0.603      0.547   -8.91e-11    1.68e-10\n",
       "Condition2_PosN             1.757e-12   6.67e-11      0.026      0.979   -1.29e-10    1.33e-10\n",
       "Condition2_RRAe             1.118e-10   1.16e-10      0.968      0.333   -1.15e-10    3.39e-10\n",
       "Condition2_RRAn            -2.342e-11   5.55e-11     -0.422      0.673   -1.32e-10    8.55e-11\n",
       "Condition2_RRNn            -1.526e-10   1.04e-10     -1.470      0.142   -3.56e-10    5.12e-11\n",
       "BldgType_1Fam               2.174e+04    1.1e+04      1.970      0.049      65.772    4.34e+04\n",
       "BldgType_2fmCon            -1.027e+04    2.2e+04     -0.466      0.641   -5.35e+04     3.3e+04\n",
       "BldgType_Duplex             -462.5603   9907.553     -0.047      0.963   -1.99e+04     1.9e+04\n",
       "BldgType_Twnhs               -35.9446   5730.276     -0.006      0.995   -1.13e+04    1.12e+04\n",
       "BldgType_TwnhsE             3720.4813   5224.245      0.712      0.477   -6540.080     1.4e+04\n",
       "HouseStyle_1.5Fin          -1.804e+04   2.53e+04     -0.714      0.475   -6.76e+04    3.16e+04\n",
       "HouseStyle_1.5Unf           1.968e+04   2.86e+04      0.689      0.491   -3.64e+04    7.58e+04\n",
       "HouseStyle_1Story            586.6099   1.14e+04      0.051      0.959   -2.19e+04     2.3e+04\n",
       "HouseStyle_2.5Fin           4.702e-11   5.85e-11      0.804      0.422   -6.79e-11    1.62e-10\n",
       "HouseStyle_2.5Unf          -1.996e-11   7.75e-11     -0.257      0.797   -1.72e-10    1.32e-10\n",
       "HouseStyle_2Story          -6185.9790   1.55e+04     -0.398      0.691   -3.67e+04    2.43e+04\n",
       "HouseStyle_SFoyer           1.152e+04   1.66e+04      0.693      0.489   -2.11e+04    4.42e+04\n",
       "HouseStyle_SLvl             7126.8411   1.98e+04      0.360      0.719   -3.17e+04     4.6e+04\n",
       "OverallQual_Above Average  -1.365e+04   4716.267     -2.895      0.004   -2.29e+04   -4389.982\n",
       "OverallQual_Average        -1.495e+04   4690.724     -3.187      0.002   -2.42e+04   -5734.458\n",
       "OverallQual_Below Average  -1.609e+04   4843.029     -3.323      0.001   -2.56e+04   -6579.317\n",
       "OverallQual_Excellent       3.703e+04   7304.108      5.070      0.000    2.27e+04    5.14e+04\n",
       "OverallQual_Fair           -2.174e+04   8369.230     -2.598      0.010   -3.82e+04   -5302.520\n",
       "OverallQual_Good           -8372.1621   4765.206     -1.757      0.079   -1.77e+04     986.832\n",
       "OverallQual_Poor            7976.9588   1.44e+04      0.554      0.580   -2.03e+04    3.62e+04\n",
       "OverallQual_Very Excellent  6.546e+04   1.45e+04      4.504      0.000    3.69e+04     9.4e+04\n",
       "OverallQual_Very Good       3012.9756   5222.938      0.577      0.564   -7245.018    1.33e+04\n",
       "OverallQual_Very Poor      -2.398e+04   2.83e+04     -0.848      0.397   -7.95e+04    3.15e+04\n",
       "OverallCond_Above Average   -429.1448   4515.663     -0.095      0.924   -9298.031    8439.742\n",
       "OverallCond_Average        -7753.1317   4509.398     -1.719      0.086   -1.66e+04    1103.449\n",
       "OverallCond_Below Average  -3733.1507   6173.702     -0.605      0.546   -1.59e+04    8392.170\n",
       "OverallCond_Excellent       1.512e+04   8170.185      1.851      0.065    -923.583    3.12e+04\n",
       "OverallCond_Fair           -2.136e+04   6711.236     -3.182      0.002   -3.45e+04   -8174.495\n",
       "OverallCond_Good            5172.0572   4746.184      1.090      0.276   -4149.577    1.45e+04\n",
       "OverallCond_Poor            1.893e+04   1.84e+04      1.028      0.304   -1.72e+04    5.51e+04\n",
       "OverallCond_Very Good       9458.0696   5417.925      1.746      0.081   -1182.883    2.01e+04\n",
       "OverallCond_Very Poor       -716.9561   2.05e+04     -0.035      0.972   -4.09e+04    3.95e+04\n",
       "RoofStyle_Flat              -933.8059   8177.062     -0.114      0.909    -1.7e+04    1.51e+04\n",
       "RoofStyle_Gable             2330.6292   5153.647      0.452      0.651   -7791.275    1.25e+04\n",
       "RoofStyle_Gambrel            215.4196   8733.033      0.025      0.980   -1.69e+04    1.74e+04\n",
       "RoofStyle_Hip               3931.2928   5327.489      0.738      0.461   -6532.042    1.44e+04\n",
       "RoofStyle_Mansard           9149.6117   1.18e+04      0.777      0.438    -1.4e+04    3.23e+04\n",
       "RoofStyle_Shed             -2.634e-11   2.68e-11     -0.984      0.326   -7.89e-11    2.62e-11\n",
       "RoofMatl_ClyTile           -8.494e-12   3.42e-11     -0.249      0.804   -7.56e-11    5.86e-11\n",
       "RoofMatl_CompShg            8495.8714   1.06e+04      0.801      0.424   -1.23e+04    2.93e+04\n",
       "RoofMatl_Membran           -1.441e-11   2.17e-11     -0.664      0.507    -5.7e-11    2.82e-11\n",
       "RoofMatl_Metal             -8.713e-12   2.52e-11     -0.345      0.730   -5.83e-11    4.09e-11\n",
       "RoofMatl_Roll              -6.592e-15   5.23e-11     -0.000      1.000   -1.03e-10    1.03e-10\n",
       "RoofMatl_Tar&Grv            -933.8059   8177.062     -0.114      0.909    -1.7e+04    1.51e+04\n",
       "RoofMatl_WdShake           -4646.4494   1.99e+04     -0.234      0.815   -4.37e+04    3.44e+04\n",
       "RoofMatl_WdShngl            1.178e+04   1.68e+04      0.700      0.484   -2.13e+04    4.48e+04\n",
       "Exterior1st_AsbShng         2066.3916   2.64e+04      0.078      0.938   -4.97e+04    5.38e+04\n",
       "Exterior1st_AsphShn         -8.65e-12   2.45e-11     -0.352      0.725   -5.69e-11    3.96e-11\n",
       "Exterior1st_BrkComm         3.845e+04   2.58e+04      1.492      0.136   -1.22e+04    8.91e+04\n",
       "Exterior1st_BrkFace         1.383e+04   7091.897      1.950      0.052     -96.960    2.78e+04\n",
       "Exterior1st_CBlock         -4891.2012   1.35e+04     -0.363      0.717   -3.14e+04    2.16e+04\n",
       "Exterior1st_CemntBd        -2.205e+04   1.97e+04     -1.117      0.264   -6.08e+04    1.67e+04\n",
       "Exterior1st_HdBoard        -4751.6685   6393.358     -0.743      0.458   -1.73e+04    7805.062\n",
       "Exterior1st_ImStucc         9487.4166   2.09e+04      0.455      0.650   -3.15e+04    5.05e+04\n",
       "Exterior1st_MetalSd        -1.613e+04    1.2e+04     -1.343      0.180   -3.97e+04    7459.699\n",
       "Exterior1st_Plywood        -4392.2913   6490.315     -0.677      0.499   -1.71e+04    8354.866\n",
       "Exterior1st_Stone           1.644e-11    2.5e-11      0.657      0.511   -3.27e-11    6.56e-11\n",
       "Exterior1st_Stucco          2.404e+04   1.39e+04      1.733      0.084   -3205.627    5.13e+04\n",
       "Exterior1st_VinylSd        -1.569e+04   8721.097     -1.799      0.073   -3.28e+04    1443.294\n",
       "Exterior1st_Wd Sdng        -7462.3581   6008.571     -1.242      0.215   -1.93e+04    4338.641\n",
       "Exterior1st_WdShing         2185.5699   7890.146      0.277      0.782   -1.33e+04    1.77e+04\n",
       "Exterior2nd_AsbShng         -392.3300   2.53e+04     -0.016      0.988   -5.01e+04    4.93e+04\n",
       "Exterior2nd_AsphShn         1.372e-11   4.08e-11      0.336      0.737   -6.64e-11    9.38e-11\n",
       "Exterior2nd_Brk Cmn        -5097.4298    1.9e+04     -0.268      0.789   -4.24e+04    3.22e+04\n",
       "Exterior2nd_BrkFace        -6076.0095   8885.923     -0.684      0.494   -2.35e+04    1.14e+04\n",
       "Exterior2nd_CBlock         -4891.2012   1.35e+04     -0.363      0.717   -3.14e+04    2.16e+04\n",
       "Exterior2nd_CmentBd         2.348e+04   2.05e+04      1.148      0.251   -1.67e+04    6.36e+04\n",
       "Exterior2nd_HdBoard         1733.5099   6217.843      0.279      0.780   -1.05e+04    1.39e+04\n",
       "Exterior2nd_ImStucc        -5714.6145   1.02e+04     -0.558      0.577   -2.58e+04    1.44e+04\n",
       "Exterior2nd_MetalSd         1.643e+04   1.21e+04      1.363      0.173   -7250.970    4.01e+04\n",
       "Exterior2nd_Other           8935.4138   2.02e+04      0.443      0.658   -3.06e+04    4.85e+04\n",
       "Exterior2nd_Plywood        -3775.7256   5928.186     -0.637      0.524   -1.54e+04    7867.395\n",
       "Exterior2nd_Stone          -1.201e+04      2e+04     -0.600      0.549   -5.13e+04    2.73e+04\n",
       "Exterior2nd_Stucco         -1.587e+04   1.34e+04     -1.187      0.236   -4.21e+04    1.04e+04\n",
       "Exterior2nd_VinylSd         1.439e+04   8234.381      1.748      0.081   -1781.307    3.06e+04\n",
       "Exterior2nd_Wd Sdng         6642.2145   5809.027      1.143      0.253   -4766.874    1.81e+04\n",
       "Exterior2nd_Wd Shng        -3105.1250   7118.387     -0.436      0.663   -1.71e+04    1.09e+04\n",
       "MasVnrType_BrkCmn           1221.1806   7757.975      0.157      0.875    -1.4e+04    1.65e+04\n",
       "MasVnrType_BrkFace           744.1492   2833.468      0.263      0.793   -4820.859    6309.157\n",
       "MasVnrType_None              284.3536   3205.207      0.089      0.929   -6010.760    6579.468\n",
       "MasVnrType_Stone            1.244e+04   3410.613      3.648      0.000    5744.927    1.91e+04\n",
       "ExterQual_Ex                3341.6697   7257.229      0.460      0.645   -1.09e+04    1.76e+04\n",
       "ExterQual_Fa                1.053e+04   1.46e+04      0.722      0.471   -1.81e+04    3.92e+04\n",
       "ExterQual_Gd                1445.0772   5506.995      0.262      0.793   -9370.812    1.23e+04\n",
       "ExterQual_TA                -625.1379   5465.491     -0.114      0.909   -1.14e+04    1.01e+04\n",
       "ExterCond_Ex               -3.769e-12   1.08e-11     -0.349      0.727    -2.5e-11    1.74e-11\n",
       "ExterCond_Fa               -1280.6919   5390.694     -0.238      0.812   -1.19e+04    9306.779\n",
       "ExterCond_Gd                5748.2215   3273.317      1.756      0.080    -680.663    1.22e+04\n",
       "ExterCond_Po                1.292e-11   1.73e-11      0.748      0.455    -2.1e-11    4.68e-11\n",
       "ExterCond_TA                1.023e+04   2916.864      3.506      0.000    4496.816     1.6e+04\n",
       "Foundation_BrkTil          -9159.2489   5805.182     -1.578      0.115   -2.06e+04    2242.287\n",
       "Foundation_CBlock          -4866.1685   5100.748     -0.954      0.340   -1.49e+04    5151.840\n",
       "Foundation_PConc           -2094.7415   5180.365     -0.404      0.686   -1.23e+04    8079.637\n",
       "Foundation_Slab             2781.4165   1.21e+04      0.230      0.818    -2.1e+04    2.66e+04\n",
       "Foundation_Stone            1.985e+04   1.35e+04      1.467      0.143   -6725.810    4.64e+04\n",
       "Foundation_Wood             8178.7459   1.78e+04      0.460      0.646   -2.68e+04    4.31e+04\n",
       "BsmtQual_Ex                 1.059e+04   3858.841      2.745      0.006    3015.055    1.82e+04\n",
       "BsmtQual_Fa                 5950.9007   4680.071      1.272      0.204   -3240.888    1.51e+04\n",
       "BsmtQual_Gd                -4721.2131   2649.446     -1.782      0.075   -9924.797     482.371\n",
       "BsmtQual_NoBasement         6210.7989   4788.193      1.297      0.195   -3193.343    1.56e+04\n",
       "BsmtQual_TA                -3341.2631   2667.901     -1.252      0.211   -8581.094    1898.568\n",
       "BsmtCond_Fa                -3291.4378   5846.075     -0.563      0.574   -1.48e+04    8190.414\n",
       "BsmtCond_Gd                 5580.0739   5676.955      0.983      0.326   -5569.622    1.67e+04\n",
       "BsmtCond_NoBasement         6210.7989   4788.193      1.297      0.195   -3193.343    1.56e+04\n",
       "BsmtCond_Po                  783.9232   1.42e+04      0.055      0.956   -2.71e+04    2.87e+04\n",
       "BsmtCond_TA                 5409.7893   5093.543      1.062      0.289   -4594.069    1.54e+04\n",
       "BsmtExposure_Av             4402.9073   3993.415      1.103      0.271   -3440.270    1.22e+04\n",
       "BsmtExposure_Gd             1.558e+04   4480.016      3.478      0.001    6781.655    2.44e+04\n",
       "BsmtExposure_Mn             1747.7102   4238.132      0.412      0.680   -6576.098    1.01e+04\n",
       "BsmtExposure_No             1338.8382   3883.285      0.345      0.730   -6288.041    8965.717\n",
       "BsmtExposure_NoBasement    -8376.8371   1.44e+04     -0.582      0.561   -3.66e+04    1.99e+04\n",
       "BsmtFinType1_ALQ            1560.4130   2125.607      0.734      0.463   -2614.338    5735.164\n",
       "BsmtFinType1_BLQ             643.8489   2400.985      0.268      0.789   -4071.751    5359.448\n",
       "BsmtFinType1_GLQ            8507.6458   2295.126      3.707      0.000    3999.955     1.3e+04\n",
       "BsmtFinType1_LwQ           -6081.1854   3510.371     -1.732      0.084    -1.3e+04     813.279\n",
       "BsmtFinType1_NoBasement     6210.7989   4788.193      1.297      0.195   -3193.343    1.56e+04\n",
       "BsmtFinType1_Rec            3200.6537   2615.073      1.224      0.221   -1935.421    8336.728\n",
       "BsmtFinType1_Unf             650.9726   2317.403      0.281      0.779   -3900.471    5202.416\n",
       "BsmtFinType2_ALQ            2111.3044   1.37e+04      0.154      0.878   -2.49e+04    2.91e+04\n",
       "BsmtFinType2_BLQ           -3399.9170   5346.568     -0.636      0.525   -1.39e+04    7100.889\n",
       "BsmtFinType2_GLQ            1.027e+04   9377.348      1.096      0.274   -8144.177    2.87e+04\n",
       "BsmtFinType2_LwQ            -606.9556   5200.326     -0.117      0.907   -1.08e+04    9606.627\n",
       "BsmtFinType2_NoBasement     6210.7989   4788.193      1.297      0.195   -3193.343    1.56e+04\n",
       "BsmtFinType2_Rec           -2409.8475   5390.860     -0.447      0.655    -1.3e+04    8177.948\n",
       "BsmtFinType2_Unf            2514.5724   5695.404      0.442      0.659   -8671.358    1.37e+04\n",
       "Heating_Floor               3248.7275   2.11e+04      0.154      0.878   -3.82e+04    4.47e+04\n",
       "Heating_GasA               -1334.2490   8599.202     -0.155      0.877   -1.82e+04    1.56e+04\n",
       "Heating_GasW               -1.079e+04   1.41e+04     -0.763      0.446   -3.85e+04     1.7e+04\n",
       "Heating_Grav               -5313.8777   1.33e+04     -0.398      0.691   -3.15e+04    2.09e+04\n",
       "Heating_OthW               -7.183e-13   8.15e-13     -0.882      0.378   -2.32e-12    8.82e-13\n",
       "Heating_Wall                2.888e+04   2.01e+04      1.437      0.151   -1.06e+04    6.84e+04\n",
       "HeatingQC_Ex                4733.5333   2077.789      2.278      0.023     652.699    8814.367\n",
       "HeatingQC_Fa                4751.5464   4071.503      1.167      0.244   -3244.998    1.27e+04\n",
       "HeatingQC_Gd                2107.4476   2128.598      0.990      0.323   -2073.178    6288.073\n",
       "HeatingQC_Po                        0          0        nan        nan           0           0\n",
       "HeatingQC_TA                3100.6203   1930.609      1.606      0.109    -691.149    6892.390\n",
       "CentralAir_N                7509.8997   2908.574      2.582      0.010    1797.381    1.32e+04\n",
       "CentralAir_Y                7183.2478   3200.923      2.244      0.025     896.547    1.35e+04\n",
       "Electrical_FuseA            2234.2667   6945.784      0.322      0.748   -1.14e+04    1.59e+04\n",
       "Electrical_FuseF            2398.1848   8555.143      0.280      0.779   -1.44e+04    1.92e+04\n",
       "Electrical_FuseP            7259.9459   1.83e+04      0.396      0.692   -2.87e+04    4.33e+04\n",
       "Electrical_Mix              1500.8793   1.46e+04      0.103      0.918   -2.72e+04    3.02e+04\n",
       "Electrical_SBrkr            1299.8708   6569.504      0.198      0.843   -1.16e+04    1.42e+04\n",
       "KitchenQual_Ex              1.567e+04   3580.947      4.377      0.000    8639.082    2.27e+04\n",
       "KitchenQual_Fa             -1797.1862   5056.128     -0.355      0.722   -1.17e+04    8133.189\n",
       "KitchenQual_Gd               335.5217   2399.908      0.140      0.889   -4377.964    5049.007\n",
       "KitchenQual_TA               482.6516   2235.868      0.216      0.829   -3908.655    4873.958\n",
       "Functional_Maj1            -6800.2404   8421.156     -0.808      0.420   -2.33e+04    9739.141\n",
       "Functional_Maj2             1500.8793   1.46e+04      0.103      0.918   -2.72e+04    3.02e+04\n",
       "Functional_Min1             7754.1315   5731.617      1.353      0.177   -3502.920     1.9e+04\n",
       "Functional_Min2              1.38e+04   6213.081      2.221      0.027    1599.236     2.6e+04\n",
       "Functional_Mod             -2.199e+04   8836.201     -2.489      0.013   -3.93e+04   -4640.019\n",
       "Functional_Sev                      0          0        nan        nan           0           0\n",
       "Functional_Typ              2.043e+04   4385.386      4.659      0.000    1.18e+04     2.9e+04\n",
       "FireplaceQu_Ex             -1.181e+04   7892.619     -1.496      0.135   -2.73e+04    3695.597\n",
       "FireplaceQu_Fa              -683.4887   4534.019     -0.151      0.880   -9588.426    8221.449\n",
       "FireplaceQu_Gd              5523.9080   2633.465      2.098      0.036     351.711    1.07e+04\n",
       "FireplaceQu_NoFireplace     2441.0695   4066.257      0.600      0.549   -5545.171    1.04e+04\n",
       "FireplaceQu_Po               1.55e+04   5822.952      2.661      0.008    4058.931    2.69e+04\n",
       "FireplaceQu_TA              3722.0125   2648.087      1.406      0.160   -1478.902    8922.927\n",
       "GarageType_2Types                   0          0        nan        nan           0           0\n",
       "GarageType_Attchd           -640.6878   7653.555     -0.084      0.933   -1.57e+04    1.44e+04\n",
       "GarageType_Basment          9122.8215      1e+04      0.908      0.364   -1.06e+04    2.89e+04\n",
       "GarageType_BuiltIn          1301.2891   8143.120      0.160      0.873   -1.47e+04    1.73e+04\n",
       "GarageType_CarPort         -2548.5910   3.22e+04     -0.079      0.937   -6.58e+04    6.07e+04\n",
       "GarageType_Detchd           2382.5604   7859.066      0.303      0.762   -1.31e+04    1.78e+04\n",
       "GarageType_NoGarage         5075.7554   2130.833      2.382      0.018     890.741    9260.770\n",
       "GarageFinish_Fin            1676.1932   1779.567      0.942      0.347   -1818.924    5171.311\n",
       "GarageFinish_NoGarage       5075.7554   2130.833      2.382      0.018     890.741    9260.770\n",
       "GarageFinish_RFn            3954.7619   1629.576      2.427      0.016     754.231    7155.293\n",
       "GarageFinish_Unf            3986.4370   1890.199      2.109      0.035     274.034    7698.840\n",
       "GarageQual_Ex               9953.2707   6473.593      1.538      0.125   -2761.043    2.27e+04\n",
       "GarageQual_Fa               1814.9172   8187.021      0.222      0.825   -1.43e+04    1.79e+04\n",
       "GarageQual_Gd               1.603e+04   1.09e+04      1.473      0.141   -5338.442    3.74e+04\n",
       "GarageQual_NoGarage         5075.7554   2130.833      2.382      0.018     890.741    9260.770\n",
       "GarageQual_Po              -2.828e+04   2.52e+04     -1.122      0.262   -7.78e+04    2.12e+04\n",
       "GarageQual_TA               1.009e+04   8382.175      1.204      0.229   -6369.051    2.66e+04\n",
       "GarageCond_Ex               9953.2707   6473.593      1.538      0.125   -2761.043    2.27e+04\n",
       "GarageCond_Fa              -6572.7075   7170.397     -0.917      0.360   -2.07e+04    7510.149\n",
       "GarageCond_Gd              -4922.3594   1.04e+04     -0.475      0.635   -2.53e+04    1.54e+04\n",
       "GarageCond_NoGarage         5075.7554   2130.833      2.382      0.018     890.741    9260.770\n",
       "GarageCond_Po               1.125e+04   1.65e+04      0.684      0.494   -2.11e+04    4.36e+04\n",
       "GarageCond_TA                -92.3146   6637.136     -0.014      0.989   -1.31e+04    1.29e+04\n",
       "PavedDrive_N                1.081e+04   3145.067      3.438      0.001    4635.145     1.7e+04\n",
       "PavedDrive_P               -3900.1136   4067.697     -0.959      0.338   -1.19e+04    4088.954\n",
       "PavedDrive_Y                7781.1186   2623.543      2.966      0.003    2628.408    1.29e+04\n",
       "PoolQC_Ex                           0          0        nan        nan           0           0\n",
       "PoolQC_Fa                           0          0        nan        nan           0           0\n",
       "PoolQC_Gd                           0          0        nan        nan           0           0\n",
       "PoolQC_NoPool               1.469e+04   2409.351      6.098      0.000    9961.117    1.94e+04\n",
       "Fence_GdPrv                 3258.2861   3850.588      0.846      0.398   -4304.374    1.08e+04\n",
       "Fence_GdWo                  5197.8609   3516.841      1.478      0.140   -1709.311    1.21e+04\n",
       "Fence_MnPrv                 7856.2307   2883.761      2.724      0.007    2192.445    1.35e+04\n",
       "Fence_MnWw                 -6836.3852   7243.289     -0.944      0.346   -2.11e+04    7389.633\n",
       "Fence_NoFence               5217.1550   2380.898      2.191      0.029     541.006    9893.304\n",
       "MiscFeature_Gar2                    0          0        nan        nan           0           0\n",
       "MiscFeature_None            3904.7977   5392.797      0.724      0.469   -6686.804    1.45e+04\n",
       "MiscFeature_Othr                    0          0        nan        nan           0           0\n",
       "MiscFeature_Shed            1.079e+04   5606.844      1.924      0.055    -223.646    2.18e+04\n",
       "MiscFeature_TenC                    0          0        nan        nan           0           0\n",
       "MoSold_1                   -3510.5855   3681.839     -0.953      0.341   -1.07e+04    3720.647\n",
       "MoSold_10                   1066.8982   3003.485      0.355      0.723   -4832.028    6965.825\n",
       "MoSold_11                   1259.5102   3079.835      0.409      0.683   -4789.370    7308.391\n",
       "MoSold_12                   4367.3559   3282.055      1.331      0.184   -2078.689    1.08e+04\n",
       "MoSold_2                   -1568.5025   3331.481     -0.471      0.638   -8111.622    4974.617\n",
       "MoSold_3                    2869.7986   2553.912      1.124      0.262   -2146.154    7885.751\n",
       "MoSold_4                    2004.9677   2116.228      0.947      0.344   -2151.361    6161.297\n",
       "MoSold_5                    4561.5470   1994.650      2.287      0.023     644.000    8479.094\n",
       "MoSold_6                     883.4318   1741.262      0.507      0.612   -2536.455    4303.319\n",
       "MoSold_7                      53.7759   1829.812      0.029      0.977   -3540.025    3647.577\n",
       "MoSold_8                    2113.1257   2348.544      0.900      0.369   -2499.479    6725.730\n",
       "MoSold_9                     591.8245   3359.171      0.176      0.860   -6005.680    7189.329\n",
       "SaleType_COD                3600.6778   6132.939      0.587      0.557   -8444.582    1.56e+04\n",
       "SaleType_CWD                3.555e+04   1.29e+04      2.758      0.006    1.02e+04    6.09e+04\n",
       "SaleType_Con                        0          0        nan        nan           0           0\n",
       "SaleType_ConLD              1527.3378   1.13e+04      0.135      0.893   -2.07e+04    2.37e+04\n",
       "SaleType_ConLI             -7406.7678   1.09e+04     -0.679      0.497   -2.88e+04     1.4e+04\n",
       "SaleType_ConLw                90.6107   1.34e+04      0.007      0.995   -2.63e+04    2.65e+04\n",
       "SaleType_New               -2.171e+04   1.76e+04     -1.234      0.218   -5.63e+04    1.28e+04\n",
       "SaleType_Oth                3270.8102   1.33e+04      0.247      0.805   -2.28e+04    2.93e+04\n",
       "SaleType_WD                 -227.1046   4636.181     -0.049      0.961   -9332.691    8878.482\n",
       "SaleCondition_Abnorml      -3552.5484   6275.776     -0.566      0.572   -1.59e+04    8773.247\n",
       "SaleCondition_AdjLand       3.133e+04   1.54e+04      2.034      0.042    1084.571    6.16e+04\n",
       "SaleCondition_Alloca       -5.605e+04   2.11e+04     -2.659      0.008   -9.75e+04   -1.46e+04\n",
       "SaleCondition_Family        1576.1874   7913.438      0.199      0.842    -1.4e+04    1.71e+04\n",
       "SaleCondition_Normal        5768.2010   5890.395      0.979      0.328   -5800.697    1.73e+04\n",
       "SaleCondition_Partial       3.562e+04   1.71e+04      2.089      0.037    2127.399    6.91e+04\n",
       "==============================================================================\n",
       "Omnibus:                      171.635   Durbin-Watson:                   2.022\n",
       "Prob(Omnibus):                  0.000   Jarque-Bera (JB):             3868.648\n",
       "Skew:                          -0.265   Prob(JB):                         0.00\n",
       "Kurtosis:                      13.544   Cond. No.                     2.63e+16\n",
       "==============================================================================\n",
       "\n",
       "Notes:\n",
       "[1] Standard Errors assume that the covariance matrix of the errors is correctly specified.\n",
       "[2] The smallest eigenvalue is 3.63e-29. This might indicate that there are\n",
       "strong multicollinearity problems or that the design matrix is singular.\n",
       "\"\"\""
      ]
     },
     "execution_count": 444,
     "metadata": {},
     "output_type": "execute_result"
    }
   ],
   "source": [
    "from statsmodels.api import OLS,add_constant\n",
    "xconst = add_constant(xtrain)\n",
    "ols = OLS(ytrain,xtrain)\n",
    "model = ols.fit()\n",
    "model.summary()"
   ]
  },
  {
   "cell_type": "code",
   "execution_count": 445,
   "id": "a03dbb8c",
   "metadata": {},
   "outputs": [
    {
     "data": {
      "text/plain": [
       "0.9317"
      ]
     },
     "execution_count": 445,
     "metadata": {},
     "output_type": "execute_result"
    }
   ],
   "source": [
    "round(model.rsquared_adj,4)"
   ]
  },
  {
   "cell_type": "code",
   "execution_count": 446,
   "id": "178390e7",
   "metadata": {},
   "outputs": [
    {
     "data": {
      "text/plain": [
       "Index(['GrLivArea', '2ndFlrSF', 'KitchenAbvGr', 'PoolArea', 'PoolQC_NoPool',\n",
       "       'Utilities_AllPub', 'BsmtHalfBath', 'BsmtFinSF1', 'TotalBsmtSF',\n",
       "       'OverallQual_Excellent',\n",
       "       ...\n",
       "       'HeatingQC_Po', 'Functional_Sev', 'GarageType_2Types', 'PoolQC_Ex',\n",
       "       'PoolQC_Fa', 'PoolQC_Gd', 'MiscFeature_Gar2', 'MiscFeature_Othr',\n",
       "       'MiscFeature_TenC', 'SaleType_Con'],\n",
       "      dtype='object', length=344)"
      ]
     },
     "execution_count": 446,
     "metadata": {},
     "output_type": "execute_result"
    }
   ],
   "source": [
    "model.pvalues.sort_values().index"
   ]
  },
  {
   "cell_type": "code",
   "execution_count": 447,
   "id": "bd43d6ef",
   "metadata": {},
   "outputs": [],
   "source": [
    "col_to_drop = list(model.pvalues.sort_values().index)[-1]\n",
    "col_to_keep = xtrain.columns"
   ]
  },
  {
   "cell_type": "code",
   "execution_count": 448,
   "id": "48c88988",
   "metadata": {},
   "outputs": [
    {
     "data": {
      "text/plain": [
       "0.9317"
      ]
     },
     "execution_count": 448,
     "metadata": {},
     "output_type": "execute_result"
    }
   ],
   "source": [
    "xtrain = xtrain.drop(labels=col_to_drop,axis=1)\n",
    "\n",
    "from statsmodels.api import OLS,add_constant\n",
    "xconst = add_constant(xtrain)\n",
    "ols = OLS(ytrain,xconst)\n",
    "model = ols.fit()\n",
    "\n",
    "round(model.rsquared_adj,4)"
   ]
  },
  {
   "cell_type": "code",
   "execution_count": 449,
   "id": "91b65128",
   "metadata": {},
   "outputs": [],
   "source": [
    "col_to_drop = list(model.pvalues.sort_values().index)[-1]\n",
    "col_to_keep = xtrain.columns"
   ]
  },
  {
   "cell_type": "code",
   "execution_count": 450,
   "id": "b6f5312c",
   "metadata": {},
   "outputs": [
    {
     "data": {
      "text/plain": [
       "0.9317"
      ]
     },
     "execution_count": 450,
     "metadata": {},
     "output_type": "execute_result"
    }
   ],
   "source": [
    "xtrain = xtrain.drop(labels=col_to_drop,axis=1)\n",
    "\n",
    "from statsmodels.api import OLS,add_constant\n",
    "xconst = add_constant(xtrain)\n",
    "ols = OLS(ytrain,xconst)\n",
    "model = ols.fit()\n",
    "\n",
    "round(model.rsquared_adj,4)"
   ]
  },
  {
   "cell_type": "code",
   "execution_count": 451,
   "id": "4939fc9e",
   "metadata": {},
   "outputs": [],
   "source": [
    "col_to_drop = list(model.pvalues.sort_values().index)[-1]\n",
    "col_to_keep = xtrain.columns"
   ]
  },
  {
   "cell_type": "code",
   "execution_count": 452,
   "id": "a36a35a2",
   "metadata": {},
   "outputs": [
    {
     "data": {
      "text/plain": [
       "0.9317"
      ]
     },
     "execution_count": 452,
     "metadata": {},
     "output_type": "execute_result"
    }
   ],
   "source": [
    "xtrain = xtrain.drop(labels=col_to_drop,axis=1)\n",
    "\n",
    "from statsmodels.api import OLS,add_constant\n",
    "xconst = add_constant(xtrain)\n",
    "ols = OLS(ytrain,xconst)\n",
    "model = ols.fit()\n",
    "\n",
    "round(model.rsquared_adj,4)"
   ]
  },
  {
   "cell_type": "code",
   "execution_count": 453,
   "id": "9339ad0e",
   "metadata": {},
   "outputs": [],
   "source": [
    "col_to_drop = list(model.pvalues.sort_values().index)[-1]\n",
    "col_to_keep = xtrain.columns"
   ]
  },
  {
   "cell_type": "code",
   "execution_count": 454,
   "id": "d4740349",
   "metadata": {},
   "outputs": [
    {
     "data": {
      "text/plain": [
       "0.9317"
      ]
     },
     "execution_count": 454,
     "metadata": {},
     "output_type": "execute_result"
    }
   ],
   "source": [
    "xtrain = xtrain.drop(labels=col_to_drop,axis=1)\n",
    "\n",
    "from statsmodels.api import OLS,add_constant\n",
    "xconst = add_constant(xtrain)\n",
    "ols = OLS(ytrain,xconst)\n",
    "model = ols.fit()\n",
    "\n",
    "round(model.rsquared_adj,4)"
   ]
  },
  {
   "cell_type": "code",
   "execution_count": 455,
   "id": "896be0ed",
   "metadata": {},
   "outputs": [],
   "source": [
    "col_to_drop = list(model.pvalues.sort_values().index)[-1]\n",
    "col_to_keep = xtrain.columns"
   ]
  },
  {
   "cell_type": "code",
   "execution_count": 456,
   "id": "f9d4536c",
   "metadata": {},
   "outputs": [
    {
     "data": {
      "text/plain": [
       "0.9317"
      ]
     },
     "execution_count": 456,
     "metadata": {},
     "output_type": "execute_result"
    }
   ],
   "source": [
    "xtrain = xtrain.drop(labels=col_to_drop,axis=1)\n",
    "\n",
    "from statsmodels.api import OLS,add_constant\n",
    "xconst = add_constant(xtrain)\n",
    "ols = OLS(ytrain,xconst)\n",
    "model = ols.fit()\n",
    "\n",
    "round(model.rsquared_adj,4)"
   ]
  },
  {
   "cell_type": "code",
   "execution_count": 457,
   "id": "c21c1e98",
   "metadata": {},
   "outputs": [],
   "source": [
    "col_to_drop = list(model.pvalues.sort_values().index)[-1]\n",
    "col_to_keep = xtrain.columns"
   ]
  },
  {
   "cell_type": "code",
   "execution_count": 458,
   "id": "3630e9a7",
   "metadata": {},
   "outputs": [
    {
     "data": {
      "text/plain": [
       "0.9317"
      ]
     },
     "execution_count": 458,
     "metadata": {},
     "output_type": "execute_result"
    }
   ],
   "source": [
    "xtrain = xtrain.drop(labels=col_to_drop,axis=1)\n",
    "\n",
    "from statsmodels.api import OLS,add_constant\n",
    "xconst = add_constant(xtrain)\n",
    "ols = OLS(ytrain,xconst)\n",
    "model = ols.fit()\n",
    "\n",
    "round(model.rsquared_adj,4)"
   ]
  },
  {
   "cell_type": "code",
   "execution_count": 459,
   "id": "86de2b0f",
   "metadata": {},
   "outputs": [],
   "source": [
    "col_to_drop = list(model.pvalues.sort_values().index)[-1]\n",
    "col_to_keep = xtrain.columns"
   ]
  },
  {
   "cell_type": "code",
   "execution_count": 460,
   "id": "90587cad",
   "metadata": {},
   "outputs": [
    {
     "data": {
      "text/plain": [
       "0.9317"
      ]
     },
     "execution_count": 460,
     "metadata": {},
     "output_type": "execute_result"
    }
   ],
   "source": [
    "xtrain = xtrain.drop(labels=col_to_drop,axis=1)\n",
    "\n",
    "from statsmodels.api import OLS,add_constant\n",
    "xconst = add_constant(xtrain)\n",
    "ols = OLS(ytrain,xconst)\n",
    "model = ols.fit()\n",
    "\n",
    "round(model.rsquared_adj,4)"
   ]
  },
  {
   "cell_type": "code",
   "execution_count": 461,
   "id": "49ca6b45",
   "metadata": {},
   "outputs": [],
   "source": [
    "col_to_drop = list(model.pvalues.sort_values().index)[-1]\n",
    "col_to_keep = xtrain.columns"
   ]
  },
  {
   "cell_type": "code",
   "execution_count": 462,
   "id": "9c89ac6f",
   "metadata": {},
   "outputs": [
    {
     "data": {
      "text/plain": [
       "0.9317"
      ]
     },
     "execution_count": 462,
     "metadata": {},
     "output_type": "execute_result"
    }
   ],
   "source": [
    "xtrain = xtrain.drop(labels=col_to_drop,axis=1)\n",
    "\n",
    "from statsmodels.api import OLS,add_constant\n",
    "xconst = add_constant(xtrain)\n",
    "ols = OLS(ytrain,xconst)\n",
    "model = ols.fit()\n",
    "\n",
    "round(model.rsquared_adj,4)"
   ]
  },
  {
   "cell_type": "code",
   "execution_count": 463,
   "id": "e5eb1386",
   "metadata": {},
   "outputs": [],
   "source": [
    "col_to_drop = list(model.pvalues.sort_values().index)[-1]\n",
    "col_to_keep = xtrain.columns"
   ]
  },
  {
   "cell_type": "code",
   "execution_count": 464,
   "id": "85cfc6b5",
   "metadata": {},
   "outputs": [
    {
     "data": {
      "text/plain": [
       "0.9317"
      ]
     },
     "execution_count": 464,
     "metadata": {},
     "output_type": "execute_result"
    }
   ],
   "source": [
    "xtrain = xtrain.drop(labels=col_to_drop,axis=1)\n",
    "\n",
    "from statsmodels.api import OLS,add_constant\n",
    "xconst = add_constant(xtrain)\n",
    "ols = OLS(ytrain,xconst)\n",
    "model = ols.fit()\n",
    "\n",
    "round(model.rsquared_adj,4)"
   ]
  },
  {
   "cell_type": "code",
   "execution_count": 465,
   "id": "b5e66d5c",
   "metadata": {},
   "outputs": [],
   "source": [
    "col_to_drop = list(model.pvalues.sort_values().index)[-1]\n",
    "col_to_keep = xtrain.columns"
   ]
  },
  {
   "cell_type": "code",
   "execution_count": 466,
   "id": "15734b65",
   "metadata": {},
   "outputs": [
    {
     "data": {
      "text/plain": [
       "0.9317"
      ]
     },
     "execution_count": 466,
     "metadata": {},
     "output_type": "execute_result"
    }
   ],
   "source": [
    "xtrain = xtrain.drop(labels=col_to_drop,axis=1)\n",
    "\n",
    "from statsmodels.api import OLS,add_constant\n",
    "xconst = add_constant(xtrain)\n",
    "ols = OLS(ytrain,xconst)\n",
    "model = ols.fit()\n",
    "\n",
    "round(model.rsquared_adj,4)"
   ]
  },
  {
   "cell_type": "code",
   "execution_count": 467,
   "id": "fb1f4cb0",
   "metadata": {},
   "outputs": [],
   "source": [
    "col_to_drop = list(model.pvalues.sort_values().index)[-1]\n",
    "col_to_keep = xtrain.columns"
   ]
  },
  {
   "cell_type": "code",
   "execution_count": 468,
   "id": "941e3fb6",
   "metadata": {},
   "outputs": [
    {
     "data": {
      "text/plain": [
       "0.9317"
      ]
     },
     "execution_count": 468,
     "metadata": {},
     "output_type": "execute_result"
    }
   ],
   "source": [
    "xtrain = xtrain.drop(labels=col_to_drop,axis=1)\n",
    "\n",
    "from statsmodels.api import OLS,add_constant\n",
    "xconst = add_constant(xtrain)\n",
    "ols = OLS(ytrain,xconst)\n",
    "model = ols.fit()\n",
    "\n",
    "round(model.rsquared_adj,4)"
   ]
  },
  {
   "cell_type": "code",
   "execution_count": 469,
   "id": "3b64fcf9",
   "metadata": {},
   "outputs": [],
   "source": [
    "col_to_drop = list(model.pvalues.sort_values().index)[-1]\n",
    "col_to_keep = xtrain.columns"
   ]
  },
  {
   "cell_type": "code",
   "execution_count": 470,
   "id": "abde1340",
   "metadata": {},
   "outputs": [
    {
     "data": {
      "text/plain": [
       "0.9317"
      ]
     },
     "execution_count": 470,
     "metadata": {},
     "output_type": "execute_result"
    }
   ],
   "source": [
    "xtrain = xtrain.drop(labels=col_to_drop,axis=1)\n",
    "\n",
    "from statsmodels.api import OLS,add_constant\n",
    "xconst = add_constant(xtrain)\n",
    "ols = OLS(ytrain,xconst)\n",
    "model = ols.fit()\n",
    "\n",
    "round(model.rsquared_adj,4)"
   ]
  },
  {
   "cell_type": "code",
   "execution_count": 471,
   "id": "da36d8ba",
   "metadata": {},
   "outputs": [],
   "source": [
    "col_to_drop = list(model.pvalues.sort_values().index)[-1]\n",
    "col_to_keep = xtrain.columns"
   ]
  },
  {
   "cell_type": "code",
   "execution_count": 472,
   "id": "fb4f6647",
   "metadata": {},
   "outputs": [
    {
     "data": {
      "text/plain": [
       "0.9317"
      ]
     },
     "execution_count": 472,
     "metadata": {},
     "output_type": "execute_result"
    }
   ],
   "source": [
    "xtrain = xtrain.drop(labels=col_to_drop,axis=1)\n",
    "\n",
    "from statsmodels.api import OLS,add_constant\n",
    "xconst = add_constant(xtrain)\n",
    "ols = OLS(ytrain,xconst)\n",
    "model = ols.fit()\n",
    "\n",
    "round(model.rsquared_adj,4)"
   ]
  },
  {
   "cell_type": "code",
   "execution_count": 473,
   "id": "fe792f79",
   "metadata": {},
   "outputs": [],
   "source": [
    "col_to_drop = list(model.pvalues.sort_values().index)[-1]\n",
    "col_to_keep = xtrain.columns"
   ]
  },
  {
   "cell_type": "code",
   "execution_count": 474,
   "id": "47f35b04",
   "metadata": {},
   "outputs": [
    {
     "data": {
      "text/plain": [
       "0.9317"
      ]
     },
     "execution_count": 474,
     "metadata": {},
     "output_type": "execute_result"
    }
   ],
   "source": [
    "xtrain = xtrain.drop(labels=col_to_drop,axis=1)\n",
    "\n",
    "from statsmodels.api import OLS,add_constant\n",
    "xconst = add_constant(xtrain)\n",
    "ols = OLS(ytrain,xconst)\n",
    "model = ols.fit()\n",
    "\n",
    "round(model.rsquared_adj,4)"
   ]
  },
  {
   "cell_type": "code",
   "execution_count": 475,
   "id": "d72b213b",
   "metadata": {},
   "outputs": [],
   "source": [
    "col_to_drop = list(model.pvalues.sort_values().index)[-1]\n",
    "col_to_keep = xtrain.columns"
   ]
  },
  {
   "cell_type": "code",
   "execution_count": 476,
   "id": "8e36d46a",
   "metadata": {},
   "outputs": [
    {
     "data": {
      "text/plain": [
       "0.9317"
      ]
     },
     "execution_count": 476,
     "metadata": {},
     "output_type": "execute_result"
    }
   ],
   "source": [
    "xtrain = xtrain.drop(labels=col_to_drop,axis=1)\n",
    "\n",
    "from statsmodels.api import OLS,add_constant\n",
    "xconst = add_constant(xtrain)\n",
    "ols = OLS(ytrain,xconst)\n",
    "model = ols.fit()\n",
    "\n",
    "round(model.rsquared_adj,4)"
   ]
  },
  {
   "cell_type": "code",
   "execution_count": 477,
   "id": "cea51c15",
   "metadata": {},
   "outputs": [],
   "source": [
    "col_to_drop = list(model.pvalues.sort_values().index)[-1]\n",
    "col_to_keep = xtrain.columns"
   ]
  },
  {
   "cell_type": "code",
   "execution_count": 478,
   "id": "2c3bc43e",
   "metadata": {},
   "outputs": [
    {
     "data": {
      "text/plain": [
       "0.9317"
      ]
     },
     "execution_count": 478,
     "metadata": {},
     "output_type": "execute_result"
    }
   ],
   "source": [
    "xtrain = xtrain.drop(labels=col_to_drop,axis=1)\n",
    "\n",
    "from statsmodels.api import OLS,add_constant\n",
    "xconst = add_constant(xtrain)\n",
    "ols = OLS(ytrain,xconst)\n",
    "model = ols.fit()\n",
    "\n",
    "round(model.rsquared_adj,4)"
   ]
  },
  {
   "cell_type": "code",
   "execution_count": 479,
   "id": "76c25f1e",
   "metadata": {},
   "outputs": [],
   "source": [
    "col_to_drop = list(model.pvalues.sort_values().index)[-1]\n",
    "col_to_keep = xtrain.columns"
   ]
  },
  {
   "cell_type": "code",
   "execution_count": 480,
   "id": "478fca14",
   "metadata": {},
   "outputs": [
    {
     "data": {
      "text/plain": [
       "0.9318"
      ]
     },
     "execution_count": 480,
     "metadata": {},
     "output_type": "execute_result"
    }
   ],
   "source": [
    "xtrain = xtrain.drop(labels=col_to_drop,axis=1)\n",
    "\n",
    "from statsmodels.api import OLS,add_constant\n",
    "xconst = add_constant(xtrain)\n",
    "ols = OLS(ytrain,xconst)\n",
    "model = ols.fit()\n",
    "\n",
    "round(model.rsquared_adj,4)"
   ]
  },
  {
   "cell_type": "code",
   "execution_count": 481,
   "id": "446ee9b9",
   "metadata": {},
   "outputs": [],
   "source": [
    "col_to_drop = list(model.pvalues.sort_values().index)[-1]\n",
    "col_to_keep = xtrain.columns"
   ]
  },
  {
   "cell_type": "code",
   "execution_count": 482,
   "id": "ea681727",
   "metadata": {},
   "outputs": [
    {
     "data": {
      "text/plain": [
       "0.9318"
      ]
     },
     "execution_count": 482,
     "metadata": {},
     "output_type": "execute_result"
    }
   ],
   "source": [
    "xtrain = xtrain.drop(labels=col_to_drop,axis=1)\n",
    "\n",
    "from statsmodels.api import OLS,add_constant\n",
    "xconst = add_constant(xtrain)\n",
    "ols = OLS(ytrain,xconst)\n",
    "model = ols.fit()\n",
    "\n",
    "round(model.rsquared_adj,4)"
   ]
  },
  {
   "cell_type": "code",
   "execution_count": 483,
   "id": "603b8e56",
   "metadata": {},
   "outputs": [],
   "source": [
    "col_to_drop = list(model.pvalues.sort_values().index)[-1]\n",
    "col_to_keep = xtrain.columns"
   ]
  },
  {
   "cell_type": "code",
   "execution_count": 484,
   "id": "9ffb74de",
   "metadata": {},
   "outputs": [
    {
     "data": {
      "text/plain": [
       "0.9318"
      ]
     },
     "execution_count": 484,
     "metadata": {},
     "output_type": "execute_result"
    }
   ],
   "source": [
    "xtrain = xtrain.drop(labels=col_to_drop,axis=1)\n",
    "\n",
    "from statsmodels.api import OLS,add_constant\n",
    "xconst = add_constant(xtrain)\n",
    "ols = OLS(ytrain,xconst)\n",
    "model = ols.fit()\n",
    "\n",
    "round(model.rsquared_adj,4)"
   ]
  },
  {
   "cell_type": "code",
   "execution_count": 485,
   "id": "b37fd90c",
   "metadata": {},
   "outputs": [],
   "source": [
    "col_to_drop = list(model.pvalues.sort_values().index)[-1]\n",
    "col_to_keep = xtrain.columns"
   ]
  },
  {
   "cell_type": "code",
   "execution_count": 486,
   "id": "c31ab9d0",
   "metadata": {},
   "outputs": [
    {
     "data": {
      "text/plain": [
       "0.9318"
      ]
     },
     "execution_count": 486,
     "metadata": {},
     "output_type": "execute_result"
    }
   ],
   "source": [
    "xtrain = xtrain.drop(labels=col_to_drop,axis=1)\n",
    "\n",
    "from statsmodels.api import OLS,add_constant\n",
    "xconst = add_constant(xtrain)\n",
    "ols = OLS(ytrain,xconst)\n",
    "model = ols.fit()\n",
    "\n",
    "round(model.rsquared_adj,4)"
   ]
  },
  {
   "cell_type": "code",
   "execution_count": 487,
   "id": "babaddbe",
   "metadata": {},
   "outputs": [],
   "source": [
    "col_to_drop = list(model.pvalues.sort_values().index)[-1]\n",
    "col_to_keep = xtrain.columns"
   ]
  },
  {
   "cell_type": "code",
   "execution_count": 488,
   "id": "9be6f94f",
   "metadata": {},
   "outputs": [
    {
     "data": {
      "text/plain": [
       "0.9318"
      ]
     },
     "execution_count": 488,
     "metadata": {},
     "output_type": "execute_result"
    }
   ],
   "source": [
    "xtrain = xtrain.drop(labels=col_to_drop,axis=1)\n",
    "\n",
    "from statsmodels.api import OLS,add_constant\n",
    "xconst = add_constant(xtrain)\n",
    "ols = OLS(ytrain,xconst)\n",
    "model = ols.fit()\n",
    "\n",
    "round(model.rsquared_adj,4)"
   ]
  },
  {
   "cell_type": "code",
   "execution_count": 489,
   "id": "11b9fb54",
   "metadata": {},
   "outputs": [],
   "source": [
    "col_to_drop = list(model.pvalues.sort_values().index)[-1]\n",
    "col_to_keep = xtrain.columns"
   ]
  },
  {
   "cell_type": "code",
   "execution_count": 490,
   "id": "4cc55c4b",
   "metadata": {},
   "outputs": [
    {
     "data": {
      "text/plain": [
       "0.9318"
      ]
     },
     "execution_count": 490,
     "metadata": {},
     "output_type": "execute_result"
    }
   ],
   "source": [
    "xtrain = xtrain.drop(labels=col_to_drop,axis=1)\n",
    "\n",
    "from statsmodels.api import OLS,add_constant\n",
    "xconst = add_constant(xtrain)\n",
    "ols = OLS(ytrain,xconst)\n",
    "model = ols.fit()\n",
    "\n",
    "round(model.rsquared_adj,4)"
   ]
  },
  {
   "cell_type": "code",
   "execution_count": 491,
   "id": "59c3a504",
   "metadata": {},
   "outputs": [],
   "source": [
    "col_to_drop = list(model.pvalues.sort_values().index)[-1]\n",
    "col_to_keep = xtrain.columns"
   ]
  },
  {
   "cell_type": "code",
   "execution_count": 492,
   "id": "da51b5a1",
   "metadata": {},
   "outputs": [
    {
     "data": {
      "text/plain": [
       "0.9318"
      ]
     },
     "execution_count": 492,
     "metadata": {},
     "output_type": "execute_result"
    }
   ],
   "source": [
    "xtrain = xtrain.drop(labels=col_to_drop,axis=1)\n",
    "\n",
    "from statsmodels.api import OLS,add_constant\n",
    "xconst = add_constant(xtrain)\n",
    "ols = OLS(ytrain,xconst)\n",
    "model = ols.fit()\n",
    "\n",
    "round(model.rsquared_adj,4)"
   ]
  },
  {
   "cell_type": "code",
   "execution_count": 493,
   "id": "b0313393",
   "metadata": {},
   "outputs": [],
   "source": [
    "col_to_drop = list(model.pvalues.sort_values().index)[-1]\n",
    "col_to_keep = xtrain.columns"
   ]
  },
  {
   "cell_type": "code",
   "execution_count": 494,
   "id": "0ce6a4ff",
   "metadata": {},
   "outputs": [
    {
     "data": {
      "text/plain": [
       "0.9318"
      ]
     },
     "execution_count": 494,
     "metadata": {},
     "output_type": "execute_result"
    }
   ],
   "source": [
    "xtrain = xtrain.drop(labels=col_to_drop,axis=1)\n",
    "\n",
    "from statsmodels.api import OLS,add_constant\n",
    "xconst = add_constant(xtrain)\n",
    "ols = OLS(ytrain,xconst)\n",
    "model = ols.fit()\n",
    "\n",
    "round(model.rsquared_adj,4)"
   ]
  },
  {
   "cell_type": "code",
   "execution_count": 495,
   "id": "93a65a20",
   "metadata": {},
   "outputs": [],
   "source": [
    "col_to_drop = list(model.pvalues.sort_values().index)[-1]\n",
    "col_to_keep = xtrain.columns"
   ]
  },
  {
   "cell_type": "code",
   "execution_count": 496,
   "id": "9bc7e623",
   "metadata": {},
   "outputs": [
    {
     "data": {
      "text/plain": [
       "0.9318"
      ]
     },
     "execution_count": 496,
     "metadata": {},
     "output_type": "execute_result"
    }
   ],
   "source": [
    "xtrain = xtrain.drop(labels=col_to_drop,axis=1)\n",
    "\n",
    "from statsmodels.api import OLS,add_constant\n",
    "xconst = add_constant(xtrain)\n",
    "ols = OLS(ytrain,xconst)\n",
    "model = ols.fit()\n",
    "\n",
    "round(model.rsquared_adj,4)"
   ]
  },
  {
   "cell_type": "code",
   "execution_count": 497,
   "id": "5c90ace7",
   "metadata": {},
   "outputs": [],
   "source": [
    "col_to_drop = list(model.pvalues.sort_values().index)[-1]\n",
    "col_to_keep = xtrain.columns"
   ]
  },
  {
   "cell_type": "code",
   "execution_count": 498,
   "id": "45f64e3c",
   "metadata": {},
   "outputs": [
    {
     "data": {
      "text/plain": [
       "0.9318"
      ]
     },
     "execution_count": 498,
     "metadata": {},
     "output_type": "execute_result"
    }
   ],
   "source": [
    "xtrain = xtrain.drop(labels=col_to_drop,axis=1)\n",
    "\n",
    "from statsmodels.api import OLS,add_constant\n",
    "xconst = add_constant(xtrain)\n",
    "ols = OLS(ytrain,xconst)\n",
    "model = ols.fit()\n",
    "\n",
    "round(model.rsquared_adj,4)"
   ]
  },
  {
   "cell_type": "code",
   "execution_count": 499,
   "id": "8fa076ad",
   "metadata": {},
   "outputs": [],
   "source": [
    "col_to_drop = list(model.pvalues.sort_values().index)[-1]\n",
    "col_to_keep = xtrain.columns"
   ]
  },
  {
   "cell_type": "code",
   "execution_count": 500,
   "id": "ac2fcea2",
   "metadata": {},
   "outputs": [
    {
     "data": {
      "text/plain": [
       "0.9318"
      ]
     },
     "execution_count": 500,
     "metadata": {},
     "output_type": "execute_result"
    }
   ],
   "source": [
    "xtrain = xtrain.drop(labels=col_to_drop,axis=1)\n",
    "\n",
    "from statsmodels.api import OLS,add_constant\n",
    "xconst = add_constant(xtrain)\n",
    "ols = OLS(ytrain,xconst)\n",
    "model = ols.fit()\n",
    "\n",
    "round(model.rsquared_adj,4)"
   ]
  },
  {
   "cell_type": "code",
   "execution_count": 501,
   "id": "c7fb3a5d",
   "metadata": {},
   "outputs": [],
   "source": [
    "col_to_drop = list(model.pvalues.sort_values().index)[-1]\n",
    "col_to_keep = xtrain.columns"
   ]
  },
  {
   "cell_type": "code",
   "execution_count": 502,
   "id": "b5e66eac",
   "metadata": {},
   "outputs": [
    {
     "data": {
      "text/plain": [
       "0.9318"
      ]
     },
     "execution_count": 502,
     "metadata": {},
     "output_type": "execute_result"
    }
   ],
   "source": [
    "xtrain = xtrain.drop(labels=col_to_drop,axis=1)\n",
    "\n",
    "from statsmodels.api import OLS,add_constant\n",
    "xconst = add_constant(xtrain)\n",
    "ols = OLS(ytrain,xconst)\n",
    "model = ols.fit()\n",
    "\n",
    "round(model.rsquared_adj,4)"
   ]
  },
  {
   "cell_type": "code",
   "execution_count": 503,
   "id": "9b6b26cf",
   "metadata": {},
   "outputs": [],
   "source": [
    "col_to_drop = list(model.pvalues.sort_values().index)[-1]\n",
    "col_to_keep = xtrain.columns"
   ]
  },
  {
   "cell_type": "code",
   "execution_count": 504,
   "id": "d7e744cb",
   "metadata": {},
   "outputs": [
    {
     "data": {
      "text/plain": [
       "0.9318"
      ]
     },
     "execution_count": 504,
     "metadata": {},
     "output_type": "execute_result"
    }
   ],
   "source": [
    "xtrain = xtrain.drop(labels=col_to_drop,axis=1)\n",
    "\n",
    "from statsmodels.api import OLS,add_constant\n",
    "xconst = add_constant(xtrain)\n",
    "ols = OLS(ytrain,xconst)\n",
    "model = ols.fit()\n",
    "\n",
    "round(model.rsquared_adj,4)"
   ]
  },
  {
   "cell_type": "code",
   "execution_count": 505,
   "id": "c0bae137",
   "metadata": {},
   "outputs": [],
   "source": [
    "col_to_drop = list(model.pvalues.sort_values().index)[-1]\n",
    "col_to_keep = xtrain.columns"
   ]
  },
  {
   "cell_type": "code",
   "execution_count": 506,
   "id": "b6706deb",
   "metadata": {},
   "outputs": [
    {
     "data": {
      "text/plain": [
       "0.9318"
      ]
     },
     "execution_count": 506,
     "metadata": {},
     "output_type": "execute_result"
    }
   ],
   "source": [
    "xtrain = xtrain.drop(labels=col_to_drop,axis=1)\n",
    "\n",
    "from statsmodels.api import OLS,add_constant\n",
    "xconst = add_constant(xtrain)\n",
    "ols = OLS(ytrain,xconst)\n",
    "model = ols.fit()\n",
    "\n",
    "round(model.rsquared_adj,4)"
   ]
  },
  {
   "cell_type": "code",
   "execution_count": 507,
   "id": "be1dd30f",
   "metadata": {},
   "outputs": [],
   "source": [
    "col_to_drop = list(model.pvalues.sort_values().index)[-1]\n",
    "col_to_keep = xtrain.columns"
   ]
  },
  {
   "cell_type": "code",
   "execution_count": 508,
   "id": "341c95fc",
   "metadata": {},
   "outputs": [
    {
     "data": {
      "text/plain": [
       "0.9318"
      ]
     },
     "execution_count": 508,
     "metadata": {},
     "output_type": "execute_result"
    }
   ],
   "source": [
    "xtrain = xtrain.drop(labels=col_to_drop,axis=1)\n",
    "\n",
    "from statsmodels.api import OLS,add_constant\n",
    "xconst = add_constant(xtrain)\n",
    "ols = OLS(ytrain,xconst)\n",
    "model = ols.fit()\n",
    "\n",
    "round(model.rsquared_adj,4)"
   ]
  },
  {
   "cell_type": "code",
   "execution_count": 509,
   "id": "d673924a",
   "metadata": {},
   "outputs": [],
   "source": [
    "col_to_drop = list(model.pvalues.sort_values().index)[-1]\n",
    "col_to_keep = xtrain.columns"
   ]
  },
  {
   "cell_type": "code",
   "execution_count": 510,
   "id": "e8940546",
   "metadata": {},
   "outputs": [
    {
     "data": {
      "text/plain": [
       "0.9318"
      ]
     },
     "execution_count": 510,
     "metadata": {},
     "output_type": "execute_result"
    }
   ],
   "source": [
    "xtrain = xtrain.drop(labels=col_to_drop,axis=1)\n",
    "\n",
    "from statsmodels.api import OLS,add_constant\n",
    "xconst = add_constant(xtrain)\n",
    "ols = OLS(ytrain,xconst)\n",
    "model = ols.fit()\n",
    "\n",
    "round(model.rsquared_adj,4)"
   ]
  },
  {
   "cell_type": "code",
   "execution_count": 511,
   "id": "742c4fa7",
   "metadata": {},
   "outputs": [],
   "source": [
    "col_to_drop = list(model.pvalues.sort_values().index)[-2]\n",
    "col_to_keep = xtrain.columns"
   ]
  },
  {
   "cell_type": "code",
   "execution_count": 512,
   "id": "7e6044ed",
   "metadata": {},
   "outputs": [
    {
     "data": {
      "text/plain": [
       "0.9318"
      ]
     },
     "execution_count": 512,
     "metadata": {},
     "output_type": "execute_result"
    }
   ],
   "source": [
    "xtrain = xtrain.drop(labels=col_to_drop,axis=1)\n",
    "\n",
    "from statsmodels.api import OLS,add_constant\n",
    "xconst = add_constant(xtrain)\n",
    "ols = OLS(ytrain,xconst)\n",
    "model = ols.fit()\n",
    "\n",
    "round(model.rsquared_adj,4)"
   ]
  },
  {
   "cell_type": "code",
   "execution_count": 513,
   "id": "98301065",
   "metadata": {},
   "outputs": [],
   "source": [
    "col_to_drop = list(model.pvalues.sort_values().index)[-1]\n",
    "col_to_keep = xtrain.columns"
   ]
  },
  {
   "cell_type": "code",
   "execution_count": 514,
   "id": "c60afda4",
   "metadata": {},
   "outputs": [
    {
     "data": {
      "text/plain": [
       "0.9318"
      ]
     },
     "execution_count": 514,
     "metadata": {},
     "output_type": "execute_result"
    }
   ],
   "source": [
    "xtrain = xtrain.drop(labels=col_to_drop,axis=1)\n",
    "\n",
    "from statsmodels.api import OLS,add_constant\n",
    "xconst = add_constant(xtrain)\n",
    "ols = OLS(ytrain,xconst)\n",
    "model = ols.fit()\n",
    "\n",
    "round(model.rsquared_adj,4)"
   ]
  },
  {
   "cell_type": "code",
   "execution_count": 515,
   "id": "342ae355",
   "metadata": {},
   "outputs": [],
   "source": [
    "col_to_drop = list(model.pvalues.sort_values().index)[-1]\n",
    "col_to_keep = xtrain.columns"
   ]
  },
  {
   "cell_type": "code",
   "execution_count": 516,
   "id": "64ba58ef",
   "metadata": {},
   "outputs": [
    {
     "data": {
      "text/plain": [
       "0.9319"
      ]
     },
     "execution_count": 516,
     "metadata": {},
     "output_type": "execute_result"
    }
   ],
   "source": [
    "xtrain = xtrain.drop(labels=col_to_drop,axis=1)\n",
    "\n",
    "from statsmodels.api import OLS,add_constant\n",
    "xconst = add_constant(xtrain)\n",
    "ols = OLS(ytrain,xconst)\n",
    "model = ols.fit()\n",
    "\n",
    "round(model.rsquared_adj,4)"
   ]
  },
  {
   "cell_type": "code",
   "execution_count": 517,
   "id": "7f7b13d4",
   "metadata": {},
   "outputs": [],
   "source": [
    "col_to_drop = list(model.pvalues.sort_values().index)[-1]\n",
    "col_to_keep = xtrain.columns"
   ]
  },
  {
   "cell_type": "code",
   "execution_count": 518,
   "id": "16eb39c8",
   "metadata": {},
   "outputs": [
    {
     "data": {
      "text/plain": [
       "0.9319"
      ]
     },
     "execution_count": 518,
     "metadata": {},
     "output_type": "execute_result"
    }
   ],
   "source": [
    "xtrain = xtrain.drop(labels=col_to_drop,axis=1)\n",
    "\n",
    "from statsmodels.api import OLS,add_constant\n",
    "xconst = add_constant(xtrain)\n",
    "ols = OLS(ytrain,xconst)\n",
    "model = ols.fit()\n",
    "\n",
    "round(model.rsquared_adj,4)"
   ]
  },
  {
   "cell_type": "code",
   "execution_count": 519,
   "id": "d12ed520",
   "metadata": {},
   "outputs": [],
   "source": [
    "col_to_drop = list(model.pvalues.sort_values().index)[-1]\n",
    "col_to_keep = xtrain.columns"
   ]
  },
  {
   "cell_type": "code",
   "execution_count": 520,
   "id": "ef38c512",
   "metadata": {},
   "outputs": [
    {
     "data": {
      "text/plain": [
       "0.9319"
      ]
     },
     "execution_count": 520,
     "metadata": {},
     "output_type": "execute_result"
    }
   ],
   "source": [
    "xtrain = xtrain.drop(labels=col_to_drop,axis=1)\n",
    "\n",
    "from statsmodels.api import OLS,add_constant\n",
    "xconst = add_constant(xtrain)\n",
    "ols = OLS(ytrain,xconst)\n",
    "model = ols.fit()\n",
    "\n",
    "round(model.rsquared_adj,4)"
   ]
  },
  {
   "cell_type": "code",
   "execution_count": 521,
   "id": "75033c4b",
   "metadata": {},
   "outputs": [],
   "source": [
    "col_to_drop = list(model.pvalues.sort_values().index)[-1]\n",
    "col_to_keep = xtrain.columns"
   ]
  },
  {
   "cell_type": "code",
   "execution_count": 522,
   "id": "3cb23de1",
   "metadata": {},
   "outputs": [
    {
     "data": {
      "text/plain": [
       "0.9319"
      ]
     },
     "execution_count": 522,
     "metadata": {},
     "output_type": "execute_result"
    }
   ],
   "source": [
    "xtrain = xtrain.drop(labels=col_to_drop,axis=1)\n",
    "\n",
    "from statsmodels.api import OLS,add_constant\n",
    "xconst = add_constant(xtrain)\n",
    "ols = OLS(ytrain,xconst)\n",
    "model = ols.fit()\n",
    "\n",
    "round(model.rsquared_adj,4)"
   ]
  },
  {
   "cell_type": "code",
   "execution_count": 523,
   "id": "7a1659bb",
   "metadata": {},
   "outputs": [],
   "source": [
    "col_to_drop = list(model.pvalues.sort_values().index)[-1]\n",
    "col_to_keep = xtrain.columns"
   ]
  },
  {
   "cell_type": "code",
   "execution_count": 524,
   "id": "3c6afe1a",
   "metadata": {},
   "outputs": [
    {
     "data": {
      "text/plain": [
       "0.9319"
      ]
     },
     "execution_count": 524,
     "metadata": {},
     "output_type": "execute_result"
    }
   ],
   "source": [
    "xtrain = xtrain.drop(labels=col_to_drop,axis=1)\n",
    "\n",
    "from statsmodels.api import OLS,add_constant\n",
    "xconst = add_constant(xtrain)\n",
    "ols = OLS(ytrain,xconst)\n",
    "model = ols.fit()\n",
    "\n",
    "round(model.rsquared_adj,4)"
   ]
  },
  {
   "cell_type": "code",
   "execution_count": 525,
   "id": "ec90a2dd",
   "metadata": {},
   "outputs": [],
   "source": [
    "col_to_drop = list(model.pvalues.sort_values().index)[-1]\n",
    "col_to_keep = xtrain.columns"
   ]
  },
  {
   "cell_type": "code",
   "execution_count": 526,
   "id": "cd723d4b",
   "metadata": {},
   "outputs": [
    {
     "data": {
      "text/plain": [
       "0.932"
      ]
     },
     "execution_count": 526,
     "metadata": {},
     "output_type": "execute_result"
    }
   ],
   "source": [
    "xtrain = xtrain.drop(labels=col_to_drop,axis=1)\n",
    "\n",
    "from statsmodels.api import OLS,add_constant\n",
    "xconst = add_constant(xtrain)\n",
    "ols = OLS(ytrain,xconst)\n",
    "model = ols.fit()\n",
    "\n",
    "round(model.rsquared_adj,4)"
   ]
  },
  {
   "cell_type": "code",
   "execution_count": 527,
   "id": "021f38ff",
   "metadata": {},
   "outputs": [],
   "source": [
    "col_to_drop = list(model.pvalues.sort_values().index)[-1]\n",
    "col_to_keep = xtrain.columns"
   ]
  },
  {
   "cell_type": "code",
   "execution_count": 528,
   "id": "68583d9a",
   "metadata": {},
   "outputs": [
    {
     "data": {
      "text/plain": [
       "0.9321"
      ]
     },
     "execution_count": 528,
     "metadata": {},
     "output_type": "execute_result"
    }
   ],
   "source": [
    "xtrain = xtrain.drop(labels=col_to_drop,axis=1)\n",
    "\n",
    "from statsmodels.api import OLS,add_constant\n",
    "xconst = add_constant(xtrain)\n",
    "ols = OLS(ytrain,xconst)\n",
    "model = ols.fit()\n",
    "\n",
    "round(model.rsquared_adj,4)"
   ]
  },
  {
   "cell_type": "code",
   "execution_count": 529,
   "id": "5f9ea6b1",
   "metadata": {},
   "outputs": [],
   "source": [
    "col_to_drop = list(model.pvalues.sort_values().index)[-1]\n",
    "col_to_keep = xtrain.columns"
   ]
  },
  {
   "cell_type": "code",
   "execution_count": 530,
   "id": "4832a047",
   "metadata": {},
   "outputs": [
    {
     "data": {
      "text/plain": [
       "0.9321"
      ]
     },
     "execution_count": 530,
     "metadata": {},
     "output_type": "execute_result"
    }
   ],
   "source": [
    "xtrain = xtrain.drop(labels=col_to_drop,axis=1)\n",
    "\n",
    "from statsmodels.api import OLS,add_constant\n",
    "xconst = add_constant(xtrain)\n",
    "ols = OLS(ytrain,xconst)\n",
    "model = ols.fit()\n",
    "\n",
    "round(model.rsquared_adj,4)"
   ]
  },
  {
   "cell_type": "code",
   "execution_count": 531,
   "id": "02621c2f",
   "metadata": {},
   "outputs": [],
   "source": [
    "col_to_drop = list(model.pvalues.sort_values().index)[-1]\n",
    "col_to_keep = xtrain.columns"
   ]
  },
  {
   "cell_type": "code",
   "execution_count": 532,
   "id": "59ae9c80",
   "metadata": {},
   "outputs": [
    {
     "data": {
      "text/plain": [
       "0.9321"
      ]
     },
     "execution_count": 532,
     "metadata": {},
     "output_type": "execute_result"
    }
   ],
   "source": [
    "xtrain = xtrain.drop(labels=col_to_drop,axis=1)\n",
    "\n",
    "from statsmodels.api import OLS,add_constant\n",
    "xconst = add_constant(xtrain)\n",
    "ols = OLS(ytrain,xconst)\n",
    "model = ols.fit()\n",
    "\n",
    "round(model.rsquared_adj,4)"
   ]
  },
  {
   "cell_type": "code",
   "execution_count": 533,
   "id": "5d9fefb0",
   "metadata": {},
   "outputs": [],
   "source": [
    "col_to_drop = list(model.pvalues.sort_values().index)[-1]\n",
    "col_to_keep = xtrain.columns"
   ]
  },
  {
   "cell_type": "code",
   "execution_count": 534,
   "id": "092a7489",
   "metadata": {},
   "outputs": [
    {
     "data": {
      "text/plain": [
       "0.9321"
      ]
     },
     "execution_count": 534,
     "metadata": {},
     "output_type": "execute_result"
    }
   ],
   "source": [
    "xtrain = xtrain.drop(labels=col_to_drop,axis=1)\n",
    "\n",
    "from statsmodels.api import OLS,add_constant\n",
    "xconst = add_constant(xtrain)\n",
    "ols = OLS(ytrain,xconst)\n",
    "model = ols.fit()\n",
    "\n",
    "round(model.rsquared_adj,4)"
   ]
  },
  {
   "cell_type": "code",
   "execution_count": 535,
   "id": "fccfd0c3",
   "metadata": {},
   "outputs": [],
   "source": [
    "col_to_drop = list(model.pvalues.sort_values().index)[-1]\n",
    "col_to_keep = xtrain.columns"
   ]
  },
  {
   "cell_type": "code",
   "execution_count": 536,
   "id": "2cefbe43",
   "metadata": {},
   "outputs": [
    {
     "data": {
      "text/plain": [
       "0.9321"
      ]
     },
     "execution_count": 536,
     "metadata": {},
     "output_type": "execute_result"
    }
   ],
   "source": [
    "xtrain = xtrain.drop(labels=col_to_drop,axis=1)\n",
    "\n",
    "from statsmodels.api import OLS,add_constant\n",
    "xconst = add_constant(xtrain)\n",
    "ols = OLS(ytrain,xconst)\n",
    "model = ols.fit()\n",
    "\n",
    "round(model.rsquared_adj,4)"
   ]
  },
  {
   "cell_type": "code",
   "execution_count": 537,
   "id": "846dc0c3",
   "metadata": {},
   "outputs": [],
   "source": [
    "col_to_drop = list(model.pvalues.sort_values().index)[-1]\n",
    "col_to_keep = xtrain.columns"
   ]
  },
  {
   "cell_type": "code",
   "execution_count": 538,
   "id": "710ca7e0",
   "metadata": {},
   "outputs": [
    {
     "data": {
      "text/plain": [
       "0.9321"
      ]
     },
     "execution_count": 538,
     "metadata": {},
     "output_type": "execute_result"
    }
   ],
   "source": [
    "xtrain = xtrain.drop(labels=col_to_drop,axis=1)\n",
    "\n",
    "from statsmodels.api import OLS,add_constant\n",
    "xconst = add_constant(xtrain)\n",
    "ols = OLS(ytrain,xconst)\n",
    "model = ols.fit()\n",
    "\n",
    "round(model.rsquared_adj,4)"
   ]
  },
  {
   "cell_type": "code",
   "execution_count": 539,
   "id": "5b2c1191",
   "metadata": {},
   "outputs": [],
   "source": [
    "col_to_drop = list(model.pvalues.sort_values().index)[-1]\n",
    "col_to_keep = xtrain.columns"
   ]
  },
  {
   "cell_type": "code",
   "execution_count": 540,
   "id": "415ec44a",
   "metadata": {},
   "outputs": [
    {
     "data": {
      "text/plain": [
       "0.9321"
      ]
     },
     "execution_count": 540,
     "metadata": {},
     "output_type": "execute_result"
    }
   ],
   "source": [
    "xtrain = xtrain.drop(labels=col_to_drop,axis=1)\n",
    "\n",
    "from statsmodels.api import OLS,add_constant\n",
    "xconst = add_constant(xtrain)\n",
    "ols = OLS(ytrain,xconst)\n",
    "model = ols.fit()\n",
    "\n",
    "round(model.rsquared_adj,4)"
   ]
  },
  {
   "cell_type": "code",
   "execution_count": 541,
   "id": "e550679e",
   "metadata": {},
   "outputs": [],
   "source": [
    "col_to_drop = list(model.pvalues.sort_values().index)[-1]\n",
    "col_to_keep = xtrain.columns"
   ]
  },
  {
   "cell_type": "code",
   "execution_count": 542,
   "id": "3ee38a52",
   "metadata": {},
   "outputs": [
    {
     "data": {
      "text/plain": [
       "0.9321"
      ]
     },
     "execution_count": 542,
     "metadata": {},
     "output_type": "execute_result"
    }
   ],
   "source": [
    "xtrain = xtrain.drop(labels=col_to_drop,axis=1)\n",
    "\n",
    "from statsmodels.api import OLS,add_constant\n",
    "xconst = add_constant(xtrain)\n",
    "ols = OLS(ytrain,xconst)\n",
    "model = ols.fit()\n",
    "\n",
    "round(model.rsquared_adj,4)"
   ]
  },
  {
   "cell_type": "code",
   "execution_count": 543,
   "id": "c53038a4",
   "metadata": {},
   "outputs": [],
   "source": [
    "col_to_drop = list(model.pvalues.sort_values().index)[-1]\n",
    "col_to_keep = xtrain.columns"
   ]
  },
  {
   "cell_type": "code",
   "execution_count": 544,
   "id": "e2027d0f",
   "metadata": {},
   "outputs": [
    {
     "data": {
      "text/plain": [
       "0.9323"
      ]
     },
     "execution_count": 544,
     "metadata": {},
     "output_type": "execute_result"
    }
   ],
   "source": [
    "xtrain = xtrain.drop(labels=col_to_drop,axis=1)\n",
    "\n",
    "from statsmodels.api import OLS,add_constant\n",
    "xconst = add_constant(xtrain)\n",
    "ols = OLS(ytrain,xconst)\n",
    "model = ols.fit()\n",
    "\n",
    "round(model.rsquared_adj,4)"
   ]
  },
  {
   "cell_type": "code",
   "execution_count": 545,
   "id": "5c73a29e",
   "metadata": {},
   "outputs": [],
   "source": [
    "col_to_drop = list(model.pvalues.sort_values().index)[-1]\n",
    "col_to_keep = xtrain.columns"
   ]
  },
  {
   "cell_type": "code",
   "execution_count": 546,
   "id": "4e77ae87",
   "metadata": {},
   "outputs": [
    {
     "data": {
      "text/plain": [
       "0.9323"
      ]
     },
     "execution_count": 546,
     "metadata": {},
     "output_type": "execute_result"
    }
   ],
   "source": [
    "xtrain = xtrain.drop(labels=col_to_drop,axis=1)\n",
    "\n",
    "from statsmodels.api import OLS,add_constant\n",
    "xconst = add_constant(xtrain)\n",
    "ols = OLS(ytrain,xconst)\n",
    "model = ols.fit()\n",
    "\n",
    "round(model.rsquared_adj,4)"
   ]
  },
  {
   "cell_type": "code",
   "execution_count": 547,
   "id": "ae1cdbdf",
   "metadata": {},
   "outputs": [],
   "source": [
    "col_to_drop = list(model.pvalues.sort_values().index)[-1]\n",
    "col_to_keep = xtrain.columns"
   ]
  },
  {
   "cell_type": "code",
   "execution_count": 548,
   "id": "1b38fc6d",
   "metadata": {},
   "outputs": [
    {
     "data": {
      "text/plain": [
       "0.9323"
      ]
     },
     "execution_count": 548,
     "metadata": {},
     "output_type": "execute_result"
    }
   ],
   "source": [
    "xtrain = xtrain.drop(labels=col_to_drop,axis=1)\n",
    "\n",
    "from statsmodels.api import OLS,add_constant\n",
    "xconst = add_constant(xtrain)\n",
    "ols = OLS(ytrain,xconst)\n",
    "model = ols.fit()\n",
    "\n",
    "round(model.rsquared_adj,4)"
   ]
  },
  {
   "cell_type": "code",
   "execution_count": 549,
   "id": "34ccbe90",
   "metadata": {},
   "outputs": [],
   "source": [
    "col_to_drop = list(model.pvalues.sort_values().index)[-1]\n",
    "col_to_keep = xtrain.columns"
   ]
  },
  {
   "cell_type": "code",
   "execution_count": 550,
   "id": "6ed4981c",
   "metadata": {},
   "outputs": [
    {
     "data": {
      "text/plain": [
       "0.9323"
      ]
     },
     "execution_count": 550,
     "metadata": {},
     "output_type": "execute_result"
    }
   ],
   "source": [
    "xtrain = xtrain.drop(labels=col_to_drop,axis=1)\n",
    "\n",
    "from statsmodels.api import OLS,add_constant\n",
    "xconst = add_constant(xtrain)\n",
    "ols = OLS(ytrain,xconst)\n",
    "model = ols.fit()\n",
    "\n",
    "round(model.rsquared_adj,4)"
   ]
  },
  {
   "cell_type": "code",
   "execution_count": 551,
   "id": "10d70015",
   "metadata": {},
   "outputs": [],
   "source": [
    "col_to_drop = list(model.pvalues.sort_values().index)[-1]\n",
    "col_to_keep = xtrain.columns"
   ]
  },
  {
   "cell_type": "code",
   "execution_count": 552,
   "id": "8b67ced6",
   "metadata": {},
   "outputs": [
    {
     "data": {
      "text/plain": [
       "0.9323"
      ]
     },
     "execution_count": 552,
     "metadata": {},
     "output_type": "execute_result"
    }
   ],
   "source": [
    "xtrain = xtrain.drop(labels=col_to_drop,axis=1)\n",
    "\n",
    "from statsmodels.api import OLS,add_constant\n",
    "xconst = add_constant(xtrain)\n",
    "ols = OLS(ytrain,xconst)\n",
    "model = ols.fit()\n",
    "\n",
    "round(model.rsquared_adj,4)"
   ]
  },
  {
   "cell_type": "code",
   "execution_count": 553,
   "id": "138f3f65",
   "metadata": {},
   "outputs": [],
   "source": [
    "col_to_drop = list(model.pvalues.sort_values().index)[-1]\n",
    "col_to_keep = xtrain.columns"
   ]
  },
  {
   "cell_type": "code",
   "execution_count": 554,
   "id": "9c61d84d",
   "metadata": {},
   "outputs": [
    {
     "data": {
      "text/plain": [
       "0.9323"
      ]
     },
     "execution_count": 554,
     "metadata": {},
     "output_type": "execute_result"
    }
   ],
   "source": [
    "xtrain = xtrain.drop(labels=col_to_drop,axis=1)\n",
    "\n",
    "from statsmodels.api import OLS,add_constant\n",
    "xconst = add_constant(xtrain)\n",
    "ols = OLS(ytrain,xconst)\n",
    "model = ols.fit()\n",
    "\n",
    "round(model.rsquared_adj,4)"
   ]
  },
  {
   "cell_type": "code",
   "execution_count": 555,
   "id": "4b7ccf89",
   "metadata": {},
   "outputs": [],
   "source": [
    "col_to_drop = list(model.pvalues.sort_values().index)[-1]\n",
    "col_to_keep = xtrain.columns"
   ]
  },
  {
   "cell_type": "code",
   "execution_count": 556,
   "id": "393fc5cd",
   "metadata": {},
   "outputs": [
    {
     "data": {
      "text/plain": [
       "0.9323"
      ]
     },
     "execution_count": 556,
     "metadata": {},
     "output_type": "execute_result"
    }
   ],
   "source": [
    "xtrain = xtrain.drop(labels=col_to_drop,axis=1)\n",
    "\n",
    "from statsmodels.api import OLS,add_constant\n",
    "xconst = add_constant(xtrain)\n",
    "ols = OLS(ytrain,xconst)\n",
    "model = ols.fit()\n",
    "\n",
    "round(model.rsquared_adj,4)"
   ]
  },
  {
   "cell_type": "code",
   "execution_count": 557,
   "id": "84bba730",
   "metadata": {},
   "outputs": [],
   "source": [
    "col_to_drop = list(model.pvalues.sort_values().index)[-1]\n",
    "col_to_keep = xtrain.columns"
   ]
  },
  {
   "cell_type": "code",
   "execution_count": 558,
   "id": "9b37b7d4",
   "metadata": {},
   "outputs": [
    {
     "data": {
      "text/plain": [
       "0.9323"
      ]
     },
     "execution_count": 558,
     "metadata": {},
     "output_type": "execute_result"
    }
   ],
   "source": [
    "xtrain = xtrain.drop(labels=col_to_drop,axis=1)\n",
    "\n",
    "from statsmodels.api import OLS,add_constant\n",
    "xconst = add_constant(xtrain)\n",
    "ols = OLS(ytrain,xconst)\n",
    "model = ols.fit()\n",
    "\n",
    "round(model.rsquared_adj,4)"
   ]
  },
  {
   "cell_type": "code",
   "execution_count": 559,
   "id": "97b8de1f",
   "metadata": {},
   "outputs": [],
   "source": [
    "col_to_drop = list(model.pvalues.sort_values().index)[-1]\n",
    "col_to_keep = xtrain.columns"
   ]
  },
  {
   "cell_type": "code",
   "execution_count": 560,
   "id": "aba491a1",
   "metadata": {},
   "outputs": [
    {
     "data": {
      "text/plain": [
       "0.9323"
      ]
     },
     "execution_count": 560,
     "metadata": {},
     "output_type": "execute_result"
    }
   ],
   "source": [
    "xtrain = xtrain.drop(labels=col_to_drop,axis=1)\n",
    "\n",
    "from statsmodels.api import OLS,add_constant\n",
    "xconst = add_constant(xtrain)\n",
    "ols = OLS(ytrain,xconst)\n",
    "model = ols.fit()\n",
    "\n",
    "round(model.rsquared_adj,4)"
   ]
  },
  {
   "cell_type": "code",
   "execution_count": 561,
   "id": "c4f5022c",
   "metadata": {},
   "outputs": [],
   "source": [
    "col_to_drop = list(model.pvalues.sort_values().index)[-1]\n",
    "col_to_keep = xtrain.columns"
   ]
  },
  {
   "cell_type": "code",
   "execution_count": 562,
   "id": "45316acc",
   "metadata": {},
   "outputs": [
    {
     "data": {
      "text/plain": [
       "0.9323"
      ]
     },
     "execution_count": 562,
     "metadata": {},
     "output_type": "execute_result"
    }
   ],
   "source": [
    "xtrain = xtrain.drop(labels=col_to_drop,axis=1)\n",
    "\n",
    "from statsmodels.api import OLS,add_constant\n",
    "xconst = add_constant(xtrain)\n",
    "ols = OLS(ytrain,xconst)\n",
    "model = ols.fit()\n",
    "\n",
    "round(model.rsquared_adj,4)"
   ]
  },
  {
   "cell_type": "code",
   "execution_count": 563,
   "id": "7ffdc411",
   "metadata": {},
   "outputs": [],
   "source": [
    "col_to_drop = list(model.pvalues.sort_values().index)[-1]\n",
    "col_to_keep = xtrain.columns"
   ]
  },
  {
   "cell_type": "code",
   "execution_count": 564,
   "id": "058407fe",
   "metadata": {},
   "outputs": [
    {
     "data": {
      "text/plain": [
       "0.9324"
      ]
     },
     "execution_count": 564,
     "metadata": {},
     "output_type": "execute_result"
    }
   ],
   "source": [
    "xtrain = xtrain.drop(labels=col_to_drop,axis=1)\n",
    "\n",
    "from statsmodels.api import OLS,add_constant\n",
    "xconst = add_constant(xtrain)\n",
    "ols = OLS(ytrain,xconst)\n",
    "model = ols.fit()\n",
    "\n",
    "round(model.rsquared_adj,4)"
   ]
  },
  {
   "cell_type": "code",
   "execution_count": 565,
   "id": "e8905ad9",
   "metadata": {},
   "outputs": [],
   "source": [
    "col_to_drop = list(model.pvalues.sort_values().index)[-1]\n",
    "col_to_keep = xtrain.columns"
   ]
  },
  {
   "cell_type": "code",
   "execution_count": 566,
   "id": "1a4a2bae",
   "metadata": {},
   "outputs": [
    {
     "data": {
      "text/plain": [
       "0.9324"
      ]
     },
     "execution_count": 566,
     "metadata": {},
     "output_type": "execute_result"
    }
   ],
   "source": [
    "xtrain = xtrain.drop(labels=col_to_drop,axis=1)\n",
    "\n",
    "from statsmodels.api import OLS,add_constant\n",
    "xconst = add_constant(xtrain)\n",
    "ols = OLS(ytrain,xconst)\n",
    "model = ols.fit()\n",
    "\n",
    "round(model.rsquared_adj,4)"
   ]
  },
  {
   "cell_type": "code",
   "execution_count": 567,
   "id": "565f2948",
   "metadata": {},
   "outputs": [],
   "source": [
    "col_to_drop = list(model.pvalues.sort_values().index)[-1]\n",
    "col_to_keep = xtrain.columns"
   ]
  },
  {
   "cell_type": "code",
   "execution_count": 568,
   "id": "72d0b936",
   "metadata": {},
   "outputs": [
    {
     "data": {
      "text/plain": [
       "0.9324"
      ]
     },
     "execution_count": 568,
     "metadata": {},
     "output_type": "execute_result"
    }
   ],
   "source": [
    "xtrain = xtrain.drop(labels=col_to_drop,axis=1)\n",
    "\n",
    "from statsmodels.api import OLS,add_constant\n",
    "xconst = add_constant(xtrain)\n",
    "ols = OLS(ytrain,xconst)\n",
    "model = ols.fit()\n",
    "\n",
    "round(model.rsquared_adj,4)"
   ]
  },
  {
   "cell_type": "code",
   "execution_count": 569,
   "id": "0c961ddc",
   "metadata": {},
   "outputs": [],
   "source": [
    "col_to_drop = list(model.pvalues.sort_values().index)[-1]\n",
    "col_to_keep = xtrain.columns"
   ]
  },
  {
   "cell_type": "code",
   "execution_count": 570,
   "id": "398a9c07",
   "metadata": {},
   "outputs": [
    {
     "data": {
      "text/plain": [
       "0.9324"
      ]
     },
     "execution_count": 570,
     "metadata": {},
     "output_type": "execute_result"
    }
   ],
   "source": [
    "xtrain = xtrain.drop(labels=col_to_drop,axis=1)\n",
    "\n",
    "from statsmodels.api import OLS,add_constant\n",
    "xconst = add_constant(xtrain)\n",
    "ols = OLS(ytrain,xconst)\n",
    "model = ols.fit()\n",
    "\n",
    "round(model.rsquared_adj,4)"
   ]
  },
  {
   "cell_type": "code",
   "execution_count": 571,
   "id": "2424cbbe",
   "metadata": {},
   "outputs": [],
   "source": [
    "col_to_drop = list(model.pvalues.sort_values().index)[-1]\n",
    "col_to_keep = xtrain.columns"
   ]
  },
  {
   "cell_type": "code",
   "execution_count": 572,
   "id": "309cdc07",
   "metadata": {},
   "outputs": [
    {
     "data": {
      "text/plain": [
       "0.9325"
      ]
     },
     "execution_count": 572,
     "metadata": {},
     "output_type": "execute_result"
    }
   ],
   "source": [
    "xtrain = xtrain.drop(labels=col_to_drop,axis=1)\n",
    "\n",
    "from statsmodels.api import OLS,add_constant\n",
    "xconst = add_constant(xtrain)\n",
    "ols = OLS(ytrain,xconst)\n",
    "model = ols.fit()\n",
    "\n",
    "round(model.rsquared_adj,4)"
   ]
  },
  {
   "cell_type": "code",
   "execution_count": 573,
   "id": "04877645",
   "metadata": {},
   "outputs": [],
   "source": [
    "col_to_drop = list(model.pvalues.sort_values().index)[-1]\n",
    "col_to_keep = xtrain.columns"
   ]
  },
  {
   "cell_type": "code",
   "execution_count": 574,
   "id": "f3e26123",
   "metadata": {},
   "outputs": [
    {
     "data": {
      "text/plain": [
       "0.9325"
      ]
     },
     "execution_count": 574,
     "metadata": {},
     "output_type": "execute_result"
    }
   ],
   "source": [
    "xtrain = xtrain.drop(labels=col_to_drop,axis=1)\n",
    "\n",
    "from statsmodels.api import OLS,add_constant\n",
    "xconst = add_constant(xtrain)\n",
    "ols = OLS(ytrain,xconst)\n",
    "model = ols.fit()\n",
    "\n",
    "round(model.rsquared_adj,4)"
   ]
  },
  {
   "cell_type": "code",
   "execution_count": 575,
   "id": "8ea70b39",
   "metadata": {},
   "outputs": [],
   "source": [
    "col_to_drop = list(model.pvalues.sort_values().index)[-1]\n",
    "col_to_keep = xtrain.columns"
   ]
  },
  {
   "cell_type": "code",
   "execution_count": 576,
   "id": "9651790b",
   "metadata": {},
   "outputs": [
    {
     "data": {
      "text/plain": [
       "0.9326"
      ]
     },
     "execution_count": 576,
     "metadata": {},
     "output_type": "execute_result"
    }
   ],
   "source": [
    "xtrain = xtrain.drop(labels=col_to_drop,axis=1)\n",
    "\n",
    "from statsmodels.api import OLS,add_constant\n",
    "xconst = add_constant(xtrain)\n",
    "ols = OLS(ytrain,xconst)\n",
    "model = ols.fit()\n",
    "\n",
    "round(model.rsquared_adj,4)"
   ]
  },
  {
   "cell_type": "code",
   "execution_count": 577,
   "id": "43bd3d08",
   "metadata": {},
   "outputs": [],
   "source": [
    "col_to_drop = list(model.pvalues.sort_values().index)[-1]\n",
    "col_to_keep = xtrain.columns"
   ]
  },
  {
   "cell_type": "code",
   "execution_count": 578,
   "id": "ed860095",
   "metadata": {},
   "outputs": [
    {
     "data": {
      "text/plain": [
       "0.9326"
      ]
     },
     "execution_count": 578,
     "metadata": {},
     "output_type": "execute_result"
    }
   ],
   "source": [
    "xtrain = xtrain.drop(labels=col_to_drop,axis=1)\n",
    "\n",
    "from statsmodels.api import OLS,add_constant\n",
    "xconst = add_constant(xtrain)\n",
    "ols = OLS(ytrain,xconst)\n",
    "model = ols.fit()\n",
    "\n",
    "round(model.rsquared_adj,4)"
   ]
  },
  {
   "cell_type": "code",
   "execution_count": 579,
   "id": "067878a8",
   "metadata": {},
   "outputs": [],
   "source": [
    "col_to_drop = list(model.pvalues.sort_values().index)[-1]\n",
    "col_to_keep = xtrain.columns"
   ]
  },
  {
   "cell_type": "code",
   "execution_count": 580,
   "id": "119f5a24",
   "metadata": {},
   "outputs": [
    {
     "data": {
      "text/plain": [
       "0.9327"
      ]
     },
     "execution_count": 580,
     "metadata": {},
     "output_type": "execute_result"
    }
   ],
   "source": [
    "xtrain = xtrain.drop(labels=col_to_drop,axis=1)\n",
    "\n",
    "from statsmodels.api import OLS,add_constant\n",
    "xconst = add_constant(xtrain)\n",
    "ols = OLS(ytrain,xconst)\n",
    "model = ols.fit()\n",
    "\n",
    "round(model.rsquared_adj,4)"
   ]
  },
  {
   "cell_type": "code",
   "execution_count": 581,
   "id": "b859278a",
   "metadata": {},
   "outputs": [],
   "source": [
    "col_to_drop = list(model.pvalues.sort_values().index)[-1]\n",
    "col_to_keep = xtrain.columns"
   ]
  },
  {
   "cell_type": "code",
   "execution_count": 582,
   "id": "a2699d95",
   "metadata": {},
   "outputs": [
    {
     "data": {
      "text/plain": [
       "0.9328"
      ]
     },
     "execution_count": 582,
     "metadata": {},
     "output_type": "execute_result"
    }
   ],
   "source": [
    "xtrain = xtrain.drop(labels=col_to_drop,axis=1)\n",
    "\n",
    "from statsmodels.api import OLS,add_constant\n",
    "xconst = add_constant(xtrain)\n",
    "ols = OLS(ytrain,xconst)\n",
    "model = ols.fit()\n",
    "\n",
    "round(model.rsquared_adj,4)"
   ]
  },
  {
   "cell_type": "code",
   "execution_count": 583,
   "id": "8b831641",
   "metadata": {},
   "outputs": [],
   "source": [
    "col_to_drop = list(model.pvalues.sort_values().index)[-1]\n",
    "col_to_keep = xtrain.columns"
   ]
  },
  {
   "cell_type": "code",
   "execution_count": 584,
   "id": "f79860c8",
   "metadata": {},
   "outputs": [
    {
     "data": {
      "text/plain": [
       "0.9328"
      ]
     },
     "execution_count": 584,
     "metadata": {},
     "output_type": "execute_result"
    }
   ],
   "source": [
    "xtrain = xtrain.drop(labels=col_to_drop,axis=1)\n",
    "\n",
    "from statsmodels.api import OLS,add_constant\n",
    "xconst = add_constant(xtrain)\n",
    "ols = OLS(ytrain,xconst)\n",
    "model = ols.fit()\n",
    "\n",
    "round(model.rsquared_adj,4)"
   ]
  },
  {
   "cell_type": "code",
   "execution_count": 585,
   "id": "be13b5bf",
   "metadata": {},
   "outputs": [],
   "source": [
    "col_to_drop = list(model.pvalues.sort_values().index)[-1]\n",
    "col_to_keep = xtrain.columns"
   ]
  },
  {
   "cell_type": "code",
   "execution_count": 586,
   "id": "34ea4ed2",
   "metadata": {},
   "outputs": [
    {
     "data": {
      "text/plain": [
       "0.9329"
      ]
     },
     "execution_count": 586,
     "metadata": {},
     "output_type": "execute_result"
    }
   ],
   "source": [
    "xtrain = xtrain.drop(labels=col_to_drop,axis=1)\n",
    "\n",
    "from statsmodels.api import OLS,add_constant\n",
    "xconst = add_constant(xtrain)\n",
    "ols = OLS(ytrain,xconst)\n",
    "model = ols.fit()\n",
    "\n",
    "round(model.rsquared_adj,4)"
   ]
  },
  {
   "cell_type": "code",
   "execution_count": 587,
   "id": "830cdc6f",
   "metadata": {},
   "outputs": [],
   "source": [
    "col_to_drop = list(model.pvalues.sort_values().index)[-1]\n",
    "col_to_keep = xtrain.columns"
   ]
  },
  {
   "cell_type": "code",
   "execution_count": 588,
   "id": "8323aa7b",
   "metadata": {},
   "outputs": [
    {
     "data": {
      "text/plain": [
       "0.933"
      ]
     },
     "execution_count": 588,
     "metadata": {},
     "output_type": "execute_result"
    }
   ],
   "source": [
    "xtrain = xtrain.drop(labels=col_to_drop,axis=1)\n",
    "\n",
    "from statsmodels.api import OLS,add_constant\n",
    "xconst = add_constant(xtrain)\n",
    "ols = OLS(ytrain,xconst)\n",
    "model = ols.fit()\n",
    "\n",
    "round(model.rsquared_adj,4)"
   ]
  },
  {
   "cell_type": "code",
   "execution_count": 589,
   "id": "e10650d1",
   "metadata": {},
   "outputs": [],
   "source": [
    "col_to_drop = list(model.pvalues.sort_values().index)[-1]\n",
    "col_to_keep = xtrain.columns"
   ]
  },
  {
   "cell_type": "code",
   "execution_count": 590,
   "id": "14a87a5b",
   "metadata": {},
   "outputs": [
    {
     "data": {
      "text/plain": [
       "0.9332"
      ]
     },
     "execution_count": 590,
     "metadata": {},
     "output_type": "execute_result"
    }
   ],
   "source": [
    "xtrain = xtrain.drop(labels=col_to_drop,axis=1)\n",
    "\n",
    "from statsmodels.api import OLS,add_constant\n",
    "xconst = add_constant(xtrain)\n",
    "ols = OLS(ytrain,xconst)\n",
    "model = ols.fit()\n",
    "\n",
    "round(model.rsquared_adj,4)"
   ]
  },
  {
   "cell_type": "code",
   "execution_count": 591,
   "id": "8a5f3192",
   "metadata": {},
   "outputs": [],
   "source": [
    "col_to_drop = list(model.pvalues.sort_values().index)[-1]\n",
    "col_to_keep = xtrain.columns"
   ]
  },
  {
   "cell_type": "code",
   "execution_count": 592,
   "id": "da043815",
   "metadata": {},
   "outputs": [
    {
     "data": {
      "text/plain": [
       "0.9332"
      ]
     },
     "execution_count": 592,
     "metadata": {},
     "output_type": "execute_result"
    }
   ],
   "source": [
    "xtrain = xtrain.drop(labels=col_to_drop,axis=1)\n",
    "\n",
    "from statsmodels.api import OLS,add_constant\n",
    "xconst = add_constant(xtrain)\n",
    "ols = OLS(ytrain,xconst)\n",
    "model = ols.fit()\n",
    "\n",
    "round(model.rsquared_adj,4)"
   ]
  },
  {
   "cell_type": "code",
   "execution_count": 593,
   "id": "e5a6d612",
   "metadata": {},
   "outputs": [],
   "source": [
    "col_to_drop = list(model.pvalues.sort_values().index)[-1]\n",
    "col_to_keep = xtrain.columns"
   ]
  },
  {
   "cell_type": "code",
   "execution_count": 594,
   "id": "1e697535",
   "metadata": {},
   "outputs": [
    {
     "data": {
      "text/plain": [
       "0.9332"
      ]
     },
     "execution_count": 594,
     "metadata": {},
     "output_type": "execute_result"
    }
   ],
   "source": [
    "xtrain = xtrain.drop(labels=col_to_drop,axis=1)\n",
    "\n",
    "from statsmodels.api import OLS,add_constant\n",
    "xconst = add_constant(xtrain)\n",
    "ols = OLS(ytrain,xconst)\n",
    "model = ols.fit()\n",
    "\n",
    "round(model.rsquared_adj,4)"
   ]
  },
  {
   "cell_type": "code",
   "execution_count": 595,
   "id": "ea483774",
   "metadata": {},
   "outputs": [],
   "source": [
    "col_to_drop = list(model.pvalues.sort_values().index)[-1]\n",
    "col_to_keep = xtrain.columns"
   ]
  },
  {
   "cell_type": "code",
   "execution_count": 596,
   "id": "fa1ee593",
   "metadata": {},
   "outputs": [
    {
     "data": {
      "text/plain": [
       "0.9332"
      ]
     },
     "execution_count": 596,
     "metadata": {},
     "output_type": "execute_result"
    }
   ],
   "source": [
    "xtrain = xtrain.drop(labels=col_to_drop,axis=1)\n",
    "\n",
    "from statsmodels.api import OLS,add_constant\n",
    "xconst = add_constant(xtrain)\n",
    "ols = OLS(ytrain,xconst)\n",
    "model = ols.fit()\n",
    "\n",
    "round(model.rsquared_adj,4)"
   ]
  },
  {
   "cell_type": "code",
   "execution_count": 597,
   "id": "468a5296",
   "metadata": {},
   "outputs": [],
   "source": [
    "col_to_drop = list(model.pvalues.sort_values().index)[-1]\n",
    "col_to_keep = xtrain.columns"
   ]
  },
  {
   "cell_type": "code",
   "execution_count": 598,
   "id": "0081c79b",
   "metadata": {},
   "outputs": [
    {
     "data": {
      "text/plain": [
       "0.9332"
      ]
     },
     "execution_count": 598,
     "metadata": {},
     "output_type": "execute_result"
    }
   ],
   "source": [
    "xtrain = xtrain.drop(labels=col_to_drop,axis=1)\n",
    "\n",
    "from statsmodels.api import OLS,add_constant\n",
    "xconst = add_constant(xtrain)\n",
    "ols = OLS(ytrain,xconst)\n",
    "model = ols.fit()\n",
    "\n",
    "round(model.rsquared_adj,4)"
   ]
  },
  {
   "cell_type": "code",
   "execution_count": 599,
   "id": "0990b944",
   "metadata": {},
   "outputs": [],
   "source": [
    "col_to_drop = list(model.pvalues.sort_values().index)[-1]\n",
    "col_to_keep = xtrain.columns"
   ]
  },
  {
   "cell_type": "code",
   "execution_count": 600,
   "id": "dcb7f0e1",
   "metadata": {},
   "outputs": [
    {
     "data": {
      "text/plain": [
       "0.9333"
      ]
     },
     "execution_count": 600,
     "metadata": {},
     "output_type": "execute_result"
    }
   ],
   "source": [
    "xtrain = xtrain.drop(labels=col_to_drop,axis=1)\n",
    "\n",
    "from statsmodels.api import OLS,add_constant\n",
    "xconst = add_constant(xtrain)\n",
    "ols = OLS(ytrain,xconst)\n",
    "model = ols.fit()\n",
    "\n",
    "round(model.rsquared_adj,4)"
   ]
  },
  {
   "cell_type": "code",
   "execution_count": 601,
   "id": "a1efe3ad",
   "metadata": {},
   "outputs": [],
   "source": [
    "col_to_drop = list(model.pvalues.sort_values().index)[-1]\n",
    "col_to_keep = xtrain.columns"
   ]
  },
  {
   "cell_type": "code",
   "execution_count": 602,
   "id": "a7a94b9b",
   "metadata": {},
   "outputs": [
    {
     "data": {
      "text/plain": [
       "0.9334"
      ]
     },
     "execution_count": 602,
     "metadata": {},
     "output_type": "execute_result"
    }
   ],
   "source": [
    "xtrain = xtrain.drop(labels=col_to_drop,axis=1)\n",
    "\n",
    "from statsmodels.api import OLS,add_constant\n",
    "xconst = add_constant(xtrain)\n",
    "ols = OLS(ytrain,xconst)\n",
    "model = ols.fit()\n",
    "\n",
    "round(model.rsquared_adj,4)"
   ]
  },
  {
   "cell_type": "code",
   "execution_count": 603,
   "id": "4229e2e8",
   "metadata": {},
   "outputs": [],
   "source": [
    "col_to_drop = list(model.pvalues.sort_values().index)[-1]\n",
    "col_to_keep = xtrain.columns"
   ]
  },
  {
   "cell_type": "code",
   "execution_count": 604,
   "id": "cdd530e1",
   "metadata": {},
   "outputs": [
    {
     "data": {
      "text/plain": [
       "0.9334"
      ]
     },
     "execution_count": 604,
     "metadata": {},
     "output_type": "execute_result"
    }
   ],
   "source": [
    "xtrain = xtrain.drop(labels=col_to_drop,axis=1)\n",
    "\n",
    "from statsmodels.api import OLS,add_constant\n",
    "xconst = add_constant(xtrain)\n",
    "ols = OLS(ytrain,xconst)\n",
    "model = ols.fit()\n",
    "\n",
    "round(model.rsquared_adj,4)"
   ]
  },
  {
   "cell_type": "code",
   "execution_count": 605,
   "id": "0a760cbc",
   "metadata": {},
   "outputs": [],
   "source": [
    "col_to_drop = list(model.pvalues.sort_values().index)[-1]\n",
    "col_to_keep = xtrain.columns"
   ]
  },
  {
   "cell_type": "code",
   "execution_count": 606,
   "id": "c22dfbb5",
   "metadata": {},
   "outputs": [
    {
     "data": {
      "text/plain": [
       "0.9335"
      ]
     },
     "execution_count": 606,
     "metadata": {},
     "output_type": "execute_result"
    }
   ],
   "source": [
    "xtrain = xtrain.drop(labels=col_to_drop,axis=1)\n",
    "\n",
    "from statsmodels.api import OLS,add_constant\n",
    "xconst = add_constant(xtrain)\n",
    "ols = OLS(ytrain,xconst)\n",
    "model = ols.fit()\n",
    "\n",
    "round(model.rsquared_adj,4)"
   ]
  },
  {
   "cell_type": "code",
   "execution_count": 607,
   "id": "8453efd6",
   "metadata": {},
   "outputs": [],
   "source": [
    "col_to_drop = list(model.pvalues.sort_values().index)[-1]\n",
    "col_to_keep = xtrain.columns"
   ]
  },
  {
   "cell_type": "code",
   "execution_count": 608,
   "id": "6041ea24",
   "metadata": {},
   "outputs": [
    {
     "data": {
      "text/plain": [
       "0.9336"
      ]
     },
     "execution_count": 608,
     "metadata": {},
     "output_type": "execute_result"
    }
   ],
   "source": [
    "xtrain = xtrain.drop(labels=col_to_drop,axis=1)\n",
    "\n",
    "from statsmodels.api import OLS,add_constant\n",
    "xconst = add_constant(xtrain)\n",
    "ols = OLS(ytrain,xconst)\n",
    "model = ols.fit()\n",
    "\n",
    "round(model.rsquared_adj,4)"
   ]
  },
  {
   "cell_type": "code",
   "execution_count": 609,
   "id": "8e1112a4",
   "metadata": {},
   "outputs": [],
   "source": [
    "col_to_drop = list(model.pvalues.sort_values().index)[-1]\n",
    "col_to_keep = xtrain.columns"
   ]
  },
  {
   "cell_type": "code",
   "execution_count": 610,
   "id": "48e59718",
   "metadata": {},
   "outputs": [
    {
     "data": {
      "text/plain": [
       "0.9337"
      ]
     },
     "execution_count": 610,
     "metadata": {},
     "output_type": "execute_result"
    }
   ],
   "source": [
    "xtrain = xtrain.drop(labels=col_to_drop,axis=1)\n",
    "\n",
    "from statsmodels.api import OLS,add_constant\n",
    "xconst = add_constant(xtrain)\n",
    "ols = OLS(ytrain,xconst)\n",
    "model = ols.fit()\n",
    "\n",
    "round(model.rsquared_adj,4)"
   ]
  },
  {
   "cell_type": "code",
   "execution_count": 611,
   "id": "495ed90b",
   "metadata": {},
   "outputs": [],
   "source": [
    "col_to_drop = list(model.pvalues.sort_values().index)[-1]\n",
    "col_to_keep = xtrain.columns"
   ]
  },
  {
   "cell_type": "code",
   "execution_count": 612,
   "id": "492ea97e",
   "metadata": {},
   "outputs": [
    {
     "data": {
      "text/plain": [
       "0.9337"
      ]
     },
     "execution_count": 612,
     "metadata": {},
     "output_type": "execute_result"
    }
   ],
   "source": [
    "xtrain = xtrain.drop(labels=col_to_drop,axis=1)\n",
    "\n",
    "from statsmodels.api import OLS,add_constant\n",
    "xconst = add_constant(xtrain)\n",
    "ols = OLS(ytrain,xconst)\n",
    "model = ols.fit()\n",
    "\n",
    "round(model.rsquared_adj,4)"
   ]
  },
  {
   "cell_type": "code",
   "execution_count": 613,
   "id": "d532a26b",
   "metadata": {},
   "outputs": [],
   "source": [
    "col_to_drop = list(model.pvalues.sort_values().index)[-1]\n",
    "col_to_keep = xtrain.columns"
   ]
  },
  {
   "cell_type": "code",
   "execution_count": 614,
   "id": "07762c00",
   "metadata": {},
   "outputs": [
    {
     "data": {
      "text/plain": [
       "0.9338"
      ]
     },
     "execution_count": 614,
     "metadata": {},
     "output_type": "execute_result"
    }
   ],
   "source": [
    "xtrain = xtrain.drop(labels=col_to_drop,axis=1)\n",
    "\n",
    "from statsmodels.api import OLS,add_constant\n",
    "xconst = add_constant(xtrain)\n",
    "ols = OLS(ytrain,xconst)\n",
    "model = ols.fit()\n",
    "\n",
    "round(model.rsquared_adj,4)"
   ]
  },
  {
   "cell_type": "code",
   "execution_count": 615,
   "id": "d6ecf54f",
   "metadata": {},
   "outputs": [],
   "source": [
    "col_to_drop = list(model.pvalues.sort_values().index)[-1]\n",
    "col_to_keep = xtrain.columns"
   ]
  },
  {
   "cell_type": "code",
   "execution_count": 616,
   "id": "28df56ed",
   "metadata": {},
   "outputs": [
    {
     "data": {
      "text/plain": [
       "0.9339"
      ]
     },
     "execution_count": 616,
     "metadata": {},
     "output_type": "execute_result"
    }
   ],
   "source": [
    "xtrain = xtrain.drop(labels=col_to_drop,axis=1)\n",
    "\n",
    "from statsmodels.api import OLS,add_constant\n",
    "xconst = add_constant(xtrain)\n",
    "ols = OLS(ytrain,xconst)\n",
    "model = ols.fit()\n",
    "\n",
    "round(model.rsquared_adj,4)"
   ]
  },
  {
   "cell_type": "code",
   "execution_count": 617,
   "id": "6c4b6018",
   "metadata": {},
   "outputs": [],
   "source": [
    "col_to_drop = list(model.pvalues.sort_values().index)[-1]\n",
    "col_to_keep = xtrain.columns"
   ]
  },
  {
   "cell_type": "code",
   "execution_count": 618,
   "id": "a9bb3bc5",
   "metadata": {},
   "outputs": [
    {
     "data": {
      "text/plain": [
       "0.934"
      ]
     },
     "execution_count": 618,
     "metadata": {},
     "output_type": "execute_result"
    }
   ],
   "source": [
    "xtrain = xtrain.drop(labels=col_to_drop,axis=1)\n",
    "\n",
    "from statsmodels.api import OLS,add_constant\n",
    "xconst = add_constant(xtrain)\n",
    "ols = OLS(ytrain,xconst)\n",
    "model = ols.fit()\n",
    "\n",
    "round(model.rsquared_adj,4)"
   ]
  },
  {
   "cell_type": "code",
   "execution_count": 619,
   "id": "5c90835e",
   "metadata": {},
   "outputs": [],
   "source": [
    "col_to_drop = list(model.pvalues.sort_values().index)[-1]\n",
    "col_to_keep = xtrain.columns"
   ]
  },
  {
   "cell_type": "code",
   "execution_count": 620,
   "id": "cd571454",
   "metadata": {},
   "outputs": [
    {
     "data": {
      "text/plain": [
       "0.934"
      ]
     },
     "execution_count": 620,
     "metadata": {},
     "output_type": "execute_result"
    }
   ],
   "source": [
    "xtrain = xtrain.drop(labels=col_to_drop,axis=1)\n",
    "\n",
    "from statsmodels.api import OLS,add_constant\n",
    "xconst = add_constant(xtrain)\n",
    "ols = OLS(ytrain,xconst)\n",
    "model = ols.fit()\n",
    "\n",
    "round(model.rsquared_adj,4)"
   ]
  },
  {
   "cell_type": "code",
   "execution_count": 621,
   "id": "5780bdc0",
   "metadata": {},
   "outputs": [],
   "source": [
    "col_to_drop = list(model.pvalues.sort_values().index)[-1]\n",
    "col_to_keep = xtrain.columns"
   ]
  },
  {
   "cell_type": "code",
   "execution_count": 622,
   "id": "a0aed819",
   "metadata": {},
   "outputs": [
    {
     "data": {
      "text/plain": [
       "0.9341"
      ]
     },
     "execution_count": 622,
     "metadata": {},
     "output_type": "execute_result"
    }
   ],
   "source": [
    "xtrain = xtrain.drop(labels=col_to_drop,axis=1)\n",
    "\n",
    "from statsmodels.api import OLS,add_constant\n",
    "xconst = add_constant(xtrain)\n",
    "ols = OLS(ytrain,xconst)\n",
    "model = ols.fit()\n",
    "\n",
    "round(model.rsquared_adj,4)"
   ]
  },
  {
   "cell_type": "code",
   "execution_count": 623,
   "id": "1f6fe714",
   "metadata": {},
   "outputs": [],
   "source": [
    "col_to_drop = list(model.pvalues.sort_values().index)[-1]\n",
    "col_to_keep = xtrain.columns"
   ]
  },
  {
   "cell_type": "code",
   "execution_count": 624,
   "id": "8ad03251",
   "metadata": {},
   "outputs": [
    {
     "data": {
      "text/plain": [
       "0.9341"
      ]
     },
     "execution_count": 624,
     "metadata": {},
     "output_type": "execute_result"
    }
   ],
   "source": [
    "xtrain = xtrain.drop(labels=col_to_drop,axis=1)\n",
    "\n",
    "from statsmodels.api import OLS,add_constant\n",
    "xconst = add_constant(xtrain)\n",
    "ols = OLS(ytrain,xconst)\n",
    "model = ols.fit()\n",
    "\n",
    "round(model.rsquared_adj,4)"
   ]
  },
  {
   "cell_type": "code",
   "execution_count": 625,
   "id": "7dfae617",
   "metadata": {},
   "outputs": [],
   "source": [
    "col_to_drop = list(model.pvalues.sort_values().index)[-1]\n",
    "col_to_keep = xtrain.columns"
   ]
  },
  {
   "cell_type": "code",
   "execution_count": 626,
   "id": "ac44b7b6",
   "metadata": {},
   "outputs": [
    {
     "data": {
      "text/plain": [
       "0.9342"
      ]
     },
     "execution_count": 626,
     "metadata": {},
     "output_type": "execute_result"
    }
   ],
   "source": [
    "xtrain = xtrain.drop(labels=col_to_drop,axis=1)\n",
    "\n",
    "from statsmodels.api import OLS,add_constant\n",
    "xconst = add_constant(xtrain)\n",
    "ols = OLS(ytrain,xconst)\n",
    "model = ols.fit()\n",
    "\n",
    "round(model.rsquared_adj,4)"
   ]
  },
  {
   "cell_type": "code",
   "execution_count": 627,
   "id": "3e12b021",
   "metadata": {},
   "outputs": [],
   "source": [
    "col_to_drop = list(model.pvalues.sort_values().index)[-1]\n",
    "col_to_keep = xtrain.columns"
   ]
  },
  {
   "cell_type": "code",
   "execution_count": 628,
   "id": "7b886a4c",
   "metadata": {},
   "outputs": [
    {
     "data": {
      "text/plain": [
       "0.9343"
      ]
     },
     "execution_count": 628,
     "metadata": {},
     "output_type": "execute_result"
    }
   ],
   "source": [
    "xtrain = xtrain.drop(labels=col_to_drop,axis=1)\n",
    "\n",
    "from statsmodels.api import OLS,add_constant\n",
    "xconst = add_constant(xtrain)\n",
    "ols = OLS(ytrain,xconst)\n",
    "model = ols.fit()\n",
    "\n",
    "round(model.rsquared_adj,4)"
   ]
  },
  {
   "cell_type": "code",
   "execution_count": 629,
   "id": "e0dd5039",
   "metadata": {},
   "outputs": [],
   "source": [
    "col_to_drop = list(model.pvalues.sort_values().index)[-1]\n",
    "col_to_keep = xtrain.columns"
   ]
  },
  {
   "cell_type": "code",
   "execution_count": 630,
   "id": "ab6ff339",
   "metadata": {},
   "outputs": [
    {
     "data": {
      "text/plain": [
       "0.9344"
      ]
     },
     "execution_count": 630,
     "metadata": {},
     "output_type": "execute_result"
    }
   ],
   "source": [
    "xtrain = xtrain.drop(labels=col_to_drop,axis=1)\n",
    "\n",
    "from statsmodels.api import OLS,add_constant\n",
    "xconst = add_constant(xtrain)\n",
    "ols = OLS(ytrain,xconst)\n",
    "model = ols.fit()\n",
    "\n",
    "round(model.rsquared_adj,4)"
   ]
  },
  {
   "cell_type": "code",
   "execution_count": 631,
   "id": "11773b34",
   "metadata": {},
   "outputs": [],
   "source": [
    "col_to_drop = list(model.pvalues.sort_values().index)[-1]\n",
    "col_to_keep = xtrain.columns"
   ]
  },
  {
   "cell_type": "code",
   "execution_count": 632,
   "id": "db57b9ad",
   "metadata": {},
   "outputs": [
    {
     "data": {
      "text/plain": [
       "0.9345"
      ]
     },
     "execution_count": 632,
     "metadata": {},
     "output_type": "execute_result"
    }
   ],
   "source": [
    "xtrain = xtrain.drop(labels=col_to_drop,axis=1)\n",
    "\n",
    "from statsmodels.api import OLS,add_constant\n",
    "xconst = add_constant(xtrain)\n",
    "ols = OLS(ytrain,xconst)\n",
    "model = ols.fit()\n",
    "\n",
    "round(model.rsquared_adj,4)"
   ]
  },
  {
   "cell_type": "code",
   "execution_count": 633,
   "id": "4659555e",
   "metadata": {},
   "outputs": [],
   "source": [
    "col_to_drop = list(model.pvalues.sort_values().index)[-1]\n",
    "col_to_keep = xtrain.columns"
   ]
  },
  {
   "cell_type": "code",
   "execution_count": 634,
   "id": "cb101a9e",
   "metadata": {},
   "outputs": [
    {
     "data": {
      "text/plain": [
       "0.9346"
      ]
     },
     "execution_count": 634,
     "metadata": {},
     "output_type": "execute_result"
    }
   ],
   "source": [
    "xtrain = xtrain.drop(labels=col_to_drop,axis=1)\n",
    "\n",
    "from statsmodels.api import OLS,add_constant\n",
    "xconst = add_constant(xtrain)\n",
    "ols = OLS(ytrain,xconst)\n",
    "model = ols.fit()\n",
    "\n",
    "round(model.rsquared_adj,4)"
   ]
  },
  {
   "cell_type": "code",
   "execution_count": 635,
   "id": "e78b7fb9",
   "metadata": {},
   "outputs": [],
   "source": [
    "col_to_drop = list(model.pvalues.sort_values().index)[-1]\n",
    "col_to_keep = xtrain.columns"
   ]
  },
  {
   "cell_type": "code",
   "execution_count": 636,
   "id": "44322f6f",
   "metadata": {},
   "outputs": [
    {
     "data": {
      "text/plain": [
       "0.9347"
      ]
     },
     "execution_count": 636,
     "metadata": {},
     "output_type": "execute_result"
    }
   ],
   "source": [
    "xtrain = xtrain.drop(labels=col_to_drop,axis=1)\n",
    "\n",
    "from statsmodels.api import OLS,add_constant\n",
    "xconst = add_constant(xtrain)\n",
    "ols = OLS(ytrain,xconst)\n",
    "model = ols.fit()\n",
    "\n",
    "round(model.rsquared_adj,4)"
   ]
  },
  {
   "cell_type": "code",
   "execution_count": 637,
   "id": "b0c7f9b4",
   "metadata": {},
   "outputs": [],
   "source": [
    "col_to_drop = list(model.pvalues.sort_values().index)[-1]\n",
    "col_to_keep = xtrain.columns"
   ]
  },
  {
   "cell_type": "code",
   "execution_count": 638,
   "id": "920b4cc3",
   "metadata": {},
   "outputs": [
    {
     "data": {
      "text/plain": [
       "0.9348"
      ]
     },
     "execution_count": 638,
     "metadata": {},
     "output_type": "execute_result"
    }
   ],
   "source": [
    "xtrain = xtrain.drop(labels=col_to_drop,axis=1)\n",
    "\n",
    "from statsmodels.api import OLS,add_constant\n",
    "xconst = add_constant(xtrain)\n",
    "ols = OLS(ytrain,xconst)\n",
    "model = ols.fit()\n",
    "\n",
    "round(model.rsquared_adj,4)"
   ]
  },
  {
   "cell_type": "code",
   "execution_count": 639,
   "id": "cdfb272a",
   "metadata": {},
   "outputs": [],
   "source": [
    "col_to_drop = list(model.pvalues.sort_values().index)[-1]\n",
    "col_to_keep = xtrain.columns"
   ]
  },
  {
   "cell_type": "code",
   "execution_count": 640,
   "id": "20fd6b8e",
   "metadata": {},
   "outputs": [
    {
     "data": {
      "text/plain": [
       "0.9349"
      ]
     },
     "execution_count": 640,
     "metadata": {},
     "output_type": "execute_result"
    }
   ],
   "source": [
    "xtrain = xtrain.drop(labels=col_to_drop,axis=1)\n",
    "\n",
    "from statsmodels.api import OLS,add_constant\n",
    "xconst = add_constant(xtrain)\n",
    "ols = OLS(ytrain,xconst)\n",
    "model = ols.fit()\n",
    "\n",
    "round(model.rsquared_adj,4)"
   ]
  },
  {
   "cell_type": "code",
   "execution_count": 641,
   "id": "ccbe0a6f",
   "metadata": {},
   "outputs": [],
   "source": [
    "col_to_drop = list(model.pvalues.sort_values().index)[-1]\n",
    "col_to_keep = xtrain.columns"
   ]
  },
  {
   "cell_type": "code",
   "execution_count": 642,
   "id": "e97910af",
   "metadata": {},
   "outputs": [
    {
     "data": {
      "text/plain": [
       "0.935"
      ]
     },
     "execution_count": 642,
     "metadata": {},
     "output_type": "execute_result"
    }
   ],
   "source": [
    "xtrain = xtrain.drop(labels=col_to_drop,axis=1)\n",
    "\n",
    "from statsmodels.api import OLS,add_constant\n",
    "xconst = add_constant(xtrain)\n",
    "ols = OLS(ytrain,xconst)\n",
    "model = ols.fit()\n",
    "\n",
    "round(model.rsquared_adj,4)"
   ]
  },
  {
   "cell_type": "code",
   "execution_count": 643,
   "id": "81543c7a",
   "metadata": {},
   "outputs": [],
   "source": [
    "col_to_drop = list(model.pvalues.sort_values().index)[-1]\n",
    "col_to_keep = xtrain.columns"
   ]
  },
  {
   "cell_type": "code",
   "execution_count": 644,
   "id": "f879fb22",
   "metadata": {},
   "outputs": [
    {
     "data": {
      "text/plain": [
       "0.9351"
      ]
     },
     "execution_count": 644,
     "metadata": {},
     "output_type": "execute_result"
    }
   ],
   "source": [
    "xtrain = xtrain.drop(labels=col_to_drop,axis=1)\n",
    "\n",
    "from statsmodels.api import OLS,add_constant\n",
    "xconst = add_constant(xtrain)\n",
    "ols = OLS(ytrain,xconst)\n",
    "model = ols.fit()\n",
    "\n",
    "round(model.rsquared_adj,4)"
   ]
  },
  {
   "cell_type": "code",
   "execution_count": 645,
   "id": "44fceb64",
   "metadata": {},
   "outputs": [],
   "source": [
    "col_to_drop = list(model.pvalues.sort_values().index)[-1]\n",
    "col_to_keep = xtrain.columns"
   ]
  },
  {
   "cell_type": "code",
   "execution_count": 646,
   "id": "e5cc1aa0",
   "metadata": {},
   "outputs": [
    {
     "data": {
      "text/plain": [
       "'MSSubClass_30'"
      ]
     },
     "execution_count": 646,
     "metadata": {},
     "output_type": "execute_result"
    }
   ],
   "source": [
    "col_to_drop"
   ]
  },
  {
   "cell_type": "code",
   "execution_count": 647,
   "id": "147e0b4c",
   "metadata": {},
   "outputs": [
    {
     "data": {
      "text/plain": [
       "0.9352"
      ]
     },
     "execution_count": 647,
     "metadata": {},
     "output_type": "execute_result"
    }
   ],
   "source": [
    "xtrain = xtrain.drop(labels=col_to_drop,axis=1)\n",
    "\n",
    "from statsmodels.api import OLS,add_constant\n",
    "xconst = add_constant(xtrain)\n",
    "ols = OLS(ytrain,xconst)\n",
    "model = ols.fit()\n",
    "\n",
    "round(model.rsquared_adj,4)"
   ]
  },
  {
   "cell_type": "code",
   "execution_count": 648,
   "id": "678ee12e",
   "metadata": {},
   "outputs": [],
   "source": [
    "col_to_drop = list(model.pvalues.sort_values().index)[-1]\n",
    "col_to_keep = xtrain.columns"
   ]
  },
  {
   "cell_type": "code",
   "execution_count": 649,
   "id": "74073016",
   "metadata": {},
   "outputs": [
    {
     "data": {
      "text/plain": [
       "0.9353"
      ]
     },
     "execution_count": 649,
     "metadata": {},
     "output_type": "execute_result"
    }
   ],
   "source": [
    "xtrain = xtrain.drop(labels=col_to_drop,axis=1)\n",
    "\n",
    "from statsmodels.api import OLS,add_constant\n",
    "xconst = add_constant(xtrain)\n",
    "ols = OLS(ytrain,xconst)\n",
    "model = ols.fit()\n",
    "\n",
    "round(model.rsquared_adj,4)"
   ]
  },
  {
   "cell_type": "code",
   "execution_count": 650,
   "id": "ee8b1bcc",
   "metadata": {},
   "outputs": [],
   "source": [
    "col_to_drop = list(model.pvalues.sort_values().index)[-1]\n",
    "col_to_keep = xtrain.columns"
   ]
  },
  {
   "cell_type": "code",
   "execution_count": 651,
   "id": "0a284725",
   "metadata": {},
   "outputs": [
    {
     "data": {
      "text/plain": [
       "0.9353"
      ]
     },
     "execution_count": 651,
     "metadata": {},
     "output_type": "execute_result"
    }
   ],
   "source": [
    "xtrain = xtrain.drop(labels=col_to_drop,axis=1)\n",
    "\n",
    "from statsmodels.api import OLS,add_constant\n",
    "xconst = add_constant(xtrain)\n",
    "ols = OLS(ytrain,xconst)\n",
    "model = ols.fit()\n",
    "\n",
    "round(model.rsquared_adj,4)"
   ]
  },
  {
   "cell_type": "code",
   "execution_count": 652,
   "id": "c4e6c5db",
   "metadata": {},
   "outputs": [],
   "source": [
    "col_to_drop = list(model.pvalues.sort_values().index)[-1]\n",
    "col_to_keep = xtrain.columns"
   ]
  },
  {
   "cell_type": "code",
   "execution_count": 653,
   "id": "10ddb9bd",
   "metadata": {},
   "outputs": [
    {
     "data": {
      "text/plain": [
       "0.9354"
      ]
     },
     "execution_count": 653,
     "metadata": {},
     "output_type": "execute_result"
    }
   ],
   "source": [
    "xtrain = xtrain.drop(labels=col_to_drop,axis=1)\n",
    "\n",
    "from statsmodels.api import OLS,add_constant\n",
    "xconst = add_constant(xtrain)\n",
    "ols = OLS(ytrain,xconst)\n",
    "model = ols.fit()\n",
    "\n",
    "round(model.rsquared_adj,4)"
   ]
  },
  {
   "cell_type": "code",
   "execution_count": 654,
   "id": "b4f783e9",
   "metadata": {},
   "outputs": [],
   "source": [
    "col_to_drop = list(model.pvalues.sort_values().index)[-1]\n",
    "col_to_keep = xtrain.columns"
   ]
  },
  {
   "cell_type": "code",
   "execution_count": 655,
   "id": "b1ee339b",
   "metadata": {},
   "outputs": [
    {
     "data": {
      "text/plain": [
       "0.9354"
      ]
     },
     "execution_count": 655,
     "metadata": {},
     "output_type": "execute_result"
    }
   ],
   "source": [
    "xtrain = xtrain.drop(labels=col_to_drop,axis=1)\n",
    "\n",
    "from statsmodels.api import OLS,add_constant\n",
    "xconst = add_constant(xtrain)\n",
    "ols = OLS(ytrain,xconst)\n",
    "model = ols.fit()\n",
    "\n",
    "round(model.rsquared_adj,4)"
   ]
  },
  {
   "cell_type": "code",
   "execution_count": 656,
   "id": "3ed6adbc",
   "metadata": {},
   "outputs": [],
   "source": [
    "col_to_drop = list(model.pvalues.sort_values().index)[-1]\n",
    "col_to_keep = xtrain.columns"
   ]
  },
  {
   "cell_type": "code",
   "execution_count": 657,
   "id": "a28e645b",
   "metadata": {},
   "outputs": [
    {
     "data": {
      "text/plain": [
       "0.9354"
      ]
     },
     "execution_count": 657,
     "metadata": {},
     "output_type": "execute_result"
    }
   ],
   "source": [
    "xtrain = xtrain.drop(labels=col_to_drop,axis=1)\n",
    "\n",
    "from statsmodels.api import OLS,add_constant\n",
    "xconst = add_constant(xtrain)\n",
    "ols = OLS(ytrain,xconst)\n",
    "model = ols.fit()\n",
    "\n",
    "round(model.rsquared_adj,4)"
   ]
  },
  {
   "cell_type": "code",
   "execution_count": 658,
   "id": "bc86f018",
   "metadata": {},
   "outputs": [],
   "source": [
    "col_to_drop = list(model.pvalues.sort_values().index)[-1]\n",
    "col_to_keep = xtrain.columns"
   ]
  },
  {
   "cell_type": "code",
   "execution_count": 659,
   "id": "fbb98696",
   "metadata": {},
   "outputs": [
    {
     "data": {
      "text/plain": [
       "0.9355"
      ]
     },
     "execution_count": 659,
     "metadata": {},
     "output_type": "execute_result"
    }
   ],
   "source": [
    "xtrain = xtrain.drop(labels=col_to_drop,axis=1)\n",
    "\n",
    "from statsmodels.api import OLS,add_constant\n",
    "xconst = add_constant(xtrain)\n",
    "ols = OLS(ytrain,xconst)\n",
    "model = ols.fit()\n",
    "\n",
    "round(model.rsquared_adj,4)"
   ]
  },
  {
   "cell_type": "code",
   "execution_count": 660,
   "id": "f56a71b8",
   "metadata": {},
   "outputs": [],
   "source": [
    "col_to_drop = list(model.pvalues.sort_values().index)[-1]\n",
    "col_to_keep = xtrain.columns"
   ]
  },
  {
   "cell_type": "code",
   "execution_count": 661,
   "id": "35189f6c",
   "metadata": {},
   "outputs": [
    {
     "data": {
      "text/plain": [
       "0.9356"
      ]
     },
     "execution_count": 661,
     "metadata": {},
     "output_type": "execute_result"
    }
   ],
   "source": [
    "xtrain = xtrain.drop(labels=col_to_drop,axis=1)\n",
    "\n",
    "from statsmodels.api import OLS,add_constant\n",
    "xconst = add_constant(xtrain)\n",
    "ols = OLS(ytrain,xconst)\n",
    "model = ols.fit()\n",
    "\n",
    "round(model.rsquared_adj,4)"
   ]
  },
  {
   "cell_type": "code",
   "execution_count": 662,
   "id": "fe4de7f1",
   "metadata": {},
   "outputs": [],
   "source": [
    "col_to_drop = list(model.pvalues.sort_values().index)[-1]\n",
    "col_to_keep = xtrain.columns"
   ]
  },
  {
   "cell_type": "code",
   "execution_count": 663,
   "id": "2d9d1326",
   "metadata": {},
   "outputs": [
    {
     "data": {
      "text/plain": [
       "0.9357"
      ]
     },
     "execution_count": 663,
     "metadata": {},
     "output_type": "execute_result"
    }
   ],
   "source": [
    "xtrain = xtrain.drop(labels=col_to_drop,axis=1)\n",
    "\n",
    "from statsmodels.api import OLS,add_constant\n",
    "xconst = add_constant(xtrain)\n",
    "ols = OLS(ytrain,xconst)\n",
    "model = ols.fit()\n",
    "\n",
    "round(model.rsquared_adj,4)"
   ]
  },
  {
   "cell_type": "code",
   "execution_count": 664,
   "id": "85411e87",
   "metadata": {},
   "outputs": [],
   "source": [
    "col_to_drop = list(model.pvalues.sort_values().index)[-1]\n",
    "col_to_keep = xtrain.columns"
   ]
  },
  {
   "cell_type": "code",
   "execution_count": 665,
   "id": "19dc6c61",
   "metadata": {},
   "outputs": [
    {
     "data": {
      "text/plain": [
       "0.9358"
      ]
     },
     "execution_count": 665,
     "metadata": {},
     "output_type": "execute_result"
    }
   ],
   "source": [
    "xtrain = xtrain.drop(labels=col_to_drop,axis=1)\n",
    "\n",
    "from statsmodels.api import OLS,add_constant\n",
    "xconst = add_constant(xtrain)\n",
    "ols = OLS(ytrain,xconst)\n",
    "model = ols.fit()\n",
    "\n",
    "round(model.rsquared_adj,4)"
   ]
  },
  {
   "cell_type": "code",
   "execution_count": 666,
   "id": "d048efd3",
   "metadata": {},
   "outputs": [],
   "source": [
    "col_to_drop = list(model.pvalues.sort_values().index)[-1]\n",
    "col_to_keep = xtrain.columns"
   ]
  },
  {
   "cell_type": "code",
   "execution_count": 667,
   "id": "09dc0fa6",
   "metadata": {},
   "outputs": [
    {
     "data": {
      "text/plain": [
       "0.9358"
      ]
     },
     "execution_count": 667,
     "metadata": {},
     "output_type": "execute_result"
    }
   ],
   "source": [
    "xtrain = xtrain.drop(labels=col_to_drop,axis=1)\n",
    "\n",
    "from statsmodels.api import OLS,add_constant\n",
    "xconst = add_constant(xtrain)\n",
    "ols = OLS(ytrain,xconst)\n",
    "model = ols.fit()\n",
    "\n",
    "round(model.rsquared_adj,4)"
   ]
  },
  {
   "cell_type": "code",
   "execution_count": 668,
   "id": "3348ee4e",
   "metadata": {},
   "outputs": [],
   "source": [
    "col_to_drop = list(model.pvalues.sort_values().index)[-1]\n",
    "col_to_keep = xtrain.columns"
   ]
  },
  {
   "cell_type": "code",
   "execution_count": 669,
   "id": "470fb218",
   "metadata": {},
   "outputs": [
    {
     "data": {
      "text/plain": [
       "0.9359"
      ]
     },
     "execution_count": 669,
     "metadata": {},
     "output_type": "execute_result"
    }
   ],
   "source": [
    "xtrain = xtrain.drop(labels=col_to_drop,axis=1)\n",
    "\n",
    "from statsmodels.api import OLS,add_constant\n",
    "xconst = add_constant(xtrain)\n",
    "ols = OLS(ytrain,xconst)\n",
    "model = ols.fit()\n",
    "\n",
    "round(model.rsquared_adj,4)"
   ]
  },
  {
   "cell_type": "code",
   "execution_count": 670,
   "id": "d7323096",
   "metadata": {},
   "outputs": [],
   "source": [
    "col_to_drop = list(model.pvalues.sort_values().index)[-1]\n",
    "col_to_keep = xtrain.columns"
   ]
  },
  {
   "cell_type": "code",
   "execution_count": 671,
   "id": "817b556d",
   "metadata": {},
   "outputs": [
    {
     "data": {
      "text/plain": [
       "0.936"
      ]
     },
     "execution_count": 671,
     "metadata": {},
     "output_type": "execute_result"
    }
   ],
   "source": [
    "xtrain = xtrain.drop(labels=col_to_drop,axis=1)\n",
    "\n",
    "from statsmodels.api import OLS,add_constant\n",
    "xconst = add_constant(xtrain)\n",
    "ols = OLS(ytrain,xconst)\n",
    "model = ols.fit()\n",
    "\n",
    "round(model.rsquared_adj,4)"
   ]
  },
  {
   "cell_type": "code",
   "execution_count": 672,
   "id": "0afff903",
   "metadata": {},
   "outputs": [],
   "source": [
    "col_to_drop = list(model.pvalues.sort_values().index)[-1]\n",
    "col_to_keep = xtrain.columns"
   ]
  },
  {
   "cell_type": "code",
   "execution_count": 673,
   "id": "37c97f5e",
   "metadata": {},
   "outputs": [
    {
     "data": {
      "text/plain": [
       "0.936"
      ]
     },
     "execution_count": 673,
     "metadata": {},
     "output_type": "execute_result"
    }
   ],
   "source": [
    "xtrain = xtrain.drop(labels=col_to_drop,axis=1)\n",
    "\n",
    "from statsmodels.api import OLS,add_constant\n",
    "xconst = add_constant(xtrain)\n",
    "ols = OLS(ytrain,xconst)\n",
    "model = ols.fit()\n",
    "\n",
    "round(model.rsquared_adj,4)"
   ]
  },
  {
   "cell_type": "code",
   "execution_count": 674,
   "id": "9a025759",
   "metadata": {},
   "outputs": [],
   "source": [
    "col_to_drop = list(model.pvalues.sort_values().index)[-1]\n",
    "col_to_keep = xtrain.columns"
   ]
  },
  {
   "cell_type": "code",
   "execution_count": 675,
   "id": "3da045f5",
   "metadata": {},
   "outputs": [
    {
     "data": {
      "text/plain": [
       "0.9361"
      ]
     },
     "execution_count": 675,
     "metadata": {},
     "output_type": "execute_result"
    }
   ],
   "source": [
    "xtrain = xtrain.drop(labels=col_to_drop,axis=1)\n",
    "\n",
    "from statsmodels.api import OLS,add_constant\n",
    "xconst = add_constant(xtrain)\n",
    "ols = OLS(ytrain,xconst)\n",
    "model = ols.fit()\n",
    "\n",
    "round(model.rsquared_adj,4)"
   ]
  },
  {
   "cell_type": "code",
   "execution_count": 676,
   "id": "962c0dc9",
   "metadata": {},
   "outputs": [],
   "source": [
    "col_to_drop = list(model.pvalues.sort_values().index)[-1]\n",
    "col_to_keep = xtrain.columns"
   ]
  },
  {
   "cell_type": "code",
   "execution_count": 677,
   "id": "a0ce2c5f",
   "metadata": {},
   "outputs": [
    {
     "data": {
      "text/plain": [
       "0.9362"
      ]
     },
     "execution_count": 677,
     "metadata": {},
     "output_type": "execute_result"
    }
   ],
   "source": [
    "xtrain = xtrain.drop(labels=col_to_drop,axis=1)\n",
    "\n",
    "from statsmodels.api import OLS,add_constant\n",
    "xconst = add_constant(xtrain)\n",
    "ols = OLS(ytrain,xconst)\n",
    "model = ols.fit()\n",
    "\n",
    "round(model.rsquared_adj,4)"
   ]
  },
  {
   "cell_type": "code",
   "execution_count": 678,
   "id": "472ed37b",
   "metadata": {},
   "outputs": [],
   "source": [
    "col_to_drop = list(model.pvalues.sort_values().index)[-1]\n",
    "col_to_keep = xtrain.columns"
   ]
  },
  {
   "cell_type": "code",
   "execution_count": 679,
   "id": "ce20c155",
   "metadata": {},
   "outputs": [
    {
     "data": {
      "text/plain": [
       "0.9362"
      ]
     },
     "execution_count": 679,
     "metadata": {},
     "output_type": "execute_result"
    }
   ],
   "source": [
    "xtrain = xtrain.drop(labels=col_to_drop,axis=1)\n",
    "\n",
    "from statsmodels.api import OLS,add_constant\n",
    "xconst = add_constant(xtrain)\n",
    "ols = OLS(ytrain,xconst)\n",
    "model = ols.fit()\n",
    "\n",
    "round(model.rsquared_adj,4)"
   ]
  },
  {
   "cell_type": "code",
   "execution_count": 680,
   "id": "c00d8bcd",
   "metadata": {},
   "outputs": [],
   "source": [
    "col_to_drop = list(model.pvalues.sort_values().index)[-1]\n",
    "col_to_keep = xtrain.columns"
   ]
  },
  {
   "cell_type": "code",
   "execution_count": 681,
   "id": "b5bee302",
   "metadata": {},
   "outputs": [
    {
     "data": {
      "text/plain": [
       "0.9363"
      ]
     },
     "execution_count": 681,
     "metadata": {},
     "output_type": "execute_result"
    }
   ],
   "source": [
    "xtrain = xtrain.drop(labels=col_to_drop,axis=1)\n",
    "\n",
    "from statsmodels.api import OLS,add_constant\n",
    "xconst = add_constant(xtrain)\n",
    "ols = OLS(ytrain,xconst)\n",
    "model = ols.fit()\n",
    "\n",
    "round(model.rsquared_adj,4)"
   ]
  },
  {
   "cell_type": "code",
   "execution_count": 682,
   "id": "13593b35",
   "metadata": {},
   "outputs": [],
   "source": [
    "col_to_drop = list(model.pvalues.sort_values().index)[-1]\n",
    "col_to_keep = xtrain.columns"
   ]
  },
  {
   "cell_type": "code",
   "execution_count": 683,
   "id": "b0d63c63",
   "metadata": {},
   "outputs": [
    {
     "data": {
      "text/plain": [
       "0.9364"
      ]
     },
     "execution_count": 683,
     "metadata": {},
     "output_type": "execute_result"
    }
   ],
   "source": [
    "xtrain = xtrain.drop(labels=col_to_drop,axis=1)\n",
    "\n",
    "from statsmodels.api import OLS,add_constant\n",
    "xconst = add_constant(xtrain)\n",
    "ols = OLS(ytrain,xconst)\n",
    "model = ols.fit()\n",
    "\n",
    "round(model.rsquared_adj,4)"
   ]
  },
  {
   "cell_type": "code",
   "execution_count": 684,
   "id": "3264f596",
   "metadata": {},
   "outputs": [],
   "source": [
    "col_to_drop = list(model.pvalues.sort_values().index)[-1]\n",
    "col_to_keep = xtrain.columns"
   ]
  },
  {
   "cell_type": "code",
   "execution_count": 685,
   "id": "e13f9555",
   "metadata": {},
   "outputs": [
    {
     "data": {
      "text/plain": [
       "0.9364"
      ]
     },
     "execution_count": 685,
     "metadata": {},
     "output_type": "execute_result"
    }
   ],
   "source": [
    "xtrain = xtrain.drop(labels=col_to_drop,axis=1)\n",
    "\n",
    "from statsmodels.api import OLS,add_constant\n",
    "xconst = add_constant(xtrain)\n",
    "ols = OLS(ytrain,xconst)\n",
    "model = ols.fit()\n",
    "\n",
    "round(model.rsquared_adj,4)"
   ]
  },
  {
   "cell_type": "code",
   "execution_count": 686,
   "id": "5d9699ca",
   "metadata": {},
   "outputs": [],
   "source": [
    "col_to_drop = list(model.pvalues.sort_values().index)[-1]\n",
    "col_to_keep = xtrain.columns"
   ]
  },
  {
   "cell_type": "code",
   "execution_count": 687,
   "id": "ee31fdbb",
   "metadata": {},
   "outputs": [
    {
     "data": {
      "text/plain": [
       "0.9365"
      ]
     },
     "execution_count": 687,
     "metadata": {},
     "output_type": "execute_result"
    }
   ],
   "source": [
    "xtrain = xtrain.drop(labels=col_to_drop,axis=1)\n",
    "\n",
    "from statsmodels.api import OLS,add_constant\n",
    "xconst = add_constant(xtrain)\n",
    "ols = OLS(ytrain,xconst)\n",
    "model = ols.fit()\n",
    "\n",
    "round(model.rsquared_adj,4)"
   ]
  },
  {
   "cell_type": "code",
   "execution_count": 688,
   "id": "3fd1de4e",
   "metadata": {},
   "outputs": [],
   "source": [
    "col_to_drop = list(model.pvalues.sort_values().index)[-1]\n",
    "col_to_keep = xtrain.columns"
   ]
  },
  {
   "cell_type": "code",
   "execution_count": 689,
   "id": "59498b1a",
   "metadata": {},
   "outputs": [
    {
     "data": {
      "text/plain": [
       "0.9366"
      ]
     },
     "execution_count": 689,
     "metadata": {},
     "output_type": "execute_result"
    }
   ],
   "source": [
    "xtrain = xtrain.drop(labels=col_to_drop,axis=1)\n",
    "\n",
    "from statsmodels.api import OLS,add_constant\n",
    "xconst = add_constant(xtrain)\n",
    "ols = OLS(ytrain,xconst)\n",
    "model = ols.fit()\n",
    "\n",
    "round(model.rsquared_adj,4)"
   ]
  },
  {
   "cell_type": "code",
   "execution_count": 690,
   "id": "7b6160bc",
   "metadata": {},
   "outputs": [],
   "source": [
    "col_to_drop = list(model.pvalues.sort_values().index)[-1]\n",
    "col_to_keep = xtrain.columns"
   ]
  },
  {
   "cell_type": "code",
   "execution_count": 691,
   "id": "a077ca0a",
   "metadata": {},
   "outputs": [
    {
     "data": {
      "text/plain": [
       "0.9367"
      ]
     },
     "execution_count": 691,
     "metadata": {},
     "output_type": "execute_result"
    }
   ],
   "source": [
    "xtrain = xtrain.drop(labels=col_to_drop,axis=1)\n",
    "\n",
    "from statsmodels.api import OLS,add_constant\n",
    "xconst = add_constant(xtrain)\n",
    "ols = OLS(ytrain,xconst)\n",
    "model = ols.fit()\n",
    "\n",
    "round(model.rsquared_adj,4)"
   ]
  },
  {
   "cell_type": "code",
   "execution_count": 692,
   "id": "85216a6d",
   "metadata": {},
   "outputs": [],
   "source": [
    "col_to_drop = list(model.pvalues.sort_values().index)[-1]\n",
    "col_to_keep = xtrain.columns\n"
   ]
  },
  {
   "cell_type": "code",
   "execution_count": 693,
   "id": "0f785093",
   "metadata": {},
   "outputs": [
    {
     "data": {
      "text/plain": [
       "0.9368"
      ]
     },
     "execution_count": 693,
     "metadata": {},
     "output_type": "execute_result"
    }
   ],
   "source": [
    "xtrain = xtrain.drop(labels=col_to_drop,axis=1)\n",
    "\n",
    "from statsmodels.api import OLS,add_constant\n",
    "xconst = add_constant(xtrain)\n",
    "ols = OLS(ytrain,xconst)\n",
    "model = ols.fit()\n",
    "\n",
    "round(model.rsquared_adj,4)"
   ]
  },
  {
   "cell_type": "code",
   "execution_count": 694,
   "id": "fdc4b5a5",
   "metadata": {},
   "outputs": [],
   "source": [
    "col_to_drop = list(model.pvalues.sort_values().index)[-1]\n",
    "col_to_keep = xtrain.columns"
   ]
  },
  {
   "cell_type": "code",
   "execution_count": 695,
   "id": "3d112666",
   "metadata": {},
   "outputs": [
    {
     "data": {
      "text/plain": [
       "0.9369"
      ]
     },
     "execution_count": 695,
     "metadata": {},
     "output_type": "execute_result"
    }
   ],
   "source": [
    "xtrain = xtrain.drop(labels=col_to_drop,axis=1)\n",
    "\n",
    "from statsmodels.api import OLS,add_constant\n",
    "xconst = add_constant(xtrain)\n",
    "ols = OLS(ytrain,xconst)\n",
    "model = ols.fit()\n",
    "\n",
    "round(model.rsquared_adj,4)"
   ]
  },
  {
   "cell_type": "code",
   "execution_count": 696,
   "id": "e1a44630",
   "metadata": {},
   "outputs": [],
   "source": [
    "col_to_drop = list(model.pvalues.sort_values().index)[-1]\n",
    "col_to_keep = xtrain.columns"
   ]
  },
  {
   "cell_type": "code",
   "execution_count": 697,
   "id": "944f547b",
   "metadata": {},
   "outputs": [
    {
     "data": {
      "text/plain": [
       "0.9369"
      ]
     },
     "execution_count": 697,
     "metadata": {},
     "output_type": "execute_result"
    }
   ],
   "source": [
    "xtrain = xtrain.drop(labels=col_to_drop,axis=1)\n",
    "\n",
    "from statsmodels.api import OLS,add_constant\n",
    "xconst = add_constant(xtrain)\n",
    "ols = OLS(ytrain,xconst)\n",
    "model = ols.fit()\n",
    "\n",
    "round(model.rsquared_adj,4)"
   ]
  },
  {
   "cell_type": "code",
   "execution_count": 698,
   "id": "e8d1333f",
   "metadata": {},
   "outputs": [],
   "source": [
    "col_to_drop = list(model.pvalues.sort_values().index)[-1]\n",
    "col_to_keep = xtrain.columns"
   ]
  },
  {
   "cell_type": "code",
   "execution_count": 699,
   "id": "636079be",
   "metadata": {},
   "outputs": [
    {
     "data": {
      "text/plain": [
       "0.9369"
      ]
     },
     "execution_count": 699,
     "metadata": {},
     "output_type": "execute_result"
    }
   ],
   "source": [
    "xtrain = xtrain.drop(labels=col_to_drop,axis=1)\n",
    "\n",
    "from statsmodels.api import OLS,add_constant\n",
    "xconst = add_constant(xtrain)\n",
    "ols = OLS(ytrain,xconst)\n",
    "model = ols.fit()\n",
    "\n",
    "round(model.rsquared_adj,4)"
   ]
  },
  {
   "cell_type": "code",
   "execution_count": 700,
   "id": "5d7a7128",
   "metadata": {},
   "outputs": [],
   "source": [
    "col_to_drop = list(model.pvalues.sort_values().index)[-1]\n",
    "col_to_keep = xtrain.columns"
   ]
  },
  {
   "cell_type": "code",
   "execution_count": 701,
   "id": "5d07ccdf",
   "metadata": {},
   "outputs": [
    {
     "data": {
      "text/plain": [
       "0.937"
      ]
     },
     "execution_count": 701,
     "metadata": {},
     "output_type": "execute_result"
    }
   ],
   "source": [
    "xtrain = xtrain.drop(labels=col_to_drop,axis=1)\n",
    "\n",
    "from statsmodels.api import OLS,add_constant\n",
    "xconst = add_constant(xtrain)\n",
    "ols = OLS(ytrain,xconst)\n",
    "model = ols.fit()\n",
    "\n",
    "round(model.rsquared_adj,4)"
   ]
  },
  {
   "cell_type": "code",
   "execution_count": 702,
   "id": "6689b9c4",
   "metadata": {},
   "outputs": [],
   "source": [
    "col_to_drop = list(model.pvalues.sort_values().index)[-1]\n",
    "col_to_keep = xtrain.columns"
   ]
  },
  {
   "cell_type": "code",
   "execution_count": 703,
   "id": "b8150d99",
   "metadata": {},
   "outputs": [
    {
     "data": {
      "text/plain": [
       "0.9371"
      ]
     },
     "execution_count": 703,
     "metadata": {},
     "output_type": "execute_result"
    }
   ],
   "source": [
    "xtrain = xtrain.drop(labels=col_to_drop,axis=1)\n",
    "\n",
    "from statsmodels.api import OLS,add_constant\n",
    "xconst = add_constant(xtrain)\n",
    "ols = OLS(ytrain,xconst)\n",
    "model = ols.fit()\n",
    "\n",
    "round(model.rsquared_adj,4)"
   ]
  },
  {
   "cell_type": "code",
   "execution_count": 704,
   "id": "9b231a14",
   "metadata": {},
   "outputs": [],
   "source": [
    "col_to_drop = list(model.pvalues.sort_values().index)[-1]\n",
    "col_to_keep = xtrain.columns"
   ]
  },
  {
   "cell_type": "code",
   "execution_count": 705,
   "id": "1047141e",
   "metadata": {},
   "outputs": [
    {
     "data": {
      "text/plain": [
       "0.9372"
      ]
     },
     "execution_count": 705,
     "metadata": {},
     "output_type": "execute_result"
    }
   ],
   "source": [
    "xtrain = xtrain.drop(labels=col_to_drop,axis=1)\n",
    "\n",
    "from statsmodels.api import OLS,add_constant\n",
    "xconst = add_constant(xtrain)\n",
    "ols = OLS(ytrain,xconst)\n",
    "model = ols.fit()\n",
    "\n",
    "round(model.rsquared_adj,4)"
   ]
  },
  {
   "cell_type": "code",
   "execution_count": 706,
   "id": "686f271b",
   "metadata": {},
   "outputs": [],
   "source": [
    "col_to_drop = list(model.pvalues.sort_values().index)[-1]\n",
    "col_to_keep = xtrain.columns"
   ]
  },
  {
   "cell_type": "code",
   "execution_count": 707,
   "id": "7cc928e2",
   "metadata": {},
   "outputs": [
    {
     "data": {
      "text/plain": [
       "0.9373"
      ]
     },
     "execution_count": 707,
     "metadata": {},
     "output_type": "execute_result"
    }
   ],
   "source": [
    "xtrain = xtrain.drop(labels=col_to_drop,axis=1)\n",
    "\n",
    "from statsmodels.api import OLS,add_constant\n",
    "xconst = add_constant(xtrain)\n",
    "ols = OLS(ytrain,xconst)\n",
    "model = ols.fit()\n",
    "\n",
    "round(model.rsquared_adj,4)"
   ]
  },
  {
   "cell_type": "code",
   "execution_count": 708,
   "id": "ba0d4ad5",
   "metadata": {},
   "outputs": [],
   "source": [
    "col_to_drop = list(model.pvalues.sort_values().index)[-1]\n",
    "col_to_keep = xtrain.columns"
   ]
  },
  {
   "cell_type": "code",
   "execution_count": 709,
   "id": "189df23f",
   "metadata": {},
   "outputs": [
    {
     "data": {
      "text/plain": [
       "0.9373"
      ]
     },
     "execution_count": 709,
     "metadata": {},
     "output_type": "execute_result"
    }
   ],
   "source": [
    "xtrain = xtrain.drop(labels=col_to_drop,axis=1)\n",
    "\n",
    "from statsmodels.api import OLS,add_constant\n",
    "xconst = add_constant(xtrain)\n",
    "ols = OLS(ytrain,xconst)\n",
    "model = ols.fit()\n",
    "\n",
    "round(model.rsquared_adj,4)"
   ]
  },
  {
   "cell_type": "code",
   "execution_count": 710,
   "id": "ed2daa99",
   "metadata": {},
   "outputs": [],
   "source": [
    "col_to_drop = list(model.pvalues.sort_values().index)[-1]\n",
    "col_to_keep = xtrain.columns"
   ]
  },
  {
   "cell_type": "code",
   "execution_count": 711,
   "id": "2841923d",
   "metadata": {},
   "outputs": [
    {
     "data": {
      "text/plain": [
       "0.9373"
      ]
     },
     "execution_count": 711,
     "metadata": {},
     "output_type": "execute_result"
    }
   ],
   "source": [
    "xtrain = xtrain.drop(labels=col_to_drop,axis=1)\n",
    "\n",
    "from statsmodels.api import OLS,add_constant\n",
    "xconst = add_constant(xtrain)\n",
    "ols = OLS(ytrain,xconst)\n",
    "model = ols.fit()\n",
    "\n",
    "round(model.rsquared_adj,4)"
   ]
  },
  {
   "cell_type": "code",
   "execution_count": 712,
   "id": "44ae4350",
   "metadata": {},
   "outputs": [],
   "source": [
    "col_to_drop = list(model.pvalues.sort_values().index)[-1]\n",
    "col_to_keep = xtrain.columns"
   ]
  },
  {
   "cell_type": "code",
   "execution_count": 713,
   "id": "bcfd5d43",
   "metadata": {},
   "outputs": [
    {
     "data": {
      "text/plain": [
       "0.9374"
      ]
     },
     "execution_count": 713,
     "metadata": {},
     "output_type": "execute_result"
    }
   ],
   "source": [
    "xtrain = xtrain.drop(labels=col_to_drop,axis=1)\n",
    "\n",
    "from statsmodels.api import OLS,add_constant\n",
    "xconst = add_constant(xtrain)\n",
    "ols = OLS(ytrain,xconst)\n",
    "model = ols.fit()\n",
    "\n",
    "round(model.rsquared_adj,4)"
   ]
  },
  {
   "cell_type": "code",
   "execution_count": 714,
   "id": "07fb5bfe",
   "metadata": {},
   "outputs": [],
   "source": [
    "col_to_drop = list(model.pvalues.sort_values().index)[-1]\n",
    "col_to_keep = xtrain.columns"
   ]
  },
  {
   "cell_type": "code",
   "execution_count": 715,
   "id": "03be492c",
   "metadata": {},
   "outputs": [
    {
     "data": {
      "text/plain": [
       "0.9375"
      ]
     },
     "execution_count": 715,
     "metadata": {},
     "output_type": "execute_result"
    }
   ],
   "source": [
    "xtrain = xtrain.drop(labels=col_to_drop,axis=1)\n",
    "\n",
    "from statsmodels.api import OLS,add_constant\n",
    "xconst = add_constant(xtrain)\n",
    "ols = OLS(ytrain,xconst)\n",
    "model = ols.fit()\n",
    "\n",
    "round(model.rsquared_adj,4)"
   ]
  },
  {
   "cell_type": "code",
   "execution_count": 716,
   "id": "638f43fc",
   "metadata": {},
   "outputs": [],
   "source": [
    "col_to_drop = list(model.pvalues.sort_values().index)[-1]\n",
    "col_to_keep = xtrain.columns"
   ]
  },
  {
   "cell_type": "code",
   "execution_count": 717,
   "id": "2d84e36a",
   "metadata": {},
   "outputs": [
    {
     "data": {
      "text/plain": [
       "0.9376"
      ]
     },
     "execution_count": 717,
     "metadata": {},
     "output_type": "execute_result"
    }
   ],
   "source": [
    "xtrain = xtrain.drop(labels=col_to_drop,axis=1)\n",
    "\n",
    "from statsmodels.api import OLS,add_constant\n",
    "xconst = add_constant(xtrain)\n",
    "ols = OLS(ytrain,xconst)\n",
    "model = ols.fit()\n",
    "\n",
    "round(model.rsquared_adj,4)"
   ]
  },
  {
   "cell_type": "code",
   "execution_count": 718,
   "id": "afc98e6c",
   "metadata": {},
   "outputs": [],
   "source": [
    "col_to_drop = list(model.pvalues.sort_values().index)[-1]\n",
    "col_to_keep = xtrain.columns"
   ]
  },
  {
   "cell_type": "code",
   "execution_count": 719,
   "id": "881b361b",
   "metadata": {},
   "outputs": [
    {
     "data": {
      "text/plain": [
       "0.9377"
      ]
     },
     "execution_count": 719,
     "metadata": {},
     "output_type": "execute_result"
    }
   ],
   "source": [
    "xtrain = xtrain.drop(labels=col_to_drop,axis=1)\n",
    "\n",
    "from statsmodels.api import OLS,add_constant\n",
    "xconst = add_constant(xtrain)\n",
    "ols = OLS(ytrain,xconst)\n",
    "model = ols.fit()\n",
    "\n",
    "round(model.rsquared_adj,4)"
   ]
  },
  {
   "cell_type": "code",
   "execution_count": 720,
   "id": "4225e619",
   "metadata": {},
   "outputs": [],
   "source": [
    "col_to_drop = list(model.pvalues.sort_values().index)[-1]\n",
    "col_to_keep = xtrain.columns"
   ]
  },
  {
   "cell_type": "code",
   "execution_count": 721,
   "id": "803e3dd1",
   "metadata": {},
   "outputs": [
    {
     "data": {
      "text/plain": [
       "0.9377"
      ]
     },
     "execution_count": 721,
     "metadata": {},
     "output_type": "execute_result"
    }
   ],
   "source": [
    "xtrain = xtrain.drop(labels=col_to_drop,axis=1)\n",
    "\n",
    "from statsmodels.api import OLS,add_constant\n",
    "xconst = add_constant(xtrain)\n",
    "ols = OLS(ytrain,xconst)\n",
    "model = ols.fit()\n",
    "\n",
    "round(model.rsquared_adj,4)"
   ]
  },
  {
   "cell_type": "code",
   "execution_count": 722,
   "id": "c859d240",
   "metadata": {},
   "outputs": [],
   "source": [
    "col_to_drop = list(model.pvalues.sort_values().index)[-1]\n",
    "col_to_keep = xtrain.columns"
   ]
  },
  {
   "cell_type": "code",
   "execution_count": 723,
   "id": "749ade26",
   "metadata": {},
   "outputs": [
    {
     "data": {
      "text/plain": [
       "0.9378"
      ]
     },
     "execution_count": 723,
     "metadata": {},
     "output_type": "execute_result"
    }
   ],
   "source": [
    "xtrain = xtrain.drop(labels=col_to_drop,axis=1)\n",
    "\n",
    "from statsmodels.api import OLS,add_constant\n",
    "xconst = add_constant(xtrain)\n",
    "ols = OLS(ytrain,xconst)\n",
    "model = ols.fit()\n",
    "\n",
    "round(model.rsquared_adj,4)"
   ]
  },
  {
   "cell_type": "code",
   "execution_count": 724,
   "id": "2e61d100",
   "metadata": {},
   "outputs": [],
   "source": [
    "col_to_drop = list(model.pvalues.sort_values().index)[-1]\n",
    "col_to_keep = xtrain.columns"
   ]
  },
  {
   "cell_type": "code",
   "execution_count": 725,
   "id": "4d2e6451",
   "metadata": {},
   "outputs": [
    {
     "data": {
      "text/plain": [
       "0.9379"
      ]
     },
     "execution_count": 725,
     "metadata": {},
     "output_type": "execute_result"
    }
   ],
   "source": [
    "xtrain = xtrain.drop(labels=col_to_drop,axis=1)\n",
    "\n",
    "from statsmodels.api import OLS,add_constant\n",
    "xconst = add_constant(xtrain)\n",
    "ols = OLS(ytrain,xconst)\n",
    "model = ols.fit()\n",
    "\n",
    "round(model.rsquared_adj,4)"
   ]
  },
  {
   "cell_type": "code",
   "execution_count": 726,
   "id": "bd8d12ce",
   "metadata": {},
   "outputs": [],
   "source": [
    "col_to_drop = list(model.pvalues.sort_values().index)[-1]\n",
    "col_to_keep = xtrain.columns"
   ]
  },
  {
   "cell_type": "code",
   "execution_count": 727,
   "id": "cafdd219",
   "metadata": {},
   "outputs": [
    {
     "data": {
      "text/plain": [
       "0.9379"
      ]
     },
     "execution_count": 727,
     "metadata": {},
     "output_type": "execute_result"
    }
   ],
   "source": [
    "xtrain = xtrain.drop(labels=col_to_drop,axis=1)\n",
    "\n",
    "from statsmodels.api import OLS,add_constant\n",
    "xconst = add_constant(xtrain)\n",
    "ols = OLS(ytrain,xconst)\n",
    "model = ols.fit()\n",
    "\n",
    "round(model.rsquared_adj,4)"
   ]
  },
  {
   "cell_type": "code",
   "execution_count": 728,
   "id": "aeb3e04f",
   "metadata": {},
   "outputs": [],
   "source": [
    "col_to_drop = list(model.pvalues.sort_values().index)[-1]\n",
    "col_to_keep = xtrain.columns"
   ]
  },
  {
   "cell_type": "code",
   "execution_count": 729,
   "id": "0cd311b3",
   "metadata": {},
   "outputs": [
    {
     "data": {
      "text/plain": [
       "0.938"
      ]
     },
     "execution_count": 729,
     "metadata": {},
     "output_type": "execute_result"
    }
   ],
   "source": [
    "xtrain = xtrain.drop(labels=col_to_drop,axis=1)\n",
    "\n",
    "from statsmodels.api import OLS,add_constant\n",
    "xconst = add_constant(xtrain)\n",
    "ols = OLS(ytrain,xconst)\n",
    "model = ols.fit()\n",
    "\n",
    "round(model.rsquared_adj,4)"
   ]
  },
  {
   "cell_type": "code",
   "execution_count": 730,
   "id": "a1b62902",
   "metadata": {},
   "outputs": [],
   "source": [
    "col_to_drop = list(model.pvalues.sort_values().index)[-1]\n",
    "col_to_keep = xtrain.columns"
   ]
  },
  {
   "cell_type": "code",
   "execution_count": 731,
   "id": "59574c65",
   "metadata": {},
   "outputs": [
    {
     "data": {
      "text/plain": [
       "0.9381"
      ]
     },
     "execution_count": 731,
     "metadata": {},
     "output_type": "execute_result"
    }
   ],
   "source": [
    "xtrain = xtrain.drop(labels=col_to_drop,axis=1)\n",
    "\n",
    "from statsmodels.api import OLS,add_constant\n",
    "xconst = add_constant(xtrain)\n",
    "ols = OLS(ytrain,xconst)\n",
    "model = ols.fit()\n",
    "\n",
    "round(model.rsquared_adj,4)"
   ]
  },
  {
   "cell_type": "code",
   "execution_count": 732,
   "id": "2e7cf08b",
   "metadata": {},
   "outputs": [],
   "source": [
    "col_to_drop = list(model.pvalues.sort_values().index)[-1]\n",
    "col_to_keep = xtrain.columns"
   ]
  },
  {
   "cell_type": "code",
   "execution_count": 733,
   "id": "f4f1908a",
   "metadata": {},
   "outputs": [
    {
     "data": {
      "text/plain": [
       "0.9381"
      ]
     },
     "execution_count": 733,
     "metadata": {},
     "output_type": "execute_result"
    }
   ],
   "source": [
    "xtrain = xtrain.drop(labels=col_to_drop,axis=1)\n",
    "\n",
    "from statsmodels.api import OLS,add_constant\n",
    "xconst = add_constant(xtrain)\n",
    "ols = OLS(ytrain,xconst)\n",
    "model = ols.fit()\n",
    "\n",
    "round(model.rsquared_adj,4)"
   ]
  },
  {
   "cell_type": "code",
   "execution_count": 734,
   "id": "3f662c29",
   "metadata": {},
   "outputs": [],
   "source": [
    "col_to_drop = list(model.pvalues.sort_values().index)[-1]\n",
    "col_to_keep = xtrain.columns"
   ]
  },
  {
   "cell_type": "code",
   "execution_count": 735,
   "id": "a122fa69",
   "metadata": {},
   "outputs": [
    {
     "data": {
      "text/plain": [
       "0.9381"
      ]
     },
     "execution_count": 735,
     "metadata": {},
     "output_type": "execute_result"
    }
   ],
   "source": [
    "xtrain = xtrain.drop(labels=col_to_drop,axis=1)\n",
    "\n",
    "from statsmodels.api import OLS,add_constant\n",
    "xconst = add_constant(xtrain)\n",
    "ols = OLS(ytrain,xconst)\n",
    "model = ols.fit()\n",
    "\n",
    "round(model.rsquared_adj,4)"
   ]
  },
  {
   "cell_type": "code",
   "execution_count": 736,
   "id": "0635f085",
   "metadata": {},
   "outputs": [],
   "source": [
    "col_to_drop = list(model.pvalues.sort_values().index)[-1]\n",
    "col_to_keep = xtrain.columns"
   ]
  },
  {
   "cell_type": "code",
   "execution_count": 737,
   "id": "e01fa185",
   "metadata": {},
   "outputs": [
    {
     "data": {
      "text/plain": [
       "0.9382"
      ]
     },
     "execution_count": 737,
     "metadata": {},
     "output_type": "execute_result"
    }
   ],
   "source": [
    "xtrain = xtrain.drop(labels=col_to_drop,axis=1)\n",
    "\n",
    "from statsmodels.api import OLS,add_constant\n",
    "xconst = add_constant(xtrain)\n",
    "ols = OLS(ytrain,xconst)\n",
    "model = ols.fit()\n",
    "\n",
    "round(model.rsquared_adj,4)"
   ]
  },
  {
   "cell_type": "code",
   "execution_count": 738,
   "id": "48cd2ed7",
   "metadata": {},
   "outputs": [],
   "source": [
    "col_to_drop = list(model.pvalues.sort_values().index)[-1]\n",
    "col_to_keep = xtrain.columns"
   ]
  },
  {
   "cell_type": "code",
   "execution_count": 739,
   "id": "c7ca5bd8",
   "metadata": {},
   "outputs": [
    {
     "data": {
      "text/plain": [
       "0.9383"
      ]
     },
     "execution_count": 739,
     "metadata": {},
     "output_type": "execute_result"
    }
   ],
   "source": [
    "xtrain = xtrain.drop(labels=col_to_drop,axis=1)\n",
    "\n",
    "from statsmodels.api import OLS,add_constant\n",
    "xconst = add_constant(xtrain)\n",
    "ols = OLS(ytrain,xconst)\n",
    "model = ols.fit()\n",
    "\n",
    "round(model.rsquared_adj,4)"
   ]
  },
  {
   "cell_type": "code",
   "execution_count": 740,
   "id": "dab1a26a",
   "metadata": {},
   "outputs": [],
   "source": [
    "col_to_drop = list(model.pvalues.sort_values().index)[-1]\n",
    "col_to_keep = xtrain.columns"
   ]
  },
  {
   "cell_type": "code",
   "execution_count": 741,
   "id": "5de7b46c",
   "metadata": {},
   "outputs": [
    {
     "data": {
      "text/plain": [
       "0.9383"
      ]
     },
     "execution_count": 741,
     "metadata": {},
     "output_type": "execute_result"
    }
   ],
   "source": [
    "xtrain = xtrain.drop(labels=col_to_drop,axis=1)\n",
    "\n",
    "from statsmodels.api import OLS,add_constant\n",
    "xconst = add_constant(xtrain)\n",
    "ols = OLS(ytrain,xconst)\n",
    "model = ols.fit()\n",
    "\n",
    "round(model.rsquared_adj,4)"
   ]
  },
  {
   "cell_type": "code",
   "execution_count": 742,
   "id": "1a86496a",
   "metadata": {},
   "outputs": [],
   "source": [
    "col_to_drop = list(model.pvalues.sort_values().index)[-1]\n",
    "col_to_keep = xtrain.columns"
   ]
  },
  {
   "cell_type": "code",
   "execution_count": 743,
   "id": "3e72c7dd",
   "metadata": {},
   "outputs": [
    {
     "data": {
      "text/plain": [
       "0.9384"
      ]
     },
     "execution_count": 743,
     "metadata": {},
     "output_type": "execute_result"
    }
   ],
   "source": [
    "xtrain = xtrain.drop(labels=col_to_drop,axis=1)\n",
    "\n",
    "from statsmodels.api import OLS,add_constant\n",
    "xconst = add_constant(xtrain)\n",
    "ols = OLS(ytrain,xconst)\n",
    "model = ols.fit()\n",
    "\n",
    "round(model.rsquared_adj,4)"
   ]
  },
  {
   "cell_type": "code",
   "execution_count": 744,
   "id": "f159c169",
   "metadata": {},
   "outputs": [],
   "source": [
    "col_to_drop = list(model.pvalues.sort_values().index)[-1]\n",
    "col_to_keep = xtrain.columns"
   ]
  },
  {
   "cell_type": "code",
   "execution_count": 745,
   "id": "b1fd39a8",
   "metadata": {},
   "outputs": [
    {
     "data": {
      "text/plain": [
       "0.9384"
      ]
     },
     "execution_count": 745,
     "metadata": {},
     "output_type": "execute_result"
    }
   ],
   "source": [
    "xtrain = xtrain.drop(labels=col_to_drop,axis=1)\n",
    "\n",
    "from statsmodels.api import OLS,add_constant\n",
    "xconst = add_constant(xtrain)\n",
    "ols = OLS(ytrain,xconst)\n",
    "model = ols.fit()\n",
    "\n",
    "round(model.rsquared_adj,4)"
   ]
  },
  {
   "cell_type": "code",
   "execution_count": 746,
   "id": "e9361452",
   "metadata": {},
   "outputs": [],
   "source": [
    "col_to_drop = list(model.pvalues.sort_values().index)[-1]\n",
    "col_to_keep = xtrain.columns"
   ]
  },
  {
   "cell_type": "code",
   "execution_count": 747,
   "id": "7b4946ec",
   "metadata": {},
   "outputs": [
    {
     "data": {
      "text/plain": [
       "0.9385"
      ]
     },
     "execution_count": 747,
     "metadata": {},
     "output_type": "execute_result"
    }
   ],
   "source": [
    "xtrain = xtrain.drop(labels=col_to_drop,axis=1)\n",
    "\n",
    "from statsmodels.api import OLS,add_constant\n",
    "xconst = add_constant(xtrain)\n",
    "ols = OLS(ytrain,xconst)\n",
    "model = ols.fit()\n",
    "\n",
    "round(model.rsquared_adj,4)"
   ]
  },
  {
   "cell_type": "code",
   "execution_count": 748,
   "id": "64887ee0",
   "metadata": {},
   "outputs": [],
   "source": [
    "col_to_drop = list(model.pvalues.sort_values().index)[-1]\n",
    "col_to_keep = xtrain.columns"
   ]
  },
  {
   "cell_type": "code",
   "execution_count": 749,
   "id": "43fdceb8",
   "metadata": {},
   "outputs": [
    {
     "data": {
      "text/plain": [
       "0.9386"
      ]
     },
     "execution_count": 749,
     "metadata": {},
     "output_type": "execute_result"
    }
   ],
   "source": [
    "xtrain = xtrain.drop(labels=col_to_drop,axis=1)\n",
    "\n",
    "from statsmodels.api import OLS,add_constant\n",
    "xconst = add_constant(xtrain)\n",
    "ols = OLS(ytrain,xconst)\n",
    "model = ols.fit()\n",
    "\n",
    "round(model.rsquared_adj,4)"
   ]
  },
  {
   "cell_type": "code",
   "execution_count": 750,
   "id": "8deb5137",
   "metadata": {},
   "outputs": [],
   "source": [
    "col_to_drop = list(model.pvalues.sort_values().index)[-1]\n",
    "col_to_keep = xtrain.columns"
   ]
  },
  {
   "cell_type": "code",
   "execution_count": 751,
   "id": "98629847",
   "metadata": {},
   "outputs": [
    {
     "data": {
      "text/plain": [
       "0.9386"
      ]
     },
     "execution_count": 751,
     "metadata": {},
     "output_type": "execute_result"
    }
   ],
   "source": [
    "xtrain = xtrain.drop(labels=col_to_drop,axis=1)\n",
    "\n",
    "from statsmodels.api import OLS,add_constant\n",
    "xconst = add_constant(xtrain)\n",
    "ols = OLS(ytrain,xconst)\n",
    "model = ols.fit()\n",
    "\n",
    "round(model.rsquared_adj,4)"
   ]
  },
  {
   "cell_type": "code",
   "execution_count": 752,
   "id": "d0a0ea77",
   "metadata": {},
   "outputs": [],
   "source": [
    "col_to_drop = list(model.pvalues.sort_values().index)[-1]\n",
    "col_to_keep = xtrain.columns"
   ]
  },
  {
   "cell_type": "code",
   "execution_count": 753,
   "id": "4ab23c3a",
   "metadata": {},
   "outputs": [
    {
     "data": {
      "text/plain": [
       "0.9386"
      ]
     },
     "execution_count": 753,
     "metadata": {},
     "output_type": "execute_result"
    }
   ],
   "source": [
    "xtrain = xtrain.drop(labels=col_to_drop,axis=1)\n",
    "\n",
    "from statsmodels.api import OLS,add_constant\n",
    "xconst = add_constant(xtrain)\n",
    "ols = OLS(ytrain,xconst)\n",
    "model = ols.fit()\n",
    "\n",
    "round(model.rsquared_adj,4)"
   ]
  },
  {
   "cell_type": "code",
   "execution_count": 754,
   "id": "0284e494",
   "metadata": {},
   "outputs": [],
   "source": [
    "col_to_drop = list(model.pvalues.sort_values().index)[-1]\n",
    "col_to_keep = xtrain.columns"
   ]
  },
  {
   "cell_type": "code",
   "execution_count": 755,
   "id": "67a0091d",
   "metadata": {},
   "outputs": [
    {
     "data": {
      "text/plain": [
       "0.9386"
      ]
     },
     "execution_count": 755,
     "metadata": {},
     "output_type": "execute_result"
    }
   ],
   "source": [
    "xtrain = xtrain.drop(labels=col_to_drop,axis=1)\n",
    "\n",
    "from statsmodels.api import OLS,add_constant\n",
    "xconst = add_constant(xtrain)\n",
    "ols = OLS(ytrain,xconst)\n",
    "model = ols.fit()\n",
    "\n",
    "round(model.rsquared_adj,4)"
   ]
  },
  {
   "cell_type": "code",
   "execution_count": 756,
   "id": "dbc8ba55",
   "metadata": {},
   "outputs": [],
   "source": [
    "col_to_drop = list(model.pvalues.sort_values().index)[-1]\n",
    "col_to_keep = xtrain.columns"
   ]
  },
  {
   "cell_type": "code",
   "execution_count": 757,
   "id": "b5a0f679",
   "metadata": {},
   "outputs": [
    {
     "data": {
      "text/plain": [
       "0.9387"
      ]
     },
     "execution_count": 757,
     "metadata": {},
     "output_type": "execute_result"
    }
   ],
   "source": [
    "xtrain = xtrain.drop(labels=col_to_drop,axis=1)\n",
    "\n",
    "from statsmodels.api import OLS,add_constant\n",
    "xconst = add_constant(xtrain)\n",
    "ols = OLS(ytrain,xconst)\n",
    "model = ols.fit()\n",
    "\n",
    "round(model.rsquared_adj,4)"
   ]
  },
  {
   "cell_type": "code",
   "execution_count": 758,
   "id": "83c8ca16",
   "metadata": {},
   "outputs": [],
   "source": [
    "col_to_drop = list(model.pvalues.sort_values().index)[-1]\n",
    "col_to_keep = xtrain.columns"
   ]
  },
  {
   "cell_type": "code",
   "execution_count": 759,
   "id": "8c80ab79",
   "metadata": {},
   "outputs": [
    {
     "data": {
      "text/plain": [
       "0.9388"
      ]
     },
     "execution_count": 759,
     "metadata": {},
     "output_type": "execute_result"
    }
   ],
   "source": [
    "xtrain = xtrain.drop(labels=col_to_drop,axis=1)\n",
    "\n",
    "from statsmodels.api import OLS,add_constant\n",
    "xconst = add_constant(xtrain)\n",
    "ols = OLS(ytrain,xconst)\n",
    "model = ols.fit()\n",
    "\n",
    "round(model.rsquared_adj,4)"
   ]
  },
  {
   "cell_type": "code",
   "execution_count": 760,
   "id": "5d467887",
   "metadata": {},
   "outputs": [],
   "source": [
    "col_to_drop = list(model.pvalues.sort_values().index)[-1]\n",
    "col_to_keep = xtrain.columns"
   ]
  },
  {
   "cell_type": "code",
   "execution_count": 761,
   "id": "5df89938",
   "metadata": {},
   "outputs": [
    {
     "data": {
      "text/plain": [
       "0.9388"
      ]
     },
     "execution_count": 761,
     "metadata": {},
     "output_type": "execute_result"
    }
   ],
   "source": [
    "xtrain = xtrain.drop(labels=col_to_drop,axis=1)\n",
    "\n",
    "from statsmodels.api import OLS,add_constant\n",
    "xconst = add_constant(xtrain)\n",
    "ols = OLS(ytrain,xconst)\n",
    "model = ols.fit()\n",
    "\n",
    "round(model.rsquared_adj,4)"
   ]
  },
  {
   "cell_type": "code",
   "execution_count": 762,
   "id": "5579ba5f",
   "metadata": {},
   "outputs": [],
   "source": [
    "col_to_drop = list(model.pvalues.sort_values().index)[-1]\n",
    "col_to_keep = xtrain.columns"
   ]
  },
  {
   "cell_type": "code",
   "execution_count": 763,
   "id": "c078e17b",
   "metadata": {},
   "outputs": [
    {
     "data": {
      "text/plain": [
       "0.9389"
      ]
     },
     "execution_count": 763,
     "metadata": {},
     "output_type": "execute_result"
    }
   ],
   "source": [
    "xtrain = xtrain.drop(labels=col_to_drop,axis=1)\n",
    "\n",
    "from statsmodels.api import OLS,add_constant\n",
    "xconst = add_constant(xtrain)\n",
    "ols = OLS(ytrain,xconst)\n",
    "model = ols.fit()\n",
    "\n",
    "round(model.rsquared_adj,4)"
   ]
  },
  {
   "cell_type": "code",
   "execution_count": 764,
   "id": "56485451",
   "metadata": {},
   "outputs": [],
   "source": [
    "col_to_drop = list(model.pvalues.sort_values().index)[-1]\n",
    "col_to_keep = xtrain.columns"
   ]
  },
  {
   "cell_type": "code",
   "execution_count": 765,
   "id": "ebd3faa4",
   "metadata": {},
   "outputs": [
    {
     "data": {
      "text/plain": [
       "0.9389"
      ]
     },
     "execution_count": 765,
     "metadata": {},
     "output_type": "execute_result"
    }
   ],
   "source": [
    "xtrain = xtrain.drop(labels=col_to_drop,axis=1)\n",
    "\n",
    "from statsmodels.api import OLS,add_constant\n",
    "xconst = add_constant(xtrain)\n",
    "ols = OLS(ytrain,xconst)\n",
    "model = ols.fit()\n",
    "\n",
    "round(model.rsquared_adj,4)"
   ]
  },
  {
   "cell_type": "code",
   "execution_count": 766,
   "id": "71d66fa2",
   "metadata": {},
   "outputs": [],
   "source": [
    "col_to_drop = list(model.pvalues.sort_values().index)[-1]\n",
    "col_to_keep = xtrain.columns"
   ]
  },
  {
   "cell_type": "code",
   "execution_count": 767,
   "id": "004c7fe4",
   "metadata": {},
   "outputs": [
    {
     "data": {
      "text/plain": [
       "0.939"
      ]
     },
     "execution_count": 767,
     "metadata": {},
     "output_type": "execute_result"
    }
   ],
   "source": [
    "xtrain = xtrain.drop(labels=col_to_drop,axis=1)\n",
    "\n",
    "from statsmodels.api import OLS,add_constant\n",
    "xconst = add_constant(xtrain)\n",
    "ols = OLS(ytrain,xconst)\n",
    "model = ols.fit()\n",
    "\n",
    "round(model.rsquared_adj,4)"
   ]
  },
  {
   "cell_type": "code",
   "execution_count": 768,
   "id": "fd107da9",
   "metadata": {},
   "outputs": [],
   "source": [
    "col_to_drop = list(model.pvalues.sort_values().index)[-1]\n",
    "col_to_keep = xtrain.columns"
   ]
  },
  {
   "cell_type": "code",
   "execution_count": 769,
   "id": "fd4649b8",
   "metadata": {},
   "outputs": [
    {
     "data": {
      "text/plain": [
       "0.939"
      ]
     },
     "execution_count": 769,
     "metadata": {},
     "output_type": "execute_result"
    }
   ],
   "source": [
    "xtrain = xtrain.drop(labels=col_to_drop,axis=1)\n",
    "\n",
    "from statsmodels.api import OLS,add_constant\n",
    "xconst = add_constant(xtrain)\n",
    "ols = OLS(ytrain,xconst)\n",
    "model = ols.fit()\n",
    "\n",
    "round(model.rsquared_adj,4)"
   ]
  },
  {
   "cell_type": "code",
   "execution_count": 770,
   "id": "80432b2d",
   "metadata": {},
   "outputs": [],
   "source": [
    "col_to_drop = list(model.pvalues.sort_values().index)[-1]\n",
    "col_to_keep = xtrain.columns"
   ]
  },
  {
   "cell_type": "code",
   "execution_count": 771,
   "id": "902b8e86",
   "metadata": {},
   "outputs": [
    {
     "data": {
      "text/plain": [
       "0.9391"
      ]
     },
     "execution_count": 771,
     "metadata": {},
     "output_type": "execute_result"
    }
   ],
   "source": [
    "xtrain = xtrain.drop(labels=col_to_drop,axis=1)\n",
    "\n",
    "from statsmodels.api import OLS,add_constant\n",
    "xconst = add_constant(xtrain)\n",
    "ols = OLS(ytrain,xconst)\n",
    "model = ols.fit()\n",
    "\n",
    "round(model.rsquared_adj,4)"
   ]
  },
  {
   "cell_type": "code",
   "execution_count": 772,
   "id": "c727cb06",
   "metadata": {},
   "outputs": [],
   "source": [
    "col_to_drop = list(model.pvalues.sort_values().index)[-1]\n",
    "col_to_keep = xtrain.columns"
   ]
  },
  {
   "cell_type": "code",
   "execution_count": 773,
   "id": "d707091e",
   "metadata": {},
   "outputs": [
    {
     "data": {
      "text/plain": [
       "0.9391"
      ]
     },
     "execution_count": 773,
     "metadata": {},
     "output_type": "execute_result"
    }
   ],
   "source": [
    "xtrain = xtrain.drop(labels=col_to_drop,axis=1)\n",
    "\n",
    "from statsmodels.api import OLS,add_constant\n",
    "xconst = add_constant(xtrain)\n",
    "ols = OLS(ytrain,xconst)\n",
    "model = ols.fit()\n",
    "\n",
    "round(model.rsquared_adj,4)"
   ]
  },
  {
   "cell_type": "code",
   "execution_count": 774,
   "id": "fc1c8d2c",
   "metadata": {},
   "outputs": [],
   "source": [
    "col_to_drop = list(model.pvalues.sort_values().index)[-1]\n",
    "col_to_keep = xtrain.columns"
   ]
  },
  {
   "cell_type": "code",
   "execution_count": 775,
   "id": "a6ceb9aa",
   "metadata": {},
   "outputs": [
    {
     "data": {
      "text/plain": [
       "0.9392"
      ]
     },
     "execution_count": 775,
     "metadata": {},
     "output_type": "execute_result"
    }
   ],
   "source": [
    "xtrain = xtrain.drop(labels=col_to_drop,axis=1)\n",
    "\n",
    "from statsmodels.api import OLS,add_constant\n",
    "xconst = add_constant(xtrain)\n",
    "ols = OLS(ytrain,xconst)\n",
    "model = ols.fit()\n",
    "\n",
    "round(model.rsquared_adj,4)"
   ]
  },
  {
   "cell_type": "code",
   "execution_count": 776,
   "id": "99946b7a",
   "metadata": {},
   "outputs": [],
   "source": [
    "col_to_drop = list(model.pvalues.sort_values().index)[-1]\n",
    "col_to_keep = xtrain.columns"
   ]
  },
  {
   "cell_type": "code",
   "execution_count": 777,
   "id": "a4a3e9c0",
   "metadata": {},
   "outputs": [
    {
     "data": {
      "text/plain": [
       "0.9392"
      ]
     },
     "execution_count": 777,
     "metadata": {},
     "output_type": "execute_result"
    }
   ],
   "source": [
    "xtrain = xtrain.drop(labels=col_to_drop,axis=1)\n",
    "\n",
    "from statsmodels.api import OLS,add_constant\n",
    "xconst = add_constant(xtrain)\n",
    "ols = OLS(ytrain,xconst)\n",
    "model = ols.fit()\n",
    "\n",
    "round(model.rsquared_adj,4)"
   ]
  },
  {
   "cell_type": "code",
   "execution_count": 778,
   "id": "8c83e16e",
   "metadata": {},
   "outputs": [],
   "source": [
    "col_to_drop = list(model.pvalues.sort_values().index)[-1]\n",
    "col_to_keep = xtrain.columns"
   ]
  },
  {
   "cell_type": "code",
   "execution_count": 779,
   "id": "98af231c",
   "metadata": {},
   "outputs": [
    {
     "data": {
      "text/plain": [
       "0.9392"
      ]
     },
     "execution_count": 779,
     "metadata": {},
     "output_type": "execute_result"
    }
   ],
   "source": [
    "xtrain = xtrain.drop(labels=col_to_drop,axis=1)\n",
    "\n",
    "from statsmodels.api import OLS,add_constant\n",
    "xconst = add_constant(xtrain)\n",
    "ols = OLS(ytrain,xconst)\n",
    "model = ols.fit()\n",
    "\n",
    "round(model.rsquared_adj,4)"
   ]
  },
  {
   "cell_type": "code",
   "execution_count": 780,
   "id": "e1d3b5b2",
   "metadata": {},
   "outputs": [],
   "source": [
    "col_to_drop = list(model.pvalues.sort_values().index)[-1]\n",
    "col_to_keep = xtrain.columns"
   ]
  },
  {
   "cell_type": "code",
   "execution_count": 781,
   "id": "cd0e2004",
   "metadata": {},
   "outputs": [
    {
     "data": {
      "text/plain": [
       "0.9393"
      ]
     },
     "execution_count": 781,
     "metadata": {},
     "output_type": "execute_result"
    }
   ],
   "source": [
    "xtrain = xtrain.drop(labels=col_to_drop,axis=1)\n",
    "\n",
    "from statsmodels.api import OLS,add_constant\n",
    "xconst = add_constant(xtrain)\n",
    "ols = OLS(ytrain,xconst)\n",
    "model = ols.fit()\n",
    "\n",
    "round(model.rsquared_adj,4)"
   ]
  },
  {
   "cell_type": "code",
   "execution_count": 782,
   "id": "1b27ce53",
   "metadata": {},
   "outputs": [],
   "source": [
    "col_to_drop = list(model.pvalues.sort_values().index)[-1]\n",
    "col_to_keep = xtrain.columns"
   ]
  },
  {
   "cell_type": "code",
   "execution_count": 783,
   "id": "86d0e269",
   "metadata": {},
   "outputs": [
    {
     "data": {
      "text/plain": [
       "0.9393"
      ]
     },
     "execution_count": 783,
     "metadata": {},
     "output_type": "execute_result"
    }
   ],
   "source": [
    "xtrain = xtrain.drop(labels=col_to_drop,axis=1)\n",
    "\n",
    "from statsmodels.api import OLS,add_constant\n",
    "xconst = add_constant(xtrain)\n",
    "ols = OLS(ytrain,xconst)\n",
    "model = ols.fit()\n",
    "\n",
    "round(model.rsquared_adj,4)"
   ]
  },
  {
   "cell_type": "code",
   "execution_count": 784,
   "id": "ac52e5de",
   "metadata": {},
   "outputs": [],
   "source": [
    "col_to_drop = list(model.pvalues.sort_values().index)[-1]\n",
    "col_to_keep = xtrain.columns"
   ]
  },
  {
   "cell_type": "code",
   "execution_count": 785,
   "id": "4ce4998c",
   "metadata": {},
   "outputs": [
    {
     "data": {
      "text/plain": [
       "0.9393"
      ]
     },
     "execution_count": 785,
     "metadata": {},
     "output_type": "execute_result"
    }
   ],
   "source": [
    "xtrain = xtrain.drop(labels=col_to_drop,axis=1)\n",
    "\n",
    "from statsmodels.api import OLS,add_constant\n",
    "xconst = add_constant(xtrain)\n",
    "ols = OLS(ytrain,xconst)\n",
    "model = ols.fit()\n",
    "\n",
    "round(model.rsquared_adj,4)"
   ]
  },
  {
   "cell_type": "code",
   "execution_count": 786,
   "id": "eccc800e",
   "metadata": {},
   "outputs": [],
   "source": [
    "col_to_drop = list(model.pvalues.sort_values().index)[-1]\n",
    "col_to_keep = xtrain.columns"
   ]
  },
  {
   "cell_type": "code",
   "execution_count": 787,
   "id": "f897004a",
   "metadata": {},
   "outputs": [
    {
     "data": {
      "text/plain": [
       "0.9393"
      ]
     },
     "execution_count": 787,
     "metadata": {},
     "output_type": "execute_result"
    }
   ],
   "source": [
    "xtrain = xtrain.drop(labels=col_to_drop,axis=1)\n",
    "\n",
    "from statsmodels.api import OLS,add_constant\n",
    "xconst = add_constant(xtrain)\n",
    "ols = OLS(ytrain,xconst)\n",
    "model = ols.fit()\n",
    "\n",
    "round(model.rsquared_adj,4)"
   ]
  },
  {
   "cell_type": "code",
   "execution_count": 788,
   "id": "849bd828",
   "metadata": {},
   "outputs": [],
   "source": [
    "col_to_drop = list(model.pvalues.sort_values().index)[-1]\n",
    "col_to_keep = xtrain.columns"
   ]
  },
  {
   "cell_type": "code",
   "execution_count": 789,
   "id": "291b4f49",
   "metadata": {},
   "outputs": [
    {
     "data": {
      "text/plain": [
       "0.9394"
      ]
     },
     "execution_count": 789,
     "metadata": {},
     "output_type": "execute_result"
    }
   ],
   "source": [
    "xtrain = xtrain.drop(labels=col_to_drop,axis=1)\n",
    "\n",
    "from statsmodels.api import OLS,add_constant\n",
    "xconst = add_constant(xtrain)\n",
    "ols = OLS(ytrain,xconst)\n",
    "model = ols.fit()\n",
    "\n",
    "round(model.rsquared_adj,4)"
   ]
  },
  {
   "cell_type": "code",
   "execution_count": 790,
   "id": "b9901e47",
   "metadata": {},
   "outputs": [],
   "source": [
    "col_to_drop = list(model.pvalues.sort_values().index)[-1]\n",
    "col_to_keep = xtrain.columns"
   ]
  },
  {
   "cell_type": "code",
   "execution_count": 791,
   "id": "f14de8b4",
   "metadata": {},
   "outputs": [
    {
     "data": {
      "text/plain": [
       "0.9394"
      ]
     },
     "execution_count": 791,
     "metadata": {},
     "output_type": "execute_result"
    }
   ],
   "source": [
    "xtrain = xtrain.drop(labels=col_to_drop,axis=1)\n",
    "\n",
    "from statsmodels.api import OLS,add_constant\n",
    "xconst = add_constant(xtrain)\n",
    "ols = OLS(ytrain,xconst)\n",
    "model = ols.fit()\n",
    "\n",
    "round(model.rsquared_adj,4)"
   ]
  },
  {
   "cell_type": "code",
   "execution_count": 792,
   "id": "51b6bf65",
   "metadata": {},
   "outputs": [],
   "source": [
    "col_to_drop = list(model.pvalues.sort_values().index)[-1]\n",
    "col_to_keep = xtrain.columns"
   ]
  },
  {
   "cell_type": "code",
   "execution_count": 793,
   "id": "15b69026",
   "metadata": {},
   "outputs": [
    {
     "data": {
      "text/plain": [
       "0.9394"
      ]
     },
     "execution_count": 793,
     "metadata": {},
     "output_type": "execute_result"
    }
   ],
   "source": [
    "xtrain = xtrain.drop(labels=col_to_drop,axis=1)\n",
    "\n",
    "from statsmodels.api import OLS,add_constant\n",
    "xconst = add_constant(xtrain)\n",
    "ols = OLS(ytrain,xconst)\n",
    "model = ols.fit()\n",
    "\n",
    "round(model.rsquared_adj,4)"
   ]
  },
  {
   "cell_type": "code",
   "execution_count": 794,
   "id": "a057a84e",
   "metadata": {},
   "outputs": [],
   "source": [
    "col_to_drop = list(model.pvalues.sort_values().index)[-1]\n",
    "col_to_keep = xtrain.columns"
   ]
  },
  {
   "cell_type": "code",
   "execution_count": 795,
   "id": "efd874b1",
   "metadata": {},
   "outputs": [
    {
     "data": {
      "text/plain": [
       "0.9395"
      ]
     },
     "execution_count": 795,
     "metadata": {},
     "output_type": "execute_result"
    }
   ],
   "source": [
    "xtrain = xtrain.drop(labels=col_to_drop,axis=1)\n",
    "\n",
    "from statsmodels.api import OLS,add_constant\n",
    "xconst = add_constant(xtrain)\n",
    "ols = OLS(ytrain,xconst)\n",
    "model = ols.fit()\n",
    "\n",
    "round(model.rsquared_adj,4)"
   ]
  },
  {
   "cell_type": "code",
   "execution_count": 796,
   "id": "45016851",
   "metadata": {},
   "outputs": [],
   "source": [
    "col_to_drop = list(model.pvalues.sort_values().index)[-1]\n",
    "col_to_keep = xtrain.columns"
   ]
  },
  {
   "cell_type": "code",
   "execution_count": 797,
   "id": "1bd046c7",
   "metadata": {},
   "outputs": [
    {
     "data": {
      "text/plain": [
       "0.9395"
      ]
     },
     "execution_count": 797,
     "metadata": {},
     "output_type": "execute_result"
    }
   ],
   "source": [
    "xtrain = xtrain.drop(labels=col_to_drop,axis=1)\n",
    "\n",
    "from statsmodels.api import OLS,add_constant\n",
    "xconst = add_constant(xtrain)\n",
    "ols = OLS(ytrain,xconst)\n",
    "model = ols.fit()\n",
    "\n",
    "round(model.rsquared_adj,4)"
   ]
  },
  {
   "cell_type": "code",
   "execution_count": 798,
   "id": "15f706a0",
   "metadata": {},
   "outputs": [],
   "source": [
    "col_to_drop = list(model.pvalues.sort_values().index)[-1]\n",
    "col_to_keep = xtrain.columns"
   ]
  },
  {
   "cell_type": "code",
   "execution_count": 799,
   "id": "dcde5363",
   "metadata": {},
   "outputs": [
    {
     "data": {
      "text/plain": [
       "0.9396"
      ]
     },
     "execution_count": 799,
     "metadata": {},
     "output_type": "execute_result"
    }
   ],
   "source": [
    "xtrain = xtrain.drop(labels=col_to_drop,axis=1)\n",
    "\n",
    "from statsmodels.api import OLS,add_constant\n",
    "xconst = add_constant(xtrain)\n",
    "ols = OLS(ytrain,xconst)\n",
    "model = ols.fit()\n",
    "\n",
    "round(model.rsquared_adj,4)"
   ]
  },
  {
   "cell_type": "code",
   "execution_count": 800,
   "id": "885299a0",
   "metadata": {},
   "outputs": [],
   "source": [
    "col_to_drop = list(model.pvalues.sort_values().index)[-1]\n",
    "col_to_keep = xtrain.columns"
   ]
  },
  {
   "cell_type": "code",
   "execution_count": 801,
   "id": "dec0d53a",
   "metadata": {},
   "outputs": [
    {
     "data": {
      "text/plain": [
       "0.9396"
      ]
     },
     "execution_count": 801,
     "metadata": {},
     "output_type": "execute_result"
    }
   ],
   "source": [
    "xtrain = xtrain.drop(labels=col_to_drop,axis=1)\n",
    "\n",
    "from statsmodels.api import OLS,add_constant\n",
    "xconst = add_constant(xtrain)\n",
    "ols = OLS(ytrain,xconst)\n",
    "model = ols.fit()\n",
    "\n",
    "round(model.rsquared_adj,4)"
   ]
  },
  {
   "cell_type": "code",
   "execution_count": 802,
   "id": "ca950df7",
   "metadata": {},
   "outputs": [],
   "source": [
    "col_to_drop = list(model.pvalues.sort_values().index)[-1]\n",
    "col_to_keep = xtrain.columns"
   ]
  },
  {
   "cell_type": "code",
   "execution_count": 803,
   "id": "79cdef60",
   "metadata": {},
   "outputs": [
    {
     "data": {
      "text/plain": [
       "0.9396"
      ]
     },
     "execution_count": 803,
     "metadata": {},
     "output_type": "execute_result"
    }
   ],
   "source": [
    "xtrain = xtrain.drop(labels=col_to_drop,axis=1)\n",
    "\n",
    "from statsmodels.api import OLS,add_constant\n",
    "xconst = add_constant(xtrain)\n",
    "ols = OLS(ytrain,xconst)\n",
    "model = ols.fit()\n",
    "\n",
    "round(model.rsquared_adj,4)"
   ]
  },
  {
   "cell_type": "code",
   "execution_count": 804,
   "id": "ee9e051f",
   "metadata": {},
   "outputs": [],
   "source": [
    "col_to_drop = list(model.pvalues.sort_values().index)[-1]\n",
    "col_to_keep = xtrain.columns"
   ]
  },
  {
   "cell_type": "code",
   "execution_count": 805,
   "id": "31d38058",
   "metadata": {},
   "outputs": [
    {
     "data": {
      "text/plain": [
       "0.9396"
      ]
     },
     "execution_count": 805,
     "metadata": {},
     "output_type": "execute_result"
    }
   ],
   "source": [
    "xtrain = xtrain.drop(labels=col_to_drop,axis=1)\n",
    "\n",
    "from statsmodels.api import OLS,add_constant\n",
    "xconst = add_constant(xtrain)\n",
    "ols = OLS(ytrain,xconst)\n",
    "model = ols.fit()\n",
    "\n",
    "round(model.rsquared_adj,4)"
   ]
  },
  {
   "cell_type": "code",
   "execution_count": 806,
   "id": "efd0e35a",
   "metadata": {},
   "outputs": [],
   "source": [
    "col_to_drop = list(model.pvalues.sort_values().index)[-1]\n",
    "col_to_keep = xtrain.columns"
   ]
  },
  {
   "cell_type": "code",
   "execution_count": 807,
   "id": "78141062",
   "metadata": {},
   "outputs": [
    {
     "data": {
      "text/plain": [
       "0.9397"
      ]
     },
     "execution_count": 807,
     "metadata": {},
     "output_type": "execute_result"
    }
   ],
   "source": [
    "xtrain = xtrain.drop(labels=col_to_drop,axis=1)\n",
    "\n",
    "from statsmodels.api import OLS,add_constant\n",
    "xconst = add_constant(xtrain)\n",
    "ols = OLS(ytrain,xconst)\n",
    "model = ols.fit()\n",
    "\n",
    "round(model.rsquared_adj,4)"
   ]
  },
  {
   "cell_type": "code",
   "execution_count": 808,
   "id": "ee8550cc",
   "metadata": {},
   "outputs": [],
   "source": [
    "col_to_drop = list(model.pvalues.sort_values().index)[-1]\n",
    "col_to_keep = xtrain.columns"
   ]
  },
  {
   "cell_type": "code",
   "execution_count": 809,
   "id": "7421716d",
   "metadata": {},
   "outputs": [
    {
     "data": {
      "text/plain": [
       "0.9397"
      ]
     },
     "execution_count": 809,
     "metadata": {},
     "output_type": "execute_result"
    }
   ],
   "source": [
    "xtrain = xtrain.drop(labels=col_to_drop,axis=1)\n",
    "\n",
    "from statsmodels.api import OLS,add_constant\n",
    "xconst = add_constant(xtrain)\n",
    "ols = OLS(ytrain,xconst)\n",
    "model = ols.fit()\n",
    "\n",
    "round(model.rsquared_adj,4)"
   ]
  },
  {
   "cell_type": "code",
   "execution_count": 810,
   "id": "54e7aeba",
   "metadata": {},
   "outputs": [],
   "source": [
    "col_to_drop = list(model.pvalues.sort_values().index)[-1]\n",
    "col_to_keep = xtrain.columns"
   ]
  },
  {
   "cell_type": "code",
   "execution_count": 811,
   "id": "5fb242d4",
   "metadata": {},
   "outputs": [
    {
     "data": {
      "text/plain": [
       "0.9397"
      ]
     },
     "execution_count": 811,
     "metadata": {},
     "output_type": "execute_result"
    }
   ],
   "source": [
    "xtrain = xtrain.drop(labels=col_to_drop,axis=1)\n",
    "\n",
    "from statsmodels.api import OLS,add_constant\n",
    "xconst = add_constant(xtrain)\n",
    "ols = OLS(ytrain,xconst)\n",
    "model = ols.fit()\n",
    "\n",
    "round(model.rsquared_adj,4)"
   ]
  },
  {
   "cell_type": "code",
   "execution_count": 812,
   "id": "34de70a7",
   "metadata": {},
   "outputs": [],
   "source": [
    "col_to_drop = list(model.pvalues.sort_values().index)[-1]\n",
    "col_to_keep = xtrain.columns"
   ]
  },
  {
   "cell_type": "code",
   "execution_count": 813,
   "id": "b6deb1f6",
   "metadata": {},
   "outputs": [
    {
     "data": {
      "text/plain": [
       "0.9397"
      ]
     },
     "execution_count": 813,
     "metadata": {},
     "output_type": "execute_result"
    }
   ],
   "source": [
    "xtrain = xtrain.drop(labels=col_to_drop,axis=1)\n",
    "\n",
    "from statsmodels.api import OLS,add_constant\n",
    "xconst = add_constant(xtrain)\n",
    "ols = OLS(ytrain,xconst)\n",
    "model = ols.fit()\n",
    "\n",
    "round(model.rsquared_adj,4)"
   ]
  },
  {
   "cell_type": "code",
   "execution_count": 814,
   "id": "31d33c82",
   "metadata": {},
   "outputs": [],
   "source": [
    "col_to_drop = list(model.pvalues.sort_values().index)[-1]\n",
    "col_to_keep = xtrain.columns"
   ]
  },
  {
   "cell_type": "code",
   "execution_count": 815,
   "id": "223a35e0",
   "metadata": {},
   "outputs": [
    {
     "data": {
      "text/plain": [
       "0.9398"
      ]
     },
     "execution_count": 815,
     "metadata": {},
     "output_type": "execute_result"
    }
   ],
   "source": [
    "xtrain = xtrain.drop(labels=col_to_drop,axis=1)\n",
    "\n",
    "from statsmodels.api import OLS,add_constant\n",
    "xconst = add_constant(xtrain)\n",
    "ols = OLS(ytrain,xconst)\n",
    "model = ols.fit()\n",
    "\n",
    "round(model.rsquared_adj,4)"
   ]
  },
  {
   "cell_type": "code",
   "execution_count": 816,
   "id": "cd3825c5",
   "metadata": {},
   "outputs": [],
   "source": [
    "col_to_drop = list(model.pvalues.sort_values().index)[-1]\n",
    "col_to_keep = xtrain.columns"
   ]
  },
  {
   "cell_type": "code",
   "execution_count": 817,
   "id": "924c1d84",
   "metadata": {},
   "outputs": [
    {
     "data": {
      "text/plain": [
       "0.9398"
      ]
     },
     "execution_count": 817,
     "metadata": {},
     "output_type": "execute_result"
    }
   ],
   "source": [
    "xtrain = xtrain.drop(labels=col_to_drop,axis=1)\n",
    "\n",
    "from statsmodels.api import OLS,add_constant\n",
    "xconst = add_constant(xtrain)\n",
    "ols = OLS(ytrain,xconst)\n",
    "model = ols.fit()\n",
    "\n",
    "round(model.rsquared_adj,4)"
   ]
  },
  {
   "cell_type": "code",
   "execution_count": 818,
   "id": "e42ee067",
   "metadata": {},
   "outputs": [],
   "source": [
    "col_to_drop = list(model.pvalues.sort_values().index)[-1]\n",
    "col_to_keep = xtrain.columns"
   ]
  },
  {
   "cell_type": "code",
   "execution_count": 819,
   "id": "40988cb1",
   "metadata": {},
   "outputs": [
    {
     "data": {
      "text/plain": [
       "0.9398"
      ]
     },
     "execution_count": 819,
     "metadata": {},
     "output_type": "execute_result"
    }
   ],
   "source": [
    "xtrain = xtrain.drop(labels=col_to_drop,axis=1)\n",
    "\n",
    "from statsmodels.api import OLS,add_constant\n",
    "xconst = add_constant(xtrain)\n",
    "ols = OLS(ytrain,xconst)\n",
    "model = ols.fit()\n",
    "\n",
    "round(model.rsquared_adj,4)"
   ]
  },
  {
   "cell_type": "code",
   "execution_count": 820,
   "id": "6b392dc0",
   "metadata": {},
   "outputs": [],
   "source": [
    "col_to_drop = list(model.pvalues.sort_values().index)[-1]\n",
    "col_to_keep = xtrain.columns"
   ]
  },
  {
   "cell_type": "code",
   "execution_count": 821,
   "id": "01188281",
   "metadata": {},
   "outputs": [
    {
     "data": {
      "text/plain": [
       "0.9398"
      ]
     },
     "execution_count": 821,
     "metadata": {},
     "output_type": "execute_result"
    }
   ],
   "source": [
    "xtrain = xtrain.drop(labels=col_to_drop,axis=1)\n",
    "\n",
    "from statsmodels.api import OLS,add_constant\n",
    "xconst = add_constant(xtrain)\n",
    "ols = OLS(ytrain,xconst)\n",
    "model = ols.fit()\n",
    "\n",
    "round(model.rsquared_adj,4)"
   ]
  },
  {
   "cell_type": "code",
   "execution_count": 822,
   "id": "bbdd3c0e",
   "metadata": {},
   "outputs": [],
   "source": [
    "col_to_drop = list(model.pvalues.sort_values().index)[-1]\n",
    "col_to_keep = xtrain.columns"
   ]
  },
  {
   "cell_type": "code",
   "execution_count": 823,
   "id": "6af4bd0a",
   "metadata": {},
   "outputs": [
    {
     "data": {
      "text/plain": [
       "0.9398"
      ]
     },
     "execution_count": 823,
     "metadata": {},
     "output_type": "execute_result"
    }
   ],
   "source": [
    "xtrain = xtrain.drop(labels=col_to_drop,axis=1)\n",
    "\n",
    "from statsmodels.api import OLS,add_constant\n",
    "xconst = add_constant(xtrain)\n",
    "ols = OLS(ytrain,xconst)\n",
    "model = ols.fit()\n",
    "\n",
    "round(model.rsquared_adj,4)"
   ]
  },
  {
   "cell_type": "code",
   "execution_count": 824,
   "id": "228973ed",
   "metadata": {},
   "outputs": [],
   "source": [
    "col_to_drop = list(model.pvalues.sort_values().index)[-1]\n",
    "col_to_keep = xtrain.columns"
   ]
  },
  {
   "cell_type": "code",
   "execution_count": 825,
   "id": "3e3ae6d1",
   "metadata": {},
   "outputs": [
    {
     "data": {
      "text/plain": [
       "0.9398562"
      ]
     },
     "execution_count": 825,
     "metadata": {},
     "output_type": "execute_result"
    }
   ],
   "source": [
    "xtrain = xtrain.drop(labels=col_to_drop,axis=1)\n",
    "\n",
    "from statsmodels.api import OLS,add_constant\n",
    "xconst = add_constant(xtrain)\n",
    "ols = OLS(ytrain,xconst)\n",
    "model = ols.fit()\n",
    "\n",
    "round(model.rsquared_adj,7)"
   ]
  },
  {
   "cell_type": "code",
   "execution_count": 826,
   "id": "63c4b364",
   "metadata": {},
   "outputs": [],
   "source": [
    "col_to_drop = list(model.pvalues.sort_values().index)[-1]\n",
    "col_to_keep = xtrain.columns"
   ]
  },
  {
   "cell_type": "code",
   "execution_count": 827,
   "id": "8342f9f1",
   "metadata": {},
   "outputs": [
    {
     "data": {
      "text/plain": [
       "0.9398656"
      ]
     },
     "execution_count": 827,
     "metadata": {},
     "output_type": "execute_result"
    }
   ],
   "source": [
    "xtrain = xtrain.drop(labels=col_to_drop,axis=1)\n",
    "\n",
    "from statsmodels.api import OLS,add_constant\n",
    "xconst = add_constant(xtrain)\n",
    "ols = OLS(ytrain,xconst)\n",
    "model = ols.fit()\n",
    "\n",
    "round(model.rsquared_adj,7)"
   ]
  },
  {
   "cell_type": "code",
   "execution_count": 828,
   "id": "b380c4a8",
   "metadata": {},
   "outputs": [],
   "source": [
    "col_to_drop = list(model.pvalues.sort_values().index)[-1]\n",
    "col_to_keep = xtrain.columns"
   ]
  },
  {
   "cell_type": "code",
   "execution_count": 829,
   "id": "31126ddc",
   "metadata": {},
   "outputs": [
    {
     "data": {
      "text/plain": [
       "0.9398812"
      ]
     },
     "execution_count": 829,
     "metadata": {},
     "output_type": "execute_result"
    }
   ],
   "source": [
    "xtrain = xtrain.drop(labels=col_to_drop,axis=1)\n",
    "\n",
    "from statsmodels.api import OLS,add_constant\n",
    "xconst = add_constant(xtrain)\n",
    "ols = OLS(ytrain,xconst)\n",
    "model = ols.fit()\n",
    "\n",
    "round(model.rsquared_adj,7)"
   ]
  },
  {
   "cell_type": "code",
   "execution_count": 830,
   "id": "35ddc66d",
   "metadata": {},
   "outputs": [],
   "source": [
    "col_to_drop = list(model.pvalues.sort_values().index)[-1]\n",
    "col_to_keep = xtrain.columns"
   ]
  },
  {
   "cell_type": "code",
   "execution_count": 831,
   "id": "253d4f9c",
   "metadata": {},
   "outputs": [
    {
     "data": {
      "text/plain": [
       "0.9398958"
      ]
     },
     "execution_count": 831,
     "metadata": {},
     "output_type": "execute_result"
    }
   ],
   "source": [
    "xtrain = xtrain.drop(labels=col_to_drop,axis=1)\n",
    "\n",
    "from statsmodels.api import OLS,add_constant\n",
    "xconst = add_constant(xtrain)\n",
    "ols = OLS(ytrain,xconst)\n",
    "model = ols.fit()\n",
    "\n",
    "round(model.rsquared_adj,7)"
   ]
  },
  {
   "cell_type": "code",
   "execution_count": 832,
   "id": "3491fc65",
   "metadata": {},
   "outputs": [],
   "source": [
    "col_to_drop = list(model.pvalues.sort_values().index)[-1]\n",
    "col_to_keep = xtrain.columns"
   ]
  },
  {
   "cell_type": "code",
   "execution_count": 833,
   "id": "0cab2871",
   "metadata": {},
   "outputs": [
    {
     "data": {
      "text/plain": [
       "0.9399016"
      ]
     },
     "execution_count": 833,
     "metadata": {},
     "output_type": "execute_result"
    }
   ],
   "source": [
    "xtrain = xtrain.drop(labels=col_to_drop,axis=1)\n",
    "\n",
    "from statsmodels.api import OLS,add_constant\n",
    "xconst = add_constant(xtrain)\n",
    "ols = OLS(ytrain,xconst)\n",
    "model = ols.fit()\n",
    "\n",
    "round(model.rsquared_adj,7)"
   ]
  },
  {
   "cell_type": "code",
   "execution_count": 834,
   "id": "5974c97b",
   "metadata": {},
   "outputs": [],
   "source": [
    "col_to_drop = list(model.pvalues.sort_values().index)[-1]\n",
    "col_to_keep = xtrain.columns"
   ]
  },
  {
   "cell_type": "code",
   "execution_count": 835,
   "id": "7123bdf0",
   "metadata": {},
   "outputs": [
    {
     "data": {
      "text/plain": [
       "0.9399016"
      ]
     },
     "execution_count": 835,
     "metadata": {},
     "output_type": "execute_result"
    }
   ],
   "source": [
    "xtrain = xtrain.drop(labels=col_to_drop,axis=1)\n",
    "\n",
    "from statsmodels.api import OLS,add_constant\n",
    "xconst = add_constant(xtrain)\n",
    "ols = OLS(ytrain,xconst)\n",
    "model = ols.fit()\n",
    "\n",
    "round(model.rsquared_adj,7)"
   ]
  },
  {
   "cell_type": "code",
   "execution_count": 836,
   "id": "2fe43b14",
   "metadata": {},
   "outputs": [],
   "source": [
    "col_to_drop = list(model.pvalues.sort_values().index)[-1]\n",
    "col_to_keep = xtrain.columns"
   ]
  },
  {
   "cell_type": "code",
   "execution_count": 837,
   "id": "85203644",
   "metadata": {},
   "outputs": [
    {
     "data": {
      "text/plain": [
       "0.9399071"
      ]
     },
     "execution_count": 837,
     "metadata": {},
     "output_type": "execute_result"
    }
   ],
   "source": [
    "xtrain = xtrain.drop(labels=col_to_drop,axis=1)\n",
    "\n",
    "from statsmodels.api import OLS,add_constant\n",
    "xconst = add_constant(xtrain)\n",
    "ols = OLS(ytrain,xconst)\n",
    "model = ols.fit()\n",
    "\n",
    "round(model.rsquared_adj,7)"
   ]
  },
  {
   "cell_type": "code",
   "execution_count": 838,
   "id": "a7376150",
   "metadata": {},
   "outputs": [],
   "source": [
    "col_to_drop = list(model.pvalues.sort_values().index)[-1]\n",
    "col_to_keep = xtrain.columns"
   ]
  },
  {
   "cell_type": "code",
   "execution_count": 839,
   "id": "16f76a25",
   "metadata": {},
   "outputs": [
    {
     "data": {
      "text/plain": [
       "0.9399153"
      ]
     },
     "execution_count": 839,
     "metadata": {},
     "output_type": "execute_result"
    }
   ],
   "source": [
    "xtrain = xtrain.drop(labels=col_to_drop,axis=1)\n",
    "\n",
    "from statsmodels.api import OLS,add_constant\n",
    "xconst = add_constant(xtrain)\n",
    "ols = OLS(ytrain,xconst)\n",
    "model = ols.fit()\n",
    "\n",
    "round(model.rsquared_adj,7)"
   ]
  },
  {
   "cell_type": "code",
   "execution_count": 840,
   "id": "ed7908fe",
   "metadata": {},
   "outputs": [],
   "source": [
    "col_to_drop = list(model.pvalues.sort_values().index)[-1]\n",
    "col_to_keep = xtrain.columns"
   ]
  },
  {
   "cell_type": "code",
   "execution_count": 841,
   "id": "c86dc446",
   "metadata": {},
   "outputs": [
    {
     "data": {
      "text/plain": [
       "0.939932"
      ]
     },
     "execution_count": 841,
     "metadata": {},
     "output_type": "execute_result"
    }
   ],
   "source": [
    "xtrain = xtrain.drop(labels=col_to_drop,axis=1)\n",
    "\n",
    "from statsmodels.api import OLS,add_constant\n",
    "xconst = add_constant(xtrain)\n",
    "ols = OLS(ytrain,xconst)\n",
    "model = ols.fit()\n",
    "\n",
    "round(model.rsquared_adj,7)"
   ]
  },
  {
   "cell_type": "code",
   "execution_count": 842,
   "id": "3c5b00d1",
   "metadata": {},
   "outputs": [],
   "source": [
    "col_to_drop = list(model.pvalues.sort_values().index)[-1]\n",
    "col_to_keep = xtrain.columns"
   ]
  },
  {
   "cell_type": "code",
   "execution_count": 843,
   "id": "0c19053e",
   "metadata": {},
   "outputs": [
    {
     "data": {
      "text/plain": [
       "0.9399421"
      ]
     },
     "execution_count": 843,
     "metadata": {},
     "output_type": "execute_result"
    }
   ],
   "source": [
    "xtrain = xtrain.drop(labels=col_to_drop,axis=1)\n",
    "\n",
    "from statsmodels.api import OLS,add_constant\n",
    "xconst = add_constant(xtrain)\n",
    "ols = OLS(ytrain,xconst)\n",
    "model = ols.fit()\n",
    "\n",
    "round(model.rsquared_adj,7)"
   ]
  },
  {
   "cell_type": "code",
   "execution_count": 844,
   "id": "d6fbf927",
   "metadata": {},
   "outputs": [],
   "source": [
    "col_to_drop = list(model.pvalues.sort_values().index)[-1]\n",
    "col_to_keep = xtrain.columns"
   ]
  },
  {
   "cell_type": "code",
   "execution_count": 845,
   "id": "bd5a40d7",
   "metadata": {},
   "outputs": [
    {
     "data": {
      "text/plain": [
       "0.9399552"
      ]
     },
     "execution_count": 845,
     "metadata": {},
     "output_type": "execute_result"
    }
   ],
   "source": [
    "xtrain = xtrain.drop(labels=col_to_drop,axis=1)\n",
    "\n",
    "from statsmodels.api import OLS,add_constant\n",
    "xconst = add_constant(xtrain)\n",
    "ols = OLS(ytrain,xconst)\n",
    "model = ols.fit()\n",
    "\n",
    "round(model.rsquared_adj,7)"
   ]
  },
  {
   "cell_type": "code",
   "execution_count": 846,
   "id": "30dbfee1",
   "metadata": {},
   "outputs": [],
   "source": [
    "col_to_drop = list(model.pvalues.sort_values().index)[-1]\n",
    "col_to_keep = xtrain.columns"
   ]
  },
  {
   "cell_type": "code",
   "execution_count": 847,
   "id": "a0c7d3e1",
   "metadata": {},
   "outputs": [
    {
     "data": {
      "text/plain": [
       "0.9399595"
      ]
     },
     "execution_count": 847,
     "metadata": {},
     "output_type": "execute_result"
    }
   ],
   "source": [
    "xtrain = xtrain.drop(labels=col_to_drop,axis=1)\n",
    "\n",
    "from statsmodels.api import OLS,add_constant\n",
    "xconst = add_constant(xtrain)\n",
    "ols = OLS(ytrain,xconst)\n",
    "model = ols.fit()\n",
    "\n",
    "round(model.rsquared_adj,7)"
   ]
  },
  {
   "cell_type": "code",
   "execution_count": 848,
   "id": "135b0ddd",
   "metadata": {},
   "outputs": [],
   "source": [
    "col_to_drop = list(model.pvalues.sort_values().index)[-1]\n",
    "col_to_keep = xtrain.columns"
   ]
  },
  {
   "cell_type": "code",
   "execution_count": 849,
   "id": "10d20679",
   "metadata": {},
   "outputs": [
    {
     "data": {
      "text/plain": [
       "0.940038"
      ]
     },
     "execution_count": 849,
     "metadata": {},
     "output_type": "execute_result"
    }
   ],
   "source": [
    "xtrain = xtrain.drop(labels=col_to_drop,axis=1)\n",
    "\n",
    "from statsmodels.api import OLS,add_constant\n",
    "xconst = add_constant(xtrain)\n",
    "ols = OLS(ytrain,xconst)\n",
    "model = ols.fit()\n",
    "\n",
    "round(model.rsquared_adj,7)"
   ]
  },
  {
   "cell_type": "code",
   "execution_count": 850,
   "id": "7dae586e",
   "metadata": {},
   "outputs": [],
   "source": [
    "col_to_drop = list(model.pvalues.sort_values().index)[-1]\n",
    "col_to_keep = xtrain.columns"
   ]
  },
  {
   "cell_type": "code",
   "execution_count": 851,
   "id": "ee63f576",
   "metadata": {},
   "outputs": [
    {
     "data": {
      "text/plain": [
       "0.9400436"
      ]
     },
     "execution_count": 851,
     "metadata": {},
     "output_type": "execute_result"
    }
   ],
   "source": [
    "xtrain = xtrain.drop(labels=col_to_drop,axis=1)\n",
    "\n",
    "from statsmodels.api import OLS,add_constant\n",
    "xconst = add_constant(xtrain)\n",
    "ols = OLS(ytrain,xconst)\n",
    "model = ols.fit()\n",
    "\n",
    "round(model.rsquared_adj,7)"
   ]
  },
  {
   "cell_type": "code",
   "execution_count": 852,
   "id": "11e26e0e",
   "metadata": {},
   "outputs": [],
   "source": [
    "col_to_drop = list(model.pvalues.sort_values().index)[-1]\n",
    "col_to_keep = xtrain.columns"
   ]
  },
  {
   "cell_type": "code",
   "execution_count": 853,
   "id": "740c1dce",
   "metadata": {},
   "outputs": [
    {
     "data": {
      "text/plain": [
       "0.9400473"
      ]
     },
     "execution_count": 853,
     "metadata": {},
     "output_type": "execute_result"
    }
   ],
   "source": [
    "xtrain = xtrain.drop(labels=col_to_drop,axis=1)\n",
    "\n",
    "from statsmodels.api import OLS,add_constant\n",
    "xconst = add_constant(xtrain)\n",
    "ols = OLS(ytrain,xconst)\n",
    "model = ols.fit()\n",
    "\n",
    "round(model.rsquared_adj,7)"
   ]
  },
  {
   "cell_type": "code",
   "execution_count": 854,
   "id": "ed20b060",
   "metadata": {},
   "outputs": [],
   "source": [
    "col_to_drop = list(model.pvalues.sort_values().index)[-1]\n",
    "col_to_keep = xtrain.columns"
   ]
  },
  {
   "cell_type": "code",
   "execution_count": 855,
   "id": "745967b0",
   "metadata": {},
   "outputs": [
    {
     "data": {
      "text/plain": [
       "0.9400619"
      ]
     },
     "execution_count": 855,
     "metadata": {},
     "output_type": "execute_result"
    }
   ],
   "source": [
    "xtrain = xtrain.drop(labels=col_to_drop,axis=1)\n",
    "\n",
    "from statsmodels.api import OLS,add_constant\n",
    "xconst = add_constant(xtrain)\n",
    "ols = OLS(ytrain,xconst)\n",
    "model = ols.fit()\n",
    "\n",
    "round(model.rsquared_adj,7)"
   ]
  },
  {
   "cell_type": "code",
   "execution_count": 856,
   "id": "46954340",
   "metadata": {},
   "outputs": [],
   "source": [
    "col_to_drop = list(model.pvalues.sort_values().index)[-1]\n",
    "col_to_keep = xtrain.columns"
   ]
  },
  {
   "cell_type": "code",
   "execution_count": 857,
   "id": "6171fb07",
   "metadata": {},
   "outputs": [
    {
     "data": {
      "text/plain": [
       "0.9400688"
      ]
     },
     "execution_count": 857,
     "metadata": {},
     "output_type": "execute_result"
    }
   ],
   "source": [
    "xtrain = xtrain.drop(labels=col_to_drop,axis=1)\n",
    "\n",
    "from statsmodels.api import OLS,add_constant\n",
    "xconst = add_constant(xtrain)\n",
    "ols = OLS(ytrain,xconst)\n",
    "model = ols.fit()\n",
    "\n",
    "round(model.rsquared_adj,7)"
   ]
  },
  {
   "cell_type": "code",
   "execution_count": 858,
   "id": "ba701332",
   "metadata": {},
   "outputs": [],
   "source": [
    "col_to_drop = list(model.pvalues.sort_values().index)[-1]\n",
    "col_to_keep = xtrain.columns"
   ]
  },
  {
   "cell_type": "code",
   "execution_count": 859,
   "id": "02c650e0",
   "metadata": {},
   "outputs": [
    {
     "data": {
      "text/plain": [
       "0.9400648"
      ]
     },
     "execution_count": 859,
     "metadata": {},
     "output_type": "execute_result"
    }
   ],
   "source": [
    "xtrain = xtrain.drop(labels=col_to_drop,axis=1)\n",
    "\n",
    "from statsmodels.api import OLS,add_constant\n",
    "xconst = add_constant(xtrain)\n",
    "ols = OLS(ytrain,xconst)\n",
    "model = ols.fit()\n",
    "\n",
    "round(model.rsquared_adj,7)"
   ]
  },
  {
   "cell_type": "code",
   "execution_count": 860,
   "id": "2e69511b",
   "metadata": {},
   "outputs": [
    {
     "data": {
      "text/plain": [
       "Index(['LotFrontage', 'LotArea', 'YearBuilt', 'BsmtFinSF1', 'TotalBsmtSF',\n",
       "       '1stFlrSF', '2ndFlrSF', 'BsmtHalfBath', 'FullBath', 'KitchenAbvGr',\n",
       "       ...\n",
       "       'MiscFeature_None', 'MiscFeature_Shed', 'MoSold_1', 'MoSold_12',\n",
       "       'MoSold_5', 'SaleType_CWD', 'SaleCondition_AdjLand',\n",
       "       'SaleCondition_Alloca', 'SaleCondition_Normal',\n",
       "       'SaleCondition_Partial'],\n",
       "      dtype='object', length=139)"
      ]
     },
     "execution_count": 860,
     "metadata": {},
     "output_type": "execute_result"
    }
   ],
   "source": [
    "#final list of features\n",
    "\n",
    "col_to_keep"
   ]
  },
  {
   "cell_type": "code",
   "execution_count": 861,
   "id": "eaeb5b4b",
   "metadata": {},
   "outputs": [],
   "source": [
    "from sklearn.preprocessing import StandardScaler\n",
    "ss = StandardScaler()\n",
    "from numpy import unique\n",
    "XT1 = pd.DataFrame(ss.fit_transform(XT[con]),columns=XT[con].columns)\n",
    "out_index = []\n",
    "for i in con:\n",
    "    w = list(XT1[(XT1[i] > 3) | (XT1[i] < -3)].index)\n",
    "    out_index.extend(w)\n",
    "outliers = unique(out_index)\n",
    "\n",
    "XT1 = XT1.drop(labels=outliers, axis = 0)\n",
    "#YT = YT.drop(labels =outliers, axis = 0 )\n",
    "\n",
    "XT2 = pd.get_dummies(XT[cat])\n",
    "XT2 = XT2.drop(labels=outliers, axis = 0)\n",
    "\n",
    "\n",
    "Xnew = XT1.join(XT2)\n",
    "Xnew = Xnew[col_to_keep]\n",
    "#Xnew[\"MSSubClass_150\"] = \"0\"\n",
    "#Xnew.shape\n",
    "\n",
    "from sklearn.model_selection import train_test_split\n",
    "xtrain,xtest,ytrain,ytest = train_test_split(Xnew,YT,test_size=0.2,random_state=31)"
   ]
  },
  {
   "cell_type": "code",
   "execution_count": 862,
   "id": "bf18d288",
   "metadata": {},
   "outputs": [
    {
     "data": {
      "text/plain": [
       "(833, 139)"
      ]
     },
     "execution_count": 862,
     "metadata": {},
     "output_type": "execute_result"
    }
   ],
   "source": [
    "xtrain.shape"
   ]
  },
  {
   "cell_type": "markdown",
   "id": "1ee2a8c3",
   "metadata": {},
   "source": [
    "New model"
   ]
  },
  {
   "cell_type": "code",
   "execution_count": 863,
   "id": "6518e7ed",
   "metadata": {},
   "outputs": [
    {
     "name": "stdout",
     "output_type": "stream",
     "text": [
      "Training error: 10241.0024\n",
      "Testing error: 12785.11005\n",
      "Testing R2: 0.9257613497429427\n",
      "Training R2: 0.9489324497669477\n"
     ]
    }
   ],
   "source": [
    "from sklearn.linear_model import LinearRegression\n",
    "lr = LinearRegression()\n",
    "model = lr.fit(xtrain,ytrain)\n",
    "pred_tr = model.predict(xtrain)\n",
    "pred_ts = model.predict(xtest)\n",
    "\n",
    "from sklearn.metrics import mean_absolute_error,mean_squared_error\n",
    "tr_er = round(mean_absolute_error(ytrain,pred_tr),5)\n",
    "ts_er =  round(mean_absolute_error(ytest,pred_ts),5)\n",
    "\n",
    "from sklearn.metrics import explained_variance_score\n",
    "ts_r2 = explained_variance_score(ytest,pred_ts)\n",
    "\n",
    "from sklearn.metrics import explained_variance_score\n",
    "tr_r2 = explained_variance_score(ytrain,pred_tr)\n",
    "\n",
    "print(\"Training error:\",tr_er)\n",
    "print(\"Testing error:\",ts_er)\n",
    "print(\"Testing R2:\",ts_r2)\n",
    "print(\"Training R2:\",tr_r2)"
   ]
  },
  {
   "cell_type": "markdown",
   "id": "f7561b99",
   "metadata": {},
   "source": [
    "Removing overfitting"
   ]
  },
  {
   "cell_type": "markdown",
   "id": "10f10116",
   "metadata": {},
   "source": [
    "Ridge"
   ]
  },
  {
   "cell_type": "code",
   "execution_count": 867,
   "id": "4351f261",
   "metadata": {},
   "outputs": [
    {
     "name": "stdout",
     "output_type": "stream",
     "text": [
      "==== 0.5701 ====\n",
      "10309.25111\n",
      "12555.21896\n",
      "==== 0.5702 ====\n",
      "10309.26779\n",
      "12555.21893\n",
      "==== 0.5703 ====\n",
      "10309.28447\n",
      "12555.21891\n",
      "==== 0.5704 ====\n",
      "10309.30114\n",
      "12555.21888\n",
      "==== 0.5705 ====\n",
      "10309.31782\n",
      "12555.21885\n",
      "==== 0.5706 ====\n",
      "10309.33449\n",
      "12555.21883\n",
      "==== 0.5707 ====\n",
      "10309.35116\n",
      "12555.21881\n",
      "==== 0.5708 ====\n",
      "10309.36783\n",
      "12555.21879\n",
      "==== 0.5709 ====\n",
      "10309.3845\n",
      "12555.21877\n",
      "==== 0.571 ====\n",
      "10309.40116\n",
      "12555.21876\n",
      "==== 0.5711 ====\n",
      "10309.41782\n",
      "12555.21875\n",
      "==== 0.5712 ====\n",
      "10309.43448\n",
      "12555.21874\n",
      "==== 0.5713 ====\n",
      "10309.45114\n",
      "12555.21873\n",
      "==== 0.5714 ====\n",
      "10309.46779\n",
      "12555.21872\n",
      "==== 0.5715 ====\n",
      "10309.48445\n",
      "12555.21872\n",
      "==== 0.5716 ====\n",
      "10309.5011\n",
      "12555.21871\n",
      "==== 0.5717 ====\n",
      "10309.51775\n",
      "12555.21871\n",
      "==== 0.5718 ====\n",
      "10309.5344\n",
      "12555.21871\n",
      "==== 0.5719 ====\n",
      "10309.55104\n",
      "12555.21872\n",
      "==== 0.572 ====\n",
      "10309.56769\n",
      "12555.21872\n",
      "==== 0.5721 ====\n",
      "10309.58433\n",
      "12555.21873\n",
      "==== 0.5722 ====\n",
      "10309.60097\n",
      "12555.21874\n",
      "==== 0.5723 ====\n",
      "10309.6176\n",
      "12555.21875\n",
      "==== 0.5724 ====\n",
      "10309.63424\n",
      "12555.21876\n",
      "==== 0.5725 ====\n",
      "10309.65087\n",
      "12555.21878\n",
      "==== 0.5726 ====\n",
      "10309.6675\n",
      "12555.2188\n",
      "==== 0.5727 ====\n",
      "10309.68413\n",
      "12555.21882\n",
      "==== 0.5728 ====\n",
      "10309.70075\n",
      "12555.21884\n",
      "==== 0.5729 ====\n",
      "10309.71738\n",
      "12555.21886\n",
      "==== 0.573 ====\n",
      "10309.734\n",
      "12555.21889\n",
      "==== 0.5731 ====\n",
      "10309.75062\n",
      "12555.21891\n",
      "==== 0.5732 ====\n",
      "10309.76724\n",
      "12555.21894\n",
      "==== 0.5733 ====\n",
      "10309.78386\n",
      "12555.21897\n",
      "==== 0.5734 ====\n",
      "10309.80047\n",
      "12555.21901\n",
      "==== 0.5735 ====\n",
      "10309.81708\n",
      "12555.21904\n",
      "==== 0.5736 ====\n",
      "10309.83369\n",
      "12555.21908\n",
      "==== 0.5737 ====\n",
      "10309.8503\n",
      "12555.21912\n",
      "==== 0.5738 ====\n",
      "10309.8669\n",
      "12555.21916\n",
      "==== 0.5739 ====\n",
      "10309.88351\n",
      "12555.2192\n",
      "==== 0.574 ====\n",
      "10309.90011\n",
      "12555.21924\n",
      "==== 0.5741 ====\n",
      "10309.91671\n",
      "12555.21929\n",
      "==== 0.5742 ====\n",
      "10309.93331\n",
      "12555.21934\n",
      "==== 0.5743 ====\n",
      "10309.9499\n",
      "12555.21939\n",
      "==== 0.5744 ====\n",
      "10309.96649\n",
      "12555.21944\n",
      "==== 0.5745 ====\n",
      "10309.98308\n",
      "12555.2195\n",
      "==== 0.5746 ====\n",
      "10309.99967\n",
      "12555.21956\n",
      "==== 0.5747 ====\n",
      "10310.01626\n",
      "12555.21961\n",
      "==== 0.5748 ====\n",
      "10310.03284\n",
      "12555.21967\n",
      "==== 0.5749 ====\n",
      "10310.04943\n",
      "12555.21974\n",
      "==== 0.575 ====\n",
      "10310.06601\n",
      "12555.2198\n",
      "==== 0.5751 ====\n",
      "10310.08259\n",
      "12555.21987\n",
      "==== 0.5752 ====\n",
      "10310.09916\n",
      "12555.21994\n",
      "==== 0.5753 ====\n",
      "10310.11574\n",
      "12555.22001\n",
      "==== 0.5754 ====\n",
      "10310.13231\n",
      "12555.22008\n",
      "==== 0.5755 ====\n",
      "10310.14888\n",
      "12555.22015\n",
      "==== 0.5756 ====\n",
      "10310.16545\n",
      "12555.22023\n",
      "==== 0.5757 ====\n",
      "10310.18201\n",
      "12555.22031\n",
      "==== 0.5758 ====\n",
      "10310.19858\n",
      "12555.22039\n",
      "==== 0.5759 ====\n",
      "10310.21514\n",
      "12555.22047\n",
      "==== 0.576 ====\n",
      "10310.2317\n",
      "12555.22055\n",
      "==== 0.5761 ====\n",
      "10310.24826\n",
      "12555.22064\n",
      "==== 0.5762 ====\n",
      "10310.26481\n",
      "12555.22073\n",
      "==== 0.5763 ====\n",
      "10310.28137\n",
      "12555.22082\n",
      "==== 0.5764 ====\n",
      "10310.29792\n",
      "12555.22091\n",
      "==== 0.5765 ====\n",
      "10310.31447\n",
      "12555.221\n",
      "==== 0.5766 ====\n",
      "10310.33101\n",
      "12555.2211\n",
      "==== 0.5767 ====\n",
      "10310.34756\n",
      "12555.2212\n",
      "==== 0.5768 ====\n",
      "10310.3641\n",
      "12555.2213\n",
      "==== 0.5769 ====\n",
      "10310.38064\n",
      "12555.2214\n",
      "==== 0.577 ====\n",
      "10310.39718\n",
      "12555.2215\n",
      "==== 0.5771 ====\n",
      "10310.41372\n",
      "12555.22161\n",
      "==== 0.5772 ====\n",
      "10310.43025\n",
      "12555.22172\n",
      "==== 0.5773 ====\n",
      "10310.44679\n",
      "12555.22182\n",
      "==== 0.5774 ====\n",
      "10310.46332\n",
      "12555.22194\n",
      "==== 0.5775 ====\n",
      "10310.47985\n",
      "12555.22205\n",
      "==== 0.5776 ====\n",
      "10310.49637\n",
      "12555.22216\n",
      "==== 0.5777 ====\n",
      "10310.5129\n",
      "12555.22228\n",
      "==== 0.5778 ====\n",
      "10310.52942\n",
      "12555.2224\n",
      "==== 0.5779 ====\n",
      "10310.54594\n",
      "12555.22252\n",
      "==== 0.578 ====\n",
      "10310.56246\n",
      "12555.22264\n",
      "==== 0.5781 ====\n",
      "10310.57897\n",
      "12555.22277\n",
      "==== 0.5782 ====\n",
      "10310.59549\n",
      "12555.2229\n",
      "==== 0.5783 ====\n",
      "10310.612\n",
      "12555.22302\n",
      "==== 0.5784 ====\n",
      "10310.62851\n",
      "12555.22316\n",
      "==== 0.5785 ====\n",
      "10310.64502\n",
      "12555.22329\n",
      "==== 0.5786 ====\n",
      "10310.66152\n",
      "12555.22342\n",
      "==== 0.5787 ====\n",
      "10310.67803\n",
      "12555.22356\n",
      "==== 0.5788 ====\n",
      "10310.69453\n",
      "12555.2237\n",
      "==== 0.5789 ====\n",
      "10310.71103\n",
      "12555.22384\n",
      "==== 0.579 ====\n",
      "10310.72753\n",
      "12555.22398\n",
      "==== 0.5791 ====\n",
      "10310.74402\n",
      "12555.22412\n",
      "==== 0.5792 ====\n",
      "10310.76052\n",
      "12555.22427\n",
      "==== 0.5793 ====\n",
      "10310.77701\n",
      "12555.22442\n",
      "==== 0.5794 ====\n",
      "10310.7935\n",
      "12555.22457\n",
      "==== 0.5795 ====\n",
      "10310.80999\n",
      "12555.22472\n",
      "==== 0.5796 ====\n",
      "10310.82647\n",
      "12555.22487\n",
      "==== 0.5797 ====\n",
      "10310.84295\n",
      "12555.22503\n",
      "==== 0.5798 ====\n",
      "10310.85943\n",
      "12555.22518\n",
      "==== 0.5799 ====\n",
      "10310.87591\n",
      "12555.22534\n",
      "==== 0.58 ====\n",
      "10310.89239\n",
      "12555.22551\n",
      "==== 0.5801 ====\n",
      "10310.90887\n",
      "12555.22567\n",
      "==== 0.5802 ====\n",
      "10310.92534\n",
      "12555.22583\n",
      "==== 0.5803 ====\n",
      "10310.94181\n",
      "12555.226\n",
      "==== 0.5804 ====\n",
      "10310.95828\n",
      "12555.22617\n",
      "==== 0.5805 ====\n",
      "10310.97475\n",
      "12555.22634\n",
      "==== 0.5806 ====\n",
      "10310.99121\n",
      "12555.22651\n",
      "==== 0.5807 ====\n",
      "10311.00767\n",
      "12555.22669\n",
      "==== 0.5808 ====\n",
      "10311.02413\n",
      "12555.22686\n",
      "==== 0.5809 ====\n",
      "10311.04059\n",
      "12555.22704\n",
      "==== 0.581 ====\n",
      "10311.05705\n",
      "12555.22722\n",
      "==== 0.5811 ====\n",
      "10311.0735\n",
      "12555.22741\n",
      "==== 0.5812 ====\n",
      "10311.08996\n",
      "12555.22759\n",
      "==== 0.5813 ====\n",
      "10311.10641\n",
      "12555.22778\n",
      "==== 0.5814 ====\n",
      "10311.12285\n",
      "12555.22796\n",
      "==== 0.5815 ====\n",
      "10311.1393\n",
      "12555.22815\n",
      "==== 0.5816 ====\n",
      "10311.15574\n",
      "12555.22835\n",
      "==== 0.5817 ====\n",
      "10311.17219\n",
      "12555.22854\n",
      "==== 0.5818 ====\n",
      "10311.18863\n",
      "12555.22873\n",
      "==== 0.5819 ====\n",
      "10311.20506\n",
      "12555.22893\n",
      "==== 0.582 ====\n",
      "10311.2215\n",
      "12555.22913\n",
      "==== 0.5821 ====\n",
      "10311.23793\n",
      "12555.22933\n",
      "==== 0.5822 ====\n",
      "10311.25437\n",
      "12555.22954\n",
      "==== 0.5823 ====\n",
      "10311.2708\n",
      "12555.22974\n",
      "==== 0.5824 ====\n",
      "10311.28722\n",
      "12555.22995\n",
      "==== 0.5825 ====\n",
      "10311.30365\n",
      "12555.23016\n",
      "==== 0.5826 ====\n",
      "10311.32007\n",
      "12555.23037\n",
      "==== 0.5827 ====\n",
      "10311.3365\n",
      "12555.23058\n",
      "==== 0.5828 ====\n",
      "10311.35292\n",
      "12555.23079\n",
      "==== 0.5829 ====\n",
      "10311.36933\n",
      "12555.23101\n",
      "==== 0.583 ====\n",
      "10311.38575\n",
      "12555.23123\n",
      "==== 0.5831 ====\n",
      "10311.40216\n",
      "12555.23145\n",
      "==== 0.5832 ====\n",
      "10311.41857\n",
      "12555.23167\n",
      "==== 0.5833 ====\n",
      "10311.43498\n",
      "12555.23189\n",
      "==== 0.5834 ====\n",
      "10311.45139\n",
      "12555.23212\n",
      "==== 0.5835 ====\n",
      "10311.4678\n",
      "12555.23235\n",
      "==== 0.5836 ====\n",
      "10311.4842\n",
      "12555.23258\n",
      "==== 0.5837 ====\n",
      "10311.5006\n",
      "12555.23281\n",
      "==== 0.5838 ====\n",
      "10311.517\n",
      "12555.23304\n",
      "==== 0.5839 ====\n",
      "10311.5334\n",
      "12555.23328\n",
      "==== 0.584 ====\n",
      "10311.54979\n",
      "12555.23351\n",
      "==== 0.5841 ====\n",
      "10311.56618\n",
      "12555.23375\n",
      "==== 0.5842 ====\n",
      "10311.58258\n",
      "12555.23399\n",
      "==== 0.5843 ====\n",
      "10311.59896\n",
      "12555.23423\n",
      "==== 0.5844 ====\n",
      "10311.61535\n",
      "12555.23448\n",
      "==== 0.5845 ====\n",
      "10311.63174\n",
      "12555.23473\n",
      "==== 0.5846 ====\n",
      "10311.64812\n",
      "12555.23497\n",
      "==== 0.5847 ====\n",
      "10311.6645\n",
      "12555.23522\n",
      "==== 0.5848 ====\n",
      "10311.68088\n",
      "12555.23547\n",
      "==== 0.5849 ====\n",
      "10311.69726\n",
      "12555.23573\n",
      "==== 0.585 ====\n",
      "10311.71374\n",
      "12555.23598\n",
      "==== 0.5851 ====\n",
      "10311.73037\n",
      "12555.23624\n",
      "==== 0.5852 ====\n",
      "10311.747\n",
      "12555.2365\n",
      "==== 0.5853 ====\n",
      "10311.76363\n",
      "12555.23676\n",
      "==== 0.5854 ====\n",
      "10311.78025\n",
      "12555.23703\n",
      "==== 0.5855 ====\n",
      "10311.79687\n",
      "12555.23729\n",
      "==== 0.5856 ====\n",
      "10311.81349\n",
      "12555.23756\n",
      "==== 0.5857 ====\n",
      "10311.83011\n",
      "12555.23783\n",
      "==== 0.5858 ====\n",
      "10311.84673\n",
      "12555.2381\n",
      "==== 0.5859 ====\n",
      "10311.86334\n",
      "12555.23837\n",
      "==== 0.586 ====\n",
      "10311.87995\n",
      "12555.23864\n",
      "==== 0.5861 ====\n",
      "10311.89656\n",
      "12555.23892\n",
      "==== 0.5862 ====\n",
      "10311.91317\n",
      "12555.2392\n",
      "==== 0.5863 ====\n",
      "10311.92978\n",
      "12555.23948\n",
      "==== 0.5864 ====\n",
      "10311.94638\n",
      "12555.23976\n",
      "==== 0.5865 ====\n",
      "10311.96298\n",
      "12555.24004\n",
      "==== 0.5866 ====\n",
      "10311.97958\n",
      "12555.24033\n",
      "==== 0.5867 ====\n",
      "10311.99618\n",
      "12555.24061\n",
      "==== 0.5868 ====\n",
      "10312.01277\n",
      "12555.2409\n",
      "==== 0.5869 ====\n",
      "10312.02937\n",
      "12555.24119\n",
      "==== 0.587 ====\n",
      "10312.04596\n",
      "12555.24149\n",
      "==== 0.5871 ====\n",
      "10312.06255\n",
      "12555.24178\n",
      "==== 0.5872 ====\n",
      "10312.07914\n",
      "12555.24208\n",
      "==== 0.5873 ====\n",
      "10312.09572\n",
      "12555.24237\n",
      "==== 0.5874 ====\n",
      "10312.1123\n",
      "12555.24267\n",
      "==== 0.5875 ====\n",
      "10312.12889\n",
      "12555.24298\n",
      "==== 0.5876 ====\n",
      "10312.14546\n",
      "12555.24328\n",
      "==== 0.5877 ====\n",
      "10312.16204\n",
      "12555.24359\n",
      "==== 0.5878 ====\n",
      "10312.17862\n",
      "12555.24389\n",
      "==== 0.5879 ====\n",
      "10312.19519\n",
      "12555.2442\n",
      "==== 0.588 ====\n",
      "10312.21176\n",
      "12555.24451\n",
      "==== 0.5881 ====\n",
      "10312.22833\n",
      "12555.24483\n",
      "==== 0.5882 ====\n",
      "10312.2449\n",
      "12555.24514\n",
      "==== 0.5883 ====\n",
      "10312.26146\n",
      "12555.24546\n",
      "==== 0.5884 ====\n",
      "10312.27803\n",
      "12555.24578\n",
      "==== 0.5885 ====\n",
      "10312.29459\n",
      "12555.2461\n",
      "==== 0.5886 ====\n",
      "10312.31114\n",
      "12555.24642\n",
      "==== 0.5887 ====\n",
      "10312.3277\n",
      "12555.24674\n",
      "==== 0.5888 ====\n",
      "10312.34426\n",
      "12555.24707\n",
      "==== 0.5889 ====\n",
      "10312.36081\n",
      "12555.24739\n",
      "==== 0.589 ====\n",
      "10312.37736\n",
      "12555.24772\n",
      "==== 0.5891 ====\n",
      "10312.39391\n",
      "12555.24805\n",
      "==== 0.5892 ====\n",
      "10312.41045\n",
      "12555.24839\n",
      "==== 0.5893 ====\n",
      "10312.427\n",
      "12555.24872\n",
      "==== 0.5894 ====\n",
      "10312.44354\n",
      "12555.24906\n",
      "==== 0.5895 ====\n",
      "10312.46008\n",
      "12555.2494\n",
      "==== 0.5896 ====\n",
      "10312.47662\n",
      "12555.24974\n",
      "==== 0.5897 ====\n",
      "10312.49316\n",
      "12555.25008\n",
      "==== 0.5898 ====\n",
      "10312.50969\n",
      "12555.25042\n",
      "==== 0.5899 ====\n",
      "10312.52622\n",
      "12555.25077\n",
      "==== 0.59 ====\n",
      "10312.54275\n",
      "12555.25112\n",
      "==== 0.5901 ====\n",
      "10312.55928\n",
      "12555.25147\n",
      "==== 0.5902 ====\n",
      "10312.57581\n",
      "12555.25182\n",
      "==== 0.5903 ====\n",
      "10312.59233\n",
      "12555.25217\n"
     ]
    },
    {
     "name": "stdout",
     "output_type": "stream",
     "text": [
      "==== 0.5904 ====\n",
      "10312.60885\n",
      "12555.25252\n",
      "==== 0.5905 ====\n",
      "10312.62537\n",
      "12555.25288\n",
      "==== 0.5906 ====\n",
      "10312.64189\n",
      "12555.25324\n",
      "==== 0.5907 ====\n",
      "10312.65841\n",
      "12555.2536\n",
      "==== 0.5908 ====\n",
      "10312.67492\n",
      "12555.25396\n",
      "==== 0.5909 ====\n",
      "10312.69144\n",
      "12555.25433\n",
      "==== 0.591 ====\n",
      "10312.70795\n",
      "12555.25469\n",
      "==== 0.5911 ====\n",
      "10312.72445\n",
      "12555.25506\n",
      "==== 0.5912 ====\n",
      "10312.74096\n",
      "12555.25543\n",
      "==== 0.5913 ====\n",
      "10312.75746\n",
      "12555.2558\n",
      "==== 0.5914 ====\n",
      "10312.77396\n",
      "12555.25617\n",
      "==== 0.5915 ====\n",
      "10312.79046\n",
      "12555.25655\n",
      "==== 0.5916 ====\n",
      "10312.80696\n",
      "12555.25692\n",
      "==== 0.5917 ====\n",
      "10312.82346\n",
      "12555.2573\n",
      "==== 0.5918 ====\n",
      "10312.83995\n",
      "12555.25768\n",
      "==== 0.5919 ====\n",
      "10312.85644\n",
      "12555.25806\n",
      "==== 0.592 ====\n",
      "10312.87293\n",
      "12555.25845\n",
      "==== 0.5921 ====\n",
      "10312.88942\n",
      "12555.25883\n",
      "==== 0.5922 ====\n",
      "10312.90591\n",
      "12555.25922\n",
      "==== 0.5923 ====\n",
      "10312.92239\n",
      "12555.25961\n",
      "==== 0.5924 ====\n",
      "10312.93887\n",
      "12555.26\n",
      "==== 0.5925 ====\n",
      "10312.95535\n",
      "12555.26039\n",
      "==== 0.5926 ====\n",
      "10312.97183\n",
      "12555.26078\n",
      "==== 0.5927 ====\n",
      "10312.9883\n",
      "12555.26118\n",
      "==== 0.5928 ====\n",
      "10313.00478\n",
      "12555.26158\n",
      "==== 0.5929 ====\n",
      "10313.02125\n",
      "12555.26198\n",
      "==== 0.593 ====\n",
      "10313.03772\n",
      "12555.26238\n",
      "==== 0.5931 ====\n",
      "10313.05419\n",
      "12555.26278\n",
      "==== 0.5932 ====\n",
      "10313.07065\n",
      "12555.26319\n",
      "==== 0.5933 ====\n",
      "10313.08712\n",
      "12555.2636\n",
      "==== 0.5934 ====\n",
      "10313.10358\n",
      "12555.264\n",
      "==== 0.5935 ====\n",
      "10313.12004\n",
      "12555.26441\n",
      "==== 0.5936 ====\n",
      "10313.13649\n",
      "12555.26483\n",
      "==== 0.5937 ====\n",
      "10313.15295\n",
      "12555.26524\n",
      "==== 0.5938 ====\n",
      "10313.1694\n",
      "12555.26566\n",
      "==== 0.5939 ====\n",
      "10313.18585\n",
      "12555.26607\n",
      "==== 0.594 ====\n",
      "10313.2023\n",
      "12555.26649\n",
      "==== 0.5941 ====\n",
      "10313.21875\n",
      "12555.26691\n",
      "==== 0.5942 ====\n",
      "10313.2352\n",
      "12555.26734\n",
      "==== 0.5943 ====\n",
      "10313.25164\n",
      "12555.26776\n",
      "==== 0.5944 ====\n",
      "10313.26808\n",
      "12555.26819\n",
      "==== 0.5945 ====\n",
      "10313.28452\n",
      "12555.26862\n",
      "==== 0.5946 ====\n",
      "10313.30096\n",
      "12555.26905\n",
      "==== 0.5947 ====\n",
      "10313.31739\n",
      "12555.26948\n",
      "==== 0.5948 ====\n",
      "10313.33382\n",
      "12555.26991\n",
      "==== 0.5949 ====\n",
      "10313.35026\n",
      "12555.27035\n",
      "==== 0.595 ====\n",
      "10313.36669\n",
      "12555.27078\n",
      "==== 0.5951 ====\n",
      "10313.38311\n",
      "12555.27122\n",
      "==== 0.5952 ====\n",
      "10313.39954\n",
      "12555.27166\n",
      "==== 0.5953 ====\n",
      "10313.41596\n",
      "12555.27211\n",
      "==== 0.5954 ====\n",
      "10313.43238\n",
      "12555.27255\n",
      "==== 0.5955 ====\n",
      "10313.4488\n",
      "12555.273\n",
      "==== 0.5956 ====\n",
      "10313.46522\n",
      "12555.27344\n",
      "==== 0.5957 ====\n",
      "10313.48163\n",
      "12555.27389\n",
      "==== 0.5958 ====\n",
      "10313.49805\n",
      "12555.27434\n",
      "==== 0.5959 ====\n",
      "10313.51446\n",
      "12555.2748\n",
      "==== 0.596 ====\n",
      "10313.53087\n",
      "12555.27525\n",
      "==== 0.5961 ====\n",
      "10313.54727\n",
      "12555.27571\n",
      "==== 0.5962 ====\n",
      "10313.56368\n",
      "12555.27617\n",
      "==== 0.5963 ====\n",
      "10313.58008\n",
      "12555.27663\n",
      "==== 0.5964 ====\n",
      "10313.59648\n",
      "12555.27709\n",
      "==== 0.5965 ====\n",
      "10313.61288\n",
      "12555.27755\n",
      "==== 0.5966 ====\n",
      "10313.62928\n",
      "12555.27802\n",
      "==== 0.5967 ====\n",
      "10313.64567\n",
      "12555.27848\n",
      "==== 0.5968 ====\n",
      "10313.66207\n",
      "12555.27895\n",
      "==== 0.5969 ====\n",
      "10313.67846\n",
      "12555.27942\n",
      "==== 0.597 ====\n",
      "10313.69485\n",
      "12555.27989\n",
      "==== 0.5971 ====\n",
      "10313.71123\n",
      "12555.28037\n",
      "==== 0.5972 ====\n",
      "10313.72762\n",
      "12555.28084\n",
      "==== 0.5973 ====\n",
      "10313.744\n",
      "12555.28132\n",
      "==== 0.5974 ====\n",
      "10313.76038\n",
      "12555.2818\n",
      "==== 0.5975 ====\n",
      "10313.77676\n",
      "12555.28228\n",
      "==== 0.5976 ====\n",
      "10313.79314\n",
      "12555.28276\n",
      "==== 0.5977 ====\n",
      "10313.80951\n",
      "12555.28325\n",
      "==== 0.5978 ====\n",
      "10313.82589\n",
      "12555.28374\n",
      "==== 0.5979 ====\n",
      "10313.84226\n",
      "12555.28422\n",
      "==== 0.598 ====\n",
      "10313.85863\n",
      "12555.28471\n",
      "==== 0.5981 ====\n",
      "10313.87499\n",
      "12555.2852\n",
      "==== 0.5982 ====\n",
      "10313.89136\n",
      "12555.2857\n",
      "==== 0.5983 ====\n",
      "10313.90772\n",
      "12555.28619\n",
      "==== 0.5984 ====\n",
      "10313.92408\n",
      "12555.28669\n",
      "==== 0.5985 ====\n",
      "10313.94044\n",
      "12555.28719\n",
      "==== 0.5986 ====\n",
      "10313.9568\n",
      "12555.28769\n",
      "==== 0.5987 ====\n",
      "10313.97315\n",
      "12555.28819\n",
      "==== 0.5988 ====\n",
      "10313.98951\n",
      "12555.28869\n",
      "==== 0.5989 ====\n",
      "10314.00586\n",
      "12555.2892\n",
      "==== 0.599 ====\n",
      "10314.02221\n",
      "12555.28971\n",
      "==== 0.5991 ====\n",
      "10314.03855\n",
      "12555.29021\n",
      "==== 0.5992 ====\n",
      "10314.0549\n",
      "12555.29072\n",
      "==== 0.5993 ====\n",
      "10314.07124\n",
      "12555.29124\n",
      "==== 0.5994 ====\n",
      "10314.08758\n",
      "12555.29175\n",
      "==== 0.5995 ====\n",
      "10314.10392\n",
      "12555.29227\n",
      "==== 0.5996 ====\n",
      "10314.12026\n",
      "12555.29278\n",
      "==== 0.5997 ====\n",
      "10314.13659\n",
      "12555.2933\n",
      "==== 0.5998 ====\n",
      "10314.15293\n",
      "12555.29382\n",
      "==== 0.5999 ====\n",
      "10314.16926\n",
      "12555.29435\n",
      "==== 0.6 ====\n",
      "10314.18559\n",
      "12555.29487\n",
      "==== 0.6001 ====\n",
      "10314.20191\n",
      "12555.2954\n",
      "==== 0.6002 ====\n",
      "10314.21824\n",
      "12555.29593\n",
      "==== 0.6003 ====\n",
      "10314.23456\n",
      "12555.29645\n",
      "==== 0.6004 ====\n",
      "10314.25088\n",
      "12555.29699\n",
      "==== 0.6005 ====\n",
      "10314.2672\n",
      "12555.29752\n",
      "==== 0.6006 ====\n",
      "10314.28352\n",
      "12555.29805\n",
      "==== 0.6007 ====\n",
      "10314.29983\n",
      "12555.29859\n",
      "==== 0.6008 ====\n",
      "10314.31615\n",
      "12555.29913\n",
      "==== 0.6009 ====\n",
      "10314.33246\n",
      "12555.29967\n",
      "==== 0.601 ====\n",
      "10314.34877\n",
      "12555.30021\n",
      "==== 0.6011 ====\n",
      "10314.36507\n",
      "12555.30075\n",
      "==== 0.6012 ====\n",
      "10314.38138\n",
      "12555.3013\n",
      "==== 0.6013 ====\n",
      "10314.39768\n",
      "12555.30184\n",
      "==== 0.6014 ====\n",
      "10314.41398\n",
      "12555.30239\n",
      "==== 0.6015 ====\n",
      "10314.43028\n",
      "12555.30294\n",
      "==== 0.6016 ====\n",
      "10314.44658\n",
      "12555.30349\n",
      "==== 0.6017 ====\n",
      "10314.46288\n",
      "12555.30405\n",
      "==== 0.6018 ====\n",
      "10314.47917\n",
      "12555.3046\n",
      "==== 0.6019 ====\n",
      "10314.49546\n",
      "12555.30516\n",
      "==== 0.602 ====\n",
      "10314.51175\n",
      "12555.30572\n",
      "==== 0.6021 ====\n",
      "10314.52804\n",
      "12555.30628\n",
      "==== 0.6022 ====\n",
      "10314.54432\n",
      "12555.30684\n",
      "==== 0.6023 ====\n",
      "10314.56061\n",
      "12555.30741\n",
      "==== 0.6024 ====\n",
      "10314.57689\n",
      "12555.30797\n",
      "==== 0.6025 ====\n",
      "10314.59317\n",
      "12555.30854\n",
      "==== 0.6026 ====\n",
      "10314.60944\n",
      "12555.30911\n",
      "==== 0.6027 ====\n",
      "10314.62572\n",
      "12555.30968\n",
      "==== 0.6028 ====\n",
      "10314.64199\n",
      "12555.31025\n",
      "==== 0.6029 ====\n",
      "10314.65826\n",
      "12555.31082\n",
      "==== 0.603 ====\n",
      "10314.67453\n",
      "12555.3114\n",
      "==== 0.6031 ====\n",
      "10314.6908\n",
      "12555.31198\n",
      "==== 0.6032 ====\n",
      "10314.70707\n",
      "12555.31256\n",
      "==== 0.6033 ====\n",
      "10314.72333\n",
      "12555.31314\n",
      "==== 0.6034 ====\n",
      "10314.73959\n",
      "12555.31372\n",
      "==== 0.6035 ====\n",
      "10314.75585\n",
      "12555.3143\n",
      "==== 0.6036 ====\n",
      "10314.77211\n",
      "12555.31489\n",
      "==== 0.6037 ====\n",
      "10314.78836\n",
      "12555.31548\n",
      "==== 0.6038 ====\n",
      "10314.80462\n",
      "12555.31607\n",
      "==== 0.6039 ====\n",
      "10314.82087\n",
      "12555.31666\n",
      "==== 0.604 ====\n",
      "10314.83712\n",
      "12555.31725\n",
      "==== 0.6041 ====\n",
      "10314.85337\n",
      "12555.31784\n",
      "==== 0.6042 ====\n",
      "10314.86961\n",
      "12555.31844\n",
      "==== 0.6043 ====\n",
      "10314.88586\n",
      "12555.31904\n",
      "==== 0.6044 ====\n",
      "10314.9021\n",
      "12555.31964\n",
      "==== 0.6045 ====\n",
      "10314.91834\n",
      "12555.32024\n",
      "==== 0.6046 ====\n",
      "10314.93458\n",
      "12555.32084\n",
      "==== 0.6047 ====\n",
      "10314.95081\n",
      "12555.32144\n",
      "==== 0.6048 ====\n",
      "10314.96705\n",
      "12555.32205\n",
      "==== 0.6049 ====\n",
      "10314.98328\n",
      "12555.32266\n",
      "==== 0.605 ====\n",
      "10314.99951\n",
      "12555.32327\n",
      "==== 0.6051 ====\n",
      "10315.01574\n",
      "12555.32388\n",
      "==== 0.6052 ====\n",
      "10315.03196\n",
      "12555.32449\n",
      "==== 0.6053 ====\n",
      "10315.04819\n",
      "12555.32511\n",
      "==== 0.6054 ====\n",
      "10315.06441\n",
      "12555.32572\n",
      "==== 0.6055 ====\n",
      "10315.08063\n",
      "12555.32634\n",
      "==== 0.6056 ====\n",
      "10315.09685\n",
      "12555.32696\n",
      "==== 0.6057 ====\n",
      "10315.11306\n",
      "12555.32758\n",
      "==== 0.6058 ====\n",
      "10315.12928\n",
      "12555.3282\n",
      "==== 0.6059 ====\n",
      "10315.14549\n",
      "12555.32883\n",
      "==== 0.606 ====\n",
      "10315.1617\n",
      "12555.32945\n",
      "==== 0.6061 ====\n",
      "10315.17791\n",
      "12555.33008\n",
      "==== 0.6062 ====\n",
      "10315.19411\n",
      "12555.33071\n",
      "==== 0.6063 ====\n",
      "10315.21032\n",
      "12555.33134\n",
      "==== 0.6064 ====\n",
      "10315.22652\n",
      "12555.33198\n",
      "==== 0.6065 ====\n",
      "10315.24272\n",
      "12555.33261\n",
      "==== 0.6066 ====\n",
      "10315.25892\n",
      "12555.33325\n",
      "==== 0.6067 ====\n",
      "10315.27512\n",
      "12555.33388\n",
      "==== 0.6068 ====\n",
      "10315.29131\n",
      "12555.33452\n",
      "==== 0.6069 ====\n",
      "10315.3075\n",
      "12555.33516\n",
      "==== 0.607 ====\n",
      "10315.32369\n",
      "12555.33581\n",
      "==== 0.6071 ====\n",
      "10315.33988\n",
      "12555.33645\n",
      "==== 0.6072 ====\n",
      "10315.35607\n",
      "12555.3371\n",
      "==== 0.6073 ====\n",
      "10315.37225\n",
      "12555.33775\n",
      "==== 0.6074 ====\n",
      "10315.38844\n",
      "12555.3384\n",
      "==== 0.6075 ====\n",
      "10315.40462\n",
      "12555.33905\n",
      "==== 0.6076 ====\n",
      "10315.4208\n",
      "12555.3397\n",
      "==== 0.6077 ====\n",
      "10315.43697\n",
      "12555.34035\n",
      "==== 0.6078 ====\n",
      "10315.45315\n",
      "12555.34101\n",
      "==== 0.6079 ====\n",
      "10315.46932\n",
      "12555.34167\n",
      "==== 0.608 ====\n",
      "10315.48549\n",
      "12555.34233\n",
      "==== 0.6081 ====\n",
      "10315.50166\n",
      "12555.34299\n",
      "==== 0.6082 ====\n",
      "10315.51783\n",
      "12555.34365\n",
      "==== 0.6083 ====\n",
      "10315.53399\n",
      "12555.34432\n",
      "==== 0.6084 ====\n",
      "10315.55016\n",
      "12555.34498\n",
      "==== 0.6085 ====\n",
      "10315.56632\n",
      "12555.34565\n",
      "==== 0.6086 ====\n",
      "10315.58248\n",
      "12555.34632\n",
      "==== 0.6087 ====\n",
      "10315.59864\n",
      "12555.34699\n",
      "==== 0.6088 ====\n",
      "10315.61479\n",
      "12555.34766\n",
      "==== 0.6089 ====\n",
      "10315.63094\n",
      "12555.34834\n",
      "==== 0.609 ====\n",
      "10315.6471\n",
      "12555.34901\n",
      "==== 0.6091 ====\n",
      "10315.66324\n",
      "12555.34969\n",
      "==== 0.6092 ====\n",
      "10315.67939\n",
      "12555.35037\n",
      "==== 0.6093 ====\n",
      "10315.69554\n",
      "12555.35105\n",
      "==== 0.6094 ====\n",
      "10315.71168\n",
      "12555.35173\n",
      "==== 0.6095 ====\n",
      "10315.72782\n",
      "12555.35242\n",
      "==== 0.6096 ====\n",
      "10315.74396\n",
      "12555.3531\n",
      "==== 0.6097 ====\n",
      "10315.7601\n",
      "12555.35379\n",
      "==== 0.6098 ====\n",
      "10315.77624\n",
      "12555.35448\n",
      "==== 0.6099 ====\n",
      "10315.79237\n",
      "12555.35517\n",
      "==== 0.61 ====\n",
      "10315.8085\n",
      "12555.35586\n",
      "==== 0.6101 ====\n",
      "10315.82463\n",
      "12555.35656\n",
      "==== 0.6102 ====\n",
      "10315.84076\n",
      "12555.35725\n",
      "==== 0.6103 ====\n",
      "10315.85689\n",
      "12555.35795\n",
      "==== 0.6104 ====\n",
      "10315.87301\n",
      "12555.35865\n",
      "==== 0.6105 ====\n",
      "10315.88913\n",
      "12555.35935\n",
      "==== 0.6106 ====\n",
      "10315.90525\n",
      "12555.36005\n"
     ]
    },
    {
     "name": "stdout",
     "output_type": "stream",
     "text": [
      "==== 0.6107 ====\n",
      "10315.92137\n",
      "12555.36075\n",
      "==== 0.6108 ====\n",
      "10315.93749\n",
      "12555.36146\n",
      "==== 0.6109 ====\n",
      "10315.9536\n",
      "12555.36217\n",
      "==== 0.611 ====\n",
      "10315.96971\n",
      "12555.36288\n",
      "==== 0.6111 ====\n",
      "10315.98582\n",
      "12555.36359\n",
      "==== 0.6112 ====\n",
      "10316.00193\n",
      "12555.3643\n",
      "==== 0.6113 ====\n",
      "10316.01804\n",
      "12555.36501\n",
      "==== 0.6114 ====\n",
      "10316.03414\n",
      "12555.36573\n",
      "==== 0.6115 ====\n",
      "10316.05025\n",
      "12555.36644\n",
      "==== 0.6116 ====\n",
      "10316.06635\n",
      "12555.36716\n",
      "==== 0.6117 ====\n",
      "10316.08245\n",
      "12555.36788\n",
      "==== 0.6118 ====\n",
      "10316.09854\n",
      "12555.3686\n",
      "==== 0.6119 ====\n",
      "10316.11464\n",
      "12555.36933\n",
      "==== 0.612 ====\n",
      "10316.13073\n",
      "12555.37005\n",
      "==== 0.6121 ====\n",
      "10316.14682\n",
      "12555.37078\n",
      "==== 0.6122 ====\n",
      "10316.16291\n",
      "12555.37151\n",
      "==== 0.6123 ====\n",
      "10316.179\n",
      "12555.37224\n",
      "==== 0.6124 ====\n",
      "10316.19508\n",
      "12555.37297\n",
      "==== 0.6125 ====\n",
      "10316.21117\n",
      "12555.3737\n",
      "==== 0.6126 ====\n",
      "10316.22725\n",
      "12555.37444\n",
      "==== 0.6127 ====\n",
      "10316.24333\n",
      "12555.37517\n",
      "==== 0.6128 ====\n",
      "10316.25941\n",
      "12555.3768\n",
      "==== 0.6129 ====\n",
      "10316.27548\n",
      "12555.38514\n",
      "==== 0.613 ====\n",
      "10316.29155\n",
      "12555.39349\n",
      "==== 0.6131 ====\n",
      "10316.30763\n",
      "12555.40183\n",
      "==== 0.6132 ====\n",
      "10316.3237\n",
      "12555.41018\n",
      "==== 0.6133 ====\n",
      "10316.33976\n",
      "12555.41852\n",
      "==== 0.6134 ====\n",
      "10316.35583\n",
      "12555.42687\n",
      "==== 0.6135 ====\n",
      "10316.37189\n",
      "12555.43521\n",
      "==== 0.6136 ====\n",
      "10316.38796\n",
      "12555.44356\n",
      "==== 0.6137 ====\n",
      "10316.40402\n",
      "12555.45191\n",
      "==== 0.6138 ====\n",
      "10316.42007\n",
      "12555.46025\n",
      "==== 0.6139 ====\n",
      "10316.43613\n",
      "12555.4686\n",
      "==== 0.614 ====\n",
      "10316.45218\n",
      "12555.47695\n",
      "==== 0.6141 ====\n",
      "10316.46824\n",
      "12555.4853\n",
      "==== 0.6142 ====\n",
      "10316.48429\n",
      "12555.49365\n",
      "==== 0.6143 ====\n",
      "10316.50034\n",
      "12555.502\n",
      "==== 0.6144 ====\n",
      "10316.51638\n",
      "12555.51035\n",
      "==== 0.6145 ====\n",
      "10316.53243\n",
      "12555.5187\n",
      "==== 0.6146 ====\n",
      "10316.54847\n",
      "12555.52705\n",
      "==== 0.6147 ====\n",
      "10316.56451\n",
      "12555.5354\n",
      "==== 0.6148 ====\n",
      "10316.58055\n",
      "12555.54375\n",
      "==== 0.6149 ====\n",
      "10316.59658\n",
      "12555.55211\n",
      "==== 0.615 ====\n",
      "10316.61262\n",
      "12555.56046\n",
      "==== 0.6151 ====\n",
      "10316.62865\n",
      "12555.56881\n",
      "==== 0.6152 ====\n",
      "10316.64468\n",
      "12555.57717\n",
      "==== 0.6153 ====\n",
      "10316.66071\n",
      "12555.58552\n",
      "==== 0.6154 ====\n",
      "10316.67674\n",
      "12555.59388\n",
      "==== 0.6155 ====\n",
      "10316.69277\n",
      "12555.60223\n",
      "==== 0.6156 ====\n",
      "10316.70879\n",
      "12555.61059\n",
      "==== 0.6157 ====\n",
      "10316.72481\n",
      "12555.61894\n",
      "==== 0.6158 ====\n",
      "10316.74083\n",
      "12555.6273\n",
      "==== 0.6159 ====\n",
      "10316.75685\n",
      "12555.63566\n",
      "==== 0.616 ====\n",
      "10316.77286\n",
      "12555.64402\n",
      "==== 0.6161 ====\n",
      "10316.78888\n",
      "12555.65237\n",
      "==== 0.6162 ====\n",
      "10316.80489\n",
      "12555.66073\n",
      "==== 0.6163 ====\n",
      "10316.8209\n",
      "12555.66909\n",
      "==== 0.6164 ====\n",
      "10316.83691\n",
      "12555.67745\n",
      "==== 0.6165 ====\n",
      "10316.85291\n",
      "12555.68581\n",
      "==== 0.6166 ====\n",
      "10316.86892\n",
      "12555.69417\n",
      "==== 0.6167 ====\n",
      "10316.88492\n",
      "12555.70253\n",
      "==== 0.6168 ====\n",
      "10316.90092\n",
      "12555.71089\n",
      "==== 0.6169 ====\n",
      "10316.91692\n",
      "12555.71926\n",
      "==== 0.617 ====\n",
      "10316.93291\n",
      "12555.72762\n",
      "==== 0.6171 ====\n",
      "10316.94891\n",
      "12555.73598\n",
      "==== 0.6172 ====\n",
      "10316.9649\n",
      "12555.74434\n",
      "==== 0.6173 ====\n",
      "10316.98089\n",
      "12555.75271\n",
      "==== 0.6174 ====\n",
      "10316.99688\n",
      "12555.76107\n",
      "==== 0.6175 ====\n",
      "10317.01286\n",
      "12555.76944\n",
      "==== 0.6176 ====\n",
      "10317.02885\n",
      "12555.7778\n",
      "==== 0.6177 ====\n",
      "10317.04483\n",
      "12555.78617\n",
      "==== 0.6178 ====\n",
      "10317.06081\n",
      "12555.79453\n",
      "==== 0.6179 ====\n",
      "10317.07679\n",
      "12555.8029\n",
      "==== 0.618 ====\n",
      "10317.09277\n",
      "12555.81126\n",
      "==== 0.6181 ====\n",
      "10317.10874\n",
      "12555.81963\n",
      "==== 0.6182 ====\n",
      "10317.12472\n",
      "12555.828\n",
      "==== 0.6183 ====\n",
      "10317.14069\n",
      "12555.83637\n",
      "==== 0.6184 ====\n",
      "10317.15666\n",
      "12555.84474\n",
      "==== 0.6185 ====\n",
      "10317.17263\n",
      "12555.85311\n",
      "==== 0.6186 ====\n",
      "10317.18859\n",
      "12555.86147\n",
      "==== 0.6187 ====\n",
      "10317.20456\n",
      "12555.86984\n",
      "==== 0.6188 ====\n",
      "10317.22052\n",
      "12555.87821\n",
      "==== 0.6189 ====\n",
      "10317.23648\n",
      "12555.88659\n",
      "==== 0.619 ====\n",
      "10317.25243\n",
      "12555.89496\n",
      "==== 0.6191 ====\n",
      "10317.26839\n",
      "12555.90333\n",
      "==== 0.6192 ====\n",
      "10317.28435\n",
      "12555.9117\n",
      "==== 0.6193 ====\n",
      "10317.3003\n",
      "12555.92007\n",
      "==== 0.6194 ====\n",
      "10317.31625\n",
      "12555.92845\n",
      "==== 0.6195 ====\n",
      "10317.3322\n",
      "12555.93682\n",
      "==== 0.6196 ====\n",
      "10317.34814\n",
      "12555.94519\n",
      "==== 0.6197 ====\n",
      "10317.36409\n",
      "12555.95357\n",
      "==== 0.6198 ====\n",
      "10317.38003\n",
      "12555.96194\n",
      "==== 0.6199 ====\n",
      "10317.39597\n",
      "12555.97032\n",
      "==== 0.62 ====\n",
      "10317.41191\n",
      "12555.97869\n",
      "==== 0.6201 ====\n",
      "10317.42785\n",
      "12555.98707\n",
      "==== 0.6202 ====\n",
      "10317.44378\n",
      "12555.99545\n",
      "==== 0.6203 ====\n",
      "10317.45971\n",
      "12556.00382\n",
      "==== 0.6204 ====\n",
      "10317.47564\n",
      "12556.0122\n",
      "==== 0.6205 ====\n",
      "10317.49157\n",
      "12556.02058\n",
      "==== 0.6206 ====\n",
      "10317.5075\n",
      "12556.02896\n",
      "==== 0.6207 ====\n",
      "10317.52343\n",
      "12556.03733\n",
      "==== 0.6208 ====\n",
      "10317.53935\n",
      "12556.04571\n",
      "==== 0.6209 ====\n",
      "10317.55527\n",
      "12556.05409\n",
      "==== 0.621 ====\n",
      "10317.57119\n",
      "12556.06247\n",
      "==== 0.6211 ====\n",
      "10317.58711\n",
      "12556.07085\n",
      "==== 0.6212 ====\n",
      "10317.60303\n",
      "12556.07923\n",
      "==== 0.6213 ====\n",
      "10317.61894\n",
      "12556.08762\n",
      "==== 0.6214 ====\n",
      "10317.63485\n",
      "12556.096\n",
      "==== 0.6215 ====\n",
      "10317.65076\n",
      "12556.10438\n",
      "==== 0.6216 ====\n",
      "10317.66667\n",
      "12556.11276\n",
      "==== 0.6217 ====\n",
      "10317.68258\n",
      "12556.12114\n",
      "==== 0.6218 ====\n",
      "10317.69848\n",
      "12556.12953\n",
      "==== 0.6219 ====\n",
      "10317.71438\n",
      "12556.13791\n",
      "==== 0.622 ====\n",
      "10317.73028\n",
      "12556.1463\n",
      "==== 0.6221 ====\n",
      "10317.74618\n",
      "12556.15468\n",
      "==== 0.6222 ====\n",
      "10317.76208\n",
      "12556.16307\n",
      "==== 0.6223 ====\n",
      "10317.77797\n",
      "12556.17145\n",
      "==== 0.6224 ====\n",
      "10317.79387\n",
      "12556.17984\n",
      "==== 0.6225 ====\n",
      "10317.80976\n",
      "12556.18822\n",
      "==== 0.6226 ====\n",
      "10317.82565\n",
      "12556.19661\n",
      "==== 0.6227 ====\n",
      "10317.84153\n",
      "12556.205\n",
      "==== 0.6228 ====\n",
      "10317.85742\n",
      "12556.21339\n",
      "==== 0.6229 ====\n",
      "10317.8733\n",
      "12556.22177\n",
      "==== 0.623 ====\n",
      "10317.88919\n",
      "12556.23016\n",
      "==== 0.6231 ====\n",
      "10317.90506\n",
      "12556.23855\n",
      "==== 0.6232 ====\n",
      "10317.92094\n",
      "12556.24694\n",
      "==== 0.6233 ====\n",
      "10317.93682\n",
      "12556.25533\n",
      "==== 0.6234 ====\n",
      "10317.95269\n",
      "12556.26372\n",
      "==== 0.6235 ====\n",
      "10317.96856\n",
      "12556.27211\n",
      "==== 0.6236 ====\n",
      "10317.98443\n",
      "12556.2805\n",
      "==== 0.6237 ====\n",
      "10318.0003\n",
      "12556.28889\n",
      "==== 0.6238 ====\n",
      "10318.01617\n",
      "12556.29729\n",
      "==== 0.6239 ====\n",
      "10318.03203\n",
      "12556.30568\n",
      "==== 0.624 ====\n",
      "10318.0479\n",
      "12556.31407\n",
      "==== 0.6241 ====\n",
      "10318.06376\n",
      "12556.32246\n",
      "==== 0.6242 ====\n",
      "10318.07962\n",
      "12556.33086\n",
      "==== 0.6243 ====\n",
      "10318.09547\n",
      "12556.33925\n",
      "==== 0.6244 ====\n",
      "10318.11133\n",
      "12556.34765\n",
      "==== 0.6245 ====\n",
      "10318.12718\n",
      "12556.35604\n",
      "==== 0.6246 ====\n",
      "10318.14303\n",
      "12556.36444\n",
      "==== 0.6247 ====\n",
      "10318.15888\n",
      "12556.37283\n",
      "==== 0.6248 ====\n",
      "10318.17473\n",
      "12556.38123\n",
      "==== 0.6249 ====\n",
      "10318.19058\n",
      "12556.38962\n",
      "==== 0.625 ====\n",
      "10318.20642\n",
      "12556.39802\n",
      "==== 0.6251 ====\n",
      "10318.22226\n",
      "12556.40642\n",
      "==== 0.6252 ====\n",
      "10318.2381\n",
      "12556.41482\n",
      "==== 0.6253 ====\n",
      "10318.25394\n",
      "12556.42321\n",
      "==== 0.6254 ====\n",
      "10318.26977\n",
      "12556.43161\n",
      "==== 0.6255 ====\n",
      "10318.28561\n",
      "12556.44001\n",
      "==== 0.6256 ====\n",
      "10318.30144\n",
      "12556.44841\n",
      "==== 0.6257 ====\n",
      "10318.31727\n",
      "12556.45681\n",
      "==== 0.6258 ====\n",
      "10318.3331\n",
      "12556.46521\n",
      "==== 0.6259 ====\n",
      "10318.34893\n",
      "12556.47361\n",
      "==== 0.626 ====\n",
      "10318.36475\n",
      "12556.48201\n",
      "==== 0.6261 ====\n",
      "10318.38057\n",
      "12556.49041\n",
      "==== 0.6262 ====\n",
      "10318.3964\n",
      "12556.49882\n",
      "==== 0.6263 ====\n",
      "10318.41221\n",
      "12556.50722\n",
      "==== 0.6264 ====\n",
      "10318.42803\n",
      "12556.51562\n",
      "==== 0.6265 ====\n",
      "10318.44385\n",
      "12556.52402\n",
      "==== 0.6266 ====\n",
      "10318.45966\n",
      "12556.53243\n",
      "==== 0.6267 ====\n",
      "10318.47547\n",
      "12556.54083\n",
      "==== 0.6268 ====\n",
      "10318.49128\n",
      "12556.54924\n",
      "==== 0.6269 ====\n",
      "10318.50709\n",
      "12556.55764\n",
      "==== 0.627 ====\n",
      "10318.5229\n",
      "12556.56604\n",
      "==== 0.6271 ====\n",
      "10318.5387\n",
      "12556.57445\n",
      "==== 0.6272 ====\n",
      "10318.5545\n",
      "12556.58286\n",
      "==== 0.6273 ====\n",
      "10318.5703\n",
      "12556.59126\n",
      "==== 0.6274 ====\n",
      "10318.5861\n",
      "12556.59967\n",
      "==== 0.6275 ====\n",
      "10318.6019\n",
      "12556.60808\n",
      "==== 0.6276 ====\n",
      "10318.61769\n",
      "12556.61648\n",
      "==== 0.6277 ====\n",
      "10318.63348\n",
      "12556.62489\n",
      "==== 0.6278 ====\n",
      "10318.64927\n",
      "12556.6333\n",
      "==== 0.6279 ====\n",
      "10318.66506\n",
      "12556.64171\n",
      "==== 0.628 ====\n",
      "10318.68085\n",
      "12556.65012\n",
      "==== 0.6281 ====\n",
      "10318.69664\n",
      "12556.65853\n",
      "==== 0.6282 ====\n",
      "10318.71242\n",
      "12556.66694\n",
      "==== 0.6283 ====\n",
      "10318.7282\n",
      "12556.67535\n",
      "==== 0.6284 ====\n",
      "10318.74398\n",
      "12556.68376\n",
      "==== 0.6285 ====\n",
      "10318.75976\n",
      "12556.69217\n",
      "==== 0.6286 ====\n",
      "10318.77553\n",
      "12556.70058\n",
      "==== 0.6287 ====\n",
      "10318.79131\n",
      "12556.70899\n",
      "==== 0.6288 ====\n",
      "10318.80708\n",
      "12556.7174\n",
      "==== 0.6289 ====\n",
      "10318.82285\n",
      "12556.72582\n",
      "==== 0.629 ====\n",
      "10318.83862\n",
      "12556.73423\n",
      "==== 0.6291 ====\n",
      "10318.85438\n",
      "12556.74264\n",
      "==== 0.6292 ====\n",
      "10318.87015\n",
      "12556.75106\n",
      "==== 0.6293 ====\n",
      "10318.88591\n",
      "12556.75947\n",
      "==== 0.6294 ====\n",
      "10318.90167\n",
      "12556.76789\n",
      "==== 0.6295 ====\n",
      "10318.91743\n",
      "12556.7763\n",
      "==== 0.6296 ====\n",
      "10318.93319\n",
      "12556.78472\n",
      "==== 0.6297 ====\n",
      "10318.94894\n",
      "12556.79313\n",
      "==== 0.6298 ====\n",
      "10318.9647\n",
      "12556.80155\n",
      "==== 0.6299 ====\n",
      "10318.98045\n",
      "12556.80996\n",
      "==== 0.63 ====\n",
      "10318.9962\n",
      "12556.81838\n",
      "==== 0.6301 ====\n",
      "10319.01194\n",
      "12556.8268\n",
      "==== 0.6302 ====\n",
      "10319.02769\n",
      "12556.83522\n",
      "==== 0.6303 ====\n",
      "10319.04343\n",
      "12556.84363\n",
      "==== 0.6304 ====\n",
      "10319.05918\n",
      "12556.85205\n",
      "==== 0.6305 ====\n",
      "10319.07492\n",
      "12556.86047\n",
      "==== 0.6306 ====\n",
      "10319.09065\n",
      "12556.86889\n",
      "==== 0.6307 ====\n",
      "10319.10639\n",
      "12556.87731\n",
      "==== 0.6308 ====\n",
      "10319.12213\n",
      "12556.88573\n",
      "==== 0.6309 ====\n",
      "10319.13786\n",
      "12556.89415\n",
      "==== 0.631 ====\n",
      "10319.15359\n",
      "12556.90257\n",
      "==== 0.6311 ====\n",
      "10319.16932\n",
      "12556.91099\n",
      "==== 0.6312 ====\n",
      "10319.18504\n",
      "12556.91941\n"
     ]
    },
    {
     "name": "stdout",
     "output_type": "stream",
     "text": [
      "==== 0.6313 ====\n",
      "10319.20077\n",
      "12556.92784\n",
      "==== 0.6314 ====\n",
      "10319.21649\n",
      "12556.93626\n",
      "==== 0.6315 ====\n",
      "10319.23221\n",
      "12556.94468\n",
      "==== 0.6316 ====\n",
      "10319.24793\n",
      "12556.9531\n",
      "==== 0.6317 ====\n",
      "10319.26365\n",
      "12556.96153\n",
      "==== 0.6318 ====\n",
      "10319.27937\n",
      "12556.96995\n",
      "==== 0.6319 ====\n",
      "10319.29508\n",
      "12556.97838\n",
      "==== 0.632 ====\n",
      "10319.31079\n",
      "12556.9868\n",
      "==== 0.6321 ====\n",
      "10319.3265\n",
      "12556.99523\n",
      "==== 0.6322 ====\n",
      "10319.34221\n",
      "12557.00365\n",
      "==== 0.6323 ====\n",
      "10319.35792\n",
      "12557.01208\n",
      "==== 0.6324 ====\n",
      "10319.37362\n",
      "12557.0205\n",
      "==== 0.6325 ====\n",
      "10319.38933\n",
      "12557.02893\n",
      "==== 0.6326 ====\n",
      "10319.40503\n",
      "12557.03736\n",
      "==== 0.6327 ====\n",
      "10319.42073\n",
      "12557.04578\n",
      "==== 0.6328 ====\n",
      "10319.43642\n",
      "12557.05421\n",
      "==== 0.6329 ====\n",
      "10319.45212\n",
      "12557.06264\n",
      "==== 0.633 ====\n",
      "10319.46781\n",
      "12557.07107\n",
      "==== 0.6331 ====\n",
      "10319.4835\n",
      "12557.0795\n",
      "==== 0.6332 ====\n",
      "10319.49919\n",
      "12557.08792\n",
      "==== 0.6333 ====\n",
      "10319.51488\n",
      "12557.09635\n",
      "==== 0.6334 ====\n",
      "10319.53057\n",
      "12557.10478\n",
      "==== 0.6335 ====\n",
      "10319.54625\n",
      "12557.11321\n",
      "==== 0.6336 ====\n",
      "10319.56193\n",
      "12557.12164\n",
      "==== 0.6337 ====\n",
      "10319.57761\n",
      "12557.13008\n",
      "==== 0.6338 ====\n",
      "10319.59329\n",
      "12557.13851\n",
      "==== 0.6339 ====\n",
      "10319.60897\n",
      "12557.14694\n",
      "==== 0.634 ====\n",
      "10319.62464\n",
      "12557.15537\n",
      "==== 0.6341 ====\n",
      "10319.64032\n",
      "12557.1638\n",
      "==== 0.6342 ====\n",
      "10319.65599\n",
      "12557.17224\n",
      "==== 0.6343 ====\n",
      "10319.67166\n",
      "12557.18067\n",
      "==== 0.6344 ====\n",
      "10319.68733\n",
      "12557.1891\n",
      "==== 0.6345 ====\n",
      "10319.70299\n",
      "12557.19754\n",
      "==== 0.6346 ====\n",
      "10319.71865\n",
      "12557.20597\n",
      "==== 0.6347 ====\n",
      "10319.73432\n",
      "12557.21441\n",
      "==== 0.6348 ====\n",
      "10319.74998\n",
      "12557.22284\n",
      "==== 0.6349 ====\n",
      "10319.76563\n",
      "12557.23128\n",
      "==== 0.635 ====\n",
      "10319.78129\n",
      "12557.23971\n",
      "==== 0.6351 ====\n",
      "10319.79695\n",
      "12557.24815\n",
      "==== 0.6352 ====\n",
      "10319.8126\n",
      "12557.25658\n",
      "==== 0.6353 ====\n",
      "10319.82825\n",
      "12557.26502\n",
      "==== 0.6354 ====\n",
      "10319.8439\n",
      "12557.27346\n",
      "==== 0.6355 ====\n",
      "10319.85954\n",
      "12557.2819\n",
      "==== 0.6356 ====\n",
      "10319.87519\n",
      "12557.29033\n",
      "==== 0.6357 ====\n",
      "10319.89083\n",
      "12557.29877\n",
      "==== 0.6358 ====\n",
      "10319.90647\n",
      "12557.30721\n",
      "==== 0.6359 ====\n",
      "10319.92211\n",
      "12557.31565\n",
      "==== 0.636 ====\n",
      "10319.93775\n",
      "12557.32409\n",
      "==== 0.6361 ====\n",
      "10319.95339\n",
      "12557.33253\n",
      "==== 0.6362 ====\n",
      "10319.96902\n",
      "12557.34097\n",
      "==== 0.6363 ====\n",
      "10319.98465\n",
      "12557.34941\n",
      "==== 0.6364 ====\n",
      "10320.00028\n",
      "12557.35785\n",
      "==== 0.6365 ====\n",
      "10320.01591\n",
      "12557.36629\n",
      "==== 0.6366 ====\n",
      "10320.03154\n",
      "12557.37473\n",
      "==== 0.6367 ====\n",
      "10320.04716\n",
      "12557.38317\n",
      "==== 0.6368 ====\n",
      "10320.06279\n",
      "12557.39162\n",
      "==== 0.6369 ====\n",
      "10320.07841\n",
      "12557.40006\n",
      "==== 0.637 ====\n",
      "10320.09403\n",
      "12557.4085\n",
      "==== 0.6371 ====\n",
      "10320.10964\n",
      "12557.41695\n",
      "==== 0.6372 ====\n",
      "10320.12526\n",
      "12557.42539\n",
      "==== 0.6373 ====\n",
      "10320.14087\n",
      "12557.43383\n",
      "==== 0.6374 ====\n",
      "10320.15649\n",
      "12557.44228\n",
      "==== 0.6375 ====\n",
      "10320.1721\n",
      "12557.45072\n",
      "==== 0.6376 ====\n",
      "10320.1877\n",
      "12557.45917\n",
      "==== 0.6377 ====\n",
      "10320.20331\n",
      "12557.46761\n",
      "==== 0.6378 ====\n",
      "10320.21891\n",
      "12557.47606\n",
      "==== 0.6379 ====\n",
      "10320.23452\n",
      "12557.4845\n",
      "==== 0.638 ====\n",
      "10320.25012\n",
      "12557.49295\n",
      "==== 0.6381 ====\n",
      "10320.26572\n",
      "12557.5014\n",
      "==== 0.6382 ====\n",
      "10320.28131\n",
      "12557.50984\n",
      "==== 0.6383 ====\n",
      "10320.29691\n",
      "12557.51829\n",
      "==== 0.6384 ====\n",
      "10320.3125\n",
      "12557.52674\n",
      "==== 0.6385 ====\n",
      "10320.32809\n",
      "12557.53519\n",
      "==== 0.6386 ====\n",
      "10320.34368\n",
      "12557.54364\n",
      "==== 0.6387 ====\n",
      "10320.35927\n",
      "12557.55209\n",
      "==== 0.6388 ====\n",
      "10320.37486\n",
      "12557.56053\n",
      "==== 0.6389 ====\n",
      "10320.39044\n",
      "12557.56898\n",
      "==== 0.639 ====\n",
      "10320.40602\n",
      "12557.57743\n",
      "==== 0.6391 ====\n",
      "10320.4216\n",
      "12557.58588\n",
      "==== 0.6392 ====\n",
      "10320.43718\n",
      "12557.59433\n",
      "==== 0.6393 ====\n",
      "10320.45276\n",
      "12557.60279\n",
      "==== 0.6394 ====\n",
      "10320.46834\n",
      "12557.61124\n",
      "==== 0.6395 ====\n",
      "10320.48391\n",
      "12557.61969\n",
      "==== 0.6396 ====\n",
      "10320.49948\n",
      "12557.62814\n",
      "==== 0.6397 ====\n",
      "10320.51505\n",
      "12557.63659\n",
      "==== 0.6398 ====\n",
      "10320.53062\n",
      "12557.64505\n",
      "==== 0.6399 ====\n",
      "10320.54618\n",
      "12557.6535\n",
      "==== 0.64 ====\n",
      "10320.56175\n",
      "12557.66195\n",
      "==== 0.6401 ====\n",
      "10320.57731\n",
      "12557.67041\n",
      "==== 0.6402 ====\n",
      "10320.59287\n",
      "12557.67886\n",
      "==== 0.6403 ====\n",
      "10320.60843\n",
      "12557.68731\n",
      "==== 0.6404 ====\n",
      "10320.62398\n",
      "12557.69577\n",
      "==== 0.6405 ====\n",
      "10320.63954\n",
      "12557.70422\n",
      "==== 0.6406 ====\n",
      "10320.65509\n",
      "12557.71268\n",
      "==== 0.6407 ====\n",
      "10320.67064\n",
      "12557.72114\n",
      "==== 0.6408 ====\n",
      "10320.68619\n",
      "12557.72959\n",
      "==== 0.6409 ====\n",
      "10320.70174\n",
      "12557.73805\n",
      "==== 0.641 ====\n",
      "10320.71729\n",
      "12557.7465\n",
      "==== 0.6411 ====\n",
      "10320.73283\n",
      "12557.75496\n",
      "==== 0.6412 ====\n",
      "10320.74837\n",
      "12557.76342\n",
      "==== 0.6413 ====\n",
      "10320.76391\n",
      "12557.77188\n",
      "==== 0.6414 ====\n",
      "10320.77945\n",
      "12557.78033\n",
      "==== 0.6415 ====\n",
      "10320.79499\n",
      "12557.78879\n",
      "==== 0.6416 ====\n",
      "10320.81052\n",
      "12557.79725\n",
      "==== 0.6417 ====\n",
      "10320.82605\n",
      "12557.80571\n",
      "==== 0.6418 ====\n",
      "10320.84158\n",
      "12557.81417\n",
      "==== 0.6419 ====\n",
      "10320.85711\n",
      "12557.82263\n",
      "==== 0.642 ====\n",
      "10320.87264\n",
      "12557.83109\n",
      "==== 0.6421 ====\n",
      "10320.88817\n",
      "12557.83955\n",
      "==== 0.6422 ====\n",
      "10320.90369\n",
      "12557.84801\n",
      "==== 0.6423 ====\n",
      "10320.91921\n",
      "12557.85647\n",
      "==== 0.6424 ====\n",
      "10320.93473\n",
      "12557.86493\n",
      "==== 0.6425 ====\n",
      "10320.95025\n",
      "12557.8734\n",
      "==== 0.6426 ====\n",
      "10320.96577\n",
      "12557.88186\n",
      "==== 0.6427 ====\n",
      "10320.98128\n",
      "12557.89032\n",
      "==== 0.6428 ====\n",
      "10320.99679\n",
      "12557.89878\n",
      "==== 0.6429 ====\n",
      "10321.0123\n",
      "12557.90725\n",
      "==== 0.643 ====\n",
      "10321.02781\n",
      "12557.91571\n",
      "==== 0.6431 ====\n",
      "10321.04332\n",
      "12557.92417\n",
      "==== 0.6432 ====\n",
      "10321.05883\n",
      "12557.93264\n",
      "==== 0.6433 ====\n",
      "10321.07433\n",
      "12557.9411\n",
      "==== 0.6434 ====\n",
      "10321.08983\n",
      "12557.94957\n",
      "==== 0.6435 ====\n",
      "10321.10533\n",
      "12557.95803\n",
      "==== 0.6436 ====\n",
      "10321.12083\n",
      "12557.9665\n",
      "==== 0.6437 ====\n",
      "10321.13632\n",
      "12557.97496\n",
      "==== 0.6438 ====\n",
      "10321.15182\n",
      "12557.98343\n",
      "==== 0.6439 ====\n",
      "10321.16731\n",
      "12557.99189\n",
      "==== 0.644 ====\n",
      "10321.1828\n",
      "12558.00036\n",
      "==== 0.6441 ====\n",
      "10321.19829\n",
      "12558.00883\n",
      "==== 0.6442 ====\n",
      "10321.21382\n",
      "12558.0173\n",
      "==== 0.6443 ====\n",
      "10321.2295\n",
      "12558.02576\n",
      "==== 0.6444 ====\n",
      "10321.24517\n",
      "12558.03423\n",
      "==== 0.6445 ====\n",
      "10321.26084\n",
      "12558.0427\n",
      "==== 0.6446 ====\n",
      "10321.27651\n",
      "12558.05117\n",
      "==== 0.6447 ====\n",
      "10321.29217\n",
      "12558.05964\n",
      "==== 0.6448 ====\n",
      "10321.30784\n",
      "12558.06811\n",
      "==== 0.6449 ====\n",
      "10321.3235\n",
      "12558.07658\n",
      "==== 0.645 ====\n",
      "10321.33916\n",
      "12558.08505\n",
      "==== 0.6451 ====\n",
      "10321.35482\n",
      "12558.09352\n",
      "==== 0.6452 ====\n",
      "10321.37048\n",
      "12558.10199\n",
      "==== 0.6453 ====\n",
      "10321.38613\n",
      "12558.11046\n",
      "==== 0.6454 ====\n",
      "10321.40179\n",
      "12558.11893\n",
      "==== 0.6455 ====\n",
      "10321.41744\n",
      "12558.1274\n",
      "==== 0.6456 ====\n",
      "10321.43309\n",
      "12558.13587\n",
      "==== 0.6457 ====\n",
      "10321.44874\n",
      "12558.14434\n",
      "==== 0.6458 ====\n",
      "10321.46438\n",
      "12558.15282\n",
      "==== 0.6459 ====\n",
      "10321.48003\n",
      "12558.16129\n",
      "==== 0.646 ====\n",
      "10321.49567\n",
      "12558.16976\n",
      "==== 0.6461 ====\n",
      "10321.51131\n",
      "12558.17823\n",
      "==== 0.6462 ====\n",
      "10321.52695\n",
      "12558.18671\n",
      "==== 0.6463 ====\n",
      "10321.54259\n",
      "12558.19518\n",
      "==== 0.6464 ====\n",
      "10321.55822\n",
      "12558.20366\n",
      "==== 0.6465 ====\n",
      "10321.57385\n",
      "12558.21213\n",
      "==== 0.6466 ====\n",
      "10321.58949\n",
      "12558.22061\n",
      "==== 0.6467 ====\n",
      "10321.60512\n",
      "12558.22908\n",
      "==== 0.6468 ====\n",
      "10321.62074\n",
      "12558.23756\n",
      "==== 0.6469 ====\n",
      "10321.63637\n",
      "12558.24603\n",
      "==== 0.647 ====\n",
      "10321.65199\n",
      "12558.25451\n",
      "==== 0.6471 ====\n",
      "10321.66762\n",
      "12558.26298\n",
      "==== 0.6472 ====\n",
      "10321.68324\n",
      "12558.27146\n",
      "==== 0.6473 ====\n",
      "10321.69885\n",
      "12558.27994\n",
      "==== 0.6474 ====\n",
      "10321.71447\n",
      "12558.28842\n",
      "==== 0.6475 ====\n",
      "10321.73009\n",
      "12558.29689\n",
      "==== 0.6476 ====\n",
      "10321.7457\n",
      "12558.30537\n",
      "==== 0.6477 ====\n",
      "10321.76131\n",
      "12558.31385\n",
      "==== 0.6478 ====\n",
      "10321.77692\n",
      "12558.32233\n",
      "==== 0.6479 ====\n",
      "10321.79253\n",
      "12558.33081\n",
      "==== 0.648 ====\n",
      "10321.80813\n",
      "12558.33929\n",
      "==== 0.6481 ====\n",
      "10321.82374\n",
      "12558.34777\n",
      "==== 0.6482 ====\n",
      "10321.83934\n",
      "12558.35625\n",
      "==== 0.6483 ====\n",
      "10321.85494\n",
      "12558.36473\n",
      "==== 0.6484 ====\n",
      "10321.87054\n",
      "12558.37321\n",
      "==== 0.6485 ====\n",
      "10321.88614\n",
      "12558.38169\n",
      "==== 0.6486 ====\n",
      "10321.90173\n",
      "12558.39017\n",
      "==== 0.6487 ====\n",
      "10321.91732\n",
      "12558.39865\n",
      "==== 0.6488 ====\n",
      "10321.93291\n",
      "12558.40713\n",
      "==== 0.6489 ====\n",
      "10321.9485\n",
      "12558.41561\n",
      "==== 0.649 ====\n",
      "10321.96409\n",
      "12558.42644\n",
      "==== 0.6491 ====\n",
      "10321.97968\n",
      "12558.43784\n",
      "==== 0.6492 ====\n",
      "10321.99526\n",
      "12558.44925\n",
      "==== 0.6493 ====\n",
      "10322.01084\n",
      "12558.46065\n",
      "==== 0.6494 ====\n",
      "10322.02642\n",
      "12558.47205\n",
      "==== 0.6495 ====\n",
      "10322.042\n",
      "12558.48345\n",
      "==== 0.6496 ====\n",
      "10322.05758\n",
      "12558.49486\n",
      "==== 0.6497 ====\n",
      "10322.07315\n",
      "12558.50626\n",
      "==== 0.6498 ====\n",
      "10322.08873\n",
      "12558.51766\n",
      "==== 0.6499 ====\n",
      "10322.1043\n",
      "12558.52906\n",
      "==== 0.65 ====\n",
      "10322.11987\n",
      "12558.54047\n",
      "==== 0.6501 ====\n",
      "10322.13543\n",
      "12558.55187\n",
      "==== 0.6502 ====\n",
      "10322.151\n",
      "12558.56327\n",
      "==== 0.6503 ====\n",
      "10322.16656\n",
      "12558.57468\n",
      "==== 0.6504 ====\n",
      "10322.18213\n",
      "12558.58608\n",
      "==== 0.6505 ====\n",
      "10322.19769\n",
      "12558.59748\n",
      "==== 0.6506 ====\n",
      "10322.21324\n",
      "12558.60889\n",
      "==== 0.6507 ====\n",
      "10322.2288\n",
      "12558.62029\n",
      "==== 0.6508 ====\n",
      "10322.24436\n",
      "12558.63169\n",
      "==== 0.6509 ====\n",
      "10322.25991\n",
      "12558.6431\n",
      "==== 0.651 ====\n",
      "10322.27546\n",
      "12558.6545\n",
      "==== 0.6511 ====\n",
      "10322.29101\n",
      "12558.6659\n",
      "==== 0.6512 ====\n",
      "10322.30656\n",
      "12558.67731\n",
      "==== 0.6513 ====\n",
      "10322.3221\n",
      "12558.68871\n",
      "==== 0.6514 ====\n",
      "10322.33765\n",
      "12558.70012\n",
      "==== 0.6515 ====\n",
      "10322.35319\n",
      "12558.71152\n",
      "==== 0.6516 ====\n",
      "10322.36873\n",
      "12558.72293\n",
      "==== 0.6517 ====\n",
      "10322.38427\n",
      "12558.73433\n",
      "==== 0.6518 ====\n",
      "10322.3998\n",
      "12558.74574\n",
      "==== 0.6519 ====\n",
      "10322.41534\n",
      "12558.75714\n",
      "==== 0.652 ====\n",
      "10322.43087\n",
      "12558.76854\n",
      "==== 0.6521 ====\n",
      "10322.4464\n",
      "12558.77995\n",
      "==== 0.6522 ====\n",
      "10322.46193\n",
      "12558.79135\n"
     ]
    },
    {
     "name": "stdout",
     "output_type": "stream",
     "text": [
      "==== 0.6523 ====\n",
      "10322.47746\n",
      "12558.80276\n",
      "==== 0.6524 ====\n",
      "10322.49298\n",
      "12558.81417\n",
      "==== 0.6525 ====\n",
      "10322.50851\n",
      "12558.82557\n",
      "==== 0.6526 ====\n",
      "10322.52403\n",
      "12558.83698\n",
      "==== 0.6527 ====\n",
      "10322.53955\n",
      "12558.84838\n",
      "==== 0.6528 ====\n",
      "10322.55507\n",
      "12558.85979\n",
      "==== 0.6529 ====\n",
      "10322.57058\n",
      "12558.87119\n",
      "==== 0.653 ====\n",
      "10322.5861\n",
      "12558.8826\n",
      "==== 0.6531 ====\n",
      "10322.60161\n",
      "12558.894\n",
      "==== 0.6532 ====\n",
      "10322.61712\n",
      "12558.90541\n",
      "==== 0.6533 ====\n",
      "10322.63263\n",
      "12558.91682\n",
      "==== 0.6534 ====\n",
      "10322.64814\n",
      "12558.92822\n",
      "==== 0.6535 ====\n",
      "10322.66365\n",
      "12558.93963\n",
      "==== 0.6536 ====\n",
      "10322.67915\n",
      "12558.95103\n",
      "==== 0.6537 ====\n",
      "10322.69465\n",
      "12558.96244\n",
      "==== 0.6538 ====\n",
      "10322.71015\n",
      "12558.97385\n",
      "==== 0.6539 ====\n",
      "10322.72565\n",
      "12558.98525\n",
      "==== 0.654 ====\n",
      "10322.74115\n",
      "12558.99666\n",
      "==== 0.6541 ====\n",
      "10322.75664\n",
      "12559.00807\n",
      "==== 0.6542 ====\n",
      "10322.77214\n",
      "12559.01947\n",
      "==== 0.6543 ====\n",
      "10322.78763\n",
      "12559.03088\n",
      "==== 0.6544 ====\n",
      "10322.80312\n",
      "12559.04229\n",
      "==== 0.6545 ====\n",
      "10322.8186\n",
      "12559.0537\n",
      "==== 0.6546 ====\n",
      "10322.83409\n",
      "12559.0651\n",
      "==== 0.6547 ====\n",
      "10322.84957\n",
      "12559.07651\n",
      "==== 0.6548 ====\n",
      "10322.86506\n",
      "12559.08792\n",
      "==== 0.6549 ====\n",
      "10322.88054\n",
      "12559.09932\n",
      "==== 0.655 ====\n",
      "10322.89602\n",
      "12559.11073\n",
      "==== 0.6551 ====\n",
      "10322.91149\n",
      "12559.12214\n",
      "==== 0.6552 ====\n",
      "10322.92697\n",
      "12559.13355\n",
      "==== 0.6553 ====\n",
      "10322.94244\n",
      "12559.14496\n",
      "==== 0.6554 ====\n",
      "10322.95791\n",
      "12559.15636\n",
      "==== 0.6555 ====\n",
      "10322.97338\n",
      "12559.16777\n",
      "==== 0.6556 ====\n",
      "10322.98885\n",
      "12559.17918\n",
      "==== 0.6557 ====\n",
      "10323.00431\n",
      "12559.19059\n",
      "==== 0.6558 ====\n",
      "10323.01978\n",
      "12559.20199\n",
      "==== 0.6559 ====\n",
      "10323.03524\n",
      "12559.2134\n",
      "==== 0.656 ====\n",
      "10323.0507\n",
      "12559.22481\n",
      "==== 0.6561 ====\n",
      "10323.06616\n",
      "12559.23622\n",
      "==== 0.6562 ====\n",
      "10323.08162\n",
      "12559.24763\n",
      "==== 0.6563 ====\n",
      "10323.09707\n",
      "12559.25904\n",
      "==== 0.6564 ====\n",
      "10323.11253\n",
      "12559.27045\n",
      "==== 0.6565 ====\n",
      "10323.12798\n",
      "12559.28185\n",
      "==== 0.6566 ====\n",
      "10323.14343\n",
      "12559.29326\n",
      "==== 0.6567 ====\n",
      "10323.15888\n",
      "12559.30467\n",
      "==== 0.6568 ====\n",
      "10323.17432\n",
      "12559.31608\n",
      "==== 0.6569 ====\n",
      "10323.18977\n",
      "12559.32749\n",
      "==== 0.657 ====\n",
      "10323.20521\n",
      "12559.3389\n",
      "==== 0.6571 ====\n",
      "10323.22065\n",
      "12559.35031\n",
      "==== 0.6572 ====\n",
      "10323.23609\n",
      "12559.36172\n",
      "==== 0.6573 ====\n",
      "10323.25153\n",
      "12559.37313\n",
      "==== 0.6574 ====\n",
      "10323.26696\n",
      "12559.38543\n",
      "==== 0.6575 ====\n",
      "10323.28239\n",
      "12559.40078\n",
      "==== 0.6576 ====\n",
      "10323.29783\n",
      "12559.41614\n",
      "==== 0.6577 ====\n",
      "10323.31326\n",
      "12559.43149\n",
      "==== 0.6578 ====\n",
      "10323.32868\n",
      "12559.44685\n",
      "==== 0.6579 ====\n",
      "10323.34411\n",
      "12559.46221\n",
      "==== 0.658 ====\n",
      "10323.35954\n",
      "12559.47756\n",
      "==== 0.6581 ====\n",
      "10323.37496\n",
      "12559.49291\n",
      "==== 0.6582 ====\n",
      "10323.39038\n",
      "12559.50827\n",
      "==== 0.6583 ====\n",
      "10323.4058\n",
      "12559.52362\n",
      "==== 0.6584 ====\n",
      "10323.42122\n",
      "12559.53898\n",
      "==== 0.6585 ====\n",
      "10323.43663\n",
      "12559.55433\n",
      "==== 0.6586 ====\n",
      "10323.45205\n",
      "12559.56968\n",
      "==== 0.6587 ====\n",
      "10323.46746\n",
      "12559.58504\n",
      "==== 0.6588 ====\n",
      "10323.48287\n",
      "12559.60039\n",
      "==== 0.6589 ====\n",
      "10323.49828\n",
      "12559.61574\n",
      "==== 0.659 ====\n",
      "10323.51368\n",
      "12559.63109\n",
      "==== 0.6591 ====\n",
      "10323.52909\n",
      "12559.64644\n",
      "==== 0.6592 ====\n",
      "10323.54449\n",
      "12559.6618\n",
      "==== 0.6593 ====\n",
      "10323.55989\n",
      "12559.67715\n",
      "==== 0.6594 ====\n",
      "10323.57529\n",
      "12559.6925\n",
      "==== 0.6595 ====\n",
      "10323.59069\n",
      "12559.70785\n",
      "==== 0.6596 ====\n",
      "10323.60608\n",
      "12559.7232\n",
      "==== 0.6597 ====\n",
      "10323.62148\n",
      "12559.73855\n",
      "==== 0.6598 ====\n",
      "10323.63687\n",
      "12559.7539\n",
      "==== 0.6599 ====\n",
      "10323.65226\n",
      "12559.76925\n",
      "==== 0.66 ====\n",
      "10323.66765\n",
      "12559.7846\n",
      "==== 0.6601 ====\n",
      "10323.68304\n",
      "12559.79995\n",
      "==== 0.6602 ====\n",
      "10323.69842\n",
      "12559.81529\n",
      "==== 0.6603 ====\n",
      "10323.71381\n",
      "12559.83064\n",
      "==== 0.6604 ====\n",
      "10323.72919\n",
      "12559.84599\n",
      "==== 0.6605 ====\n",
      "10323.74457\n",
      "12559.86134\n",
      "==== 0.6606 ====\n",
      "10323.75995\n",
      "12559.87669\n",
      "==== 0.6607 ====\n",
      "10323.77532\n",
      "12559.89203\n",
      "==== 0.6608 ====\n",
      "10323.7907\n",
      "12559.90738\n",
      "==== 0.6609 ====\n",
      "10323.80607\n",
      "12559.92273\n",
      "==== 0.661 ====\n",
      "10323.82144\n",
      "12559.93807\n",
      "==== 0.6611 ====\n",
      "10323.83681\n",
      "12559.95342\n",
      "==== 0.6612 ====\n",
      "10323.85218\n",
      "12559.96876\n",
      "==== 0.6613 ====\n",
      "10323.86754\n",
      "12559.98411\n",
      "==== 0.6614 ====\n",
      "10323.88291\n",
      "12559.99945\n",
      "==== 0.6615 ====\n",
      "10323.89827\n",
      "12560.0148\n",
      "==== 0.6616 ====\n",
      "10323.91363\n",
      "12560.03014\n",
      "==== 0.6617 ====\n",
      "10323.92899\n",
      "12560.04549\n",
      "==== 0.6618 ====\n",
      "10323.94434\n",
      "12560.06083\n",
      "==== 0.6619 ====\n",
      "10323.9597\n",
      "12560.07618\n",
      "==== 0.662 ====\n",
      "10323.97505\n",
      "12560.09152\n",
      "==== 0.6621 ====\n",
      "10323.9904\n",
      "12560.10686\n",
      "==== 0.6622 ====\n",
      "10324.00575\n",
      "12560.1222\n",
      "==== 0.6623 ====\n",
      "10324.0211\n",
      "12560.13755\n",
      "==== 0.6624 ====\n",
      "10324.03645\n",
      "12560.15289\n",
      "==== 0.6625 ====\n",
      "10324.05179\n",
      "12560.16823\n",
      "==== 0.6626 ====\n",
      "10324.06713\n",
      "12560.18357\n",
      "==== 0.6627 ====\n",
      "10324.08247\n",
      "12560.19891\n",
      "==== 0.6628 ====\n",
      "10324.09781\n",
      "12560.21426\n",
      "==== 0.6629 ====\n",
      "10324.11315\n",
      "12560.2296\n",
      "==== 0.663 ====\n",
      "10324.12848\n",
      "12560.24494\n",
      "==== 0.6631 ====\n",
      "10324.14382\n",
      "12560.26028\n",
      "==== 0.6632 ====\n",
      "10324.15915\n",
      "12560.27562\n",
      "==== 0.6633 ====\n",
      "10324.17448\n",
      "12560.29096\n",
      "==== 0.6634 ====\n",
      "10324.18981\n",
      "12560.30629\n",
      "==== 0.6635 ====\n",
      "10324.20513\n",
      "12560.32163\n",
      "==== 0.6636 ====\n",
      "10324.22046\n",
      "12560.33697\n",
      "==== 0.6637 ====\n",
      "10324.23578\n",
      "12560.35231\n",
      "==== 0.6638 ====\n",
      "10324.2511\n",
      "12560.36765\n",
      "==== 0.6639 ====\n",
      "10324.26642\n",
      "12560.38299\n",
      "==== 0.664 ====\n",
      "10324.28174\n",
      "12560.39832\n",
      "==== 0.6641 ====\n",
      "10324.29709\n",
      "12560.41366\n",
      "==== 0.6642 ====\n",
      "10324.31262\n",
      "12560.429\n",
      "==== 0.6643 ====\n",
      "10324.32814\n",
      "12560.44433\n",
      "==== 0.6644 ====\n",
      "10324.34366\n",
      "12560.45967\n",
      "==== 0.6645 ====\n",
      "10324.35918\n",
      "12560.47501\n",
      "==== 0.6646 ====\n",
      "10324.3747\n",
      "12560.49034\n",
      "==== 0.6647 ====\n",
      "10324.39021\n",
      "12560.50568\n",
      "==== 0.6648 ====\n",
      "10324.40573\n",
      "12560.52101\n",
      "==== 0.6649 ====\n",
      "10324.42124\n",
      "12560.53635\n",
      "==== 0.665 ====\n",
      "10324.43675\n",
      "12560.55168\n",
      "==== 0.6651 ====\n",
      "10324.45226\n",
      "12560.56702\n",
      "==== 0.6652 ====\n",
      "10324.46777\n",
      "12560.58235\n",
      "==== 0.6653 ====\n",
      "10324.48327\n",
      "12560.59768\n",
      "==== 0.6654 ====\n",
      "10324.49877\n",
      "12560.61302\n",
      "==== 0.6655 ====\n",
      "10324.51428\n",
      "12560.62835\n",
      "==== 0.6656 ====\n",
      "10324.52978\n",
      "12560.64368\n",
      "==== 0.6657 ====\n",
      "10324.54527\n",
      "12560.65901\n",
      "==== 0.6658 ====\n",
      "10324.56077\n",
      "12560.67435\n",
      "==== 0.6659 ====\n",
      "10324.57626\n",
      "12560.68968\n",
      "==== 0.666 ====\n",
      "10324.59176\n",
      "12560.70501\n",
      "==== 0.6661 ====\n",
      "10324.60725\n",
      "12560.72034\n",
      "==== 0.6662 ====\n",
      "10324.62274\n",
      "12560.73567\n",
      "==== 0.6663 ====\n",
      "10324.63822\n",
      "12560.751\n",
      "==== 0.6664 ====\n",
      "10324.65371\n",
      "12560.76633\n",
      "==== 0.6665 ====\n",
      "10324.66919\n",
      "12560.78166\n",
      "==== 0.6666 ====\n",
      "10324.68468\n",
      "12560.79699\n",
      "==== 0.6667 ====\n",
      "10324.70016\n",
      "12560.81232\n",
      "==== 0.6668 ====\n",
      "10324.71563\n",
      "12560.82765\n",
      "==== 0.6669 ====\n",
      "10324.73111\n",
      "12560.84298\n",
      "==== 0.667 ====\n",
      "10324.74659\n",
      "12560.85831\n",
      "==== 0.6671 ====\n",
      "10324.76206\n",
      "12560.87363\n",
      "==== 0.6672 ====\n",
      "10324.77753\n",
      "12560.88896\n",
      "==== 0.6673 ====\n",
      "10324.793\n",
      "12560.90429\n",
      "==== 0.6674 ====\n",
      "10324.80847\n",
      "12560.91962\n",
      "==== 0.6675 ====\n",
      "10324.82393\n",
      "12560.93494\n",
      "==== 0.6676 ====\n",
      "10324.8394\n",
      "12560.95027\n",
      "==== 0.6677 ====\n",
      "10324.85486\n",
      "12560.96559\n",
      "==== 0.6678 ====\n",
      "10324.87032\n",
      "12560.98092\n",
      "==== 0.6679 ====\n",
      "10324.88578\n",
      "12560.99625\n",
      "==== 0.668 ====\n",
      "10324.90124\n",
      "12561.01157\n",
      "==== 0.6681 ====\n",
      "10324.91669\n",
      "12561.0269\n",
      "==== 0.6682 ====\n",
      "10324.93215\n",
      "12561.04222\n",
      "==== 0.6683 ====\n",
      "10324.9476\n",
      "12561.05754\n",
      "==== 0.6684 ====\n",
      "10324.96305\n",
      "12561.07287\n",
      "==== 0.6685 ====\n",
      "10324.9785\n",
      "12561.08819\n",
      "==== 0.6686 ====\n",
      "10324.99394\n",
      "12561.10352\n",
      "==== 0.6687 ====\n",
      "10325.00939\n",
      "12561.11884\n",
      "==== 0.6688 ====\n",
      "10325.02483\n",
      "12561.13416\n",
      "==== 0.6689 ====\n",
      "10325.04027\n",
      "12561.14948\n",
      "==== 0.669 ====\n",
      "10325.05571\n",
      "12561.16481\n",
      "==== 0.6691 ====\n",
      "10325.07115\n",
      "12561.18013\n",
      "==== 0.6692 ====\n",
      "10325.08659\n",
      "12561.19545\n",
      "==== 0.6693 ====\n",
      "10325.10202\n",
      "12561.21077\n",
      "==== 0.6694 ====\n",
      "10325.11745\n",
      "12561.22609\n",
      "==== 0.6695 ====\n",
      "10325.13288\n",
      "12561.24141\n",
      "==== 0.6696 ====\n",
      "10325.14831\n",
      "12561.25673\n",
      "==== 0.6697 ====\n",
      "10325.16374\n",
      "12561.27205\n",
      "==== 0.6698 ====\n",
      "10325.17916\n",
      "12561.28737\n",
      "==== 0.6699 ====\n",
      "10325.19459\n",
      "12561.30269\n",
      "==== 0.67 ====\n",
      "10325.21001\n",
      "12561.31801\n"
     ]
    }
   ],
   "source": [
    "w=[]\n",
    "q=0.57\n",
    "for i in range(0,1000,1):\n",
    "    q = q+0.0001\n",
    "    q=round(q,5)\n",
    "    w.append(q)\n",
    "    \n",
    "for i in w:\n",
    "    \n",
    "    from sklearn.linear_model import Ridge\n",
    "    rr = Ridge(alpha=i)\n",
    "    model = rr.fit(xtrain,ytrain)\n",
    "\n",
    "    pred_tr = model.predict(xtrain)\n",
    "    pred_ts = model.predict(xtest)\n",
    "    tr_er = round(mean_absolute_error(ytrain,pred_tr),5)\n",
    "    ts_er =  round(mean_absolute_error(ytest,pred_ts),5)\n",
    "    print(\"====\",i,\"====\")\n",
    "    print(tr_er)\n",
    "    print(ts_er)"
   ]
  },
  {
   "cell_type": "raw",
   "id": "db0156cc",
   "metadata": {},
   "source": [
    "==== i = 0.5716 ====\n",
    "10309.5011\n",
    "12555.21871"
   ]
  },
  {
   "cell_type": "code",
   "execution_count": 869,
   "id": "80fb9786",
   "metadata": {},
   "outputs": [
    {
     "name": "stdout",
     "output_type": "stream",
     "text": [
      "========\n",
      "10309.5011\n",
      "12555.21871\n"
     ]
    }
   ],
   "source": [
    "    from sklearn.linear_model import Ridge\n",
    "    rr = Ridge(alpha=0.5716)\n",
    "    model = rr.fit(xtrain,ytrain)\n",
    "\n",
    "    pred_tr = model.predict(xtrain)\n",
    "    pred_ts = model.predict(xtest)\n",
    "    tr_er = round(mean_absolute_error(ytrain,pred_tr),5)\n",
    "    ts_er =  round(mean_absolute_error(ytest,pred_ts),5)\n",
    "    print(\"========\")\n",
    "    print(tr_er)\n",
    "    print(ts_er)"
   ]
  },
  {
   "cell_type": "markdown",
   "id": "918bad1b",
   "metadata": {},
   "source": [
    "Lasso"
   ]
  },
  {
   "cell_type": "code",
   "execution_count": 873,
   "id": "b3c83845",
   "metadata": {},
   "outputs": [
    {
     "name": "stdout",
     "output_type": "stream",
     "text": [
      "==== 20.0601 ====\n",
      "10449.35315\n",
      "12289.07425\n",
      "==== 20.0602 ====\n",
      "10449.35487\n",
      "12289.07421\n",
      "==== 20.0603 ====\n",
      "10449.35658\n",
      "12289.07417\n",
      "==== 20.0604 ====\n",
      "10449.3583\n",
      "12289.07413\n",
      "==== 20.0605 ====\n",
      "10449.36001\n",
      "12289.07409\n",
      "==== 20.0606 ====\n",
      "10449.36173\n",
      "12289.07405\n",
      "==== 20.0607 ====\n",
      "10449.36344\n",
      "12289.07401\n",
      "==== 20.0608 ====\n",
      "10449.36516\n",
      "12289.07397\n",
      "==== 20.0609 ====\n",
      "10449.36687\n",
      "12289.07393\n",
      "==== 20.061 ====\n",
      "10449.36859\n",
      "12289.07389\n",
      "==== 20.0611 ====\n",
      "10449.3703\n",
      "12289.07385\n",
      "==== 20.0612 ====\n",
      "10449.37202\n",
      "12289.07381\n",
      "==== 20.0613 ====\n",
      "10449.37373\n",
      "12289.07377\n",
      "==== 20.0614 ====\n",
      "10449.37545\n",
      "12289.07373\n",
      "==== 20.0615 ====\n",
      "10449.37716\n",
      "12289.07369\n",
      "==== 20.0616 ====\n",
      "10449.37888\n",
      "12289.07365\n",
      "==== 20.0617 ====\n",
      "10449.38059\n",
      "12289.07361\n",
      "==== 20.0618 ====\n",
      "10449.38231\n",
      "12289.07357\n",
      "==== 20.0619 ====\n",
      "10449.38402\n",
      "12289.07353\n",
      "==== 20.062 ====\n",
      "10449.38574\n",
      "12289.07349\n",
      "==== 20.0621 ====\n",
      "10449.38745\n",
      "12289.07345\n",
      "==== 20.0622 ====\n",
      "10449.38917\n",
      "12289.07341\n",
      "==== 20.0623 ====\n",
      "10449.39088\n",
      "12289.07337\n",
      "==== 20.0624 ====\n",
      "10449.3926\n",
      "12289.07333\n",
      "==== 20.0625 ====\n",
      "10449.39431\n",
      "12289.07329\n",
      "==== 20.0626 ====\n",
      "10449.39603\n",
      "12289.07325\n",
      "==== 20.0627 ====\n",
      "10449.39774\n",
      "12289.07321\n",
      "==== 20.0628 ====\n",
      "10449.39946\n",
      "12289.07317\n",
      "==== 20.0629 ====\n",
      "10449.40117\n",
      "12289.07313\n",
      "==== 20.063 ====\n",
      "10449.40289\n",
      "12289.07309\n",
      "==== 20.0631 ====\n",
      "10449.4046\n",
      "12289.07306\n",
      "==== 20.0632 ====\n",
      "10449.40632\n",
      "12289.07302\n",
      "==== 20.0633 ====\n",
      "10449.40803\n",
      "12289.07298\n",
      "==== 20.0634 ====\n",
      "10449.40975\n",
      "12289.07294\n",
      "==== 20.0635 ====\n",
      "10449.41146\n",
      "12289.0729\n",
      "==== 20.0636 ====\n",
      "10449.41318\n",
      "12289.07286\n",
      "==== 20.0637 ====\n",
      "10449.41489\n",
      "12289.07282\n",
      "==== 20.0638 ====\n",
      "10449.41661\n",
      "12289.07278\n",
      "==== 20.0639 ====\n",
      "10449.41832\n",
      "12289.07274\n",
      "==== 20.064 ====\n",
      "10449.42004\n",
      "12289.0727\n",
      "==== 20.0641 ====\n",
      "10449.42175\n",
      "12289.07266\n",
      "==== 20.0642 ====\n",
      "10449.42347\n",
      "12289.07262\n",
      "==== 20.0643 ====\n",
      "10449.42518\n",
      "12289.07258\n",
      "==== 20.0644 ====\n",
      "10449.4269\n",
      "12289.07254\n",
      "==== 20.0645 ====\n",
      "10449.42861\n",
      "12289.0725\n",
      "==== 20.0646 ====\n",
      "10449.43033\n",
      "12289.07246\n",
      "==== 20.0647 ====\n",
      "10449.43204\n",
      "12289.07242\n",
      "==== 20.0648 ====\n",
      "10449.43376\n",
      "12289.07238\n",
      "==== 20.0649 ====\n",
      "10449.43547\n",
      "12289.07234\n",
      "==== 20.065 ====\n",
      "10449.43719\n",
      "12289.0723\n",
      "==== 20.0651 ====\n",
      "10449.4389\n",
      "12289.07226\n",
      "==== 20.0652 ====\n",
      "10449.44062\n",
      "12289.07222\n",
      "==== 20.0653 ====\n",
      "10449.44233\n",
      "12289.07218\n",
      "==== 20.0654 ====\n",
      "10449.44405\n",
      "12289.07214\n",
      "==== 20.0655 ====\n",
      "10449.44576\n",
      "12289.0721\n",
      "==== 20.0656 ====\n",
      "10449.44748\n",
      "12289.07206\n",
      "==== 20.0657 ====\n",
      "10449.44919\n",
      "12289.07202\n",
      "==== 20.0658 ====\n",
      "10449.45091\n",
      "12289.07198\n",
      "==== 20.0659 ====\n",
      "10449.45262\n",
      "12289.07194\n",
      "==== 20.066 ====\n",
      "10449.45434\n",
      "12289.0719\n",
      "==== 20.0661 ====\n",
      "10449.45605\n",
      "12289.07186\n",
      "==== 20.0662 ====\n",
      "10449.45777\n",
      "12289.07194\n",
      "==== 20.0663 ====\n",
      "10449.45948\n",
      "12289.07209\n",
      "==== 20.0664 ====\n",
      "10449.4612\n",
      "12289.07224\n",
      "==== 20.0665 ====\n",
      "10449.46291\n",
      "12289.07239\n",
      "==== 20.0666 ====\n",
      "10449.46462\n",
      "12289.07254\n",
      "==== 20.0667 ====\n",
      "10449.46634\n",
      "12289.07269\n",
      "==== 20.0668 ====\n",
      "10449.46805\n",
      "12289.07285\n",
      "==== 20.0669 ====\n",
      "10449.46977\n",
      "12289.073\n",
      "==== 20.067 ====\n",
      "10449.47148\n",
      "12289.07315\n",
      "==== 20.0671 ====\n",
      "10449.4732\n",
      "12289.0733\n",
      "==== 20.0672 ====\n",
      "10449.47491\n",
      "12289.07345\n",
      "==== 20.0673 ====\n",
      "10449.47663\n",
      "12289.0736\n",
      "==== 20.0674 ====\n",
      "10449.47834\n",
      "12289.07376\n",
      "==== 20.0675 ====\n",
      "10449.48006\n",
      "12289.07391\n",
      "==== 20.0676 ====\n",
      "10449.48177\n",
      "12289.07406\n",
      "==== 20.0677 ====\n",
      "10449.48349\n",
      "12289.07421\n",
      "==== 20.0678 ====\n",
      "10449.4852\n",
      "12289.07436\n",
      "==== 20.0679 ====\n",
      "10449.48692\n",
      "12289.07451\n",
      "==== 20.068 ====\n",
      "10449.48863\n",
      "12289.07466\n",
      "==== 20.0681 ====\n",
      "10449.49035\n",
      "12289.07482\n",
      "==== 20.0682 ====\n",
      "10449.49206\n",
      "12289.07497\n",
      "==== 20.0683 ====\n",
      "10449.49378\n",
      "12289.07512\n",
      "==== 20.0684 ====\n",
      "10449.49549\n",
      "12289.07527\n",
      "==== 20.0685 ====\n",
      "10449.49721\n",
      "12289.07542\n",
      "==== 20.0686 ====\n",
      "10449.49892\n",
      "12289.07557\n",
      "==== 20.0687 ====\n",
      "10449.50064\n",
      "12289.07573\n",
      "==== 20.0688 ====\n",
      "10449.50235\n",
      "12289.07588\n",
      "==== 20.0689 ====\n",
      "10449.50407\n",
      "12289.07603\n",
      "==== 20.069 ====\n",
      "10449.50578\n",
      "12289.07618\n",
      "==== 20.0691 ====\n",
      "10449.5075\n",
      "12289.07633\n",
      "==== 20.0692 ====\n",
      "10449.50921\n",
      "12289.07648\n",
      "==== 20.0693 ====\n",
      "10449.51093\n",
      "12289.07663\n",
      "==== 20.0694 ====\n",
      "10449.51264\n",
      "12289.07679\n",
      "==== 20.0695 ====\n",
      "10449.51436\n",
      "12289.07694\n",
      "==== 20.0696 ====\n",
      "10449.51607\n",
      "12289.07709\n",
      "==== 20.0697 ====\n",
      "10449.51779\n",
      "12289.07724\n",
      "==== 20.0698 ====\n",
      "10449.5195\n",
      "12289.07739\n",
      "==== 20.0699 ====\n",
      "10449.52122\n",
      "12289.07754\n",
      "==== 20.07 ====\n",
      "10449.52293\n",
      "12289.0777\n",
      "==== 20.0701 ====\n",
      "10449.52465\n",
      "12289.07785\n",
      "==== 20.0702 ====\n",
      "10449.52636\n",
      "12289.078\n",
      "==== 20.0703 ====\n",
      "10449.52808\n",
      "12289.07815\n",
      "==== 20.0704 ====\n",
      "10449.52979\n",
      "12289.0783\n",
      "==== 20.0705 ====\n",
      "10449.53151\n",
      "12289.07845\n",
      "==== 20.0706 ====\n",
      "10449.53322\n",
      "12289.0786\n",
      "==== 20.0707 ====\n",
      "10449.53494\n",
      "12289.07876\n",
      "==== 20.0708 ====\n",
      "10449.53665\n",
      "12289.07891\n",
      "==== 20.0709 ====\n",
      "10449.53837\n",
      "12289.07906\n",
      "==== 20.071 ====\n",
      "10449.54008\n",
      "12289.07921\n",
      "==== 20.0711 ====\n",
      "10449.5418\n",
      "12289.07936\n",
      "==== 20.0712 ====\n",
      "10449.54351\n",
      "12289.07951\n",
      "==== 20.0713 ====\n",
      "10449.54523\n",
      "12289.07967\n",
      "==== 20.0714 ====\n",
      "10449.54694\n",
      "12289.07982\n",
      "==== 20.0715 ====\n",
      "10449.54866\n",
      "12289.07997\n",
      "==== 20.0716 ====\n",
      "10449.55037\n",
      "12289.08012\n",
      "==== 20.0717 ====\n",
      "10449.55209\n",
      "12289.08027\n",
      "==== 20.0718 ====\n",
      "10449.5538\n",
      "12289.08042\n",
      "==== 20.0719 ====\n",
      "10449.55552\n",
      "12289.08057\n",
      "==== 20.072 ====\n",
      "10449.55723\n",
      "12289.08073\n",
      "==== 20.0721 ====\n",
      "10449.55895\n",
      "12289.08088\n",
      "==== 20.0722 ====\n",
      "10449.56066\n",
      "12289.08103\n",
      "==== 20.0723 ====\n",
      "10449.56238\n",
      "12289.08118\n",
      "==== 20.0724 ====\n",
      "10449.56409\n",
      "12289.08133\n",
      "==== 20.0725 ====\n",
      "10449.56581\n",
      "12289.08148\n",
      "==== 20.0726 ====\n",
      "10449.56752\n",
      "12289.08164\n",
      "==== 20.0727 ====\n",
      "10449.56924\n",
      "12289.08179\n",
      "==== 20.0728 ====\n",
      "10449.57095\n",
      "12289.08194\n",
      "==== 20.0729 ====\n",
      "10449.57267\n",
      "12289.08209\n",
      "==== 20.073 ====\n",
      "10449.57438\n",
      "12289.08224\n",
      "==== 20.0731 ====\n",
      "10449.5761\n",
      "12289.08239\n",
      "==== 20.0732 ====\n",
      "10449.57781\n",
      "12289.08254\n",
      "==== 20.0733 ====\n",
      "10449.57953\n",
      "12289.0827\n",
      "==== 20.0734 ====\n",
      "10449.58124\n",
      "12289.08285\n",
      "==== 20.0735 ====\n",
      "10449.58296\n",
      "12289.083\n",
      "==== 20.0736 ====\n",
      "10449.58467\n",
      "12289.08315\n",
      "==== 20.0737 ====\n",
      "10449.58639\n",
      "12289.0833\n",
      "==== 20.0738 ====\n",
      "10449.5881\n",
      "12289.08345\n",
      "==== 20.0739 ====\n",
      "10449.58982\n",
      "12289.08361\n",
      "==== 20.074 ====\n",
      "10449.59153\n",
      "12289.08376\n",
      "==== 20.0741 ====\n",
      "10449.59325\n",
      "12289.08391\n",
      "==== 20.0742 ====\n",
      "10449.59496\n",
      "12289.08406\n",
      "==== 20.0743 ====\n",
      "10449.59668\n",
      "12289.08421\n",
      "==== 20.0744 ====\n",
      "10449.59839\n",
      "12289.08436\n",
      "==== 20.0745 ====\n",
      "10449.60011\n",
      "12289.08452\n",
      "==== 20.0746 ====\n",
      "10449.60182\n",
      "12289.08467\n",
      "==== 20.0747 ====\n",
      "10449.60354\n",
      "12289.08482\n",
      "==== 20.0748 ====\n",
      "10449.60525\n",
      "12289.08497\n",
      "==== 20.0749 ====\n",
      "10449.60697\n",
      "12289.08512\n",
      "==== 20.075 ====\n",
      "10449.60868\n",
      "12289.08527\n",
      "==== 20.0751 ====\n",
      "10449.6104\n",
      "12289.08542\n",
      "==== 20.0752 ====\n",
      "10449.61211\n",
      "12289.08558\n",
      "==== 20.0753 ====\n",
      "10449.61383\n",
      "12289.08573\n",
      "==== 20.0754 ====\n",
      "10449.61554\n",
      "12289.08588\n",
      "==== 20.0755 ====\n",
      "10449.61726\n",
      "12289.08603\n",
      "==== 20.0756 ====\n",
      "10449.61897\n",
      "12289.08618\n",
      "==== 20.0757 ====\n",
      "10449.62069\n",
      "12289.08633\n",
      "==== 20.0758 ====\n",
      "10449.6224\n",
      "12289.08649\n",
      "==== 20.0759 ====\n",
      "10449.62412\n",
      "12289.08664\n",
      "==== 20.076 ====\n",
      "10449.62583\n",
      "12289.08679\n",
      "==== 20.0761 ====\n",
      "10449.62755\n",
      "12289.08694\n",
      "==== 20.0762 ====\n",
      "10449.62926\n",
      "12289.08709\n",
      "==== 20.0763 ====\n",
      "10449.63098\n",
      "12289.08724\n",
      "==== 20.0764 ====\n",
      "10449.63269\n",
      "12289.08739\n",
      "==== 20.0765 ====\n",
      "10449.63441\n",
      "12289.08755\n",
      "==== 20.0766 ====\n",
      "10449.63612\n",
      "12289.0877\n",
      "==== 20.0767 ====\n",
      "10449.63784\n",
      "12289.08785\n",
      "==== 20.0768 ====\n",
      "10449.63955\n",
      "12289.088\n",
      "==== 20.0769 ====\n",
      "10449.64127\n",
      "12289.08815\n",
      "==== 20.077 ====\n",
      "10449.64298\n",
      "12289.0883\n",
      "==== 20.0771 ====\n",
      "10449.6447\n",
      "12289.08846\n",
      "==== 20.0772 ====\n",
      "10449.64641\n",
      "12289.08861\n",
      "==== 20.0773 ====\n",
      "10449.64813\n",
      "12289.08876\n",
      "==== 20.0774 ====\n",
      "10449.64984\n",
      "12289.08891\n",
      "==== 20.0775 ====\n",
      "10449.65156\n",
      "12289.08906\n",
      "==== 20.0776 ====\n",
      "10449.65327\n",
      "12289.08921\n",
      "==== 20.0777 ====\n",
      "10449.65499\n",
      "12289.08936\n",
      "==== 20.0778 ====\n",
      "10449.6567\n",
      "12289.08952\n",
      "==== 20.0779 ====\n",
      "10449.65842\n",
      "12289.08967\n",
      "==== 20.078 ====\n",
      "10449.66013\n",
      "12289.08982\n",
      "==== 20.0781 ====\n",
      "10449.66185\n",
      "12289.08997\n",
      "==== 20.0782 ====\n",
      "10449.66356\n",
      "12289.09012\n",
      "==== 20.0783 ====\n",
      "10449.66528\n",
      "12289.09027\n",
      "==== 20.0784 ====\n",
      "10449.66699\n",
      "12289.09043\n",
      "==== 20.0785 ====\n",
      "10449.6687\n",
      "12289.09058\n",
      "==== 20.0786 ====\n",
      "10449.67042\n",
      "12289.09073\n",
      "==== 20.0787 ====\n",
      "10449.67213\n",
      "12289.09088\n",
      "==== 20.0788 ====\n",
      "10449.67385\n",
      "12289.09103\n",
      "==== 20.0789 ====\n",
      "10449.67556\n",
      "12289.09118\n",
      "==== 20.079 ====\n",
      "10449.67728\n",
      "12289.09133\n",
      "==== 20.0791 ====\n",
      "10449.67899\n",
      "12289.09149\n",
      "==== 20.0792 ====\n",
      "10449.68071\n",
      "12289.09164\n",
      "==== 20.0793 ====\n",
      "10449.68242\n",
      "12289.09179\n",
      "==== 20.0794 ====\n",
      "10449.68414\n",
      "12289.09194\n",
      "==== 20.0795 ====\n",
      "10449.68585\n",
      "12289.09209\n",
      "==== 20.0796 ====\n",
      "10449.68757\n",
      "12289.09224\n",
      "==== 20.0797 ====\n",
      "10449.68928\n",
      "12289.0924\n"
     ]
    },
    {
     "name": "stdout",
     "output_type": "stream",
     "text": [
      "==== 20.0798 ====\n",
      "10449.691\n",
      "12289.09255\n",
      "==== 20.0799 ====\n",
      "10449.69271\n",
      "12289.0927\n",
      "==== 20.08 ====\n",
      "10449.69443\n",
      "12289.09285\n",
      "==== 20.0801 ====\n",
      "10449.69614\n",
      "12289.093\n",
      "==== 20.0802 ====\n",
      "10449.69786\n",
      "12289.09315\n",
      "==== 20.0803 ====\n",
      "10449.69957\n",
      "12289.0933\n",
      "==== 20.0804 ====\n",
      "10449.70129\n",
      "12289.09346\n",
      "==== 20.0805 ====\n",
      "10449.703\n",
      "12289.09361\n",
      "==== 20.0806 ====\n",
      "10449.70472\n",
      "12289.09376\n",
      "==== 20.0807 ====\n",
      "10449.70643\n",
      "12289.09391\n",
      "==== 20.0808 ====\n",
      "10449.70815\n",
      "12289.09406\n",
      "==== 20.0809 ====\n",
      "10449.70986\n",
      "12289.09421\n",
      "==== 20.081 ====\n",
      "10449.71158\n",
      "12289.09437\n",
      "==== 20.0811 ====\n",
      "10449.71329\n",
      "12289.09452\n",
      "==== 20.0812 ====\n",
      "10449.71501\n",
      "12289.09467\n",
      "==== 20.0813 ====\n",
      "10449.71672\n",
      "12289.09482\n",
      "==== 20.0814 ====\n",
      "10449.71844\n",
      "12289.09497\n",
      "==== 20.0815 ====\n",
      "10449.72015\n",
      "12289.09512\n",
      "==== 20.0816 ====\n",
      "10449.72187\n",
      "12289.09527\n",
      "==== 20.0817 ====\n",
      "10449.72358\n",
      "12289.09543\n",
      "==== 20.0818 ====\n",
      "10449.7253\n",
      "12289.09558\n",
      "==== 20.0819 ====\n",
      "10449.72701\n",
      "12289.09573\n",
      "==== 20.082 ====\n",
      "10449.72873\n",
      "12289.09588\n",
      "==== 20.0821 ====\n",
      "10449.73044\n",
      "12289.09603\n",
      "==== 20.0822 ====\n",
      "10449.73216\n",
      "12289.09618\n",
      "==== 20.0823 ====\n",
      "10449.73387\n",
      "12289.09634\n",
      "==== 20.0824 ====\n",
      "10449.73559\n",
      "12289.09649\n",
      "==== 20.0825 ====\n",
      "10449.7373\n",
      "12289.09664\n",
      "==== 20.0826 ====\n",
      "10449.73902\n",
      "12289.09679\n",
      "==== 20.0827 ====\n",
      "10449.74073\n",
      "12289.09694\n",
      "==== 20.0828 ====\n",
      "10449.74245\n",
      "12289.09709\n",
      "==== 20.0829 ====\n",
      "10449.74416\n",
      "12289.09724\n",
      "==== 20.083 ====\n",
      "10449.74588\n",
      "12289.0974\n",
      "==== 20.0831 ====\n",
      "10449.74759\n",
      "12289.09755\n",
      "==== 20.0832 ====\n",
      "10449.74931\n",
      "12289.0977\n",
      "==== 20.0833 ====\n",
      "10449.75102\n",
      "12289.09785\n",
      "==== 20.0834 ====\n",
      "10449.75274\n",
      "12289.098\n",
      "==== 20.0835 ====\n",
      "10449.75445\n",
      "12289.09815\n",
      "==== 20.0836 ====\n",
      "10449.75617\n",
      "12289.09831\n",
      "==== 20.0837 ====\n",
      "10449.75788\n",
      "12289.09846\n",
      "==== 20.0838 ====\n",
      "10449.7596\n",
      "12289.09861\n",
      "==== 20.0839 ====\n",
      "10449.76131\n",
      "12289.09876\n",
      "==== 20.084 ====\n",
      "10449.76303\n",
      "12289.09891\n",
      "==== 20.0841 ====\n",
      "10449.76474\n",
      "12289.09906\n",
      "==== 20.0842 ====\n",
      "10449.76646\n",
      "12289.09921\n",
      "==== 20.0843 ====\n",
      "10449.76817\n",
      "12289.09937\n",
      "==== 20.0844 ====\n",
      "10449.76989\n",
      "12289.09952\n",
      "==== 20.0845 ====\n",
      "10449.7716\n",
      "12289.09967\n",
      "==== 20.0846 ====\n",
      "10449.77332\n",
      "12289.09982\n",
      "==== 20.0847 ====\n",
      "10449.77503\n",
      "12289.09997\n",
      "==== 20.0848 ====\n",
      "10449.77675\n",
      "12289.10012\n",
      "==== 20.0849 ====\n",
      "10449.77846\n",
      "12289.10028\n",
      "==== 20.085 ====\n",
      "10449.78018\n",
      "12289.10043\n",
      "==== 20.0851 ====\n",
      "10449.78189\n",
      "12289.10058\n",
      "==== 20.0852 ====\n",
      "10449.78361\n",
      "12289.10073\n",
      "==== 20.0853 ====\n",
      "10449.78532\n",
      "12289.10088\n",
      "==== 20.0854 ====\n",
      "10449.78704\n",
      "12289.10103\n",
      "==== 20.0855 ====\n",
      "10449.78875\n",
      "12289.10119\n",
      "==== 20.0856 ====\n",
      "10449.79047\n",
      "12289.10134\n",
      "==== 20.0857 ====\n",
      "10449.79218\n",
      "12289.10149\n",
      "==== 20.0858 ====\n",
      "10449.7939\n",
      "12289.10164\n",
      "==== 20.0859 ====\n",
      "10449.79561\n",
      "12289.10179\n",
      "==== 20.086 ====\n",
      "10449.79733\n",
      "12289.10194\n",
      "==== 20.0861 ====\n",
      "10449.79904\n",
      "12289.10209\n",
      "==== 20.0862 ====\n",
      "10449.80076\n",
      "12289.10225\n",
      "==== 20.0863 ====\n",
      "10449.80247\n",
      "12289.1024\n",
      "==== 20.0864 ====\n",
      "10449.80419\n",
      "12289.10255\n",
      "==== 20.0865 ====\n",
      "10449.8059\n",
      "12289.1027\n",
      "==== 20.0866 ====\n",
      "10449.80762\n",
      "12289.10285\n",
      "==== 20.0867 ====\n",
      "10449.80933\n",
      "12289.103\n",
      "==== 20.0868 ====\n",
      "10449.81105\n",
      "12289.10316\n",
      "==== 20.0869 ====\n",
      "10449.81276\n",
      "12289.10331\n",
      "==== 20.087 ====\n",
      "10449.81448\n",
      "12289.10346\n",
      "==== 20.0871 ====\n",
      "10449.81619\n",
      "12289.10361\n",
      "==== 20.0872 ====\n",
      "10449.81791\n",
      "12289.10376\n",
      "==== 20.0873 ====\n",
      "10449.81962\n",
      "12289.10391\n",
      "==== 20.0874 ====\n",
      "10449.82134\n",
      "12289.10406\n",
      "==== 20.0875 ====\n",
      "10449.82305\n",
      "12289.10422\n",
      "==== 20.0876 ====\n",
      "10449.82477\n",
      "12289.10437\n",
      "==== 20.0877 ====\n",
      "10449.82648\n",
      "12289.10452\n",
      "==== 20.0878 ====\n",
      "10449.8282\n",
      "12289.10467\n",
      "==== 20.0879 ====\n",
      "10449.82991\n",
      "12289.10482\n",
      "==== 20.088 ====\n",
      "10449.83163\n",
      "12289.10497\n",
      "==== 20.0881 ====\n",
      "10449.83334\n",
      "12289.10513\n",
      "==== 20.0882 ====\n",
      "10449.83506\n",
      "12289.10528\n",
      "==== 20.0883 ====\n",
      "10449.83677\n",
      "12289.10543\n",
      "==== 20.0884 ====\n",
      "10449.83849\n",
      "12289.10558\n",
      "==== 20.0885 ====\n",
      "10449.8402\n",
      "12289.10573\n",
      "==== 20.0886 ====\n",
      "10449.84192\n",
      "12289.10588\n",
      "==== 20.0887 ====\n",
      "10449.84363\n",
      "12289.10603\n",
      "==== 20.0888 ====\n",
      "10449.84535\n",
      "12289.10619\n",
      "==== 20.0889 ====\n",
      "10449.84706\n",
      "12289.10634\n",
      "==== 20.089 ====\n",
      "10449.84878\n",
      "12289.10649\n",
      "==== 20.0891 ====\n",
      "10449.85049\n",
      "12289.10664\n",
      "==== 20.0892 ====\n",
      "10449.85221\n",
      "12289.10679\n",
      "==== 20.0893 ====\n",
      "10449.85392\n",
      "12289.10694\n",
      "==== 20.0894 ====\n",
      "10449.85564\n",
      "12289.1071\n",
      "==== 20.0895 ====\n",
      "10449.85735\n",
      "12289.10725\n",
      "==== 20.0896 ====\n",
      "10449.85907\n",
      "12289.1074\n",
      "==== 20.0897 ====\n",
      "10449.86078\n",
      "12289.10755\n",
      "==== 20.0898 ====\n",
      "10449.8625\n",
      "12289.1077\n",
      "==== 20.0899 ====\n",
      "10449.86421\n",
      "12289.10785\n",
      "==== 20.09 ====\n",
      "10449.86593\n",
      "12289.108\n",
      "==== 20.0901 ====\n",
      "10449.86764\n",
      "12289.10816\n",
      "==== 20.0902 ====\n",
      "10449.86936\n",
      "12289.10831\n",
      "==== 20.0903 ====\n",
      "10449.87107\n",
      "12289.10846\n",
      "==== 20.0904 ====\n",
      "10449.87278\n",
      "12289.10861\n",
      "==== 20.0905 ====\n",
      "10449.8745\n",
      "12289.10876\n",
      "==== 20.0906 ====\n",
      "10449.87621\n",
      "12289.10891\n",
      "==== 20.0907 ====\n",
      "10449.87793\n",
      "12289.10907\n",
      "==== 20.0908 ====\n",
      "10449.87964\n",
      "12289.10922\n",
      "==== 20.0909 ====\n",
      "10449.88136\n",
      "12289.10937\n",
      "==== 20.091 ====\n",
      "10449.88307\n",
      "12289.10952\n",
      "==== 20.0911 ====\n",
      "10449.88479\n",
      "12289.10967\n",
      "==== 20.0912 ====\n",
      "10449.8865\n",
      "12289.10982\n",
      "==== 20.0913 ====\n",
      "10449.88822\n",
      "12289.10997\n",
      "==== 20.0914 ====\n",
      "10449.88993\n",
      "12289.11013\n",
      "==== 20.0915 ====\n",
      "10449.89165\n",
      "12289.11028\n",
      "==== 20.0916 ====\n",
      "10449.89336\n",
      "12289.11043\n",
      "==== 20.0917 ====\n",
      "10449.89508\n",
      "12289.11058\n",
      "==== 20.0918 ====\n",
      "10449.89679\n",
      "12289.11073\n",
      "==== 20.0919 ====\n",
      "10449.89851\n",
      "12289.11088\n",
      "==== 20.092 ====\n",
      "10449.90022\n",
      "12289.11104\n",
      "==== 20.0921 ====\n",
      "10449.90194\n",
      "12289.11119\n",
      "==== 20.0922 ====\n",
      "10449.90365\n",
      "12289.11134\n",
      "==== 20.0923 ====\n",
      "10449.90537\n",
      "12289.11149\n",
      "==== 20.0924 ====\n",
      "10449.90708\n",
      "12289.11164\n",
      "==== 20.0925 ====\n",
      "10449.9088\n",
      "12289.11179\n",
      "==== 20.0926 ====\n",
      "10449.91051\n",
      "12289.11194\n",
      "==== 20.0927 ====\n",
      "10449.91223\n",
      "12289.1121\n",
      "==== 20.0928 ====\n",
      "10449.91394\n",
      "12289.11225\n",
      "==== 20.0929 ====\n",
      "10449.91566\n",
      "12289.1124\n",
      "==== 20.093 ====\n",
      "10449.91737\n",
      "12289.11255\n",
      "==== 20.0931 ====\n",
      "10449.91909\n",
      "12289.1127\n",
      "==== 20.0932 ====\n",
      "10449.9208\n",
      "12289.11285\n",
      "==== 20.0933 ====\n",
      "10449.92252\n",
      "12289.11301\n",
      "==== 20.0934 ====\n",
      "10449.92423\n",
      "12289.11316\n",
      "==== 20.0935 ====\n",
      "10449.92595\n",
      "12289.11331\n",
      "==== 20.0936 ====\n",
      "10449.92766\n",
      "12289.11346\n",
      "==== 20.0937 ====\n",
      "10449.92938\n",
      "12289.11361\n",
      "==== 20.0938 ====\n",
      "10449.93109\n",
      "12289.11376\n",
      "==== 20.0939 ====\n",
      "10449.93281\n",
      "12289.11391\n",
      "==== 20.094 ====\n",
      "10449.93452\n",
      "12289.11407\n",
      "==== 20.0941 ====\n",
      "10449.93624\n",
      "12289.11422\n",
      "==== 20.0942 ====\n",
      "10449.93795\n",
      "12289.11437\n",
      "==== 20.0943 ====\n",
      "10449.93967\n",
      "12289.11452\n",
      "==== 20.0944 ====\n",
      "10449.94138\n",
      "12289.11467\n",
      "==== 20.0945 ====\n",
      "10449.9431\n",
      "12289.11482\n",
      "==== 20.0946 ====\n",
      "10449.94481\n",
      "12289.11498\n",
      "==== 20.0947 ====\n",
      "10449.94653\n",
      "12289.11513\n",
      "==== 20.0948 ====\n",
      "10449.94824\n",
      "12289.11528\n",
      "==== 20.0949 ====\n",
      "10449.94996\n",
      "12289.11543\n",
      "==== 20.095 ====\n",
      "10449.95167\n",
      "12289.11558\n",
      "==== 20.0951 ====\n",
      "10449.95339\n",
      "12289.11573\n",
      "==== 20.0952 ====\n",
      "10449.9551\n",
      "12289.11589\n",
      "==== 20.0953 ====\n",
      "10449.95682\n",
      "12289.11604\n",
      "==== 20.0954 ====\n",
      "10449.95853\n",
      "12289.11619\n",
      "==== 20.0955 ====\n",
      "10449.96025\n",
      "12289.11634\n",
      "==== 20.0956 ====\n",
      "10449.96196\n",
      "12289.11649\n",
      "==== 20.0957 ====\n",
      "10449.96368\n",
      "12289.11664\n",
      "==== 20.0958 ====\n",
      "10449.96539\n",
      "12289.11679\n",
      "==== 20.0959 ====\n",
      "10449.96711\n",
      "12289.11695\n",
      "==== 20.096 ====\n",
      "10449.96882\n",
      "12289.1171\n",
      "==== 20.0961 ====\n",
      "10449.97054\n",
      "12289.11725\n",
      "==== 20.0962 ====\n",
      "10449.97225\n",
      "12289.1174\n",
      "==== 20.0963 ====\n",
      "10449.97397\n",
      "12289.11755\n",
      "==== 20.0964 ====\n",
      "10449.97568\n",
      "12289.1177\n",
      "==== 20.0965 ====\n",
      "10449.9774\n",
      "12289.11786\n",
      "==== 20.0966 ====\n",
      "10449.97911\n",
      "12289.11801\n",
      "==== 20.0967 ====\n",
      "10449.98083\n",
      "12289.11816\n",
      "==== 20.0968 ====\n",
      "10449.98254\n",
      "12289.11831\n",
      "==== 20.0969 ====\n",
      "10449.98426\n",
      "12289.11846\n",
      "==== 20.097 ====\n",
      "10449.98597\n",
      "12289.11861\n",
      "==== 20.0971 ====\n",
      "10449.98769\n",
      "12289.11876\n",
      "==== 20.0972 ====\n",
      "10449.9894\n",
      "12289.11892\n",
      "==== 20.0973 ====\n",
      "10449.99112\n",
      "12289.11907\n",
      "==== 20.0974 ====\n",
      "10449.99283\n",
      "12289.11922\n",
      "==== 20.0975 ====\n",
      "10449.99455\n",
      "12289.11937\n",
      "==== 20.0976 ====\n",
      "10449.99626\n",
      "12289.11952\n",
      "==== 20.0977 ====\n",
      "10449.99798\n",
      "12289.11967\n",
      "==== 20.0978 ====\n",
      "10449.99969\n",
      "12289.11983\n",
      "==== 20.0979 ====\n",
      "10450.00141\n",
      "12289.11998\n",
      "==== 20.098 ====\n",
      "10450.00312\n",
      "12289.12013\n",
      "==== 20.0981 ====\n",
      "10450.00484\n",
      "12289.12028\n",
      "==== 20.0982 ====\n",
      "10450.00655\n",
      "12289.12043\n",
      "==== 20.0983 ====\n",
      "10450.00827\n",
      "12289.12058\n",
      "==== 20.0984 ====\n",
      "10450.00998\n",
      "12289.12073\n",
      "==== 20.0985 ====\n",
      "10450.0117\n",
      "12289.12089\n",
      "==== 20.0986 ====\n",
      "10450.01341\n",
      "12289.12104\n",
      "==== 20.0987 ====\n",
      "10450.01513\n",
      "12289.12119\n",
      "==== 20.0988 ====\n",
      "10450.01684\n",
      "12289.12134\n",
      "==== 20.0989 ====\n",
      "10450.01856\n",
      "12289.12149\n",
      "==== 20.099 ====\n",
      "10450.02027\n",
      "12289.12164\n",
      "==== 20.0991 ====\n",
      "10450.02199\n",
      "12289.1218\n",
      "==== 20.0992 ====\n",
      "10450.0237\n",
      "12289.12195\n",
      "==== 20.0993 ====\n",
      "10450.02542\n",
      "12289.1221\n",
      "==== 20.0994 ====\n",
      "10450.02713\n",
      "12289.12225\n",
      "==== 20.0995 ====\n",
      "10450.02885\n",
      "12289.1224\n",
      "==== 20.0996 ====\n",
      "10450.03056\n",
      "12289.12255\n",
      "==== 20.0997 ====\n",
      "10450.03228\n",
      "12289.1227\n"
     ]
    },
    {
     "name": "stdout",
     "output_type": "stream",
     "text": [
      "==== 20.0998 ====\n",
      "10450.03399\n",
      "12289.12286\n",
      "==== 20.0999 ====\n",
      "10450.03571\n",
      "12289.12301\n",
      "==== 20.1 ====\n",
      "10450.03742\n",
      "12289.12316\n",
      "==== 20.1001 ====\n",
      "10450.03914\n",
      "12289.12331\n",
      "==== 20.1002 ====\n",
      "10450.04085\n",
      "12289.12346\n",
      "==== 20.1003 ====\n",
      "10450.04257\n",
      "12289.12361\n",
      "==== 20.1004 ====\n",
      "10450.04428\n",
      "12289.12377\n",
      "==== 20.1005 ====\n",
      "10450.046\n",
      "12289.12392\n",
      "==== 20.1006 ====\n",
      "10450.04771\n",
      "12289.12407\n",
      "==== 20.1007 ====\n",
      "10450.04943\n",
      "12289.12422\n",
      "==== 20.1008 ====\n",
      "10450.05114\n",
      "12289.12437\n",
      "==== 20.1009 ====\n",
      "10450.05286\n",
      "12289.12452\n",
      "==== 20.101 ====\n",
      "10450.05457\n",
      "12289.12467\n",
      "==== 20.1011 ====\n",
      "10450.05629\n",
      "12289.12483\n",
      "==== 20.1012 ====\n",
      "10450.058\n",
      "12289.12498\n",
      "==== 20.1013 ====\n",
      "10450.05972\n",
      "12289.12513\n",
      "==== 20.1014 ====\n",
      "10450.06143\n",
      "12289.12528\n",
      "==== 20.1015 ====\n",
      "10450.06315\n",
      "12289.12543\n",
      "==== 20.1016 ====\n",
      "10450.06486\n",
      "12289.12558\n",
      "==== 20.1017 ====\n",
      "10450.06658\n",
      "12289.12574\n",
      "==== 20.1018 ====\n",
      "10450.06829\n",
      "12289.12589\n",
      "==== 20.1019 ====\n",
      "10450.07001\n",
      "12289.12604\n",
      "==== 20.102 ====\n",
      "10450.07172\n",
      "12289.12619\n",
      "==== 20.1021 ====\n",
      "10450.07344\n",
      "12289.12634\n",
      "==== 20.1022 ====\n",
      "10450.07515\n",
      "12289.12649\n",
      "==== 20.1023 ====\n",
      "10450.07686\n",
      "12289.12664\n",
      "==== 20.1024 ====\n",
      "10450.07858\n",
      "12289.1268\n",
      "==== 20.1025 ====\n",
      "10450.08029\n",
      "12289.12695\n",
      "==== 20.1026 ====\n",
      "10450.08201\n",
      "12289.1271\n",
      "==== 20.1027 ====\n",
      "10450.08372\n",
      "12289.12725\n",
      "==== 20.1028 ====\n",
      "10450.08544\n",
      "12289.1274\n",
      "==== 20.1029 ====\n",
      "10450.08715\n",
      "12289.12755\n",
      "==== 20.103 ====\n",
      "10450.08887\n",
      "12289.12771\n",
      "==== 20.1031 ====\n",
      "10450.09058\n",
      "12289.12786\n",
      "==== 20.1032 ====\n",
      "10450.0923\n",
      "12289.12801\n",
      "==== 20.1033 ====\n",
      "10450.09401\n",
      "12289.12816\n",
      "==== 20.1034 ====\n",
      "10450.09573\n",
      "12289.12831\n",
      "==== 20.1035 ====\n",
      "10450.09744\n",
      "12289.12846\n",
      "==== 20.1036 ====\n",
      "10450.09916\n",
      "12289.12861\n",
      "==== 20.1037 ====\n",
      "10450.10087\n",
      "12289.12877\n",
      "==== 20.1038 ====\n",
      "10450.10259\n",
      "12289.12892\n",
      "==== 20.1039 ====\n",
      "10450.1043\n",
      "12289.12907\n",
      "==== 20.104 ====\n",
      "10450.10602\n",
      "12289.12922\n",
      "==== 20.1041 ====\n",
      "10450.10773\n",
      "12289.12937\n",
      "==== 20.1042 ====\n",
      "10450.10945\n",
      "12289.12952\n",
      "==== 20.1043 ====\n",
      "10450.11116\n",
      "12289.12968\n",
      "==== 20.1044 ====\n",
      "10450.11288\n",
      "12289.12983\n",
      "==== 20.1045 ====\n",
      "10450.11459\n",
      "12289.12998\n",
      "==== 20.1046 ====\n",
      "10450.11631\n",
      "12289.13013\n",
      "==== 20.1047 ====\n",
      "10450.11802\n",
      "12289.13028\n",
      "==== 20.1048 ====\n",
      "10450.11974\n",
      "12289.13043\n",
      "==== 20.1049 ====\n",
      "10450.12145\n",
      "12289.13059\n",
      "==== 20.105 ====\n",
      "10450.12317\n",
      "12289.13074\n",
      "==== 20.1051 ====\n",
      "10450.12488\n",
      "12289.13089\n",
      "==== 20.1052 ====\n",
      "10450.1266\n",
      "12289.13104\n",
      "==== 20.1053 ====\n",
      "10450.12831\n",
      "12289.13119\n",
      "==== 20.1054 ====\n",
      "10450.13003\n",
      "12289.13134\n",
      "==== 20.1055 ====\n",
      "10450.13174\n",
      "12289.13149\n",
      "==== 20.1056 ====\n",
      "10450.13346\n",
      "12289.13165\n",
      "==== 20.1057 ====\n",
      "10450.13517\n",
      "12289.1318\n",
      "==== 20.1058 ====\n",
      "10450.13689\n",
      "12289.13195\n",
      "==== 20.1059 ====\n",
      "10450.1386\n",
      "12289.1321\n",
      "==== 20.106 ====\n",
      "10450.14032\n",
      "12289.13225\n",
      "==== 20.1061 ====\n",
      "10450.14203\n",
      "12289.1324\n",
      "==== 20.1062 ====\n",
      "10450.14375\n",
      "12289.13256\n",
      "==== 20.1063 ====\n",
      "10450.14546\n",
      "12289.13271\n",
      "==== 20.1064 ====\n",
      "10450.14718\n",
      "12289.13286\n",
      "==== 20.1065 ====\n",
      "10450.14889\n",
      "12289.13301\n",
      "==== 20.1066 ====\n",
      "10450.15061\n",
      "12289.13316\n",
      "==== 20.1067 ====\n",
      "10450.15232\n",
      "12289.13331\n",
      "==== 20.1068 ====\n",
      "10450.15404\n",
      "12289.13346\n",
      "==== 20.1069 ====\n",
      "10450.15575\n",
      "12289.13362\n",
      "==== 20.107 ====\n",
      "10450.15747\n",
      "12289.13377\n",
      "==== 20.1071 ====\n",
      "10450.15918\n",
      "12289.13392\n",
      "==== 20.1072 ====\n",
      "10450.1609\n",
      "12289.13407\n",
      "==== 20.1073 ====\n",
      "10450.16261\n",
      "12289.13422\n",
      "==== 20.1074 ====\n",
      "10450.16433\n",
      "12289.13437\n",
      "==== 20.1075 ====\n",
      "10450.16604\n",
      "12289.13453\n",
      "==== 20.1076 ====\n",
      "10450.16776\n",
      "12289.13468\n",
      "==== 20.1077 ====\n",
      "10450.16947\n",
      "12289.13483\n",
      "==== 20.1078 ====\n",
      "10450.17119\n",
      "12289.13498\n",
      "==== 20.1079 ====\n",
      "10450.1729\n",
      "12289.13513\n",
      "==== 20.108 ====\n",
      "10450.17462\n",
      "12289.13528\n",
      "==== 20.1081 ====\n",
      "10450.17633\n",
      "12289.13543\n",
      "==== 20.1082 ====\n",
      "10450.17805\n",
      "12289.13559\n",
      "==== 20.1083 ====\n",
      "10450.17976\n",
      "12289.13574\n",
      "==== 20.1084 ====\n",
      "10450.18148\n",
      "12289.13589\n",
      "==== 20.1085 ====\n",
      "10450.18319\n",
      "12289.13604\n",
      "==== 20.1086 ====\n",
      "10450.18491\n",
      "12289.13619\n",
      "==== 20.1087 ====\n",
      "10450.18662\n",
      "12289.13634\n",
      "==== 20.1088 ====\n",
      "10450.18834\n",
      "12289.1365\n",
      "==== 20.1089 ====\n",
      "10450.19005\n",
      "12289.13665\n",
      "==== 20.109 ====\n",
      "10450.19177\n",
      "12289.1368\n",
      "==== 20.1091 ====\n",
      "10450.19348\n",
      "12289.13695\n",
      "==== 20.1092 ====\n",
      "10450.1952\n",
      "12289.1371\n",
      "==== 20.1093 ====\n",
      "10450.19691\n",
      "12289.13725\n",
      "==== 20.1094 ====\n",
      "10450.19863\n",
      "12289.1374\n",
      "==== 20.1095 ====\n",
      "10450.20034\n",
      "12289.13756\n",
      "==== 20.1096 ====\n",
      "10450.20206\n",
      "12289.13771\n",
      "==== 20.1097 ====\n",
      "10450.20377\n",
      "12289.13786\n",
      "==== 20.1098 ====\n",
      "10450.20549\n",
      "12289.13801\n",
      "==== 20.1099 ====\n",
      "10450.2072\n",
      "12289.13816\n",
      "==== 20.11 ====\n",
      "10450.20892\n",
      "12289.13831\n",
      "==== 20.1101 ====\n",
      "10450.21063\n",
      "12289.13847\n",
      "==== 20.1102 ====\n",
      "10450.21235\n",
      "12289.13862\n",
      "==== 20.1103 ====\n",
      "10450.21406\n",
      "12289.13877\n",
      "==== 20.1104 ====\n",
      "10450.21578\n",
      "12289.13892\n",
      "==== 20.1105 ====\n",
      "10450.21749\n",
      "12289.13907\n",
      "==== 20.1106 ====\n",
      "10450.21921\n",
      "12289.13922\n",
      "==== 20.1107 ====\n",
      "10450.22092\n",
      "12289.13937\n",
      "==== 20.1108 ====\n",
      "10450.22264\n",
      "12289.13953\n",
      "==== 20.1109 ====\n",
      "10450.22435\n",
      "12289.13968\n",
      "==== 20.111 ====\n",
      "10450.22607\n",
      "12289.13983\n",
      "==== 20.1111 ====\n",
      "10450.22778\n",
      "12289.13998\n",
      "==== 20.1112 ====\n",
      "10450.2295\n",
      "12289.14013\n",
      "==== 20.1113 ====\n",
      "10450.23121\n",
      "12289.14028\n",
      "==== 20.1114 ====\n",
      "10450.23293\n",
      "12289.14044\n",
      "==== 20.1115 ====\n",
      "10450.23464\n",
      "12289.14059\n",
      "==== 20.1116 ====\n",
      "10450.23636\n",
      "12289.14074\n",
      "==== 20.1117 ====\n",
      "10450.23807\n",
      "12289.14089\n",
      "==== 20.1118 ====\n",
      "10450.23979\n",
      "12289.14104\n",
      "==== 20.1119 ====\n",
      "10450.2415\n",
      "12289.14119\n",
      "==== 20.112 ====\n",
      "10450.24322\n",
      "12289.14134\n",
      "==== 20.1121 ====\n",
      "10450.24493\n",
      "12289.1415\n",
      "==== 20.1122 ====\n",
      "10450.24665\n",
      "12289.14165\n",
      "==== 20.1123 ====\n",
      "10450.24836\n",
      "12289.1418\n",
      "==== 20.1124 ====\n",
      "10450.25008\n",
      "12289.14195\n",
      "==== 20.1125 ====\n",
      "10450.25179\n",
      "12289.1421\n",
      "==== 20.1126 ====\n",
      "10450.25351\n",
      "12289.14225\n",
      "==== 20.1127 ====\n",
      "10450.25522\n",
      "12289.14241\n",
      "==== 20.1128 ====\n",
      "10450.25694\n",
      "12289.14256\n",
      "==== 20.1129 ====\n",
      "10450.25865\n",
      "12289.14271\n",
      "==== 20.113 ====\n",
      "10450.26037\n",
      "12289.14286\n",
      "==== 20.1131 ====\n",
      "10450.26208\n",
      "12289.14301\n",
      "==== 20.1132 ====\n",
      "10450.2638\n",
      "12289.14316\n",
      "==== 20.1133 ====\n",
      "10450.26551\n",
      "12289.14331\n",
      "==== 20.1134 ====\n",
      "10450.26723\n",
      "12289.14347\n",
      "==== 20.1135 ====\n",
      "10450.26894\n",
      "12289.14362\n",
      "==== 20.1136 ====\n",
      "10450.27066\n",
      "12289.14377\n",
      "==== 20.1137 ====\n",
      "10450.27237\n",
      "12289.14392\n",
      "==== 20.1138 ====\n",
      "10450.27409\n",
      "12289.14407\n",
      "==== 20.1139 ====\n",
      "10450.2758\n",
      "12289.14422\n",
      "==== 20.114 ====\n",
      "10450.27751\n",
      "12289.14438\n",
      "==== 20.1141 ====\n",
      "10450.27923\n",
      "12289.14453\n",
      "==== 20.1142 ====\n",
      "10450.28094\n",
      "12289.14468\n",
      "==== 20.1143 ====\n",
      "10450.28266\n",
      "12289.14483\n",
      "==== 20.1144 ====\n",
      "10450.28437\n",
      "12289.14498\n",
      "==== 20.1145 ====\n",
      "10450.28609\n",
      "12289.14513\n",
      "==== 20.1146 ====\n",
      "10450.2878\n",
      "12289.14529\n",
      "==== 20.1147 ====\n",
      "10450.28952\n",
      "12289.14544\n",
      "==== 20.1148 ====\n",
      "10450.29123\n",
      "12289.14559\n",
      "==== 20.1149 ====\n",
      "10450.29295\n",
      "12289.14574\n",
      "==== 20.115 ====\n",
      "10450.29466\n",
      "12289.14589\n",
      "==== 20.1151 ====\n",
      "10450.29638\n",
      "12289.14604\n",
      "==== 20.1152 ====\n",
      "10450.29809\n",
      "12289.14619\n",
      "==== 20.1153 ====\n",
      "10450.29981\n",
      "12289.14635\n",
      "==== 20.1154 ====\n",
      "10450.30152\n",
      "12289.1465\n",
      "==== 20.1155 ====\n",
      "10450.30324\n",
      "12289.14665\n",
      "==== 20.1156 ====\n",
      "10450.30495\n",
      "12289.1468\n",
      "==== 20.1157 ====\n",
      "10450.30667\n",
      "12289.14695\n",
      "==== 20.1158 ====\n",
      "10450.30838\n",
      "12289.1471\n",
      "==== 20.1159 ====\n",
      "10450.3101\n",
      "12289.14726\n",
      "==== 20.116 ====\n",
      "10450.31181\n",
      "12289.14741\n",
      "==== 20.1161 ====\n",
      "10450.31353\n",
      "12289.14756\n",
      "==== 20.1162 ====\n",
      "10450.31524\n",
      "12289.14771\n",
      "==== 20.1163 ====\n",
      "10450.31696\n",
      "12289.14786\n",
      "==== 20.1164 ====\n",
      "10450.31867\n",
      "12289.14801\n",
      "==== 20.1165 ====\n",
      "10450.32039\n",
      "12289.14816\n",
      "==== 20.1166 ====\n",
      "10450.3221\n",
      "12289.14832\n",
      "==== 20.1167 ====\n",
      "10450.32382\n",
      "12289.14847\n",
      "==== 20.1168 ====\n",
      "10450.32553\n",
      "12289.14862\n",
      "==== 20.1169 ====\n",
      "10450.32725\n",
      "12289.14877\n",
      "==== 20.117 ====\n",
      "10450.32896\n",
      "12289.14892\n",
      "==== 20.1171 ====\n",
      "10450.33068\n",
      "12289.14907\n",
      "==== 20.1172 ====\n",
      "10450.33239\n",
      "12289.14923\n",
      "==== 20.1173 ====\n",
      "10450.33411\n",
      "12289.14938\n",
      "==== 20.1174 ====\n",
      "10450.33582\n",
      "12289.14953\n",
      "==== 20.1175 ====\n",
      "10450.33754\n",
      "12289.14968\n",
      "==== 20.1176 ====\n",
      "10450.33925\n",
      "12289.14983\n",
      "==== 20.1177 ====\n",
      "10450.34097\n",
      "12289.14998\n",
      "==== 20.1178 ====\n",
      "10450.34268\n",
      "12289.15013\n",
      "==== 20.1179 ====\n",
      "10450.3444\n",
      "12289.15029\n",
      "==== 20.118 ====\n",
      "10450.34611\n",
      "12289.15044\n",
      "==== 20.1181 ====\n",
      "10450.34783\n",
      "12289.15059\n",
      "==== 20.1182 ====\n",
      "10450.34954\n",
      "12289.15074\n",
      "==== 20.1183 ====\n",
      "10450.35126\n",
      "12289.15089\n",
      "==== 20.1184 ====\n",
      "10450.35297\n",
      "12289.15104\n",
      "==== 20.1185 ====\n",
      "10450.35469\n",
      "12289.1512\n",
      "==== 20.1186 ====\n",
      "10450.3564\n",
      "12289.15135\n",
      "==== 20.1187 ====\n",
      "10450.35812\n",
      "12289.1515\n",
      "==== 20.1188 ====\n",
      "10450.35983\n",
      "12289.15165\n",
      "==== 20.1189 ====\n",
      "10450.36155\n",
      "12289.1518\n",
      "==== 20.119 ====\n",
      "10450.36326\n",
      "12289.15195\n",
      "==== 20.1191 ====\n",
      "10450.36498\n",
      "12289.1521\n",
      "==== 20.1192 ====\n",
      "10450.36669\n",
      "12289.15226\n",
      "==== 20.1193 ====\n",
      "10450.36841\n",
      "12289.15241\n",
      "==== 20.1194 ====\n",
      "10450.37012\n",
      "12289.15256\n"
     ]
    },
    {
     "name": "stdout",
     "output_type": "stream",
     "text": [
      "==== 20.1195 ====\n",
      "10450.37184\n",
      "12289.15271\n",
      "==== 20.1196 ====\n",
      "10450.37355\n",
      "12289.15286\n",
      "==== 20.1197 ====\n",
      "10450.37527\n",
      "12289.15301\n",
      "==== 20.1198 ====\n",
      "10450.37698\n",
      "12289.15317\n",
      "==== 20.1199 ====\n",
      "10450.3787\n",
      "12289.15332\n",
      "==== 20.12 ====\n",
      "10450.38041\n",
      "12289.15347\n",
      "==== 20.1201 ====\n",
      "10450.38213\n",
      "12289.15362\n",
      "==== 20.1202 ====\n",
      "10450.38384\n",
      "12289.15377\n",
      "==== 20.1203 ====\n",
      "10450.38556\n",
      "12289.15392\n",
      "==== 20.1204 ====\n",
      "10450.38727\n",
      "12289.15407\n",
      "==== 20.1205 ====\n",
      "10450.38899\n",
      "12289.15423\n",
      "==== 20.1206 ====\n",
      "10450.3907\n",
      "12289.15438\n",
      "==== 20.1207 ====\n",
      "10450.39242\n",
      "12289.15453\n",
      "==== 20.1208 ====\n",
      "10450.39413\n",
      "12289.15468\n",
      "==== 20.1209 ====\n",
      "10450.39585\n",
      "12289.15483\n",
      "==== 20.121 ====\n",
      "10450.39756\n",
      "12289.15498\n",
      "==== 20.1211 ====\n",
      "10450.39928\n",
      "12289.15514\n",
      "==== 20.1212 ====\n",
      "10450.40099\n",
      "12289.15529\n",
      "==== 20.1213 ====\n",
      "10450.40271\n",
      "12289.15544\n",
      "==== 20.1214 ====\n",
      "10450.40442\n",
      "12289.15559\n",
      "==== 20.1215 ====\n",
      "10450.40614\n",
      "12289.15574\n",
      "==== 20.1216 ====\n",
      "10450.40785\n",
      "12289.15589\n",
      "==== 20.1217 ====\n",
      "10450.40957\n",
      "12289.15604\n",
      "==== 20.1218 ====\n",
      "10450.41128\n",
      "12289.1562\n",
      "==== 20.1219 ====\n",
      "10450.413\n",
      "12289.15635\n",
      "==== 20.122 ====\n",
      "10450.41471\n",
      "12289.1565\n",
      "==== 20.1221 ====\n",
      "10450.41643\n",
      "12289.15665\n",
      "==== 20.1222 ====\n",
      "10450.41814\n",
      "12289.1568\n",
      "==== 20.1223 ====\n",
      "10450.41986\n",
      "12289.15695\n",
      "==== 20.1224 ====\n",
      "10450.42157\n",
      "12289.15711\n",
      "==== 20.1225 ====\n",
      "10450.42329\n",
      "12289.15726\n",
      "==== 20.1226 ====\n",
      "10450.425\n",
      "12289.15741\n",
      "==== 20.1227 ====\n",
      "10450.42672\n",
      "12289.15756\n",
      "==== 20.1228 ====\n",
      "10450.42843\n",
      "12289.15771\n",
      "==== 20.1229 ====\n",
      "10450.43015\n",
      "12289.15786\n",
      "==== 20.123 ====\n",
      "10450.43186\n",
      "12289.15801\n",
      "==== 20.1231 ====\n",
      "10450.43358\n",
      "12289.15817\n",
      "==== 20.1232 ====\n",
      "10450.43529\n",
      "12289.15832\n",
      "==== 20.1233 ====\n",
      "10450.43701\n",
      "12289.15847\n",
      "==== 20.1234 ====\n",
      "10450.43872\n",
      "12289.15862\n",
      "==== 20.1235 ====\n",
      "10450.44044\n",
      "12289.15877\n",
      "==== 20.1236 ====\n",
      "10450.44215\n",
      "12289.15892\n",
      "==== 20.1237 ====\n",
      "10450.44387\n",
      "12289.15908\n",
      "==== 20.1238 ====\n",
      "10450.44558\n",
      "12289.15923\n",
      "==== 20.1239 ====\n",
      "10450.4473\n",
      "12289.15938\n",
      "==== 20.124 ====\n",
      "10450.44901\n",
      "12289.15953\n",
      "==== 20.1241 ====\n",
      "10450.45073\n",
      "12289.15968\n",
      "==== 20.1242 ====\n",
      "10450.45244\n",
      "12289.15983\n",
      "==== 20.1243 ====\n",
      "10450.45416\n",
      "12289.15999\n",
      "==== 20.1244 ====\n",
      "10450.45587\n",
      "12289.16014\n",
      "==== 20.1245 ====\n",
      "10450.45759\n",
      "12289.16029\n",
      "==== 20.1246 ====\n",
      "10450.4593\n",
      "12289.16044\n",
      "==== 20.1247 ====\n",
      "10450.46102\n",
      "12289.16059\n",
      "==== 20.1248 ====\n",
      "10450.46273\n",
      "12289.16074\n",
      "==== 20.1249 ====\n",
      "10450.46445\n",
      "12289.16089\n",
      "==== 20.125 ====\n",
      "10450.46616\n",
      "12289.16105\n",
      "==== 20.1251 ====\n",
      "10450.46788\n",
      "12289.1612\n",
      "==== 20.1252 ====\n",
      "10450.46959\n",
      "12289.16135\n",
      "==== 20.1253 ====\n",
      "10450.47131\n",
      "12289.1615\n",
      "==== 20.1254 ====\n",
      "10450.47302\n",
      "12289.16165\n",
      "==== 20.1255 ====\n",
      "10450.47474\n",
      "12289.1618\n",
      "==== 20.1256 ====\n",
      "10450.47645\n",
      "12289.16196\n",
      "==== 20.1257 ====\n",
      "10450.47817\n",
      "12289.16211\n",
      "==== 20.1258 ====\n",
      "10450.47988\n",
      "12289.16226\n",
      "==== 20.1259 ====\n",
      "10450.48159\n",
      "12289.16241\n",
      "==== 20.126 ====\n",
      "10450.48331\n",
      "12289.16256\n",
      "==== 20.1261 ====\n",
      "10450.48502\n",
      "12289.16271\n",
      "==== 20.1262 ====\n",
      "10450.48674\n",
      "12289.16286\n",
      "==== 20.1263 ====\n",
      "10450.48845\n",
      "12289.16302\n",
      "==== 20.1264 ====\n",
      "10450.49017\n",
      "12289.16317\n",
      "==== 20.1265 ====\n",
      "10450.49188\n",
      "12289.16332\n",
      "==== 20.1266 ====\n",
      "10450.4936\n",
      "12289.16347\n",
      "==== 20.1267 ====\n",
      "10450.49531\n",
      "12289.16362\n",
      "==== 20.1268 ====\n",
      "10450.49703\n",
      "12289.16377\n",
      "==== 20.1269 ====\n",
      "10450.49874\n",
      "12289.16393\n",
      "==== 20.127 ====\n",
      "10450.50046\n",
      "12289.16408\n",
      "==== 20.1271 ====\n",
      "10450.50217\n",
      "12289.16423\n",
      "==== 20.1272 ====\n",
      "10450.50389\n",
      "12289.16438\n",
      "==== 20.1273 ====\n",
      "10450.5056\n",
      "12289.16453\n",
      "==== 20.1274 ====\n",
      "10450.50732\n",
      "12289.16468\n",
      "==== 20.1275 ====\n",
      "10450.50903\n",
      "12289.16483\n",
      "==== 20.1276 ====\n",
      "10450.51075\n",
      "12289.16499\n",
      "==== 20.1277 ====\n",
      "10450.51246\n",
      "12289.16514\n",
      "==== 20.1278 ====\n",
      "10450.51418\n",
      "12289.16529\n",
      "==== 20.1279 ====\n",
      "10450.51589\n",
      "12289.16544\n",
      "==== 20.128 ====\n",
      "10450.51761\n",
      "12289.16559\n",
      "==== 20.1281 ====\n",
      "10450.51932\n",
      "12289.16574\n",
      "==== 20.1282 ====\n",
      "10450.52104\n",
      "12289.1659\n",
      "==== 20.1283 ====\n",
      "10450.52275\n",
      "12289.16605\n",
      "==== 20.1284 ====\n",
      "10450.52447\n",
      "12289.1662\n",
      "==== 20.1285 ====\n",
      "10450.52618\n",
      "12289.16635\n",
      "==== 20.1286 ====\n",
      "10450.5279\n",
      "12289.1665\n",
      "==== 20.1287 ====\n",
      "10450.52961\n",
      "12289.16665\n",
      "==== 20.1288 ====\n",
      "10450.53133\n",
      "12289.1668\n",
      "==== 20.1289 ====\n",
      "10450.53304\n",
      "12289.16696\n",
      "==== 20.129 ====\n",
      "10450.53476\n",
      "12289.16711\n",
      "==== 20.1291 ====\n",
      "10450.53647\n",
      "12289.16726\n",
      "==== 20.1292 ====\n",
      "10450.53819\n",
      "12289.16741\n",
      "==== 20.1293 ====\n",
      "10450.5399\n",
      "12289.16756\n",
      "==== 20.1294 ====\n",
      "10450.54162\n",
      "12289.16771\n",
      "==== 20.1295 ====\n",
      "10450.54333\n",
      "12289.16787\n",
      "==== 20.1296 ====\n",
      "10450.54505\n",
      "12289.16802\n",
      "==== 20.1297 ====\n",
      "10450.54676\n",
      "12289.16817\n",
      "==== 20.1298 ====\n",
      "10450.54848\n",
      "12289.16832\n",
      "==== 20.1299 ====\n",
      "10450.55019\n",
      "12289.16847\n",
      "==== 20.13 ====\n",
      "10450.55191\n",
      "12289.16862\n",
      "==== 20.1301 ====\n",
      "10450.55362\n",
      "12289.16877\n",
      "==== 20.1302 ====\n",
      "10450.55534\n",
      "12289.16893\n",
      "==== 20.1303 ====\n",
      "10450.55705\n",
      "12289.16908\n",
      "==== 20.1304 ====\n",
      "10450.55877\n",
      "12289.16923\n",
      "==== 20.1305 ====\n",
      "10450.56048\n",
      "12289.16938\n",
      "==== 20.1306 ====\n",
      "10450.5622\n",
      "12289.16953\n",
      "==== 20.1307 ====\n",
      "10450.56391\n",
      "12289.16968\n",
      "==== 20.1308 ====\n",
      "10450.56563\n",
      "12289.16984\n",
      "==== 20.1309 ====\n",
      "10450.56734\n",
      "12289.16999\n",
      "==== 20.131 ====\n",
      "10450.56906\n",
      "12289.17014\n",
      "==== 20.1311 ====\n",
      "10450.57077\n",
      "12289.17029\n",
      "==== 20.1312 ====\n",
      "10450.57249\n",
      "12289.17044\n",
      "==== 20.1313 ====\n",
      "10450.5742\n",
      "12289.17059\n",
      "==== 20.1314 ====\n",
      "10450.57592\n",
      "12289.17074\n",
      "==== 20.1315 ====\n",
      "10450.57763\n",
      "12289.1709\n",
      "==== 20.1316 ====\n",
      "10450.57935\n",
      "12289.17105\n",
      "==== 20.1317 ====\n",
      "10450.58106\n",
      "12289.1712\n",
      "==== 20.1318 ====\n",
      "10450.58278\n",
      "12289.17135\n",
      "==== 20.1319 ====\n",
      "10450.58449\n",
      "12289.1715\n",
      "==== 20.132 ====\n",
      "10450.58621\n",
      "12289.17165\n",
      "==== 20.1321 ====\n",
      "10450.58792\n",
      "12289.17181\n",
      "==== 20.1322 ====\n",
      "10450.58964\n",
      "12289.17196\n",
      "==== 20.1323 ====\n",
      "10450.59135\n",
      "12289.17211\n",
      "==== 20.1324 ====\n",
      "10450.59307\n",
      "12289.17226\n",
      "==== 20.1325 ====\n",
      "10450.59478\n",
      "12289.17241\n",
      "==== 20.1326 ====\n",
      "10450.5965\n",
      "12289.17256\n",
      "==== 20.1327 ====\n",
      "10450.59821\n",
      "12289.17271\n",
      "==== 20.1328 ====\n",
      "10450.59993\n",
      "12289.17287\n",
      "==== 20.1329 ====\n",
      "10450.60164\n",
      "12289.17302\n",
      "==== 20.133 ====\n",
      "10450.60336\n",
      "12289.17317\n",
      "==== 20.1331 ====\n",
      "10450.60507\n",
      "12289.17332\n",
      "==== 20.1332 ====\n",
      "10450.60679\n",
      "12289.17347\n",
      "==== 20.1333 ====\n",
      "10450.6085\n",
      "12289.17362\n",
      "==== 20.1334 ====\n",
      "10450.61022\n",
      "12289.17378\n",
      "==== 20.1335 ====\n",
      "10450.61193\n",
      "12289.17393\n",
      "==== 20.1336 ====\n",
      "10450.61365\n",
      "12289.17408\n",
      "==== 20.1337 ====\n",
      "10450.61536\n",
      "12289.17423\n",
      "==== 20.1338 ====\n",
      "10450.61708\n",
      "12289.17438\n",
      "==== 20.1339 ====\n",
      "10450.61879\n",
      "12289.17453\n",
      "==== 20.134 ====\n",
      "10450.62051\n",
      "12289.17469\n",
      "==== 20.1341 ====\n",
      "10450.62222\n",
      "12289.17484\n",
      "==== 20.1342 ====\n",
      "10450.62394\n",
      "12289.17499\n",
      "==== 20.1343 ====\n",
      "10450.62565\n",
      "12289.17514\n",
      "==== 20.1344 ====\n",
      "10450.62737\n",
      "12289.17529\n",
      "==== 20.1345 ====\n",
      "10450.62908\n",
      "12289.17544\n",
      "==== 20.1346 ====\n",
      "10450.6308\n",
      "12289.17559\n",
      "==== 20.1347 ====\n",
      "10450.63251\n",
      "12289.17575\n",
      "==== 20.1348 ====\n",
      "10450.63423\n",
      "12289.1759\n",
      "==== 20.1349 ====\n",
      "10450.63594\n",
      "12289.17605\n",
      "==== 20.135 ====\n",
      "10450.63766\n",
      "12289.1762\n",
      "==== 20.1351 ====\n",
      "10450.63937\n",
      "12289.17635\n",
      "==== 20.1352 ====\n",
      "10450.64109\n",
      "12289.1765\n",
      "==== 20.1353 ====\n",
      "10450.6428\n",
      "12289.17666\n",
      "==== 20.1354 ====\n",
      "10450.64452\n",
      "12289.17681\n",
      "==== 20.1355 ====\n",
      "10450.64623\n",
      "12289.17696\n",
      "==== 20.1356 ====\n",
      "10450.64795\n",
      "12289.17711\n",
      "==== 20.1357 ====\n",
      "10450.64966\n",
      "12289.17726\n",
      "==== 20.1358 ====\n",
      "10450.65138\n",
      "12289.17741\n",
      "==== 20.1359 ====\n",
      "10450.65309\n",
      "12289.17756\n",
      "==== 20.136 ====\n",
      "10450.65481\n",
      "12289.17772\n",
      "==== 20.1361 ====\n",
      "10450.65652\n",
      "12289.17787\n",
      "==== 20.1362 ====\n",
      "10450.65824\n",
      "12289.17802\n",
      "==== 20.1363 ====\n",
      "10450.65995\n",
      "12289.17817\n",
      "==== 20.1364 ====\n",
      "10450.66167\n",
      "12289.17832\n",
      "==== 20.1365 ====\n",
      "10450.66338\n",
      "12289.17847\n",
      "==== 20.1366 ====\n",
      "10450.6651\n",
      "12289.17863\n",
      "==== 20.1367 ====\n",
      "10450.66681\n",
      "12289.17878\n",
      "==== 20.1368 ====\n",
      "10450.66853\n",
      "12289.17893\n",
      "==== 20.1369 ====\n",
      "10450.67024\n",
      "12289.17908\n",
      "==== 20.137 ====\n",
      "10450.67196\n",
      "12289.17923\n",
      "==== 20.1371 ====\n",
      "10450.67367\n",
      "12289.17938\n",
      "==== 20.1372 ====\n",
      "10450.67539\n",
      "12289.17953\n",
      "==== 20.1373 ====\n",
      "10450.6771\n",
      "12289.17969\n",
      "==== 20.1374 ====\n",
      "10450.67882\n",
      "12289.17984\n",
      "==== 20.1375 ====\n",
      "10450.68053\n",
      "12289.17999\n",
      "==== 20.1376 ====\n",
      "10450.68225\n",
      "12289.18014\n",
      "==== 20.1377 ====\n",
      "10450.68396\n",
      "12289.18029\n",
      "==== 20.1378 ====\n",
      "10450.68567\n",
      "12289.18044\n",
      "==== 20.1379 ====\n",
      "10450.68739\n",
      "12289.1806\n",
      "==== 20.138 ====\n",
      "10450.6891\n",
      "12289.18075\n",
      "==== 20.1381 ====\n",
      "10450.69082\n",
      "12289.1809\n",
      "==== 20.1382 ====\n",
      "10450.69253\n",
      "12289.18105\n",
      "==== 20.1383 ====\n",
      "10450.69425\n",
      "12289.1812\n",
      "==== 20.1384 ====\n",
      "10450.69596\n",
      "12289.18135\n",
      "==== 20.1385 ====\n",
      "10450.69768\n",
      "12289.1815\n",
      "==== 20.1386 ====\n",
      "10450.69939\n",
      "12289.18166\n",
      "==== 20.1387 ====\n",
      "10450.70111\n",
      "12289.18181\n",
      "==== 20.1388 ====\n",
      "10450.70282\n",
      "12289.18196\n",
      "==== 20.1389 ====\n",
      "10450.70454\n",
      "12289.18211\n",
      "==== 20.139 ====\n",
      "10450.70625\n",
      "12289.18226\n",
      "==== 20.1391 ====\n",
      "10450.70797\n",
      "12289.18241\n",
      "==== 20.1392 ====\n",
      "10450.70968\n",
      "12289.18257\n",
      "==== 20.1393 ====\n",
      "10450.7114\n",
      "12289.18272\n"
     ]
    },
    {
     "name": "stdout",
     "output_type": "stream",
     "text": [
      "==== 20.1394 ====\n",
      "10450.71311\n",
      "12289.18287\n",
      "==== 20.1395 ====\n",
      "10450.71483\n",
      "12289.18302\n",
      "==== 20.1396 ====\n",
      "10450.71654\n",
      "12289.18317\n",
      "==== 20.1397 ====\n",
      "10450.71826\n",
      "12289.18332\n",
      "==== 20.1398 ====\n",
      "10450.71997\n",
      "12289.18347\n",
      "==== 20.1399 ====\n",
      "10450.72169\n",
      "12289.18363\n",
      "==== 20.14 ====\n",
      "10450.7234\n",
      "12289.18378\n",
      "==== 20.1401 ====\n",
      "10450.72512\n",
      "12289.18393\n",
      "==== 20.1402 ====\n",
      "10450.72683\n",
      "12289.18408\n",
      "==== 20.1403 ====\n",
      "10450.72855\n",
      "12289.18423\n",
      "==== 20.1404 ====\n",
      "10450.73026\n",
      "12289.18438\n",
      "==== 20.1405 ====\n",
      "10450.73198\n",
      "12289.18454\n",
      "==== 20.1406 ====\n",
      "10450.73369\n",
      "12289.18469\n",
      "==== 20.1407 ====\n",
      "10450.73541\n",
      "12289.18484\n",
      "==== 20.1408 ====\n",
      "10450.73712\n",
      "12289.18499\n",
      "==== 20.1409 ====\n",
      "10450.73884\n",
      "12289.18514\n",
      "==== 20.141 ====\n",
      "10450.74055\n",
      "12289.18529\n",
      "==== 20.1411 ====\n",
      "10450.74227\n",
      "12289.18544\n",
      "==== 20.1412 ====\n",
      "10450.74398\n",
      "12289.1856\n",
      "==== 20.1413 ====\n",
      "10450.7457\n",
      "12289.18575\n",
      "==== 20.1414 ====\n",
      "10450.74741\n",
      "12289.1859\n",
      "==== 20.1415 ====\n",
      "10450.74913\n",
      "12289.18605\n",
      "==== 20.1416 ====\n",
      "10450.75084\n",
      "12289.1862\n",
      "==== 20.1417 ====\n",
      "10450.75256\n",
      "12289.18635\n",
      "==== 20.1418 ====\n",
      "10450.75427\n",
      "12289.18651\n",
      "==== 20.1419 ====\n",
      "10450.75599\n",
      "12289.18666\n",
      "==== 20.142 ====\n",
      "10450.7577\n",
      "12289.18681\n",
      "==== 20.1421 ====\n",
      "10450.75942\n",
      "12289.18696\n",
      "==== 20.1422 ====\n",
      "10450.76113\n",
      "12289.18711\n",
      "==== 20.1423 ====\n",
      "10450.76285\n",
      "12289.18726\n",
      "==== 20.1424 ====\n",
      "10450.76456\n",
      "12289.18741\n",
      "==== 20.1425 ====\n",
      "10450.76628\n",
      "12289.18757\n",
      "==== 20.1426 ====\n",
      "10450.76799\n",
      "12289.18772\n",
      "==== 20.1427 ====\n",
      "10450.76971\n",
      "12289.18787\n",
      "==== 20.1428 ====\n",
      "10450.77142\n",
      "12289.18802\n",
      "==== 20.1429 ====\n",
      "10450.77314\n",
      "12289.18817\n",
      "==== 20.143 ====\n",
      "10450.77485\n",
      "12289.18832\n",
      "==== 20.1431 ====\n",
      "10450.77657\n",
      "12289.18848\n",
      "==== 20.1432 ====\n",
      "10450.77828\n",
      "12289.18863\n",
      "==== 20.1433 ====\n",
      "10450.78\n",
      "12289.18878\n",
      "==== 20.1434 ====\n",
      "10450.78171\n",
      "12289.18893\n",
      "==== 20.1435 ====\n",
      "10450.78343\n",
      "12289.18908\n",
      "==== 20.1436 ====\n",
      "10450.78514\n",
      "12289.18923\n",
      "==== 20.1437 ====\n",
      "10450.78686\n",
      "12289.18939\n",
      "==== 20.1438 ====\n",
      "10450.78857\n",
      "12289.18954\n",
      "==== 20.1439 ====\n",
      "10450.79029\n",
      "12289.18969\n",
      "==== 20.144 ====\n",
      "10450.792\n",
      "12289.18984\n",
      "==== 20.1441 ====\n",
      "10450.79372\n",
      "12289.18999\n",
      "==== 20.1442 ====\n",
      "10450.79543\n",
      "12289.19014\n",
      "==== 20.1443 ====\n",
      "10450.79715\n",
      "12289.19029\n",
      "==== 20.1444 ====\n",
      "10450.79886\n",
      "12289.19045\n",
      "==== 20.1445 ====\n",
      "10450.80058\n",
      "12289.1906\n",
      "==== 20.1446 ====\n",
      "10450.80229\n",
      "12289.19075\n",
      "==== 20.1447 ====\n",
      "10450.80401\n",
      "12289.1909\n",
      "==== 20.1448 ====\n",
      "10450.80572\n",
      "12289.19105\n",
      "==== 20.1449 ====\n",
      "10450.80744\n",
      "12289.1912\n",
      "==== 20.145 ====\n",
      "10450.80915\n",
      "12289.19136\n",
      "==== 20.1451 ====\n",
      "10450.81087\n",
      "12289.19151\n",
      "==== 20.1452 ====\n",
      "10450.81258\n",
      "12289.19166\n",
      "==== 20.1453 ====\n",
      "10450.8143\n",
      "12289.19181\n",
      "==== 20.1454 ====\n",
      "10450.81601\n",
      "12289.19196\n",
      "==== 20.1455 ====\n",
      "10450.81773\n",
      "12289.19211\n",
      "==== 20.1456 ====\n",
      "10450.81944\n",
      "12289.19226\n",
      "==== 20.1457 ====\n",
      "10450.82116\n",
      "12289.19242\n",
      "==== 20.1458 ====\n",
      "10450.82287\n",
      "12289.19257\n",
      "==== 20.1459 ====\n",
      "10450.82459\n",
      "12289.19272\n",
      "==== 20.146 ====\n",
      "10450.8263\n",
      "12289.19287\n",
      "==== 20.1461 ====\n",
      "10450.82802\n",
      "12289.19302\n",
      "==== 20.1462 ====\n",
      "10450.82973\n",
      "12289.19317\n",
      "==== 20.1463 ====\n",
      "10450.83145\n",
      "12289.19333\n",
      "==== 20.1464 ====\n",
      "10450.83316\n",
      "12289.19348\n",
      "==== 20.1465 ====\n",
      "10450.83488\n",
      "12289.19363\n",
      "==== 20.1466 ====\n",
      "10450.83659\n",
      "12289.19378\n",
      "==== 20.1467 ====\n",
      "10450.83831\n",
      "12289.19393\n",
      "==== 20.1468 ====\n",
      "10450.84002\n",
      "12289.19408\n",
      "==== 20.1469 ====\n",
      "10450.84174\n",
      "12289.19423\n",
      "==== 20.147 ====\n",
      "10450.84345\n",
      "12289.19439\n",
      "==== 20.1471 ====\n",
      "10450.84517\n",
      "12289.19454\n",
      "==== 20.1472 ====\n",
      "10450.84688\n",
      "12289.19469\n",
      "==== 20.1473 ====\n",
      "10450.8486\n",
      "12289.19484\n",
      "==== 20.1474 ====\n",
      "10450.85031\n",
      "12289.19499\n",
      "==== 20.1475 ====\n",
      "10450.85203\n",
      "12289.19514\n",
      "==== 20.1476 ====\n",
      "10450.85374\n",
      "12289.1953\n",
      "==== 20.1477 ====\n",
      "10450.85546\n",
      "12289.19545\n",
      "==== 20.1478 ====\n",
      "10450.85717\n",
      "12289.1956\n",
      "==== 20.1479 ====\n",
      "10450.85889\n",
      "12289.19575\n",
      "==== 20.148 ====\n",
      "10450.8606\n",
      "12289.1959\n",
      "==== 20.1481 ====\n",
      "10450.86232\n",
      "12289.19605\n",
      "==== 20.1482 ====\n",
      "10450.86403\n",
      "12289.1962\n",
      "==== 20.1483 ====\n",
      "10450.86575\n",
      "12289.19636\n",
      "==== 20.1484 ====\n",
      "10450.86746\n",
      "12289.19651\n",
      "==== 20.1485 ====\n",
      "10450.86918\n",
      "12289.19666\n",
      "==== 20.1486 ====\n",
      "10450.87089\n",
      "12289.19681\n",
      "==== 20.1487 ====\n",
      "10450.87261\n",
      "12289.19696\n",
      "==== 20.1488 ====\n",
      "10450.87432\n",
      "12289.19711\n",
      "==== 20.1489 ====\n",
      "10450.87604\n",
      "12289.19727\n",
      "==== 20.149 ====\n",
      "10450.87775\n",
      "12289.19742\n",
      "==== 20.1491 ====\n",
      "10450.87947\n",
      "12289.19757\n",
      "==== 20.1492 ====\n",
      "10450.88118\n",
      "12289.19772\n",
      "==== 20.1493 ====\n",
      "10450.8829\n",
      "12289.19787\n",
      "==== 20.1494 ====\n",
      "10450.88461\n",
      "12289.19802\n",
      "==== 20.1495 ====\n",
      "10450.88633\n",
      "12289.19817\n",
      "==== 20.1496 ====\n",
      "10450.88804\n",
      "12289.19833\n",
      "==== 20.1497 ====\n",
      "10450.88976\n",
      "12289.19848\n",
      "==== 20.1498 ====\n",
      "10450.89147\n",
      "12289.19863\n",
      "==== 20.1499 ====\n",
      "10450.89318\n",
      "12289.19878\n",
      "==== 20.15 ====\n",
      "10450.8949\n",
      "12289.19893\n",
      "==== 20.1501 ====\n",
      "10450.89661\n",
      "12289.19908\n",
      "==== 20.1502 ====\n",
      "10450.89833\n",
      "12289.19924\n",
      "==== 20.1503 ====\n",
      "10450.90004\n",
      "12289.19939\n",
      "==== 20.1504 ====\n",
      "10450.90176\n",
      "12289.19954\n",
      "==== 20.1505 ====\n",
      "10450.90347\n",
      "12289.19969\n",
      "==== 20.1506 ====\n",
      "10450.90519\n",
      "12289.19984\n",
      "==== 20.1507 ====\n",
      "10450.9069\n",
      "12289.19999\n",
      "==== 20.1508 ====\n",
      "10450.90862\n",
      "12289.20014\n",
      "==== 20.1509 ====\n",
      "10450.91033\n",
      "12289.2003\n",
      "==== 20.151 ====\n",
      "10450.91205\n",
      "12289.20045\n",
      "==== 20.1511 ====\n",
      "10450.91376\n",
      "12289.2006\n",
      "==== 20.1512 ====\n",
      "10450.91548\n",
      "12289.20075\n",
      "==== 20.1513 ====\n",
      "10450.91719\n",
      "12289.2009\n",
      "==== 20.1514 ====\n",
      "10450.91891\n",
      "12289.20105\n",
      "==== 20.1515 ====\n",
      "10450.92062\n",
      "12289.20121\n",
      "==== 20.1516 ====\n",
      "10450.92234\n",
      "12289.20136\n",
      "==== 20.1517 ====\n",
      "10450.92405\n",
      "12289.20151\n",
      "==== 20.1518 ====\n",
      "10450.92577\n",
      "12289.20166\n",
      "==== 20.1519 ====\n",
      "10450.92748\n",
      "12289.20181\n",
      "==== 20.152 ====\n",
      "10450.9292\n",
      "12289.20196\n",
      "==== 20.1521 ====\n",
      "10450.93091\n",
      "12289.20212\n",
      "==== 20.1522 ====\n",
      "10450.93263\n",
      "12289.20227\n",
      "==== 20.1523 ====\n",
      "10450.93434\n",
      "12289.20242\n",
      "==== 20.1524 ====\n",
      "10450.93606\n",
      "12289.20257\n",
      "==== 20.1525 ====\n",
      "10450.93777\n",
      "12289.20272\n",
      "==== 20.1526 ====\n",
      "10450.93949\n",
      "12289.20287\n",
      "==== 20.1527 ====\n",
      "10450.9412\n",
      "12289.20302\n",
      "==== 20.1528 ====\n",
      "10450.94292\n",
      "12289.20318\n",
      "==== 20.1529 ====\n",
      "10450.94463\n",
      "12289.20333\n",
      "==== 20.153 ====\n",
      "10450.94635\n",
      "12289.20348\n",
      "==== 20.1531 ====\n",
      "10450.94806\n",
      "12289.20363\n",
      "==== 20.1532 ====\n",
      "10450.94978\n",
      "12289.20378\n",
      "==== 20.1533 ====\n",
      "10450.95149\n",
      "12289.20393\n",
      "==== 20.1534 ====\n",
      "10450.95321\n",
      "12289.20409\n",
      "==== 20.1535 ====\n",
      "10450.95492\n",
      "12289.20424\n",
      "==== 20.1536 ====\n",
      "10450.95664\n",
      "12289.20439\n",
      "==== 20.1537 ====\n",
      "10450.95835\n",
      "12289.20454\n",
      "==== 20.1538 ====\n",
      "10450.96007\n",
      "12289.20469\n",
      "==== 20.1539 ====\n",
      "10450.96178\n",
      "12289.20484\n",
      "==== 20.154 ====\n",
      "10450.9635\n",
      "12289.20499\n",
      "==== 20.1541 ====\n",
      "10450.96521\n",
      "12289.20515\n",
      "==== 20.1542 ====\n",
      "10450.96693\n",
      "12289.2053\n",
      "==== 20.1543 ====\n",
      "10450.96864\n",
      "12289.20545\n",
      "==== 20.1544 ====\n",
      "10450.97036\n",
      "12289.2056\n",
      "==== 20.1545 ====\n",
      "10450.97207\n",
      "12289.20575\n",
      "==== 20.1546 ====\n",
      "10450.97379\n",
      "12289.2059\n",
      "==== 20.1547 ====\n",
      "10450.9755\n",
      "12289.20606\n",
      "==== 20.1548 ====\n",
      "10450.97722\n",
      "12289.20621\n",
      "==== 20.1549 ====\n",
      "10450.97893\n",
      "12289.20636\n",
      "==== 20.155 ====\n",
      "10450.98065\n",
      "12289.20651\n",
      "==== 20.1551 ====\n",
      "10450.98236\n",
      "12289.20666\n",
      "==== 20.1552 ====\n",
      "10450.98408\n",
      "12289.20681\n",
      "==== 20.1553 ====\n",
      "10450.98579\n",
      "12289.20696\n",
      "==== 20.1554 ====\n",
      "10450.98751\n",
      "12289.20712\n",
      "==== 20.1555 ====\n",
      "10450.98922\n",
      "12289.20727\n",
      "==== 20.1556 ====\n",
      "10450.99094\n",
      "12289.20742\n",
      "==== 20.1557 ====\n",
      "10450.99265\n",
      "12289.20757\n",
      "==== 20.1558 ====\n",
      "10450.99437\n",
      "12289.20772\n",
      "==== 20.1559 ====\n",
      "10450.99608\n",
      "12289.20787\n",
      "==== 20.156 ====\n",
      "10450.9978\n",
      "12289.20803\n",
      "==== 20.1561 ====\n",
      "10450.99951\n",
      "12289.20818\n",
      "==== 20.1562 ====\n",
      "10451.00123\n",
      "12289.20833\n",
      "==== 20.1563 ====\n",
      "10451.00294\n",
      "12289.20848\n",
      "==== 20.1564 ====\n",
      "10451.00466\n",
      "12289.20863\n",
      "==== 20.1565 ====\n",
      "10451.00637\n",
      "12289.20878\n",
      "==== 20.1566 ====\n",
      "10451.00809\n",
      "12289.20893\n",
      "==== 20.1567 ====\n",
      "10451.0098\n",
      "12289.20909\n",
      "==== 20.1568 ====\n",
      "10451.01152\n",
      "12289.20924\n",
      "==== 20.1569 ====\n",
      "10451.01323\n",
      "12289.20939\n",
      "==== 20.157 ====\n",
      "10451.01495\n",
      "12289.20954\n",
      "==== 20.1571 ====\n",
      "10451.01666\n",
      "12289.20969\n",
      "==== 20.1572 ====\n",
      "10451.01838\n",
      "12289.20984\n",
      "==== 20.1573 ====\n",
      "10451.02009\n",
      "12289.21\n",
      "==== 20.1574 ====\n",
      "10451.02181\n",
      "12289.21015\n",
      "==== 20.1575 ====\n",
      "10451.02352\n",
      "12289.2103\n",
      "==== 20.1576 ====\n",
      "10451.02524\n",
      "12289.21045\n",
      "==== 20.1577 ====\n",
      "10451.02695\n",
      "12289.2106\n",
      "==== 20.1578 ====\n",
      "10451.02867\n",
      "12289.21075\n",
      "==== 20.1579 ====\n",
      "10451.03038\n",
      "12289.2109\n",
      "==== 20.158 ====\n",
      "10451.0321\n",
      "12289.21106\n",
      "==== 20.1581 ====\n",
      "10451.03381\n",
      "12289.21121\n",
      "==== 20.1582 ====\n",
      "10451.03553\n",
      "12289.21136\n",
      "==== 20.1583 ====\n",
      "10451.03724\n",
      "12289.21151\n",
      "==== 20.1584 ====\n",
      "10451.03896\n",
      "12289.21166\n",
      "==== 20.1585 ====\n",
      "10451.04067\n",
      "12289.21181\n",
      "==== 20.1586 ====\n",
      "10451.04239\n",
      "12289.21197\n",
      "==== 20.1587 ====\n",
      "10451.0441\n",
      "12289.21212\n",
      "==== 20.1588 ====\n",
      "10451.04582\n",
      "12289.21227\n",
      "==== 20.1589 ====\n",
      "10451.04753\n",
      "12289.21242\n",
      "==== 20.159 ====\n",
      "10451.04925\n",
      "12289.21257\n",
      "==== 20.1591 ====\n",
      "10451.05096\n",
      "12289.21272\n",
      "==== 20.1592 ====\n",
      "10451.05268\n",
      "12289.21287\n",
      "==== 20.1593 ====\n",
      "10451.05439\n",
      "12289.21303\n"
     ]
    },
    {
     "name": "stdout",
     "output_type": "stream",
     "text": [
      "==== 20.1594 ====\n",
      "10451.05611\n",
      "12289.21318\n",
      "==== 20.1595 ====\n",
      "10451.05782\n",
      "12289.21333\n",
      "==== 20.1596 ====\n",
      "10451.05954\n",
      "12289.21348\n",
      "==== 20.1597 ====\n",
      "10451.06125\n",
      "12289.21363\n",
      "==== 20.1598 ====\n",
      "10451.06297\n",
      "12289.21378\n",
      "==== 20.1599 ====\n",
      "10451.06468\n",
      "12289.21394\n",
      "==== 20.16 ====\n",
      "10451.0664\n",
      "12289.21409\n"
     ]
    }
   ],
   "source": [
    "w=[]\n",
    "q=20.06 \n",
    "for i in range(0,1000,1):\n",
    "    q = q+0.0001\n",
    "    q=round(q,5)\n",
    "    w.append(q)\n",
    "    \n",
    "for i in w:\n",
    "    \n",
    "    from sklearn.linear_model import Lasso\n",
    "    ls = Lasso(alpha=i)\n",
    "    model = ls.fit(xtrain,ytrain)\n",
    "\n",
    "    pred_tr = model.predict(xtrain)\n",
    "    pred_ts = model.predict(xtest)\n",
    "    tr_er = round(mean_absolute_error(ytrain,pred_tr),5)\n",
    "    ts_er =  round(mean_absolute_error(ytest,pred_ts),5)\n",
    "    print(\"====\",i,\"====\")\n",
    "    print(tr_er)\n",
    "    print(ts_er)"
   ]
  },
  {
   "cell_type": "raw",
   "id": "ba373360",
   "metadata": {},
   "source": [
    "\n",
    "==== 20.0661 ====\n",
    "10449.45605\n",
    "12289.07186"
   ]
  },
  {
   "cell_type": "code",
   "execution_count": 874,
   "id": "25782259",
   "metadata": {},
   "outputs": [
    {
     "name": "stdout",
     "output_type": "stream",
     "text": [
      "========\n",
      "10449.45605\n",
      "12289.07186\n"
     ]
    }
   ],
   "source": [
    "    from sklearn.linear_model import Lasso\n",
    "    ls = Lasso(alpha=20.0661)\n",
    "    model = ls.fit(xtrain,ytrain)\n",
    "\n",
    "    pred_tr = model.predict(xtrain)\n",
    "    pred_ts = model.predict(xtest)\n",
    "    tr_er = round(mean_absolute_error(ytrain,pred_tr),5)\n",
    "    ts_er =  round(mean_absolute_error(ytest,pred_ts),5)\n",
    "    print(\"========\")\n",
    "    print(tr_er)\n",
    "    print(ts_er)"
   ]
  },
  {
   "cell_type": "markdown",
   "id": "89b37eb7",
   "metadata": {},
   "source": [
    "# best model"
   ]
  },
  {
   "cell_type": "code",
   "execution_count": 877,
   "id": "3785d4bf",
   "metadata": {},
   "outputs": [
    {
     "name": "stdout",
     "output_type": "stream",
     "text": [
      "========\n",
      "10449.45605\n",
      "12289.07186\n",
      "0.9469969746856525\n",
      "0.9310894180123207\n"
     ]
    }
   ],
   "source": [
    "    from sklearn.linear_model import Lasso\n",
    "    ls = Lasso(alpha=20.0661)\n",
    "    model = ls.fit(xtrain,ytrain)\n",
    "\n",
    "    pred_tr = model.predict(xtrain)\n",
    "    pred_ts = model.predict(xtest)\n",
    "    tr_er = round(mean_absolute_error(ytrain,pred_tr),5)\n",
    "    ts_er =  round(mean_absolute_error(ytest,pred_ts),5)\n",
    "    print(\"========\")\n",
    "    print(tr_er)\n",
    "    print(ts_er)\n",
    "    ts_r2 = explained_variance_score(ytest,pred_ts)\n",
    "    tr_r2 = explained_variance_score(ytrain,pred_tr)\n",
    "    print(tr_r2)\n",
    "    print(ts_r2)"
   ]
  },
  {
   "cell_type": "markdown",
   "id": "d837c52a",
   "metadata": {},
   "source": [
    "# Testing Data"
   ]
  },
  {
   "cell_type": "code",
   "execution_count": 878,
   "id": "f7695faa",
   "metadata": {},
   "outputs": [],
   "source": [
    "B = pd.read_csv(\"D:/EtlHiveDs/Project/Project1/testing_set.csv\")"
   ]
  },
  {
   "cell_type": "code",
   "execution_count": 879,
   "id": "2d255491",
   "metadata": {},
   "outputs": [],
   "source": [
    "B[\"MSSubClass\"] =B[\"MSSubClass\"].map(str)\n",
    "B[\"MoSold\"] = B[\"MoSold\"].map(str)"
   ]
  },
  {
   "cell_type": "code",
   "execution_count": 880,
   "id": "7d4b001e",
   "metadata": {},
   "outputs": [],
   "source": [
    "B[\"Alley\"] = B[\"Alley\"].fillna(\"NoAlley\")\n",
    "B[\"BsmtQual\"] = B[\"BsmtQual\"].fillna(\"NoBasement\")\n",
    "B[\"BsmtCond\"] = B[\"BsmtCond\"].fillna(\"NoBasement\")\n",
    "B[\"BsmtExposure\"] = B[\"BsmtExposure\"].fillna(\"NoBasement\")\n",
    "B[\"BsmtFinType1\"] = B[\"BsmtFinType1\"].fillna(\"NoBasement\")\n",
    "B[\"BsmtFinType2\"] = B[\"BsmtFinType2\"].fillna(\"NoBasement\")\n",
    "B[\"FireplaceQu\"] = B[\"FireplaceQu\"].fillna(\"NoFireplace\")\n",
    "B[\"GarageType\"] = B[\"GarageType\"].fillna(\"NoGarage\")\n",
    "B[\"GarageFinish\"] = B[\"GarageFinish\"].fillna(\"NoGarage\")\n",
    "B[\"GarageQual\"] = B[\"GarageQual\"].fillna(\"NoGarage\")\n",
    "B[\"GarageCond\"] = B[\"GarageCond\"].fillna(\"NoGarage\")\n",
    "B[\"PoolQC\"] = B[\"PoolQC\"].fillna(\"NoPool\")\n",
    "B[\"Fence\"] = B[\"Fence\"].fillna(\"NoFence\")\n",
    "B[\"MiscFeature\"] =B[\"MiscFeature\"].fillna(\"None\")"
   ]
  },
  {
   "cell_type": "code",
   "execution_count": 881,
   "id": "37f780cb",
   "metadata": {},
   "outputs": [],
   "source": [
    "B.OverallQual.replace({\n",
    "    10:\"Very Excellent\",\n",
    "    9:\"Excellent\",\n",
    "    8:\"Very Good\",\n",
    "    7:\"Good\",\n",
    "    6:\"Above Average\",\n",
    "    5:\"Average\",\n",
    "    4:\"Below Average\",\n",
    "    3:\"Fair\",\n",
    "    2:\"Poor\",\n",
    "    1:\"Very Poor\",\n",
    "    0:\"\"},inplace=True)"
   ]
  },
  {
   "cell_type": "code",
   "execution_count": 882,
   "id": "687d7086",
   "metadata": {},
   "outputs": [],
   "source": [
    "B.OverallCond.replace({\n",
    "    10:\"Very Excellent\",\n",
    "    9:\"Excellent\",\n",
    "    8:\"Very Good\",\n",
    "    7:\"Good\",\n",
    "    6:\"Above Average\",\n",
    "    5:\"Average\",\n",
    "    4:\"Below Average\",\n",
    "    3:\"Fair\",\n",
    "    2:\"Poor\",\n",
    "    1:\"Very Poor\"},inplace=True)"
   ]
  },
  {
   "cell_type": "code",
   "execution_count": 883,
   "id": "9761f610",
   "metadata": {},
   "outputs": [],
   "source": [
    "for i in B.columns:\n",
    "    if(B[i].dtypes == \"object\"):\n",
    "        \n",
    "        q = B[i].mode()[0]\n",
    "        B[i] = B[i].fillna(q)\n",
    "    else:\n",
    "       \n",
    "        q = B[i].mean()\n",
    "        B[i] =B[i].fillna(q)"
   ]
  },
  {
   "cell_type": "code",
   "execution_count": 884,
   "id": "72d46fe0",
   "metadata": {},
   "outputs": [],
   "source": [
    "XTe = B.drop(labels=[\"Id\"],axis = 1)\n"
   ]
  },
  {
   "cell_type": "code",
   "execution_count": 885,
   "id": "a90231b4",
   "metadata": {},
   "outputs": [],
   "source": [
    "Te = XTe[con]"
   ]
  },
  {
   "cell_type": "code",
   "execution_count": 886,
   "id": "10b60ef7",
   "metadata": {},
   "outputs": [
    {
     "data": {
      "text/plain": [
       "(1459, 327)"
      ]
     },
     "execution_count": 886,
     "metadata": {},
     "output_type": "execute_result"
    }
   ],
   "source": [
    "\n",
    "XTe1 = pd.DataFrame(ss.transform(Te),columns=Te.columns)\n",
    "#ss.transform\n",
    "#XTe1 = pd.DataFrame(ss.fit_transform(XTe[con]),columns=XTe[con].columns)\n",
    "#out_index = []\n",
    "#for i in con:\n",
    "    #w = list(XTe1[(XTe1[i] > 3) | (XTe1[i] < -3)].index)\n",
    "    #out_index.extend(w)\n",
    "#outliers = unique(out_index)\n",
    "#XTe1 = XTe1.drop(labels=outliers, axis = 0)\n",
    "#YT = YT.drop(labels =outliers, axis = 0 )\n",
    "\n",
    "XTe2 = pd.get_dummies(XTe[cat])\n",
    "#XTe2 = XTe2.drop(labels=outliers, axis = 0)\n",
    "\n",
    "XTenew = XTe1.join(XTe2)\n",
    "XTenew.shape"
   ]
  },
  {
   "cell_type": "code",
   "execution_count": 887,
   "id": "54364783",
   "metadata": {},
   "outputs": [
    {
     "data": {
      "text/plain": [
       "Index(['LotFrontage', 'LotArea', 'YearBuilt', 'BsmtFinSF1', 'TotalBsmtSF',\n",
       "       '1stFlrSF', '2ndFlrSF', 'BsmtHalfBath', 'FullBath', 'KitchenAbvGr',\n",
       "       ...\n",
       "       'MiscFeature_None', 'MiscFeature_Shed', 'MoSold_1', 'MoSold_12',\n",
       "       'MoSold_5', 'SaleType_CWD', 'SaleCondition_AdjLand',\n",
       "       'SaleCondition_Alloca', 'SaleCondition_Normal',\n",
       "       'SaleCondition_Partial'],\n",
       "      dtype='object', length=139)"
      ]
     },
     "execution_count": 887,
     "metadata": {},
     "output_type": "execute_result"
    }
   ],
   "source": [
    "col_to_keep"
   ]
  },
  {
   "cell_type": "code",
   "execution_count": 888,
   "id": "facde8fd",
   "metadata": {},
   "outputs": [],
   "source": [
    "XTeFinal = XTenew[col_to_keep]"
   ]
  },
  {
   "cell_type": "code",
   "execution_count": 895,
   "id": "938324de",
   "metadata": {},
   "outputs": [
    {
     "name": "stdout",
     "output_type": "stream",
     "text": [
      "========\n",
      "Training error : 10449.45605\n",
      "Testing error : 12289.07186\n",
      "Training r2_score 0.9469969746856525\n",
      "Testing r2_score : 0.9310894180123207\n"
     ]
    }
   ],
   "source": [
    "    from sklearn.linear_model import Lasso\n",
    "    ls = Lasso(alpha=20.0661)\n",
    "    model = ls.fit(xtrain,ytrain)\n",
    "\n",
    "    pred_tr = model.predict(xtrain)\n",
    "    pred_ts = model.predict(xtest)\n",
    "    tr_er = round(mean_absolute_error(ytrain,pred_tr),5)\n",
    "    ts_er =  round(mean_absolute_error(ytest,pred_ts),5)\n",
    "    print(\"========\")\n",
    "    print(\"Training error :\",tr_er)\n",
    "    print(\"Testing error :\",ts_er)\n",
    "    ts_r2 = explained_variance_score(ytest,pred_ts)\n",
    "    tr_r2 = explained_variance_score(ytrain,pred_tr)\n",
    "    print(\"Training r2_score\",tr_r2)\n",
    "    print(\"Testing r2_score :\",ts_r2)"
   ]
  },
  {
   "cell_type": "code",
   "execution_count": 896,
   "id": "45093b49",
   "metadata": {},
   "outputs": [
    {
     "data": {
      "text/plain": [
       "(1459, 139)"
      ]
     },
     "execution_count": 896,
     "metadata": {},
     "output_type": "execute_result"
    }
   ],
   "source": [
    "XTeFinal.shape"
   ]
  },
  {
   "cell_type": "markdown",
   "id": "1e02abb1",
   "metadata": {},
   "source": [
    "Final predictions"
   ]
  },
  {
   "cell_type": "code",
   "execution_count": 897,
   "id": "5851280d",
   "metadata": {},
   "outputs": [],
   "source": [
    "testing_set_pred = model.predict(XTeFinal)"
   ]
  },
  {
   "cell_type": "code",
   "execution_count": 898,
   "id": "bdd0168b",
   "metadata": {},
   "outputs": [],
   "source": [
    "P = pd.DataFrame(list(testing_set_pred), columns=[\"PredictedSalePrice\"])\n",
    "I = B[[\"Id\"]]"
   ]
  },
  {
   "cell_type": "code",
   "execution_count": 899,
   "id": "e8e31818",
   "metadata": {},
   "outputs": [],
   "source": [
    "Soln = I.join(P)"
   ]
  },
  {
   "cell_type": "code",
   "execution_count": 900,
   "id": "59c0e494",
   "metadata": {},
   "outputs": [],
   "source": [
    "Soln.to_csv(\"SolutionFinal.csv\",index=False)"
   ]
  },
  {
   "cell_type": "code",
   "execution_count": null,
   "id": "88fa5da1",
   "metadata": {},
   "outputs": [],
   "source": []
  }
 ],
 "metadata": {
  "kernelspec": {
   "display_name": "Python 3 (ipykernel)",
   "language": "python",
   "name": "python3"
  },
  "language_info": {
   "codemirror_mode": {
    "name": "ipython",
    "version": 3
   },
   "file_extension": ".py",
   "mimetype": "text/x-python",
   "name": "python",
   "nbconvert_exporter": "python",
   "pygments_lexer": "ipython3",
   "version": "3.9.2"
  }
 },
 "nbformat": 4,
 "nbformat_minor": 5
}
